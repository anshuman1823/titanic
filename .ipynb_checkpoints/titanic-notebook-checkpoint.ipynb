{
 "cells": [
  {
   "cell_type": "code",
   "execution_count": 1,
   "metadata": {
    "_cell_guid": "79c7e3d0-c299-4dcb-8224-4455121ee9b0",
    "_uuid": "d629ff2d2480ee46fbb7e2d37f6b5fab8052498a",
    "colab": {},
    "colab_type": "code",
    "executionInfo": {
     "elapsed": 1318,
     "status": "ok",
     "timestamp": 1598193972757,
     "user": {
      "displayName": "Anshuman Singh",
      "photoUrl": "https://lh3.googleusercontent.com/a-/AOh14Gg5KGs2dfcnZCMe13webWRLHyD7D9R2Um3DTkd8Ug=s64",
      "userId": "00439360438599152891"
     },
     "user_tz": -330
    },
    "id": "gWhgzsS6BX3Y"
   },
   "outputs": [],
   "source": [
    "#Importing frequently used libraries\n",
    "\n",
    "import pandas as pd\n",
    "import numpy as np\n",
    "import matplotlib.pyplot as plt\n",
    "%matplotlib inline\n",
    "import seaborn as sns\n",
    "import os"
   ]
  },
  {
   "cell_type": "code",
   "execution_count": null,
   "metadata": {
    "colab": {
     "base_uri": "https://localhost:8080/",
     "height": 191
    },
    "colab_type": "code",
    "executionInfo": {
     "elapsed": 2999,
     "status": "ok",
     "timestamp": 1598183713868,
     "user": {
      "displayName": "Anshuman Singh",
      "photoUrl": "https://lh3.googleusercontent.com/a-/AOh14Gg5KGs2dfcnZCMe13webWRLHyD7D9R2Um3DTkd8Ug=s64",
      "userId": "00439360438599152891"
     },
     "user_tz": -330
    },
    "id": "kHUfqu2DBX3e",
    "outputId": "c8be3730-d3e9-4152-d988-512f27295809"
   },
   "outputs": [
    {
     "data": {
      "text/html": [
       "<div>\n",
       "<style scoped>\n",
       "    .dataframe tbody tr th:only-of-type {\n",
       "        vertical-align: middle;\n",
       "    }\n",
       "\n",
       "    .dataframe tbody tr th {\n",
       "        vertical-align: top;\n",
       "    }\n",
       "\n",
       "    .dataframe thead th {\n",
       "        text-align: right;\n",
       "    }\n",
       "</style>\n",
       "<table border=\"1\" class=\"dataframe\">\n",
       "  <thead>\n",
       "    <tr style=\"text-align: right;\">\n",
       "      <th></th>\n",
       "      <th>PassengerId</th>\n",
       "      <th>Survived</th>\n",
       "      <th>Pclass</th>\n",
       "      <th>Name</th>\n",
       "      <th>Sex</th>\n",
       "      <th>Age</th>\n",
       "      <th>SibSp</th>\n",
       "      <th>Parch</th>\n",
       "      <th>Ticket</th>\n",
       "      <th>Fare</th>\n",
       "      <th>Cabin</th>\n",
       "      <th>Embarked</th>\n",
       "    </tr>\n",
       "  </thead>\n",
       "  <tbody>\n",
       "    <tr>\n",
       "      <th>0</th>\n",
       "      <td>1</td>\n",
       "      <td>0</td>\n",
       "      <td>3</td>\n",
       "      <td>Braund, Mr. Owen Harris</td>\n",
       "      <td>male</td>\n",
       "      <td>22.0</td>\n",
       "      <td>1</td>\n",
       "      <td>0</td>\n",
       "      <td>A/5 21171</td>\n",
       "      <td>7.2500</td>\n",
       "      <td>NaN</td>\n",
       "      <td>S</td>\n",
       "    </tr>\n",
       "    <tr>\n",
       "      <th>1</th>\n",
       "      <td>2</td>\n",
       "      <td>1</td>\n",
       "      <td>1</td>\n",
       "      <td>Cumings, Mrs. John Bradley (Florence Briggs Th...</td>\n",
       "      <td>female</td>\n",
       "      <td>38.0</td>\n",
       "      <td>1</td>\n",
       "      <td>0</td>\n",
       "      <td>PC 17599</td>\n",
       "      <td>71.2833</td>\n",
       "      <td>C85</td>\n",
       "      <td>C</td>\n",
       "    </tr>\n",
       "    <tr>\n",
       "      <th>2</th>\n",
       "      <td>3</td>\n",
       "      <td>1</td>\n",
       "      <td>3</td>\n",
       "      <td>Heikkinen, Miss. Laina</td>\n",
       "      <td>female</td>\n",
       "      <td>26.0</td>\n",
       "      <td>0</td>\n",
       "      <td>0</td>\n",
       "      <td>STON/O2. 3101282</td>\n",
       "      <td>7.9250</td>\n",
       "      <td>NaN</td>\n",
       "      <td>S</td>\n",
       "    </tr>\n",
       "    <tr>\n",
       "      <th>3</th>\n",
       "      <td>4</td>\n",
       "      <td>1</td>\n",
       "      <td>1</td>\n",
       "      <td>Futrelle, Mrs. Jacques Heath (Lily May Peel)</td>\n",
       "      <td>female</td>\n",
       "      <td>35.0</td>\n",
       "      <td>1</td>\n",
       "      <td>0</td>\n",
       "      <td>113803</td>\n",
       "      <td>53.1000</td>\n",
       "      <td>C123</td>\n",
       "      <td>S</td>\n",
       "    </tr>\n",
       "    <tr>\n",
       "      <th>4</th>\n",
       "      <td>5</td>\n",
       "      <td>0</td>\n",
       "      <td>3</td>\n",
       "      <td>Allen, Mr. William Henry</td>\n",
       "      <td>male</td>\n",
       "      <td>35.0</td>\n",
       "      <td>0</td>\n",
       "      <td>0</td>\n",
       "      <td>373450</td>\n",
       "      <td>8.0500</td>\n",
       "      <td>NaN</td>\n",
       "      <td>S</td>\n",
       "    </tr>\n",
       "  </tbody>\n",
       "</table>\n",
       "</div>"
      ],
      "text/plain": [
       "   PassengerId  Survived  Pclass  ...     Fare Cabin  Embarked\n",
       "0            1         0       3  ...   7.2500   NaN         S\n",
       "1            2         1       1  ...  71.2833   C85         C\n",
       "2            3         1       3  ...   7.9250   NaN         S\n",
       "3            4         1       1  ...  53.1000  C123         S\n",
       "4            5         0       3  ...   8.0500   NaN         S\n",
       "\n",
       "[5 rows x 12 columns]"
      ]
     },
     "execution_count": 6,
     "metadata": {
      "tags": []
     },
     "output_type": "execute_result"
    }
   ],
   "source": [
    "# Importing the training dataset and viewing it\n",
    "df_train = pd.read_csv(\"Data/train.csv\")\n",
    "df_train.head()"
   ]
  },
  {
   "cell_type": "markdown",
   "metadata": {
    "colab_type": "text",
    "id": "pBcS1_weBX3j"
   },
   "source": [
    "# Pre-Processing Data"
   ]
  },
  {
   "cell_type": "code",
   "execution_count": null,
   "metadata": {
    "colab": {
     "base_uri": "https://localhost:8080/",
     "height": 326
    },
    "colab_type": "code",
    "executionInfo": {
     "elapsed": 2968,
     "status": "ok",
     "timestamp": 1598183713869,
     "user": {
      "displayName": "Anshuman Singh",
      "photoUrl": "https://lh3.googleusercontent.com/a-/AOh14Gg5KGs2dfcnZCMe13webWRLHyD7D9R2Um3DTkd8Ug=s64",
      "userId": "00439360438599152891"
     },
     "user_tz": -330
    },
    "id": "MmSP20DIBX3j",
    "outputId": "d6d58e7e-f016-4412-cfcf-d5bc714ffda8"
   },
   "outputs": [
    {
     "name": "stdout",
     "output_type": "stream",
     "text": [
      "<class 'pandas.core.frame.DataFrame'>\n",
      "RangeIndex: 891 entries, 0 to 890\n",
      "Data columns (total 12 columns):\n",
      " #   Column       Non-Null Count  Dtype  \n",
      "---  ------       --------------  -----  \n",
      " 0   PassengerId  891 non-null    int64  \n",
      " 1   Survived     891 non-null    int64  \n",
      " 2   Pclass       891 non-null    int64  \n",
      " 3   Name         891 non-null    object \n",
      " 4   Sex          891 non-null    object \n",
      " 5   Age          714 non-null    float64\n",
      " 6   SibSp        891 non-null    int64  \n",
      " 7   Parch        891 non-null    int64  \n",
      " 8   Ticket       891 non-null    object \n",
      " 9   Fare         891 non-null    float64\n",
      " 10  Cabin        204 non-null    object \n",
      " 11  Embarked     889 non-null    object \n",
      "dtypes: float64(2), int64(5), object(5)\n",
      "memory usage: 83.7+ KB\n"
     ]
    }
   ],
   "source": [
    "df_train.info()"
   ]
  },
  {
   "cell_type": "markdown",
   "metadata": {
    "colab_type": "text",
    "id": "-n5clsNeBX3o"
   },
   "source": [
    "The following insights can be made from the above:\n",
    "* NaN values in Age column will need to be treated.\n",
    "* NaN values in Cabin mean No Cabin allotted."
   ]
  },
  {
   "cell_type": "markdown",
   "metadata": {
    "colab_type": "text",
    "id": "SlYk7K7dBX3o"
   },
   "source": [
    "Before going on to pre-process the data, we will do basic Feature Engineering to create new features to better capture the trends of the data. We will:\n",
    "1. Create a function to extract Title from the Name column and discard the Name column.\n",
    "2. Extract Deck information from the Cabin column (first alphabet indicated Deck) and store it in a separate column called \"Deck\".\n",
    "3. Create a column \"FamilySize\" which equals the sum of Parch and SibSp columns.\n",
    "4. Create a column \"FarePerPerson\" which equals total fare divided by FamilySize + 1.\n",
    "5. Create a function to extract Ticket Prefix and store it in a separate column \"TicketPrefix\".\n",
    "6. Create a column with no. of cabins (if Cabin allotted)."
   ]
  },
  {
   "cell_type": "code",
   "execution_count": null,
   "metadata": {
    "colab": {
     "base_uri": "https://localhost:8080/",
     "height": 191
    },
    "colab_type": "code",
    "executionInfo": {
     "elapsed": 2932,
     "status": "ok",
     "timestamp": 1598183713871,
     "user": {
      "displayName": "Anshuman Singh",
      "photoUrl": "https://lh3.googleusercontent.com/a-/AOh14Gg5KGs2dfcnZCMe13webWRLHyD7D9R2Um3DTkd8Ug=s64",
      "userId": "00439360438599152891"
     },
     "user_tz": -330
    },
    "id": "9F3dZacLBX3p",
    "outputId": "ce0b8c1d-a5f1-4077-d300-39a94aeca8de"
   },
   "outputs": [
    {
     "data": {
      "text/html": [
       "<div>\n",
       "<style scoped>\n",
       "    .dataframe tbody tr th:only-of-type {\n",
       "        vertical-align: middle;\n",
       "    }\n",
       "\n",
       "    .dataframe tbody tr th {\n",
       "        vertical-align: top;\n",
       "    }\n",
       "\n",
       "    .dataframe thead th {\n",
       "        text-align: right;\n",
       "    }\n",
       "</style>\n",
       "<table border=\"1\" class=\"dataframe\">\n",
       "  <thead>\n",
       "    <tr style=\"text-align: right;\">\n",
       "      <th></th>\n",
       "      <th>PassengerId</th>\n",
       "      <th>Survived</th>\n",
       "      <th>Pclass</th>\n",
       "      <th>Name</th>\n",
       "      <th>Sex</th>\n",
       "      <th>Age</th>\n",
       "      <th>SibSp</th>\n",
       "      <th>Parch</th>\n",
       "      <th>Ticket</th>\n",
       "      <th>Fare</th>\n",
       "      <th>Cabin</th>\n",
       "      <th>Embarked</th>\n",
       "    </tr>\n",
       "  </thead>\n",
       "  <tbody>\n",
       "    <tr>\n",
       "      <th>0</th>\n",
       "      <td>1</td>\n",
       "      <td>0</td>\n",
       "      <td>3</td>\n",
       "      <td>Braund, Mr. Owen Harris</td>\n",
       "      <td>male</td>\n",
       "      <td>22.0</td>\n",
       "      <td>1</td>\n",
       "      <td>0</td>\n",
       "      <td>A/5 21171</td>\n",
       "      <td>7.2500</td>\n",
       "      <td>NaN</td>\n",
       "      <td>S</td>\n",
       "    </tr>\n",
       "    <tr>\n",
       "      <th>1</th>\n",
       "      <td>2</td>\n",
       "      <td>1</td>\n",
       "      <td>1</td>\n",
       "      <td>Cumings, Mrs. John Bradley (Florence Briggs Th...</td>\n",
       "      <td>female</td>\n",
       "      <td>38.0</td>\n",
       "      <td>1</td>\n",
       "      <td>0</td>\n",
       "      <td>PC 17599</td>\n",
       "      <td>71.2833</td>\n",
       "      <td>C85</td>\n",
       "      <td>C</td>\n",
       "    </tr>\n",
       "    <tr>\n",
       "      <th>2</th>\n",
       "      <td>3</td>\n",
       "      <td>1</td>\n",
       "      <td>3</td>\n",
       "      <td>Heikkinen, Miss. Laina</td>\n",
       "      <td>female</td>\n",
       "      <td>26.0</td>\n",
       "      <td>0</td>\n",
       "      <td>0</td>\n",
       "      <td>STON/O2. 3101282</td>\n",
       "      <td>7.9250</td>\n",
       "      <td>NaN</td>\n",
       "      <td>S</td>\n",
       "    </tr>\n",
       "    <tr>\n",
       "      <th>3</th>\n",
       "      <td>4</td>\n",
       "      <td>1</td>\n",
       "      <td>1</td>\n",
       "      <td>Futrelle, Mrs. Jacques Heath (Lily May Peel)</td>\n",
       "      <td>female</td>\n",
       "      <td>35.0</td>\n",
       "      <td>1</td>\n",
       "      <td>0</td>\n",
       "      <td>113803</td>\n",
       "      <td>53.1000</td>\n",
       "      <td>C123</td>\n",
       "      <td>S</td>\n",
       "    </tr>\n",
       "    <tr>\n",
       "      <th>4</th>\n",
       "      <td>5</td>\n",
       "      <td>0</td>\n",
       "      <td>3</td>\n",
       "      <td>Allen, Mr. William Henry</td>\n",
       "      <td>male</td>\n",
       "      <td>35.0</td>\n",
       "      <td>0</td>\n",
       "      <td>0</td>\n",
       "      <td>373450</td>\n",
       "      <td>8.0500</td>\n",
       "      <td>NaN</td>\n",
       "      <td>S</td>\n",
       "    </tr>\n",
       "  </tbody>\n",
       "</table>\n",
       "</div>"
      ],
      "text/plain": [
       "   PassengerId  Survived  Pclass  ...     Fare Cabin  Embarked\n",
       "0            1         0       3  ...   7.2500   NaN         S\n",
       "1            2         1       1  ...  71.2833   C85         C\n",
       "2            3         1       3  ...   7.9250   NaN         S\n",
       "3            4         1       1  ...  53.1000  C123         S\n",
       "4            5         0       3  ...   8.0500   NaN         S\n",
       "\n",
       "[5 rows x 12 columns]"
      ]
     },
     "execution_count": 8,
     "metadata": {
      "tags": []
     },
     "output_type": "execute_result"
    }
   ],
   "source": [
    "# Creating a dummy database to check the working of the custom functions\n",
    "df_tmp = df_train.copy()\n",
    "df_tmp.head(5)"
   ]
  },
  {
   "cell_type": "markdown",
   "metadata": {
    "colab_type": "text",
    "id": "Uwi_k55WBX3t"
   },
   "source": [
    "We will classify the following titles for males [\"Mr.\", \"Master\", \"Col.\", \"Major\", \"Rev.\", \"Dr.\"] and the following for females [\"Miss.\", \"Ms.\", \"Mrs.\", \"Dr.\"]. People with any other title will be given Mr./Miss. according to their Sex."
   ]
  },
  {
   "cell_type": "code",
   "execution_count": null,
   "metadata": {
    "colab": {},
    "colab_type": "code",
    "id": "o58w0AxnBX3u"
   },
   "outputs": [],
   "source": [
    "# Creating a sub function for classifying titles\n",
    "def return_title(df):\n",
    "    x = df.Title\n",
    "    if x in [\"Mr.\", \"Master\", \"Col.\", \"Major\", \"Rev.\"]:\n",
    "        return x\n",
    "    elif x in [\"Miss.\", \"Ms.\"]:\n",
    "        return \"Miss.\"\n",
    "    elif x in [\"Mrs.\"]:\n",
    "        return \"Mrs.\"\n",
    "    elif x in [\"Dr.\"]:\n",
    "        return \"Dr.\"\n",
    "    elif df['Sex'] is \"male\":\n",
    "        return \"Mr.\"\n",
    "    else:\n",
    "        return \"Miss.\""
   ]
  },
  {
   "cell_type": "code",
   "execution_count": null,
   "metadata": {
    "colab": {},
    "colab_type": "code",
    "id": "AkPjPVFWBX3x"
   },
   "outputs": [],
   "source": [
    "# Creating a function to extract Title information from the Name column and store it in \"Title\" column\n",
    "# using return_title function. Then finally discarding the Name Columns.\n",
    "def Title_extract(df):\n",
    "    df[\"Title\"] = df.Name.str.split(\" \").str[1]\n",
    "    df[\"Title\"] = df.apply(return_title, axis = 1)\n",
    "    df = df.drop([\"Name\"], axis = 1)\n",
    "    return df"
   ]
  },
  {
   "cell_type": "code",
   "execution_count": null,
   "metadata": {
    "colab": {
     "base_uri": "https://localhost:8080/",
     "height": 261
    },
    "colab_type": "code",
    "executionInfo": {
     "elapsed": 2880,
     "status": "ok",
     "timestamp": 1598183713873,
     "user": {
      "displayName": "Anshuman Singh",
      "photoUrl": "https://lh3.googleusercontent.com/a-/AOh14Gg5KGs2dfcnZCMe13webWRLHyD7D9R2Um3DTkd8Ug=s64",
      "userId": "00439360438599152891"
     },
     "user_tz": -330
    },
    "id": "0G7rbYEXBX31",
    "outputId": "d4fa3b6a-4156-4763-99fc-b4ae38b487f1"
   },
   "outputs": [
    {
     "data": {
      "text/plain": [
       "(Mr.      502\n",
       " Miss.    253\n",
       " Mrs.     121\n",
       " Dr.        7\n",
       " Rev.       6\n",
       " Col.       2\n",
       " Name: Title, dtype: int64,\n",
       "    PassengerId  Survived  Pclass     Sex  ...     Fare  Cabin  Embarked  Title\n",
       " 0            1         0       3    male  ...   7.2500    NaN         S    Mr.\n",
       " 1            2         1       1  female  ...  71.2833    C85         C   Mrs.\n",
       " 2            3         1       3  female  ...   7.9250    NaN         S  Miss.\n",
       " 3            4         1       1  female  ...  53.1000   C123         S   Mrs.\n",
       " 4            5         0       3    male  ...   8.0500    NaN         S    Mr.\n",
       " \n",
       " [5 rows x 12 columns])"
      ]
     },
     "execution_count": 11,
     "metadata": {
      "tags": []
     },
     "output_type": "execute_result"
    }
   ],
   "source": [
    "# Checking the working of the above function\n",
    "df_tmp = Title_extract(df_tmp)\n",
    "df_tmp.Title.value_counts(), df_tmp.head()"
   ]
  },
  {
   "cell_type": "code",
   "execution_count": null,
   "metadata": {
    "colab": {},
    "colab_type": "code",
    "id": "T9vy8N3QBX38"
   },
   "outputs": [],
   "source": [
    "# Creating a column to extract the deck info (first alphabet from the cabin column) and\n",
    "# store it in a separate \"Deck\" column\n",
    "def Deck(df):\n",
    "    df[\"Deck\"] = df.Cabin.apply(lambda x: np.nan if pd.isna(x) else x[0])\n",
    "    return df"
   ]
  },
  {
   "cell_type": "code",
   "execution_count": null,
   "metadata": {
    "colab": {
     "base_uri": "https://localhost:8080/",
     "height": 191
    },
    "colab_type": "code",
    "executionInfo": {
     "elapsed": 2851,
     "status": "ok",
     "timestamp": 1598183713875,
     "user": {
      "displayName": "Anshuman Singh",
      "photoUrl": "https://lh3.googleusercontent.com/a-/AOh14Gg5KGs2dfcnZCMe13webWRLHyD7D9R2Um3DTkd8Ug=s64",
      "userId": "00439360438599152891"
     },
     "user_tz": -330
    },
    "id": "bdJQX6EUBX4B",
    "outputId": "ee56d761-d4a1-45a2-9f09-7dab22fd6006"
   },
   "outputs": [
    {
     "data": {
      "text/html": [
       "<div>\n",
       "<style scoped>\n",
       "    .dataframe tbody tr th:only-of-type {\n",
       "        vertical-align: middle;\n",
       "    }\n",
       "\n",
       "    .dataframe tbody tr th {\n",
       "        vertical-align: top;\n",
       "    }\n",
       "\n",
       "    .dataframe thead th {\n",
       "        text-align: right;\n",
       "    }\n",
       "</style>\n",
       "<table border=\"1\" class=\"dataframe\">\n",
       "  <thead>\n",
       "    <tr style=\"text-align: right;\">\n",
       "      <th></th>\n",
       "      <th>PassengerId</th>\n",
       "      <th>Survived</th>\n",
       "      <th>Pclass</th>\n",
       "      <th>Sex</th>\n",
       "      <th>Age</th>\n",
       "      <th>SibSp</th>\n",
       "      <th>Parch</th>\n",
       "      <th>Ticket</th>\n",
       "      <th>Fare</th>\n",
       "      <th>Cabin</th>\n",
       "      <th>Embarked</th>\n",
       "      <th>Title</th>\n",
       "      <th>Deck</th>\n",
       "    </tr>\n",
       "  </thead>\n",
       "  <tbody>\n",
       "    <tr>\n",
       "      <th>0</th>\n",
       "      <td>1</td>\n",
       "      <td>0</td>\n",
       "      <td>3</td>\n",
       "      <td>male</td>\n",
       "      <td>22.0</td>\n",
       "      <td>1</td>\n",
       "      <td>0</td>\n",
       "      <td>A/5 21171</td>\n",
       "      <td>7.2500</td>\n",
       "      <td>NaN</td>\n",
       "      <td>S</td>\n",
       "      <td>Mr.</td>\n",
       "      <td>NaN</td>\n",
       "    </tr>\n",
       "    <tr>\n",
       "      <th>1</th>\n",
       "      <td>2</td>\n",
       "      <td>1</td>\n",
       "      <td>1</td>\n",
       "      <td>female</td>\n",
       "      <td>38.0</td>\n",
       "      <td>1</td>\n",
       "      <td>0</td>\n",
       "      <td>PC 17599</td>\n",
       "      <td>71.2833</td>\n",
       "      <td>C85</td>\n",
       "      <td>C</td>\n",
       "      <td>Mrs.</td>\n",
       "      <td>C</td>\n",
       "    </tr>\n",
       "    <tr>\n",
       "      <th>2</th>\n",
       "      <td>3</td>\n",
       "      <td>1</td>\n",
       "      <td>3</td>\n",
       "      <td>female</td>\n",
       "      <td>26.0</td>\n",
       "      <td>0</td>\n",
       "      <td>0</td>\n",
       "      <td>STON/O2. 3101282</td>\n",
       "      <td>7.9250</td>\n",
       "      <td>NaN</td>\n",
       "      <td>S</td>\n",
       "      <td>Miss.</td>\n",
       "      <td>NaN</td>\n",
       "    </tr>\n",
       "    <tr>\n",
       "      <th>3</th>\n",
       "      <td>4</td>\n",
       "      <td>1</td>\n",
       "      <td>1</td>\n",
       "      <td>female</td>\n",
       "      <td>35.0</td>\n",
       "      <td>1</td>\n",
       "      <td>0</td>\n",
       "      <td>113803</td>\n",
       "      <td>53.1000</td>\n",
       "      <td>C123</td>\n",
       "      <td>S</td>\n",
       "      <td>Mrs.</td>\n",
       "      <td>C</td>\n",
       "    </tr>\n",
       "    <tr>\n",
       "      <th>4</th>\n",
       "      <td>5</td>\n",
       "      <td>0</td>\n",
       "      <td>3</td>\n",
       "      <td>male</td>\n",
       "      <td>35.0</td>\n",
       "      <td>0</td>\n",
       "      <td>0</td>\n",
       "      <td>373450</td>\n",
       "      <td>8.0500</td>\n",
       "      <td>NaN</td>\n",
       "      <td>S</td>\n",
       "      <td>Mr.</td>\n",
       "      <td>NaN</td>\n",
       "    </tr>\n",
       "  </tbody>\n",
       "</table>\n",
       "</div>"
      ],
      "text/plain": [
       "   PassengerId  Survived  Pclass     Sex  ...  Cabin  Embarked  Title Deck\n",
       "0            1         0       3    male  ...    NaN         S    Mr.  NaN\n",
       "1            2         1       1  female  ...    C85         C   Mrs.    C\n",
       "2            3         1       3  female  ...    NaN         S  Miss.  NaN\n",
       "3            4         1       1  female  ...   C123         S   Mrs.    C\n",
       "4            5         0       3    male  ...    NaN         S    Mr.  NaN\n",
       "\n",
       "[5 rows x 13 columns]"
      ]
     },
     "execution_count": 13,
     "metadata": {
      "tags": []
     },
     "output_type": "execute_result"
    }
   ],
   "source": [
    "# Checking the working of Deck function\n",
    "df_tmp = Deck(df_tmp)\n",
    "df_tmp.head()"
   ]
  },
  {
   "cell_type": "code",
   "execution_count": null,
   "metadata": {
    "colab": {},
    "colab_type": "code",
    "id": "f5LIZZtqBX4F"
   },
   "outputs": [],
   "source": [
    "# Creating a function to create columns \"FamilySize\" and \"FarePerPerson\"\n",
    "def FamilySize_FarePerPerson(df):\n",
    "    df[\"FamilySize\"] = df.SibSp + df.Parch\n",
    "    df[\"FarePerPerson\"] = df.apply(lambda x: x.Fare/(x.FamilySize+1) if x.FamilySize else x.Fare, axis = 1)\n",
    "    return df"
   ]
  },
  {
   "cell_type": "code",
   "execution_count": null,
   "metadata": {
    "colab": {
     "base_uri": "https://localhost:8080/",
     "height": 191
    },
    "colab_type": "code",
    "executionInfo": {
     "elapsed": 2811,
     "status": "ok",
     "timestamp": 1598183713876,
     "user": {
      "displayName": "Anshuman Singh",
      "photoUrl": "https://lh3.googleusercontent.com/a-/AOh14Gg5KGs2dfcnZCMe13webWRLHyD7D9R2Um3DTkd8Ug=s64",
      "userId": "00439360438599152891"
     },
     "user_tz": -330
    },
    "id": "GOgLpFnCBX4M",
    "outputId": "0edbd203-b8c7-47c4-c59c-d31379856d78"
   },
   "outputs": [
    {
     "data": {
      "text/html": [
       "<div>\n",
       "<style scoped>\n",
       "    .dataframe tbody tr th:only-of-type {\n",
       "        vertical-align: middle;\n",
       "    }\n",
       "\n",
       "    .dataframe tbody tr th {\n",
       "        vertical-align: top;\n",
       "    }\n",
       "\n",
       "    .dataframe thead th {\n",
       "        text-align: right;\n",
       "    }\n",
       "</style>\n",
       "<table border=\"1\" class=\"dataframe\">\n",
       "  <thead>\n",
       "    <tr style=\"text-align: right;\">\n",
       "      <th></th>\n",
       "      <th>PassengerId</th>\n",
       "      <th>Survived</th>\n",
       "      <th>Pclass</th>\n",
       "      <th>Sex</th>\n",
       "      <th>Age</th>\n",
       "      <th>SibSp</th>\n",
       "      <th>Parch</th>\n",
       "      <th>Ticket</th>\n",
       "      <th>Fare</th>\n",
       "      <th>Cabin</th>\n",
       "      <th>Embarked</th>\n",
       "      <th>Title</th>\n",
       "      <th>Deck</th>\n",
       "      <th>FamilySize</th>\n",
       "      <th>FarePerPerson</th>\n",
       "    </tr>\n",
       "  </thead>\n",
       "  <tbody>\n",
       "    <tr>\n",
       "      <th>0</th>\n",
       "      <td>1</td>\n",
       "      <td>0</td>\n",
       "      <td>3</td>\n",
       "      <td>male</td>\n",
       "      <td>22.0</td>\n",
       "      <td>1</td>\n",
       "      <td>0</td>\n",
       "      <td>A/5 21171</td>\n",
       "      <td>7.2500</td>\n",
       "      <td>NaN</td>\n",
       "      <td>S</td>\n",
       "      <td>Mr.</td>\n",
       "      <td>NaN</td>\n",
       "      <td>1</td>\n",
       "      <td>3.62500</td>\n",
       "    </tr>\n",
       "    <tr>\n",
       "      <th>1</th>\n",
       "      <td>2</td>\n",
       "      <td>1</td>\n",
       "      <td>1</td>\n",
       "      <td>female</td>\n",
       "      <td>38.0</td>\n",
       "      <td>1</td>\n",
       "      <td>0</td>\n",
       "      <td>PC 17599</td>\n",
       "      <td>71.2833</td>\n",
       "      <td>C85</td>\n",
       "      <td>C</td>\n",
       "      <td>Mrs.</td>\n",
       "      <td>C</td>\n",
       "      <td>1</td>\n",
       "      <td>35.64165</td>\n",
       "    </tr>\n",
       "    <tr>\n",
       "      <th>2</th>\n",
       "      <td>3</td>\n",
       "      <td>1</td>\n",
       "      <td>3</td>\n",
       "      <td>female</td>\n",
       "      <td>26.0</td>\n",
       "      <td>0</td>\n",
       "      <td>0</td>\n",
       "      <td>STON/O2. 3101282</td>\n",
       "      <td>7.9250</td>\n",
       "      <td>NaN</td>\n",
       "      <td>S</td>\n",
       "      <td>Miss.</td>\n",
       "      <td>NaN</td>\n",
       "      <td>0</td>\n",
       "      <td>7.92500</td>\n",
       "    </tr>\n",
       "    <tr>\n",
       "      <th>3</th>\n",
       "      <td>4</td>\n",
       "      <td>1</td>\n",
       "      <td>1</td>\n",
       "      <td>female</td>\n",
       "      <td>35.0</td>\n",
       "      <td>1</td>\n",
       "      <td>0</td>\n",
       "      <td>113803</td>\n",
       "      <td>53.1000</td>\n",
       "      <td>C123</td>\n",
       "      <td>S</td>\n",
       "      <td>Mrs.</td>\n",
       "      <td>C</td>\n",
       "      <td>1</td>\n",
       "      <td>26.55000</td>\n",
       "    </tr>\n",
       "    <tr>\n",
       "      <th>4</th>\n",
       "      <td>5</td>\n",
       "      <td>0</td>\n",
       "      <td>3</td>\n",
       "      <td>male</td>\n",
       "      <td>35.0</td>\n",
       "      <td>0</td>\n",
       "      <td>0</td>\n",
       "      <td>373450</td>\n",
       "      <td>8.0500</td>\n",
       "      <td>NaN</td>\n",
       "      <td>S</td>\n",
       "      <td>Mr.</td>\n",
       "      <td>NaN</td>\n",
       "      <td>0</td>\n",
       "      <td>8.05000</td>\n",
       "    </tr>\n",
       "  </tbody>\n",
       "</table>\n",
       "</div>"
      ],
      "text/plain": [
       "   PassengerId  Survived  Pclass     Sex  ...  Title  Deck  FamilySize FarePerPerson\n",
       "0            1         0       3    male  ...    Mr.   NaN           1       3.62500\n",
       "1            2         1       1  female  ...   Mrs.     C           1      35.64165\n",
       "2            3         1       3  female  ...  Miss.   NaN           0       7.92500\n",
       "3            4         1       1  female  ...   Mrs.     C           1      26.55000\n",
       "4            5         0       3    male  ...    Mr.   NaN           0       8.05000\n",
       "\n",
       "[5 rows x 15 columns]"
      ]
     },
     "execution_count": 15,
     "metadata": {
      "tags": []
     },
     "output_type": "execute_result"
    }
   ],
   "source": [
    "# Checking the working of the above function\n",
    "df_tmp = FamilySize_FarePerPerson(df_tmp)\n",
    "df_tmp.head()"
   ]
  },
  {
   "cell_type": "code",
   "execution_count": null,
   "metadata": {
    "colab": {
     "base_uri": "https://localhost:8080/",
     "height": 716
    },
    "colab_type": "code",
    "executionInfo": {
     "elapsed": 2779,
     "status": "ok",
     "timestamp": 1598183713877,
     "user": {
      "displayName": "Anshuman Singh",
      "photoUrl": "https://lh3.googleusercontent.com/a-/AOh14Gg5KGs2dfcnZCMe13webWRLHyD7D9R2Um3DTkd8Ug=s64",
      "userId": "00439360438599152891"
     },
     "user_tz": -330
    },
    "id": "-4D6fe1uBX4T",
    "outputId": "b597868f-241c-4a70-94e6-91264c7246a7"
   },
   "outputs": [
    {
     "data": {
      "text/plain": [
       "PC            60\n",
       "C.A.          27\n",
       "STON/O        12\n",
       "A/5           10\n",
       "W./C.          9\n",
       "SOTON/O.Q.     8\n",
       "CA.            8\n",
       "SOTON/OQ       7\n",
       "A/5.           7\n",
       "CA             6\n",
       "STON/O2.       6\n",
       "S.O.C.         5\n",
       "C              5\n",
       "F.C.C.         5\n",
       "SC/PARIS       5\n",
       "SC/Paris       4\n",
       "PP             3\n",
       "A/4            3\n",
       "SC/AH          3\n",
       "A/4.           3\n",
       "S.O./P.P.      3\n",
       "P/PP           2\n",
       "A./5.          2\n",
       "SOTON/O2       2\n",
       "WE/P           2\n",
       "A.5.           2\n",
       "S.C./PARIS     2\n",
       "SW/PP          1\n",
       "W.E.P.         1\n",
       "C.A./SOTON     1\n",
       "W/C            1\n",
       "SO/C           1\n",
       "Fa             1\n",
       "S.P.           1\n",
       "SCO/W          1\n",
       "S.W./PP        1\n",
       "A/S            1\n",
       "F.C.           1\n",
       "SC             1\n",
       "A4.            1\n",
       "S.C./A.4.      1\n",
       "S.O.P.         1\n",
       "Name: TicketPrefix, dtype: int64"
      ]
     },
     "execution_count": 16,
     "metadata": {
      "tags": []
     },
     "output_type": "execute_result"
    }
   ],
   "source": [
    "# Viewing the frequently occuring Ticket Prefixes\n",
    "df_tmp[\"TicketPrefix\"] = df_tmp.Ticket.str.split(\" \").apply(lambda x: x[0] if len(x) > 1 else np.nan)\n",
    "df_tmp.TicketPrefix.value_counts()"
   ]
  },
  {
   "cell_type": "code",
   "execution_count": null,
   "metadata": {
    "colab": {},
    "colab_type": "code",
    "id": "nPBsjbnPBX4W"
   },
   "outputs": [],
   "source": [
    "# Creating a function to extract frequently the prefixes of Tickets from the Ticket Column\n",
    "# Sub-function\n",
    "def ticket_pre(x):\n",
    "    if x is \"NaN\":\n",
    "        return np.nan\n",
    "    elif np.any(np.isin(x, [\"PC\"])):\n",
    "        return \"PC\"\n",
    "    elif np.any(np.isin(x, [\"C.A.\", \"CA\", \"CA.\", \"C\" ])):\n",
    "        return \"CA\"\n",
    "    elif np.any(np.isin(x.split(\"/\"), [\"STON\", \"SOTON\"])):\n",
    "        return \"SOTON\"\n",
    "    elif np.any(np.isin(x, [\"A/5\", \"A.5.\", \"A/5.\"])):\n",
    "        return \"A/5\"\n",
    "    elif np.any(np.isin(x, [\"A/4.\", \"A.4.\", \"A4.\", \"A/4\"])):\n",
    "        return \"A/4\"\n",
    "    elif np.any(np.isin(x, [\"W./C.\"])):\n",
    "        return \"W./C.\"\n",
    "    else:\n",
    "        return \"Other\"\n",
    "def TicketPrefix(df):\n",
    "    df[\"TicketPrefix\"] = df.Ticket.str.split(\" \").apply(lambda x: ticket_pre(x[0]) if len(x)>1 else np.nan)\n",
    "    return df"
   ]
  },
  {
   "cell_type": "code",
   "execution_count": null,
   "metadata": {
    "colab": {
     "base_uri": "https://localhost:8080/",
     "height": 277
    },
    "colab_type": "code",
    "executionInfo": {
     "elapsed": 2748,
     "status": "ok",
     "timestamp": 1598183713879,
     "user": {
      "displayName": "Anshuman Singh",
      "photoUrl": "https://lh3.googleusercontent.com/a-/AOh14Gg5KGs2dfcnZCMe13webWRLHyD7D9R2Um3DTkd8Ug=s64",
      "userId": "00439360438599152891"
     },
     "user_tz": -330
    },
    "id": "dIjrr1DPBX4Z",
    "outputId": "032bbd6c-091f-4acd-b0f2-f388ab455efe"
   },
   "outputs": [
    {
     "data": {
      "text/plain": [
       "(PC       60\n",
       " Other    49\n",
       " CA       46\n",
       " SOTON    36\n",
       " A/5      19\n",
       " W./C.     9\n",
       " A/4       7\n",
       " Name: TicketPrefix, dtype: int64,\n",
       "    PassengerId  Survived  Pclass  ... FamilySize  FarePerPerson  TicketPrefix\n",
       " 0            1         0       3  ...          1        3.62500           A/5\n",
       " 1            2         1       1  ...          1       35.64165            PC\n",
       " 2            3         1       3  ...          0        7.92500         SOTON\n",
       " 3            4         1       1  ...          1       26.55000           NaN\n",
       " 4            5         0       3  ...          0        8.05000           NaN\n",
       " \n",
       " [5 rows x 16 columns])"
      ]
     },
     "execution_count": 18,
     "metadata": {
      "tags": []
     },
     "output_type": "execute_result"
    }
   ],
   "source": [
    "# Checking the working of the above function\n",
    "df_tmp = TicketPrefix(df_tmp)\n",
    "df_tmp.TicketPrefix.value_counts(), df_tmp.head()"
   ]
  },
  {
   "cell_type": "code",
   "execution_count": null,
   "metadata": {
    "colab": {},
    "colab_type": "code",
    "id": "fl_qsYDxPS1F"
   },
   "outputs": [],
   "source": [
    "# Creating a function to add Cabin_count column\n",
    "def Cabin_count(df):\n",
    "  df[\"Cabin_count\"] = df.apply(lambda x: len(x.Cabin.split(\" \")) if not pd.isna(x.Cabin) else np.nan, axis = 1)\n",
    "  return df"
   ]
  },
  {
   "cell_type": "code",
   "execution_count": null,
   "metadata": {
    "colab": {
     "base_uri": "https://localhost:8080/",
     "height": 98
    },
    "colab_type": "code",
    "executionInfo": {
     "elapsed": 2710,
     "status": "ok",
     "timestamp": 1598183713880,
     "user": {
      "displayName": "Anshuman Singh",
      "photoUrl": "https://lh3.googleusercontent.com/a-/AOh14Gg5KGs2dfcnZCMe13webWRLHyD7D9R2Um3DTkd8Ug=s64",
      "userId": "00439360438599152891"
     },
     "user_tz": -330
    },
    "id": "wcb-CoThNNo9",
    "outputId": "78c402e9-fec9-48a7-fa4f-51141f54e65d"
   },
   "outputs": [
    {
     "data": {
      "text/plain": [
       "1.0    180\n",
       "2.0     16\n",
       "3.0      6\n",
       "4.0      2\n",
       "Name: Cabin_count, dtype: int64"
      ]
     },
     "execution_count": 20,
     "metadata": {
      "tags": []
     },
     "output_type": "execute_result"
    }
   ],
   "source": [
    "# Checking the above function to view the variation in the number of Cabins\n",
    "df_tmp = Cabin_count(df_tmp)\n",
    "df_tmp.Cabin_count.value_counts()"
   ]
  },
  {
   "cell_type": "markdown",
   "metadata": {
    "colab_type": "text",
    "id": "NC47Kxs2BX4g"
   },
   "source": [
    "Now that we have done Basic Feature Engineering, let's do some basic EDA\n",
    "\n",
    "# EDA"
   ]
  },
  {
   "cell_type": "code",
   "execution_count": null,
   "metadata": {
    "colab": {
     "base_uri": "https://localhost:8080/",
     "height": 407
    },
    "colab_type": "code",
    "executionInfo": {
     "elapsed": 2649,
     "status": "ok",
     "timestamp": 1598183713882,
     "user": {
      "displayName": "Anshuman Singh",
      "photoUrl": "https://lh3.googleusercontent.com/a-/AOh14Gg5KGs2dfcnZCMe13webWRLHyD7D9R2Um3DTkd8Ug=s64",
      "userId": "00439360438599152891"
     },
     "user_tz": -330
    },
    "id": "KDf2hefTBX4g",
    "outputId": "e4d124a7-af13-4ccb-a44e-4087b8822539"
   },
   "outputs": [
    {
     "name": "stdout",
     "output_type": "stream",
     "text": [
      "<class 'pandas.core.frame.DataFrame'>\n",
      "RangeIndex: 891 entries, 0 to 890\n",
      "Data columns (total 17 columns):\n",
      " #   Column         Non-Null Count  Dtype  \n",
      "---  ------         --------------  -----  \n",
      " 0   PassengerId    891 non-null    int64  \n",
      " 1   Survived       891 non-null    int64  \n",
      " 2   Pclass         891 non-null    int64  \n",
      " 3   Sex            891 non-null    object \n",
      " 4   Age            714 non-null    float64\n",
      " 5   SibSp          891 non-null    int64  \n",
      " 6   Parch          891 non-null    int64  \n",
      " 7   Ticket         891 non-null    object \n",
      " 8   Fare           891 non-null    float64\n",
      " 9   Cabin          204 non-null    object \n",
      " 10  Embarked       889 non-null    object \n",
      " 11  Title          891 non-null    object \n",
      " 12  Deck           204 non-null    object \n",
      " 13  FamilySize     891 non-null    int64  \n",
      " 14  FarePerPerson  891 non-null    float64\n",
      " 15  TicketPrefix   226 non-null    object \n",
      " 16  Cabin_count    204 non-null    float64\n",
      "dtypes: float64(4), int64(6), object(7)\n",
      "memory usage: 118.5+ KB\n"
     ]
    }
   ],
   "source": [
    "df_tmp.info()"
   ]
  },
  {
   "cell_type": "code",
   "execution_count": null,
   "metadata": {
    "colab": {
     "base_uri": "https://localhost:8080/",
     "height": 656
    },
    "colab_type": "code",
    "executionInfo": {
     "elapsed": 5700,
     "status": "ok",
     "timestamp": 1598183716968,
     "user": {
      "displayName": "Anshuman Singh",
      "photoUrl": "https://lh3.googleusercontent.com/a-/AOh14Gg5KGs2dfcnZCMe13webWRLHyD7D9R2Um3DTkd8Ug=s64",
      "userId": "00439360438599152891"
     },
     "user_tz": -330
    },
    "id": "9sIWt9HJBX4j",
    "outputId": "c05e886c-81cc-4e42-be95-0c634029dd45"
   },
   "outputs": [
    {
     "data": {
      "image/png": "[encoded data removed]",
      "text/plain": [
       "<Figure size 720x720 with 2 Axes>"
      ]
     },
     "metadata": {
      "needs_background": "light",
      "tags": []
     },
     "output_type": "display_data"
    }
   ],
   "source": [
    "# Plotting correlation matrix for the numerical columns\n",
    "plt.figure(figsize = (10, 10))\n",
    "sns.heatmap(df_tmp.corr(), annot = True);"
   ]
  },
  {
   "cell_type": "markdown",
   "metadata": {
    "colab_type": "text",
    "id": "SLTyBLw1BX4m"
   },
   "source": [
    "* We can see that Fare and FarePerPerson are highly correlated, which was somewhat expected. \n",
    "* PClass is highly correlated with Fare and FarePerPerson.\n",
    "* PClass, Fare and FarePerPerson are all somewhat highly correlated with Survived (target column)"
   ]
  },
  {
   "cell_type": "code",
   "execution_count": null,
   "metadata": {
    "colab": {
     "base_uri": "https://localhost:8080/",
     "height": 482
    },
    "colab_type": "code",
    "executionInfo": {
     "elapsed": 7017,
     "status": "ok",
     "timestamp": 1598183718307,
     "user": {
      "displayName": "Anshuman Singh",
      "photoUrl": "https://lh3.googleusercontent.com/a-/AOh14Gg5KGs2dfcnZCMe13webWRLHyD7D9R2Um3DTkd8Ug=s64",
      "userId": "00439360438599152891"
     },
     "user_tz": -330
    },
    "id": "lXWKENhKE6dZ",
    "outputId": "80c91738-4cd5-4e68-8022-b148c75c7443"
   },
   "outputs": [
    {
     "data": {
      "image/png": "[encoded data removed]",
      "text/plain": [
       "<Figure size 576x576 with 1 Axes>"
      ]
     },
     "metadata": {
      "needs_background": "light",
      "tags": []
     },
     "output_type": "display_data"
    }
   ],
   "source": [
    "# Fare column boxplot\n",
    "plt.figure(figsize = (8, 8))\n",
    "plt.boxplot(df_tmp.Fare);"
   ]
  },
  {
   "cell_type": "markdown",
   "metadata": {
    "colab_type": "text",
    "id": "wCzs5W74FJ7u"
   },
   "source": [
    "We can see that Fare has a lot of outliers...Entries with Fare > 300:"
   ]
  },
  {
   "cell_type": "code",
   "execution_count": null,
   "metadata": {
    "colab": {
     "base_uri": "https://localhost:8080/",
     "height": 133
    },
    "colab_type": "code",
    "executionInfo": {
     "elapsed": 6997,
     "status": "ok",
     "timestamp": 1598183718309,
     "user": {
      "displayName": "Anshuman Singh",
      "photoUrl": "https://lh3.googleusercontent.com/a-/AOh14Gg5KGs2dfcnZCMe13webWRLHyD7D9R2Um3DTkd8Ug=s64",
      "userId": "00439360438599152891"
     },
     "user_tz": -330
    },
    "id": "QhgeGXfZLGIk",
    "outputId": "5f796bb7-8978-44f2-9b9a-abe824e13f35"
   },
   "outputs": [
    {
     "data": {
      "text/html": [
       "<div>\n",
       "<style scoped>\n",
       "    .dataframe tbody tr th:only-of-type {\n",
       "        vertical-align: middle;\n",
       "    }\n",
       "\n",
       "    .dataframe tbody tr th {\n",
       "        vertical-align: top;\n",
       "    }\n",
       "\n",
       "    .dataframe thead th {\n",
       "        text-align: right;\n",
       "    }\n",
       "</style>\n",
       "<table border=\"1\" class=\"dataframe\">\n",
       "  <thead>\n",
       "    <tr style=\"text-align: right;\">\n",
       "      <th></th>\n",
       "      <th>PassengerId</th>\n",
       "      <th>Survived</th>\n",
       "      <th>Pclass</th>\n",
       "      <th>Sex</th>\n",
       "      <th>Age</th>\n",
       "      <th>SibSp</th>\n",
       "      <th>Parch</th>\n",
       "      <th>Ticket</th>\n",
       "      <th>Fare</th>\n",
       "      <th>Cabin</th>\n",
       "      <th>Embarked</th>\n",
       "      <th>Title</th>\n",
       "      <th>Deck</th>\n",
       "      <th>FamilySize</th>\n",
       "      <th>FarePerPerson</th>\n",
       "      <th>TicketPrefix</th>\n",
       "      <th>Cabin_count</th>\n",
       "    </tr>\n",
       "  </thead>\n",
       "  <tbody>\n",
       "    <tr>\n",
       "      <th>258</th>\n",
       "      <td>259</td>\n",
       "      <td>1</td>\n",
       "      <td>1</td>\n",
       "      <td>female</td>\n",
       "      <td>35.0</td>\n",
       "      <td>0</td>\n",
       "      <td>0</td>\n",
       "      <td>PC 17755</td>\n",
       "      <td>512.3292</td>\n",
       "      <td>NaN</td>\n",
       "      <td>C</td>\n",
       "      <td>Miss.</td>\n",
       "      <td>NaN</td>\n",
       "      <td>0</td>\n",
       "      <td>512.3292</td>\n",
       "      <td>PC</td>\n",
       "      <td>NaN</td>\n",
       "    </tr>\n",
       "    <tr>\n",
       "      <th>679</th>\n",
       "      <td>680</td>\n",
       "      <td>1</td>\n",
       "      <td>1</td>\n",
       "      <td>male</td>\n",
       "      <td>36.0</td>\n",
       "      <td>0</td>\n",
       "      <td>1</td>\n",
       "      <td>PC 17755</td>\n",
       "      <td>512.3292</td>\n",
       "      <td>B51 B53 B55</td>\n",
       "      <td>C</td>\n",
       "      <td>Mr.</td>\n",
       "      <td>B</td>\n",
       "      <td>1</td>\n",
       "      <td>256.1646</td>\n",
       "      <td>PC</td>\n",
       "      <td>3.0</td>\n",
       "    </tr>\n",
       "    <tr>\n",
       "      <th>737</th>\n",
       "      <td>738</td>\n",
       "      <td>1</td>\n",
       "      <td>1</td>\n",
       "      <td>male</td>\n",
       "      <td>35.0</td>\n",
       "      <td>0</td>\n",
       "      <td>0</td>\n",
       "      <td>PC 17755</td>\n",
       "      <td>512.3292</td>\n",
       "      <td>B101</td>\n",
       "      <td>C</td>\n",
       "      <td>Mr.</td>\n",
       "      <td>B</td>\n",
       "      <td>0</td>\n",
       "      <td>512.3292</td>\n",
       "      <td>PC</td>\n",
       "      <td>1.0</td>\n",
       "    </tr>\n",
       "  </tbody>\n",
       "</table>\n",
       "</div>"
      ],
      "text/plain": [
       "     PassengerId  Survived  Pclass  ... FarePerPerson  TicketPrefix  Cabin_count\n",
       "258          259         1       1  ...      512.3292            PC          NaN\n",
       "679          680         1       1  ...      256.1646            PC          3.0\n",
       "737          738         1       1  ...      512.3292            PC          1.0\n",
       "\n",
       "[3 rows x 17 columns]"
      ]
     },
     "execution_count": 24,
     "metadata": {
      "tags": []
     },
     "output_type": "execute_result"
    }
   ],
   "source": [
    "df_tmp[df_tmp.Fare > 300]"
   ]
  },
  {
   "cell_type": "markdown",
   "metadata": {
    "colab_type": "text",
    "id": "uLQfXv6nLEAt"
   },
   "source": [
    "**Let's make a note to remove these outliers when the data is processed further later on.** \n",
    "\n",
    "Furthermore, there are some values with zero value. Let's see their count:"
   ]
  },
  {
   "cell_type": "code",
   "execution_count": null,
   "metadata": {
    "colab": {
     "base_uri": "https://localhost:8080/",
     "height": 478
    },
    "colab_type": "code",
    "executionInfo": {
     "elapsed": 6968,
     "status": "ok",
     "timestamp": 1598183718311,
     "user": {
      "displayName": "Anshuman Singh",
      "photoUrl": "https://lh3.googleusercontent.com/a-/AOh14Gg5KGs2dfcnZCMe13webWRLHyD7D9R2Um3DTkd8Ug=s64",
      "userId": "00439360438599152891"
     },
     "user_tz": -330
    },
    "id": "aIgLIyJZGQ7x",
    "outputId": "c168508e-8be5-47cd-8791-c895b4fc2903"
   },
   "outputs": [
    {
     "data": {
      "text/html": [
       "<div>\n",
       "<style scoped>\n",
       "    .dataframe tbody tr th:only-of-type {\n",
       "        vertical-align: middle;\n",
       "    }\n",
       "\n",
       "    .dataframe tbody tr th {\n",
       "        vertical-align: top;\n",
       "    }\n",
       "\n",
       "    .dataframe thead th {\n",
       "        text-align: right;\n",
       "    }\n",
       "</style>\n",
       "<table border=\"1\" class=\"dataframe\">\n",
       "  <thead>\n",
       "    <tr style=\"text-align: right;\">\n",
       "      <th></th>\n",
       "      <th>PassengerId</th>\n",
       "      <th>Survived</th>\n",
       "      <th>Pclass</th>\n",
       "      <th>Sex</th>\n",
       "      <th>Age</th>\n",
       "      <th>SibSp</th>\n",
       "      <th>Parch</th>\n",
       "      <th>Ticket</th>\n",
       "      <th>Fare</th>\n",
       "      <th>Cabin</th>\n",
       "      <th>Embarked</th>\n",
       "      <th>Title</th>\n",
       "      <th>Deck</th>\n",
       "      <th>FamilySize</th>\n",
       "      <th>FarePerPerson</th>\n",
       "      <th>TicketPrefix</th>\n",
       "      <th>Cabin_count</th>\n",
       "    </tr>\n",
       "  </thead>\n",
       "  <tbody>\n",
       "    <tr>\n",
       "      <th>179</th>\n",
       "      <td>180</td>\n",
       "      <td>0</td>\n",
       "      <td>3</td>\n",
       "      <td>male</td>\n",
       "      <td>36.0</td>\n",
       "      <td>0</td>\n",
       "      <td>0</td>\n",
       "      <td>LINE</td>\n",
       "      <td>0.0</td>\n",
       "      <td>NaN</td>\n",
       "      <td>S</td>\n",
       "      <td>Mr.</td>\n",
       "      <td>NaN</td>\n",
       "      <td>0</td>\n",
       "      <td>0.0</td>\n",
       "      <td>NaN</td>\n",
       "      <td>NaN</td>\n",
       "    </tr>\n",
       "    <tr>\n",
       "      <th>263</th>\n",
       "      <td>264</td>\n",
       "      <td>0</td>\n",
       "      <td>1</td>\n",
       "      <td>male</td>\n",
       "      <td>40.0</td>\n",
       "      <td>0</td>\n",
       "      <td>0</td>\n",
       "      <td>112059</td>\n",
       "      <td>0.0</td>\n",
       "      <td>B94</td>\n",
       "      <td>S</td>\n",
       "      <td>Mr.</td>\n",
       "      <td>B</td>\n",
       "      <td>0</td>\n",
       "      <td>0.0</td>\n",
       "      <td>NaN</td>\n",
       "      <td>1.0</td>\n",
       "    </tr>\n",
       "    <tr>\n",
       "      <th>271</th>\n",
       "      <td>272</td>\n",
       "      <td>1</td>\n",
       "      <td>3</td>\n",
       "      <td>male</td>\n",
       "      <td>25.0</td>\n",
       "      <td>0</td>\n",
       "      <td>0</td>\n",
       "      <td>LINE</td>\n",
       "      <td>0.0</td>\n",
       "      <td>NaN</td>\n",
       "      <td>S</td>\n",
       "      <td>Mr.</td>\n",
       "      <td>NaN</td>\n",
       "      <td>0</td>\n",
       "      <td>0.0</td>\n",
       "      <td>NaN</td>\n",
       "      <td>NaN</td>\n",
       "    </tr>\n",
       "    <tr>\n",
       "      <th>277</th>\n",
       "      <td>278</td>\n",
       "      <td>0</td>\n",
       "      <td>2</td>\n",
       "      <td>male</td>\n",
       "      <td>NaN</td>\n",
       "      <td>0</td>\n",
       "      <td>0</td>\n",
       "      <td>239853</td>\n",
       "      <td>0.0</td>\n",
       "      <td>NaN</td>\n",
       "      <td>S</td>\n",
       "      <td>Mr.</td>\n",
       "      <td>NaN</td>\n",
       "      <td>0</td>\n",
       "      <td>0.0</td>\n",
       "      <td>NaN</td>\n",
       "      <td>NaN</td>\n",
       "    </tr>\n",
       "    <tr>\n",
       "      <th>302</th>\n",
       "      <td>303</td>\n",
       "      <td>0</td>\n",
       "      <td>3</td>\n",
       "      <td>male</td>\n",
       "      <td>19.0</td>\n",
       "      <td>0</td>\n",
       "      <td>0</td>\n",
       "      <td>LINE</td>\n",
       "      <td>0.0</td>\n",
       "      <td>NaN</td>\n",
       "      <td>S</td>\n",
       "      <td>Mr.</td>\n",
       "      <td>NaN</td>\n",
       "      <td>0</td>\n",
       "      <td>0.0</td>\n",
       "      <td>NaN</td>\n",
       "      <td>NaN</td>\n",
       "    </tr>\n",
       "    <tr>\n",
       "      <th>413</th>\n",
       "      <td>414</td>\n",
       "      <td>0</td>\n",
       "      <td>2</td>\n",
       "      <td>male</td>\n",
       "      <td>NaN</td>\n",
       "      <td>0</td>\n",
       "      <td>0</td>\n",
       "      <td>239853</td>\n",
       "      <td>0.0</td>\n",
       "      <td>NaN</td>\n",
       "      <td>S</td>\n",
       "      <td>Mr.</td>\n",
       "      <td>NaN</td>\n",
       "      <td>0</td>\n",
       "      <td>0.0</td>\n",
       "      <td>NaN</td>\n",
       "      <td>NaN</td>\n",
       "    </tr>\n",
       "    <tr>\n",
       "      <th>466</th>\n",
       "      <td>467</td>\n",
       "      <td>0</td>\n",
       "      <td>2</td>\n",
       "      <td>male</td>\n",
       "      <td>NaN</td>\n",
       "      <td>0</td>\n",
       "      <td>0</td>\n",
       "      <td>239853</td>\n",
       "      <td>0.0</td>\n",
       "      <td>NaN</td>\n",
       "      <td>S</td>\n",
       "      <td>Mr.</td>\n",
       "      <td>NaN</td>\n",
       "      <td>0</td>\n",
       "      <td>0.0</td>\n",
       "      <td>NaN</td>\n",
       "      <td>NaN</td>\n",
       "    </tr>\n",
       "    <tr>\n",
       "      <th>481</th>\n",
       "      <td>482</td>\n",
       "      <td>0</td>\n",
       "      <td>2</td>\n",
       "      <td>male</td>\n",
       "      <td>NaN</td>\n",
       "      <td>0</td>\n",
       "      <td>0</td>\n",
       "      <td>239854</td>\n",
       "      <td>0.0</td>\n",
       "      <td>NaN</td>\n",
       "      <td>S</td>\n",
       "      <td>Mr.</td>\n",
       "      <td>NaN</td>\n",
       "      <td>0</td>\n",
       "      <td>0.0</td>\n",
       "      <td>NaN</td>\n",
       "      <td>NaN</td>\n",
       "    </tr>\n",
       "    <tr>\n",
       "      <th>597</th>\n",
       "      <td>598</td>\n",
       "      <td>0</td>\n",
       "      <td>3</td>\n",
       "      <td>male</td>\n",
       "      <td>49.0</td>\n",
       "      <td>0</td>\n",
       "      <td>0</td>\n",
       "      <td>LINE</td>\n",
       "      <td>0.0</td>\n",
       "      <td>NaN</td>\n",
       "      <td>S</td>\n",
       "      <td>Mr.</td>\n",
       "      <td>NaN</td>\n",
       "      <td>0</td>\n",
       "      <td>0.0</td>\n",
       "      <td>NaN</td>\n",
       "      <td>NaN</td>\n",
       "    </tr>\n",
       "    <tr>\n",
       "      <th>633</th>\n",
       "      <td>634</td>\n",
       "      <td>0</td>\n",
       "      <td>1</td>\n",
       "      <td>male</td>\n",
       "      <td>NaN</td>\n",
       "      <td>0</td>\n",
       "      <td>0</td>\n",
       "      <td>112052</td>\n",
       "      <td>0.0</td>\n",
       "      <td>NaN</td>\n",
       "      <td>S</td>\n",
       "      <td>Mr.</td>\n",
       "      <td>NaN</td>\n",
       "      <td>0</td>\n",
       "      <td>0.0</td>\n",
       "      <td>NaN</td>\n",
       "      <td>NaN</td>\n",
       "    </tr>\n",
       "    <tr>\n",
       "      <th>674</th>\n",
       "      <td>675</td>\n",
       "      <td>0</td>\n",
       "      <td>2</td>\n",
       "      <td>male</td>\n",
       "      <td>NaN</td>\n",
       "      <td>0</td>\n",
       "      <td>0</td>\n",
       "      <td>239856</td>\n",
       "      <td>0.0</td>\n",
       "      <td>NaN</td>\n",
       "      <td>S</td>\n",
       "      <td>Mr.</td>\n",
       "      <td>NaN</td>\n",
       "      <td>0</td>\n",
       "      <td>0.0</td>\n",
       "      <td>NaN</td>\n",
       "      <td>NaN</td>\n",
       "    </tr>\n",
       "    <tr>\n",
       "      <th>732</th>\n",
       "      <td>733</td>\n",
       "      <td>0</td>\n",
       "      <td>2</td>\n",
       "      <td>male</td>\n",
       "      <td>NaN</td>\n",
       "      <td>0</td>\n",
       "      <td>0</td>\n",
       "      <td>239855</td>\n",
       "      <td>0.0</td>\n",
       "      <td>NaN</td>\n",
       "      <td>S</td>\n",
       "      <td>Mr.</td>\n",
       "      <td>NaN</td>\n",
       "      <td>0</td>\n",
       "      <td>0.0</td>\n",
       "      <td>NaN</td>\n",
       "      <td>NaN</td>\n",
       "    </tr>\n",
       "    <tr>\n",
       "      <th>806</th>\n",
       "      <td>807</td>\n",
       "      <td>0</td>\n",
       "      <td>1</td>\n",
       "      <td>male</td>\n",
       "      <td>39.0</td>\n",
       "      <td>0</td>\n",
       "      <td>0</td>\n",
       "      <td>112050</td>\n",
       "      <td>0.0</td>\n",
       "      <td>A36</td>\n",
       "      <td>S</td>\n",
       "      <td>Mr.</td>\n",
       "      <td>A</td>\n",
       "      <td>0</td>\n",
       "      <td>0.0</td>\n",
       "      <td>NaN</td>\n",
       "      <td>1.0</td>\n",
       "    </tr>\n",
       "    <tr>\n",
       "      <th>815</th>\n",
       "      <td>816</td>\n",
       "      <td>0</td>\n",
       "      <td>1</td>\n",
       "      <td>male</td>\n",
       "      <td>NaN</td>\n",
       "      <td>0</td>\n",
       "      <td>0</td>\n",
       "      <td>112058</td>\n",
       "      <td>0.0</td>\n",
       "      <td>B102</td>\n",
       "      <td>S</td>\n",
       "      <td>Mr.</td>\n",
       "      <td>B</td>\n",
       "      <td>0</td>\n",
       "      <td>0.0</td>\n",
       "      <td>NaN</td>\n",
       "      <td>1.0</td>\n",
       "    </tr>\n",
       "    <tr>\n",
       "      <th>822</th>\n",
       "      <td>823</td>\n",
       "      <td>0</td>\n",
       "      <td>1</td>\n",
       "      <td>male</td>\n",
       "      <td>38.0</td>\n",
       "      <td>0</td>\n",
       "      <td>0</td>\n",
       "      <td>19972</td>\n",
       "      <td>0.0</td>\n",
       "      <td>NaN</td>\n",
       "      <td>S</td>\n",
       "      <td>Miss.</td>\n",
       "      <td>NaN</td>\n",
       "      <td>0</td>\n",
       "      <td>0.0</td>\n",
       "      <td>NaN</td>\n",
       "      <td>NaN</td>\n",
       "    </tr>\n",
       "  </tbody>\n",
       "</table>\n",
       "</div>"
      ],
      "text/plain": [
       "     PassengerId  Survived  Pclass  ... FarePerPerson  TicketPrefix  Cabin_count\n",
       "179          180         0       3  ...           0.0           NaN          NaN\n",
       "263          264         0       1  ...           0.0           NaN          1.0\n",
       "271          272         1       3  ...           0.0           NaN          NaN\n",
       "277          278         0       2  ...           0.0           NaN          NaN\n",
       "302          303         0       3  ...           0.0           NaN          NaN\n",
       "413          414         0       2  ...           0.0           NaN          NaN\n",
       "466          467         0       2  ...           0.0           NaN          NaN\n",
       "481          482         0       2  ...           0.0           NaN          NaN\n",
       "597          598         0       3  ...           0.0           NaN          NaN\n",
       "633          634         0       1  ...           0.0           NaN          NaN\n",
       "674          675         0       2  ...           0.0           NaN          NaN\n",
       "732          733         0       2  ...           0.0           NaN          NaN\n",
       "806          807         0       1  ...           0.0           NaN          1.0\n",
       "815          816         0       1  ...           0.0           NaN          1.0\n",
       "822          823         0       1  ...           0.0           NaN          NaN\n",
       "\n",
       "[15 rows x 17 columns]"
      ]
     },
     "execution_count": 25,
     "metadata": {
      "tags": []
     },
     "output_type": "execute_result"
    }
   ],
   "source": [
    "df_tmp[df_tmp.Fare == 0]"
   ]
  },
  {
   "cell_type": "markdown",
   "metadata": {
    "colab_type": "text",
    "id": "5701AKIDIZdZ"
   },
   "source": [
    "**These are 15 in number. Let's make a note to remove these entries later on!!**"
   ]
  },
  {
   "cell_type": "code",
   "execution_count": null,
   "metadata": {
    "colab": {
     "base_uri": "https://localhost:8080/",
     "height": 476
    },
    "colab_type": "code",
    "executionInfo": {
     "elapsed": 6935,
     "status": "ok",
     "timestamp": 1598183718313,
     "user": {
      "displayName": "Anshuman Singh",
      "photoUrl": "https://lh3.googleusercontent.com/a-/AOh14Gg5KGs2dfcnZCMe13webWRLHyD7D9R2Um3DTkd8Ug=s64",
      "userId": "00439360438599152891"
     },
     "user_tz": -330
    },
    "id": "IX5ptz6bBX4n",
    "outputId": "ff8bf9b2-c507-497e-f4ae-842692809289"
   },
   "outputs": [
    {
     "data": {
      "image/png": "[encoded data removed]",
      "text/plain": [
       "<Figure size 576x576 with 1 Axes>"
      ]
     },
     "metadata": {
      "needs_background": "light",
      "tags": []
     },
     "output_type": "display_data"
    }
   ],
   "source": [
    "# Visualizing the relation between Fare and Survived\n",
    "plt.figure(figsize = (8, 8))\n",
    "scatter1 = plt.scatter(np.arange(len(df_tmp.Fare)), df_tmp.Fare, c = df_tmp.Survived)\n",
    "plt.ylim((0, 100)) # Because most of the data lies in this range\n",
    "plt.ylabel(\"Fare\")\n",
    "plt.xticks([])\n",
    "plt.axhline(df_tmp.Fare.median(), linestyle = \"--\", color = 'red') #Fare Line Median\n",
    "plt.legend(*scatter1.legend_elements(), title = \"Survived\", loc = \"upper right\");"
   ]
  },
  {
   "cell_type": "markdown",
   "metadata": {
    "colab_type": "text",
    "id": "cPCeA7J3I4Dv"
   },
   "source": [
    "We can see that higher Fares have more number of people who survived, thus suggesting decent correlation between Fares and Survived Class. \n",
    "\n",
    "Let's further visualize this fact using a bargraph:"
   ]
  },
  {
   "cell_type": "code",
   "execution_count": null,
   "metadata": {
    "colab": {
     "base_uri": "https://localhost:8080/",
     "height": 265
    },
    "colab_type": "code",
    "executionInfo": {
     "elapsed": 6908,
     "status": "ok",
     "timestamp": 1598183718314,
     "user": {
      "displayName": "Anshuman Singh",
      "photoUrl": "https://lh3.googleusercontent.com/a-/AOh14Gg5KGs2dfcnZCMe13webWRLHyD7D9R2Um3DTkd8Ug=s64",
      "userId": "00439360438599152891"
     },
     "user_tz": -330
    },
    "id": "IXBFd1gNSEnF",
    "outputId": "b641ddb2-0f1e-4cb0-c6ea-51fd1123c57b"
   },
   "outputs": [
    {
     "data": {
      "image/png": "[encoded data removed]",
      "text/plain": [
       "<Figure size 432x288 with 1 Axes>"
      ]
     },
     "metadata": {
      "needs_background": "light",
      "tags": []
     },
     "output_type": "display_data"
    }
   ],
   "source": [
    "high_fare = df_tmp[df_tmp.Fare >= df_tmp.Fare.median()]\n",
    "low_fare = df_tmp[df_tmp.Fare < df_tmp.Fare.median()]\n",
    "plt.bar([0.4, 2.8], [low_fare[low_fare.Survived == 0].Survived.count(), high_fare[high_fare.Survived == 0].Survived.count()], color = \"orange\", label = \"Not Survived\")\n",
    "plt.bar([1.2, 3.6], [low_fare[low_fare.Survived == 1].Survived.count(), high_fare[high_fare.Survived == 1].Survived.count()], color = \"blue\", label = \"Survived\")\n",
    "plt.xticks(ticks = [0.8, 3.2], labels = [\"Fare below Median\", \"Fare above Median\"])\n",
    "plt.ylabel(\"Count\")\n",
    "plt.legend()\n",
    "plt.show();"
   ]
  },
  {
   "cell_type": "markdown",
   "metadata": {
    "colab_type": "text",
    "id": "p8avGQzAWe5R"
   },
   "source": [
    "The above graph shows that when Fare is below Median, almost 3 out of every 4 people did not survive. But when the fare is above Medain, the chances of survival are aprrox. 50%."
   ]
  },
  {
   "cell_type": "code",
   "execution_count": null,
   "metadata": {
    "colab": {
     "base_uri": "https://localhost:8080/",
     "height": 498
    },
    "colab_type": "code",
    "executionInfo": {
     "elapsed": 6885,
     "status": "ok",
     "timestamp": 1598183718316,
     "user": {
      "displayName": "Anshuman Singh",
      "photoUrl": "https://lh3.googleusercontent.com/a-/AOh14Gg5KGs2dfcnZCMe13webWRLHyD7D9R2Um3DTkd8Ug=s64",
      "userId": "00439360438599152891"
     },
     "user_tz": -330
    },
    "id": "gmpq7xVsZmnH",
    "outputId": "9f224eb6-7e2c-4d76-c6bc-6cee98ec9781"
   },
   "outputs": [
    {
     "data": {
      "image/png": "[encoded data removed]",
      "text/plain": [
       "<Figure size 576x576 with 1 Axes>"
      ]
     },
     "metadata": {
      "needs_background": "light",
      "tags": []
     },
     "output_type": "display_data"
    }
   ],
   "source": [
    "# Let's analyze the relation between FamilySize and Survived\n",
    "df_cross = pd.crosstab(index = df_tmp.FamilySize, columns = df_tmp.Survived)\n",
    "df_cross.plot.bar(figsize = (8,8))\n",
    "plt.ylabel(\"Count\");"
   ]
  },
  {
   "cell_type": "markdown",
   "metadata": {
    "colab_type": "text",
    "id": "o-HzU8SfcNH2"
   },
   "source": [
    "There isn't a very clear trend visible (other than the fact that a large no. of solo travellers were there).\n",
    "\n",
    "Let's analyze any relation between the Age column and the Survived columns:"
   ]
  },
  {
   "cell_type": "code",
   "execution_count": null,
   "metadata": {
    "colab": {
     "base_uri": "https://localhost:8080/",
     "height": 265
    },
    "colab_type": "code",
    "executionInfo": {
     "elapsed": 6861,
     "status": "ok",
     "timestamp": 1598183718318,
     "user": {
      "displayName": "Anshuman Singh",
      "photoUrl": "https://lh3.googleusercontent.com/a-/AOh14Gg5KGs2dfcnZCMe13webWRLHyD7D9R2Um3DTkd8Ug=s64",
      "userId": "00439360438599152891"
     },
     "user_tz": -330
    },
    "id": "vRXscUOJcaE0",
    "outputId": "4d0e08e0-79ce-4330-da28-93edaffcf1ef"
   },
   "outputs": [
    {
     "data": {
      "image/png": "[encoded data removed]",
      "text/plain": [
       "<Figure size 432x288 with 1 Axes>"
      ]
     },
     "metadata": {
      "needs_background": "light",
      "tags": []
     },
     "output_type": "display_data"
    }
   ],
   "source": [
    "# Let's Divide People in [\"Children (Age<18)\", \"Adults (18 < Age < 50)\", \"Elderly (Age > 50)\"]\n",
    "children = df_tmp[df_tmp.Age < 18]\n",
    "adults = df_tmp[(df_tmp.Age >= 18) & (df_tmp.Age < 50)]\n",
    "elderly = df_tmp[df_tmp.Age >= 50]\n",
    "# Plotting a Bar Graph Using the above data\n",
    "plt.bar([0.4, 2.8, 5.2], [children[children.Survived == 0].Survived.count(), adults[adults.Survived == 0].Survived.count(), elderly[elderly.Survived == 0].Survived.count()],\n",
    "        color = 'orange', label = \"Not Survived\")\n",
    "plt.bar([1.2, 3.6, 6], [children[children.Survived == 1].Survived.count(), adults[adults.Survived == 1].Survived.count(), elderly[elderly.Survived == 1].Survived.count()],\n",
    "        color = 'blue', label = \"Survived\")\n",
    "plt.xticks(ticks = [0.8, 3.2, 5.6], labels = [\"Children\", \"Adults\", \"Elderly\"])\n",
    "plt.legend()\n",
    "plt.show();"
   ]
  },
  {
   "cell_type": "markdown",
   "metadata": {
    "colab_type": "text",
    "id": "-kueBtA-fgRa"
   },
   "source": [
    "Here, the proportion of people who survived is the highest in children and lowest in elderly. This may indicate some preferrential treatment that might have been given to the children and the elderly to ensure their survival."
   ]
  },
  {
   "cell_type": "markdown",
   "metadata": {
    "colab_type": "text",
    "id": "pm3NiEMPgDVf"
   },
   "source": [
    "Let's see the variation in Survived column vs Sex column:"
   ]
  },
  {
   "cell_type": "code",
   "execution_count": null,
   "metadata": {
    "colab": {
     "base_uri": "https://localhost:8080/",
     "height": 303
    },
    "colab_type": "code",
    "executionInfo": {
     "elapsed": 6838,
     "status": "ok",
     "timestamp": 1598183718319,
     "user": {
      "displayName": "Anshuman Singh",
      "photoUrl": "https://lh3.googleusercontent.com/a-/AOh14Gg5KGs2dfcnZCMe13webWRLHyD7D9R2Um3DTkd8Ug=s64",
      "userId": "00439360438599152891"
     },
     "user_tz": -330
    },
    "id": "NAQDINeLgKyi",
    "outputId": "1a9e71c8-26af-43de-c0da-b3774711c7b0"
   },
   "outputs": [
    {
     "data": {
      "image/png": "[encoded data removed]",
      "text/plain": [
       "<Figure size 432x288 with 1 Axes>"
      ]
     },
     "metadata": {
      "needs_background": "light",
      "tags": []
     },
     "output_type": "display_data"
    }
   ],
   "source": [
    "sex_cross = pd.crosstab(index = df_tmp.Sex, columns= df_tmp.Survived)\n",
    "sex_cross.plot.bar();"
   ]
  },
  {
   "cell_type": "markdown",
   "metadata": {
    "colab_type": "text",
    "id": "9zkgiHOagom_"
   },
   "source": [
    "This shows that Female survival ratio is much higher than men. Therefore, Sex is highly correlated with Survived."
   ]
  },
  {
   "cell_type": "markdown",
   "metadata": {
    "colab_type": "text",
    "id": "cRN9ZXPLg6mt"
   },
   "source": [
    "# Making the data ready for modeling\n",
    "\n",
    "We will need to peform the following tasks before we can use the data in our ML model:\n",
    "1. Remove the entries which have invalid/in-sufficient data.\n",
    "2. Split the dataset into train and test dataset.\n",
    "3. Impute NaN values in the numeric columns with median, and create another column which will specify which rows had the NaN values before imputation\n",
    "4. Convert all object dtype columns into categorical columns, and create a separate column specifying the entries where NaN values were present. Therefore, after all these operations, all columns will have numerical dtype."
   ]
  },
  {
   "cell_type": "code",
   "execution_count": null,
   "metadata": {
    "colab": {},
    "colab_type": "code",
    "id": "Gq31gr8PF6qn"
   },
   "outputs": [],
   "source": [
    "# Creating a function to remove entries with (1) Fare == 0, (2) Fare > 300\n",
    "def clean_Fare(df):\n",
    "  df = df[(df.Fare > 0) & (df.Fare <= 300)]\n",
    "  return df"
   ]
  },
  {
   "cell_type": "code",
   "execution_count": null,
   "metadata": {
    "colab": {
     "base_uri": "https://localhost:8080/",
     "height": 277
    },
    "colab_type": "code",
    "executionInfo": {
     "elapsed": 6812,
     "status": "ok",
     "timestamp": 1598183718323,
     "user": {
      "displayName": "Anshuman Singh",
      "photoUrl": "https://lh3.googleusercontent.com/a-/AOh14Gg5KGs2dfcnZCMe13webWRLHyD7D9R2Um3DTkd8Ug=s64",
      "userId": "00439360438599152891"
     },
     "user_tz": -330
    },
    "id": "vOL3joBNGhya",
    "outputId": "5de3f4c2-853c-42f4-bfa0-be2ca5d0e895"
   },
   "outputs": [
    {
     "data": {
      "text/html": [
       "<div>\n",
       "<style scoped>\n",
       "    .dataframe tbody tr th:only-of-type {\n",
       "        vertical-align: middle;\n",
       "    }\n",
       "\n",
       "    .dataframe tbody tr th {\n",
       "        vertical-align: top;\n",
       "    }\n",
       "\n",
       "    .dataframe thead th {\n",
       "        text-align: right;\n",
       "    }\n",
       "</style>\n",
       "<table border=\"1\" class=\"dataframe\">\n",
       "  <thead>\n",
       "    <tr style=\"text-align: right;\">\n",
       "      <th></th>\n",
       "      <th>PassengerId</th>\n",
       "      <th>Survived</th>\n",
       "      <th>Pclass</th>\n",
       "      <th>Age</th>\n",
       "      <th>SibSp</th>\n",
       "      <th>Parch</th>\n",
       "      <th>Fare</th>\n",
       "      <th>FamilySize</th>\n",
       "      <th>FarePerPerson</th>\n",
       "      <th>Cabin_count</th>\n",
       "    </tr>\n",
       "  </thead>\n",
       "  <tbody>\n",
       "    <tr>\n",
       "      <th>count</th>\n",
       "      <td>873.000000</td>\n",
       "      <td>873.000000</td>\n",
       "      <td>873.000000</td>\n",
       "      <td>704.000000</td>\n",
       "      <td>873.000000</td>\n",
       "      <td>873.000000</td>\n",
       "      <td>873.000000</td>\n",
       "      <td>873.000000</td>\n",
       "      <td>873.000000</td>\n",
       "      <td>199.000000</td>\n",
       "    </tr>\n",
       "    <tr>\n",
       "      <th>mean</th>\n",
       "      <td>444.402062</td>\n",
       "      <td>0.387171</td>\n",
       "      <td>2.319588</td>\n",
       "      <td>29.620980</td>\n",
       "      <td>0.533792</td>\n",
       "      <td>0.388316</td>\n",
       "      <td>31.107631</td>\n",
       "      <td>0.922108</td>\n",
       "      <td>18.859871</td>\n",
       "      <td>1.160804</td>\n",
       "    </tr>\n",
       "    <tr>\n",
       "      <th>std</th>\n",
       "      <td>257.858537</td>\n",
       "      <td>0.487382</td>\n",
       "      <td>0.833526</td>\n",
       "      <td>14.585118</td>\n",
       "      <td>1.111477</td>\n",
       "      <td>0.812291</td>\n",
       "      <td>41.331513</td>\n",
       "      <td>1.625028</td>\n",
       "      <td>26.135055</td>\n",
       "      <td>0.496728</td>\n",
       "    </tr>\n",
       "    <tr>\n",
       "      <th>min</th>\n",
       "      <td>1.000000</td>\n",
       "      <td>0.000000</td>\n",
       "      <td>1.000000</td>\n",
       "      <td>0.420000</td>\n",
       "      <td>0.000000</td>\n",
       "      <td>0.000000</td>\n",
       "      <td>4.012500</td>\n",
       "      <td>0.000000</td>\n",
       "      <td>1.132143</td>\n",
       "      <td>1.000000</td>\n",
       "    </tr>\n",
       "    <tr>\n",
       "      <th>25%</th>\n",
       "      <td>220.000000</td>\n",
       "      <td>0.000000</td>\n",
       "      <td>2.000000</td>\n",
       "      <td>20.000000</td>\n",
       "      <td>0.000000</td>\n",
       "      <td>0.000000</td>\n",
       "      <td>7.925000</td>\n",
       "      <td>0.000000</td>\n",
       "      <td>7.520800</td>\n",
       "      <td>1.000000</td>\n",
       "    </tr>\n",
       "    <tr>\n",
       "      <th>50%</th>\n",
       "      <td>444.000000</td>\n",
       "      <td>0.000000</td>\n",
       "      <td>3.000000</td>\n",
       "      <td>28.000000</td>\n",
       "      <td>0.000000</td>\n",
       "      <td>0.000000</td>\n",
       "      <td>14.500000</td>\n",
       "      <td>0.000000</td>\n",
       "      <td>8.662500</td>\n",
       "      <td>1.000000</td>\n",
       "    </tr>\n",
       "    <tr>\n",
       "      <th>75%</th>\n",
       "      <td>666.000000</td>\n",
       "      <td>1.000000</td>\n",
       "      <td>3.000000</td>\n",
       "      <td>38.000000</td>\n",
       "      <td>1.000000</td>\n",
       "      <td>0.000000</td>\n",
       "      <td>31.275000</td>\n",
       "      <td>1.000000</td>\n",
       "      <td>24.150000</td>\n",
       "      <td>1.000000</td>\n",
       "    </tr>\n",
       "    <tr>\n",
       "      <th>max</th>\n",
       "      <td>891.000000</td>\n",
       "      <td>1.000000</td>\n",
       "      <td>3.000000</td>\n",
       "      <td>80.000000</td>\n",
       "      <td>8.000000</td>\n",
       "      <td>6.000000</td>\n",
       "      <td>263.000000</td>\n",
       "      <td>10.000000</td>\n",
       "      <td>227.525000</td>\n",
       "      <td>4.000000</td>\n",
       "    </tr>\n",
       "  </tbody>\n",
       "</table>\n",
       "</div>"
      ],
      "text/plain": [
       "       PassengerId    Survived  ...  FarePerPerson  Cabin_count\n",
       "count   873.000000  873.000000  ...     873.000000   199.000000\n",
       "mean    444.402062    0.387171  ...      18.859871     1.160804\n",
       "std     257.858537    0.487382  ...      26.135055     0.496728\n",
       "min       1.000000    0.000000  ...       1.132143     1.000000\n",
       "25%     220.000000    0.000000  ...       7.520800     1.000000\n",
       "50%     444.000000    0.000000  ...       8.662500     1.000000\n",
       "75%     666.000000    1.000000  ...      24.150000     1.000000\n",
       "max     891.000000    1.000000  ...     227.525000     4.000000\n",
       "\n",
       "[8 rows x 10 columns]"
      ]
     },
     "execution_count": 32,
     "metadata": {
      "tags": []
     },
     "output_type": "execute_result"
    }
   ],
   "source": [
    "# Checking the working of the above function\n",
    "df_tmp = clean_Fare(df_tmp)\n",
    "df_tmp.describe()"
   ]
  },
  {
   "cell_type": "code",
   "execution_count": null,
   "metadata": {
    "colab": {},
    "colab_type": "code",
    "id": "YKkbcaySBX4u"
   },
   "outputs": [],
   "source": [
    "# Creating a function to split the data into train and test dataset (by default test = 0.2 * train)\n",
    "def train_test(df, test_size = 0.2):\n",
    "  \"\"\"\n",
    "  Returns X_train, X_test, y_train, y_test\n",
    "  \"\"\"\n",
    "  from sklearn.model_selection import train_test_split\n",
    "  X = df.drop([\"Survived\"], axis = 1)\n",
    "  y = df.Survived\n",
    "  X_train, X_test, y_train, y_test = train_test_split(X, y, test_size = test_size)\n",
    "  print(f\"SHAPES >>> X_train: {X_train.shape}, X_val: {X_test.shape}, y_train: {y_train.shape}, y_val: {y_test.shape}\")\n",
    "  return X_train, X_test, y_train, y_test"
   ]
  },
  {
   "cell_type": "code",
   "execution_count": null,
   "metadata": {
    "colab": {
     "base_uri": "https://localhost:8080/",
     "height": 33
    },
    "colab_type": "code",
    "executionInfo": {
     "elapsed": 6776,
     "status": "ok",
     "timestamp": 1598183718325,
     "user": {
      "displayName": "Anshuman Singh",
      "photoUrl": "https://lh3.googleusercontent.com/a-/AOh14Gg5KGs2dfcnZCMe13webWRLHyD7D9R2Um3DTkd8Ug=s64",
      "userId": "00439360438599152891"
     },
     "user_tz": -330
    },
    "id": "bPJSssxYIm6g",
    "outputId": "4e81ee23-2950-4612-d2e2-40696e3f2aaf"
   },
   "outputs": [
    {
     "name": "stdout",
     "output_type": "stream",
     "text": [
      "SHAPES >>> X_train: (698, 16), X_val: (175, 16), y_train: (698,), y_val: (175,)\n"
     ]
    }
   ],
   "source": [
    "# Checking the working of the above function\n",
    "X_train, X_test, y_train, y_test = train_test(df_tmp, 0.2)"
   ]
  },
  {
   "cell_type": "code",
   "execution_count": null,
   "metadata": {
    "colab": {},
    "colab_type": "code",
    "id": "wZQJxCKsJ_w9"
   },
   "outputs": [],
   "source": [
    "# Creating function to (1) Impute Numerical Columns with NaN values with median \n",
    "# (2) Create separate columns (for columns with NaN values) indicating the rows where NaN values are present\n",
    "# (3) Convert object dtype columns to categorical columns\n",
    "# (4) Convert Categorical dtype Columns into Numerical Columns\n",
    "\n",
    "def convert_to_numeric(df):\n",
    "  to_categorical = []\n",
    "  for label, content in df.items():\n",
    "    if pd.api.types.is_numeric_dtype(content):\n",
    "      if df[label].isna().sum():\n",
    "        print(f\"{label} column is of numeric dtype and contains NaN values. Creating '{label}_is_missing' and imputing NaN values with median\")\n",
    "        df[label + \"_is_missing\"] = df[label].isna()\n",
    "        df[label].fillna(df[label].median(), inplace = True)\n",
    "      else:\n",
    "        pass\n",
    "    elif pd.api.types.is_string_dtype(content):\n",
    "      if df[label].isna().sum():\n",
    "        print(f\"{label} column is of object dtype and contains NaN values. Creating '{label}_is_missing' column\")\n",
    "        df[label + \"_is_missing\"] = df[label].isna()\n",
    "        df[label] = df[label].astype(\"category\").cat.as_ordered()\n",
    "        df[label] = pd.Categorical(df[label]).codes + 1\n",
    "        to_categorical.append(label)\n",
    "      else:\n",
    "        df[label] = df[label].astype(\"category\").cat.as_ordered()\n",
    "        df[label] = pd.Categorical(df[label]).codes + 1\n",
    "        to_categorical.append(label)\n",
    "    else:\n",
    "      pass\n",
    "  print(f\"The following columns have been converted from object to numeric dtype: {to_categorical}\")\n",
    "  return df"
   ]
  },
  {
   "cell_type": "code",
   "execution_count": null,
   "metadata": {
    "colab": {
     "base_uri": "https://localhost:8080/",
     "height": 602
    },
    "colab_type": "code",
    "executionInfo": {
     "elapsed": 6743,
     "status": "ok",
     "timestamp": 1598183718327,
     "user": {
      "displayName": "Anshuman Singh",
      "photoUrl": "https://lh3.googleusercontent.com/a-/AOh14Gg5KGs2dfcnZCMe13webWRLHyD7D9R2Um3DTkd8Ug=s64",
      "userId": "00439360438599152891"
     },
     "user_tz": -330
    },
    "id": "CQX4aIfeJ_kn",
    "outputId": "630db754-14e0-43e4-9dce-c0101b026ee5"
   },
   "outputs": [
    {
     "name": "stdout",
     "output_type": "stream",
     "text": [
      "Age column is of numeric dtype and contains NaN values. Creating 'Age_is_missing' and imputing NaN values with median\n",
      "Cabin column is of object dtype and contains NaN values. Creating 'Cabin_is_missing' column\n",
      "Embarked column is of object dtype and contains NaN values. Creating 'Embarked_is_missing' column\n",
      "Deck column is of object dtype and contains NaN values. Creating 'Deck_is_missing' column\n",
      "TicketPrefix column is of object dtype and contains NaN values. Creating 'TicketPrefix_is_missing' column\n",
      "Cabin_count column is of numeric dtype and contains NaN values. Creating 'Cabin_count_is_missing' and imputing NaN values with median\n",
      "The following columns have been converted from object to numeric dtype: ['Sex', 'Ticket', 'Cabin', 'Embarked', 'Title', 'Deck', 'TicketPrefix']\n",
      "<class 'pandas.core.frame.DataFrame'>\n",
      "Int64Index: 698 entries, 773 to 875\n",
      "Data columns (total 22 columns):\n",
      " #   Column                   Non-Null Count  Dtype  \n",
      "---  ------                   --------------  -----  \n",
      " 0   PassengerId              698 non-null    int64  \n",
      " 1   Pclass                   698 non-null    int64  \n",
      " 2   Sex                      698 non-null    int8   \n",
      " 3   Age                      698 non-null    float64\n",
      " 4   SibSp                    698 non-null    int64  \n",
      " 5   Parch                    698 non-null    int64  \n",
      " 6   Ticket                   698 non-null    int16  \n",
      " 7   Fare                     698 non-null    float64\n",
      " 8   Cabin                    698 non-null    int8   \n",
      " 9   Embarked                 698 non-null    int8   \n",
      " 10  Title                    698 non-null    int8   \n",
      " 11  Deck                     698 non-null    int8   \n",
      " 12  FamilySize               698 non-null    int64  \n",
      " 13  FarePerPerson            698 non-null    float64\n",
      " 14  TicketPrefix             698 non-null    int8   \n",
      " 15  Cabin_count              698 non-null    float64\n",
      " 16  Age_is_missing           698 non-null    bool   \n",
      " 17  Cabin_is_missing         698 non-null    bool   \n",
      " 18  Embarked_is_missing      698 non-null    bool   \n",
      " 19  Deck_is_missing          698 non-null    bool   \n",
      " 20  TicketPrefix_is_missing  698 non-null    bool   \n",
      " 21  Cabin_count_is_missing   698 non-null    bool   \n",
      "dtypes: bool(6), float64(4), int16(1), int64(5), int8(6)\n",
      "memory usage: 64.1 KB\n"
     ]
    }
   ],
   "source": [
    "# Checking the working of the above function\n",
    "X_train = convert_to_numeric(X_train)\n",
    "X_train.info()"
   ]
  },
  {
   "cell_type": "markdown",
   "metadata": {
    "colab_type": "text",
    "id": "Dtd9dyJYR1SR"
   },
   "source": [
    "The above function works as intended!!!\n",
    "Using the above function on X_test as well:"
   ]
  },
  {
   "cell_type": "code",
   "execution_count": null,
   "metadata": {
    "colab": {
     "base_uri": "https://localhost:8080/",
     "height": 115
    },
    "colab_type": "code",
    "executionInfo": {
     "elapsed": 6729,
     "status": "ok",
     "timestamp": 1598183718329,
     "user": {
      "displayName": "Anshuman Singh",
      "photoUrl": "https://lh3.googleusercontent.com/a-/AOh14Gg5KGs2dfcnZCMe13webWRLHyD7D9R2Um3DTkd8Ug=s64",
      "userId": "00439360438599152891"
     },
     "user_tz": -330
    },
    "id": "7Q3EtU-ISIWm",
    "outputId": "2f3bb40d-f6fb-4168-ac43-5a6cf16c4e66"
   },
   "outputs": [
    {
     "name": "stdout",
     "output_type": "stream",
     "text": [
      "Age column is of numeric dtype and contains NaN values. Creating 'Age_is_missing' and imputing NaN values with median\n",
      "Cabin column is of object dtype and contains NaN values. Creating 'Cabin_is_missing' column\n",
      "Deck column is of object dtype and contains NaN values. Creating 'Deck_is_missing' column\n",
      "TicketPrefix column is of object dtype and contains NaN values. Creating 'TicketPrefix_is_missing' column\n",
      "Cabin_count column is of numeric dtype and contains NaN values. Creating 'Cabin_count_is_missing' and imputing NaN values with median\n",
      "The following columns have been converted from object to numeric dtype: ['Sex', 'Ticket', 'Cabin', 'Embarked', 'Title', 'Deck', 'TicketPrefix']\n"
     ]
    }
   ],
   "source": [
    "X_test = convert_to_numeric(X_test)"
   ]
  },
  {
   "cell_type": "code",
   "execution_count": null,
   "metadata": {
    "colab": {
     "base_uri": "https://localhost:8080/",
     "height": 355
    },
    "colab_type": "code",
    "executionInfo": {
     "elapsed": 6717,
     "status": "ok",
     "timestamp": 1598183718332,
     "user": {
      "displayName": "Anshuman Singh",
      "photoUrl": "https://lh3.googleusercontent.com/a-/AOh14Gg5KGs2dfcnZCMe13webWRLHyD7D9R2Um3DTkd8Ug=s64",
      "userId": "00439360438599152891"
     },
     "user_tz": -330
    },
    "id": "PTwR1Z5ASjMV",
    "outputId": "22494c59-a6b3-4e86-dcf7-f6e2742c3634"
   },
   "outputs": [
    {
     "data": {
      "text/html": [
       "<div>\n",
       "<style scoped>\n",
       "    .dataframe tbody tr th:only-of-type {\n",
       "        vertical-align: middle;\n",
       "    }\n",
       "\n",
       "    .dataframe tbody tr th {\n",
       "        vertical-align: top;\n",
       "    }\n",
       "\n",
       "    .dataframe thead th {\n",
       "        text-align: right;\n",
       "    }\n",
       "</style>\n",
       "<table border=\"1\" class=\"dataframe\">\n",
       "  <thead>\n",
       "    <tr style=\"text-align: right;\">\n",
       "      <th></th>\n",
       "      <th>PassengerId</th>\n",
       "      <th>Pclass</th>\n",
       "      <th>Sex</th>\n",
       "      <th>Age</th>\n",
       "      <th>SibSp</th>\n",
       "      <th>Parch</th>\n",
       "      <th>Ticket</th>\n",
       "      <th>Fare</th>\n",
       "      <th>Cabin</th>\n",
       "      <th>Embarked</th>\n",
       "      <th>Title</th>\n",
       "      <th>Deck</th>\n",
       "      <th>FamilySize</th>\n",
       "      <th>FarePerPerson</th>\n",
       "      <th>TicketPrefix</th>\n",
       "      <th>Cabin_count</th>\n",
       "      <th>Age_is_missing</th>\n",
       "      <th>Cabin_is_missing</th>\n",
       "      <th>Embarked_is_missing</th>\n",
       "      <th>Deck_is_missing</th>\n",
       "      <th>TicketPrefix_is_missing</th>\n",
       "      <th>Cabin_count_is_missing</th>\n",
       "    </tr>\n",
       "  </thead>\n",
       "  <tbody>\n",
       "    <tr>\n",
       "      <th>773</th>\n",
       "      <td>774</td>\n",
       "      <td>3</td>\n",
       "      <td>2</td>\n",
       "      <td>28.0</td>\n",
       "      <td>0</td>\n",
       "      <td>0</td>\n",
       "      <td>155</td>\n",
       "      <td>7.2250</td>\n",
       "      <td>0</td>\n",
       "      <td>1</td>\n",
       "      <td>4</td>\n",
       "      <td>0</td>\n",
       "      <td>0</td>\n",
       "      <td>7.225000</td>\n",
       "      <td>0</td>\n",
       "      <td>1.0</td>\n",
       "      <td>True</td>\n",
       "      <td>True</td>\n",
       "      <td>False</td>\n",
       "      <td>True</td>\n",
       "      <td>True</td>\n",
       "      <td>True</td>\n",
       "    </tr>\n",
       "    <tr>\n",
       "      <th>246</th>\n",
       "      <td>247</td>\n",
       "      <td>3</td>\n",
       "      <td>1</td>\n",
       "      <td>25.0</td>\n",
       "      <td>0</td>\n",
       "      <td>0</td>\n",
       "      <td>257</td>\n",
       "      <td>7.7750</td>\n",
       "      <td>0</td>\n",
       "      <td>3</td>\n",
       "      <td>3</td>\n",
       "      <td>0</td>\n",
       "      <td>0</td>\n",
       "      <td>7.775000</td>\n",
       "      <td>0</td>\n",
       "      <td>1.0</td>\n",
       "      <td>False</td>\n",
       "      <td>True</td>\n",
       "      <td>False</td>\n",
       "      <td>True</td>\n",
       "      <td>True</td>\n",
       "      <td>True</td>\n",
       "    </tr>\n",
       "    <tr>\n",
       "      <th>210</th>\n",
       "      <td>211</td>\n",
       "      <td>3</td>\n",
       "      <td>2</td>\n",
       "      <td>24.0</td>\n",
       "      <td>0</td>\n",
       "      <td>0</td>\n",
       "      <td>519</td>\n",
       "      <td>7.0500</td>\n",
       "      <td>0</td>\n",
       "      <td>3</td>\n",
       "      <td>4</td>\n",
       "      <td>0</td>\n",
       "      <td>0</td>\n",
       "      <td>7.050000</td>\n",
       "      <td>6</td>\n",
       "      <td>1.0</td>\n",
       "      <td>False</td>\n",
       "      <td>True</td>\n",
       "      <td>False</td>\n",
       "      <td>True</td>\n",
       "      <td>False</td>\n",
       "      <td>True</td>\n",
       "    </tr>\n",
       "    <tr>\n",
       "      <th>744</th>\n",
       "      <td>745</td>\n",
       "      <td>3</td>\n",
       "      <td>2</td>\n",
       "      <td>31.0</td>\n",
       "      <td>0</td>\n",
       "      <td>0</td>\n",
       "      <td>536</td>\n",
       "      <td>7.9250</td>\n",
       "      <td>0</td>\n",
       "      <td>3</td>\n",
       "      <td>4</td>\n",
       "      <td>0</td>\n",
       "      <td>0</td>\n",
       "      <td>7.925000</td>\n",
       "      <td>6</td>\n",
       "      <td>1.0</td>\n",
       "      <td>False</td>\n",
       "      <td>True</td>\n",
       "      <td>False</td>\n",
       "      <td>True</td>\n",
       "      <td>False</td>\n",
       "      <td>True</td>\n",
       "    </tr>\n",
       "    <tr>\n",
       "      <th>13</th>\n",
       "      <td>14</td>\n",
       "      <td>3</td>\n",
       "      <td>2</td>\n",
       "      <td>39.0</td>\n",
       "      <td>1</td>\n",
       "      <td>5</td>\n",
       "      <td>263</td>\n",
       "      <td>31.2750</td>\n",
       "      <td>0</td>\n",
       "      <td>3</td>\n",
       "      <td>4</td>\n",
       "      <td>0</td>\n",
       "      <td>6</td>\n",
       "      <td>4.467857</td>\n",
       "      <td>0</td>\n",
       "      <td>1.0</td>\n",
       "      <td>False</td>\n",
       "      <td>True</td>\n",
       "      <td>False</td>\n",
       "      <td>True</td>\n",
       "      <td>True</td>\n",
       "      <td>True</td>\n",
       "    </tr>\n",
       "    <tr>\n",
       "      <th>883</th>\n",
       "      <td>884</td>\n",
       "      <td>2</td>\n",
       "      <td>2</td>\n",
       "      <td>28.0</td>\n",
       "      <td>0</td>\n",
       "      <td>0</td>\n",
       "      <td>459</td>\n",
       "      <td>10.5000</td>\n",
       "      <td>0</td>\n",
       "      <td>3</td>\n",
       "      <td>4</td>\n",
       "      <td>0</td>\n",
       "      <td>0</td>\n",
       "      <td>10.500000</td>\n",
       "      <td>6</td>\n",
       "      <td>1.0</td>\n",
       "      <td>False</td>\n",
       "      <td>True</td>\n",
       "      <td>False</td>\n",
       "      <td>True</td>\n",
       "      <td>False</td>\n",
       "      <td>True</td>\n",
       "    </tr>\n",
       "    <tr>\n",
       "      <th>412</th>\n",
       "      <td>413</td>\n",
       "      <td>1</td>\n",
       "      <td>1</td>\n",
       "      <td>33.0</td>\n",
       "      <td>1</td>\n",
       "      <td>0</td>\n",
       "      <td>64</td>\n",
       "      <td>90.0000</td>\n",
       "      <td>59</td>\n",
       "      <td>2</td>\n",
       "      <td>3</td>\n",
       "      <td>3</td>\n",
       "      <td>1</td>\n",
       "      <td>45.000000</td>\n",
       "      <td>0</td>\n",
       "      <td>1.0</td>\n",
       "      <td>False</td>\n",
       "      <td>False</td>\n",
       "      <td>False</td>\n",
       "      <td>False</td>\n",
       "      <td>True</td>\n",
       "      <td>False</td>\n",
       "    </tr>\n",
       "    <tr>\n",
       "      <th>186</th>\n",
       "      <td>187</td>\n",
       "      <td>3</td>\n",
       "      <td>1</td>\n",
       "      <td>28.0</td>\n",
       "      <td>1</td>\n",
       "      <td>0</td>\n",
       "      <td>369</td>\n",
       "      <td>15.5000</td>\n",
       "      <td>0</td>\n",
       "      <td>2</td>\n",
       "      <td>5</td>\n",
       "      <td>0</td>\n",
       "      <td>1</td>\n",
       "      <td>7.750000</td>\n",
       "      <td>0</td>\n",
       "      <td>1.0</td>\n",
       "      <td>True</td>\n",
       "      <td>True</td>\n",
       "      <td>False</td>\n",
       "      <td>True</td>\n",
       "      <td>True</td>\n",
       "      <td>True</td>\n",
       "    </tr>\n",
       "    <tr>\n",
       "      <th>44</th>\n",
       "      <td>45</td>\n",
       "      <td>3</td>\n",
       "      <td>1</td>\n",
       "      <td>19.0</td>\n",
       "      <td>0</td>\n",
       "      <td>0</td>\n",
       "      <td>218</td>\n",
       "      <td>7.8792</td>\n",
       "      <td>0</td>\n",
       "      <td>2</td>\n",
       "      <td>3</td>\n",
       "      <td>0</td>\n",
       "      <td>0</td>\n",
       "      <td>7.879200</td>\n",
       "      <td>0</td>\n",
       "      <td>1.0</td>\n",
       "      <td>False</td>\n",
       "      <td>True</td>\n",
       "      <td>False</td>\n",
       "      <td>True</td>\n",
       "      <td>True</td>\n",
       "      <td>True</td>\n",
       "    </tr>\n",
       "    <tr>\n",
       "      <th>646</th>\n",
       "      <td>647</td>\n",
       "      <td>3</td>\n",
       "      <td>2</td>\n",
       "      <td>19.0</td>\n",
       "      <td>0</td>\n",
       "      <td>0</td>\n",
       "      <td>296</td>\n",
       "      <td>7.8958</td>\n",
       "      <td>0</td>\n",
       "      <td>3</td>\n",
       "      <td>4</td>\n",
       "      <td>0</td>\n",
       "      <td>0</td>\n",
       "      <td>7.895800</td>\n",
       "      <td>0</td>\n",
       "      <td>1.0</td>\n",
       "      <td>False</td>\n",
       "      <td>True</td>\n",
       "      <td>False</td>\n",
       "      <td>True</td>\n",
       "      <td>True</td>\n",
       "      <td>True</td>\n",
       "    </tr>\n",
       "  </tbody>\n",
       "</table>\n",
       "</div>"
      ],
      "text/plain": [
       "     PassengerId  Pclass  ...  TicketPrefix_is_missing  Cabin_count_is_missing\n",
       "773          774       3  ...                     True                    True\n",
       "246          247       3  ...                     True                    True\n",
       "210          211       3  ...                    False                    True\n",
       "744          745       3  ...                    False                    True\n",
       "13            14       3  ...                     True                    True\n",
       "883          884       2  ...                    False                    True\n",
       "412          413       1  ...                     True                   False\n",
       "186          187       3  ...                     True                    True\n",
       "44            45       3  ...                     True                    True\n",
       "646          647       3  ...                     True                    True\n",
       "\n",
       "[10 rows x 22 columns]"
      ]
     },
     "execution_count": 38,
     "metadata": {
      "tags": []
     },
     "output_type": "execute_result"
    }
   ],
   "source": [
    "# Viewing X_train\n",
    "X_train.head(10)"
   ]
  },
  {
   "cell_type": "code",
   "execution_count": null,
   "metadata": {
    "colab": {},
    "colab_type": "code",
    "id": "U-eDjLvkUYMk"
   },
   "outputs": [],
   "source": [
    "# Let's combine all the above functions into a single function to process the training data\n",
    "def process_master(df, test_size = 0.2, test_database = False):\n",
    "  \"\"\"\n",
    "  This function takes a training/testing database, fully processes it and\n",
    "  reutrns a train + valid database (X_train, X_val, y_train, y_val) if training \n",
    "  database is input, otherwise returns test database if test database is input.\n",
    "\n",
    "  Check the columns of the train/test database for ensuring consistent number of columns!!\n",
    "  \"\"\"\n",
    "  if not test_database:\n",
    "    print(\"Creating training and validation databases...\")\n",
    "    df = Title_extract(df)\n",
    "    df = Deck(df)\n",
    "    df = FamilySize_FarePerPerson(df)\n",
    "    df = TicketPrefix(df)\n",
    "    df = Cabin_count(df)\n",
    "    df = clean_Fare(df)\n",
    "    X_train, X_val, y_train, y_val = train_test(df, test_size = test_size)\n",
    "    X_train = convert_to_numeric(X_train)\n",
    "    X_val = convert_to_numeric(X_val)\n",
    "    print(f\"Final SHAPES >>> X_train: {X_train.shape}, X_val: {X_val.shape}, y_train: {y_train.shape}, y_val: {y_val.shape}\")\n",
    "    return X_train, X_val, y_train, y_val\n",
    "  else:\n",
    "    print(\"Creating test database...\")\n",
    "    df = Title_extract(df)\n",
    "    df = Deck(df)\n",
    "    df = FamilySize_FarePerPerson(df)\n",
    "    df = TicketPrefix(df)\n",
    "    df = Cabin_count(df)\n",
    "    df = convert_to_numeric(df)\n",
    "    print(f\"Final SHAPE >>> X_test: {df.shape}\")\n",
    "    return df"
   ]
  },
  {
   "cell_type": "code",
   "execution_count": null,
   "metadata": {
    "colab": {
     "base_uri": "https://localhost:8080/",
     "height": 293
    },
    "colab_type": "code",
    "executionInfo": {
     "elapsed": 1164,
     "status": "ok",
     "timestamp": 1598188376840,
     "user": {
      "displayName": "Anshuman Singh",
      "photoUrl": "https://lh3.googleusercontent.com/a-/AOh14Gg5KGs2dfcnZCMe13webWRLHyD7D9R2Um3DTkd8Ug=s64",
      "userId": "00439360438599152891"
     },
     "user_tz": -330
    },
    "id": "P8tl6brYaKz8",
    "outputId": "ab9612c7-b414-4054-e2a9-0c75cc7a35c2"
   },
   "outputs": [
    {
     "name": "stdout",
     "output_type": "stream",
     "text": [
      "Creating training and validation databases...\n",
      "SHAPES >>> X_train: (698, 16), X_val: (175, 16), y_train: (698,), y_val: (175,)\n",
      "Age column is of numeric dtype and contains NaN values. Creating 'Age_is_missing' and imputing NaN values with median\n",
      "Cabin column is of object dtype and contains NaN values. Creating 'Cabin_is_missing' column\n",
      "Embarked column is of object dtype and contains NaN values. Creating 'Embarked_is_missing' column\n",
      "Deck column is of object dtype and contains NaN values. Creating 'Deck_is_missing' column\n",
      "TicketPrefix column is of object dtype and contains NaN values. Creating 'TicketPrefix_is_missing' column\n",
      "Cabin_count column is of numeric dtype and contains NaN values. Creating 'Cabin_count_is_missing' and imputing NaN values with median\n",
      "The following columns have been converted from object to numeric dtype: ['Sex', 'Ticket', 'Cabin', 'Embarked', 'Title', 'Deck', 'TicketPrefix']\n",
      "Age column is of numeric dtype and contains NaN values. Creating 'Age_is_missing' and imputing NaN values with median\n",
      "Cabin column is of object dtype and contains NaN values. Creating 'Cabin_is_missing' column\n",
      "Embarked column is of object dtype and contains NaN values. Creating 'Embarked_is_missing' column\n",
      "Deck column is of object dtype and contains NaN values. Creating 'Deck_is_missing' column\n",
      "TicketPrefix column is of object dtype and contains NaN values. Creating 'TicketPrefix_is_missing' column\n",
      "Cabin_count column is of numeric dtype and contains NaN values. Creating 'Cabin_count_is_missing' and imputing NaN values with median\n",
      "The following columns have been converted from object to numeric dtype: ['Sex', 'Ticket', 'Cabin', 'Embarked', 'Title', 'Deck', 'TicketPrefix']\n",
      "Final SHAPES >>> X_train: (698, 22), X_val: (175, 22), y_train: (698,), y_val: (175,)\n"
     ]
    }
   ],
   "source": [
    "#Checking the working of the above function for training database case\n",
    "X_train, X_val, y_train, y_val = process_master(df_train)"
   ]
  },
  {
   "cell_type": "code",
   "execution_count": null,
   "metadata": {
    "colab": {
     "base_uri": "https://localhost:8080/",
     "height": 180
    },
    "colab_type": "code",
    "executionInfo": {
     "elapsed": 1469,
     "status": "ok",
     "timestamp": 1598188284644,
     "user": {
      "displayName": "Anshuman Singh",
      "photoUrl": "https://lh3.googleusercontent.com/a-/AOh14Gg5KGs2dfcnZCMe13webWRLHyD7D9R2Um3DTkd8Ug=s64",
      "userId": "00439360438599152891"
     },
     "user_tz": -330
    },
    "id": "H1SDrauEa9jD",
    "outputId": "3f2e7693-9469-49e1-c034-17394391fe6a"
   },
   "outputs": [
    {
     "name": "stdout",
     "output_type": "stream",
     "text": [
      "Creating test database...\n",
      "Age column is of numeric dtype and contains NaN values. Creating 'Age_is_missing' and imputing NaN values with median\n",
      "Cabin column is of object dtype and contains NaN values. Creating 'Cabin_is_missing' column\n",
      "Embarked column is of object dtype and contains NaN values. Creating 'Embarked_is_missing' column\n",
      "Deck column is of object dtype and contains NaN values. Creating 'Deck_is_missing' column\n",
      "TicketPrefix column is of object dtype and contains NaN values. Creating 'TicketPrefix_is_missing' column\n",
      "Cabin_count column is of numeric dtype and contains NaN values. Creating 'Cabin_count_is_missing' and imputing NaN values with median\n",
      "The following columns have been converted from object to numeric dtype: ['Sex', 'Ticket', 'Cabin', 'Embarked', 'Title', 'Deck', 'TicketPrefix']\n",
      "Final SHAPE >>> X_test: (891, 22)\n"
     ]
    },
    {
     "data": {
      "text/plain": [
       "(891, 22)"
      ]
     },
     "execution_count": 95,
     "metadata": {
      "tags": []
     },
     "output_type": "execute_result"
    }
   ],
   "source": [
    "# Checking the working of the above function for test database case\n",
    "df_test = process_master(df_train.drop([\"Survived\"], axis = 1), test_database=True)\n",
    "df_test.shape"
   ]
  },
  {
   "cell_type": "markdown",
   "metadata": {
    "colab_type": "text",
    "id": "92MseEMPbYVF"
   },
   "source": [
    "So far, the function is working perfectly !!! "
   ]
  },
  {
   "cell_type": "markdown",
   "metadata": {
    "colab_type": "text",
    "id": "D9yL9FGqcwI8"
   },
   "source": [
    "# Feature Selection"
   ]
  },
  {
   "cell_type": "code",
   "execution_count": null,
   "metadata": {
    "colab": {
     "base_uri": "https://localhost:8080/",
     "height": 1000
    },
    "colab_type": "code",
    "executionInfo": {
     "elapsed": 9851,
     "status": "ok",
     "timestamp": 1598183721523,
     "user": {
      "displayName": "Anshuman Singh",
      "photoUrl": "https://lh3.googleusercontent.com/a-/AOh14Gg5KGs2dfcnZCMe13webWRLHyD7D9R2Um3DTkd8Ug=s64",
      "userId": "00439360438599152891"
     },
     "user_tz": -330
    },
    "id": "MufPN5H9cz5K",
    "outputId": "279bf20f-969e-4122-997e-0c2d3066d74c"
   },
   "outputs": [
    {
     "data": {
      "text/plain": [
       "<matplotlib.axes._subplots.AxesSubplot at 0x7f8589a96da0>"
      ]
     },
     "execution_count": 42,
     "metadata": {
      "tags": []
     },
     "output_type": "execute_result"
    },
    {
     "data": {
      "image/png": "[encoded data removed]",
      "text/plain": [
       "<Figure size 1440x1440 with 2 Axes>"
      ]
     },
     "metadata": {
      "needs_background": "light",
      "tags": []
     },
     "output_type": "display_data"
    }
   ],
   "source": [
    "# Let's check the correlation of the features\n",
    "plt.figure(figsize = (20,20))\n",
    "sns.heatmap(X_train.corr(),annot = True)"
   ]
  },
  {
   "cell_type": "markdown",
   "metadata": {
    "colab_type": "text",
    "id": "Ab56zpptS5Eb"
   },
   "source": [
    "We can see that there are a lot of features that are highly correlated with each other, (especially the missing columns related to cabin, deck and cabin_count and Fare). \n",
    "\n",
    "We should remove highly correlated features before using the data to build our model.\n",
    "\n",
    "We should also remove redundant columns, like the Ticket column, which don't provide any additional information."
   ]
  },
  {
   "cell_type": "code",
   "execution_count": null,
   "metadata": {
    "colab": {},
    "colab_type": "code",
    "id": "dwCSDxGkVgH5"
   },
   "outputs": [],
   "source": [
    "# Removing [\"PassengerId\", \"Ticket\", \"FamilySize\", \"FarePerPerson\", \"Cabin_is_missing\", \"Deck_is_missing\", \"TicketPrefix_is_missing\", \"Cabin_count_is_missing\"] columns\n",
    "X_train = X_train.drop(labels = [\"PassengerId\", \"Ticket\", \"FamilySize\", \"FarePerPerson\", \"Cabin_is_missing\", \"Deck_is_missing\", \"TicketPrefix_is_missing\", \"Cabin_count_is_missing\"],\n",
    "                       axis = 1)\n",
    "X_val = X_val.drop(labels = [\"PassengerId\", \"Ticket\", \"FamilySize\", \"FarePerPerson\", \"Cabin_is_missing\", \"Deck_is_missing\", \"TicketPrefix_is_missing\", \"Cabin_count_is_missing\"],\n",
    "                       axis = 1)"
   ]
  },
  {
   "cell_type": "code",
   "execution_count": null,
   "metadata": {
    "colab": {
     "base_uri": "https://localhost:8080/",
     "height": 980
    },
    "colab_type": "code",
    "executionInfo": {
     "elapsed": 9833,
     "status": "ok",
     "timestamp": 1598183721526,
     "user": {
      "displayName": "Anshuman Singh",
      "photoUrl": "https://lh3.googleusercontent.com/a-/AOh14Gg5KGs2dfcnZCMe13webWRLHyD7D9R2Um3DTkd8Ug=s64",
      "userId": "00439360438599152891"
     },
     "user_tz": -330
    },
    "id": "MK3OpRtYZmX8",
    "outputId": "b0cd8cc2-7901-4ab1-b4d6-fef245b3e057"
   },
   "outputs": [
    {
     "data": {
      "text/plain": [
       "<matplotlib.axes._subplots.AxesSubplot at 0x7f8590c53400>"
      ]
     },
     "execution_count": 44,
     "metadata": {
      "tags": []
     },
     "output_type": "execute_result"
    },
    {
     "data": {
      "image/png": "[encoded data removed]",
      "text/plain": [
       "<Figure size 1080x1080 with 2 Axes>"
      ]
     },
     "metadata": {
      "needs_background": "light",
      "tags": []
     },
     "output_type": "display_data"
    }
   ],
   "source": [
    "#Let's see the correlation matrix once again\n",
    "plt.figure(figsize = (15,15))\n",
    "sns.heatmap(X_train.corr(), annot = True)"
   ]
  },
  {
   "cell_type": "markdown",
   "metadata": {
    "colab_type": "text",
    "id": "fNsgcgSTciD6"
   },
   "source": [
    "# Building a Machine Learning Model"
   ]
  },
  {
   "cell_type": "markdown",
   "metadata": {
    "colab_type": "text",
    "id": "7yJoyHBoYDvE"
   },
   "source": [
    "Now that wee have our data ready, let's select a machine learning algorithm for our model."
   ]
  },
  {
   "cell_type": "markdown",
   "metadata": {
    "colab_type": "text",
    "id": "ZnjbWHlcY1w6"
   },
   "source": [
    "Let's see the performance of Random Forest Classifier, Logistic Regression, K Neighbors Classifier and SVM and Linear SVM. Then we'll select one which performs the best."
   ]
  },
  {
   "cell_type": "code",
   "execution_count": 170,
   "metadata": {
    "colab": {},
    "colab_type": "code",
    "executionInfo": {
     "elapsed": 1322,
     "status": "ok",
     "timestamp": 1598194029246,
     "user": {
      "displayName": "Anshuman Singh",
      "photoUrl": "https://lh3.googleusercontent.com/a-/AOh14Gg5KGs2dfcnZCMe13webWRLHyD7D9R2Um3DTkd8Ug=s64",
      "userId": "00439360438599152891"
     },
     "user_tz": -330
    },
    "id": "EsxGug7aBX9k"
   },
   "outputs": [],
   "source": [
    "from sklearn.ensemble import RandomForestClassifier\n",
    "from sklearn.linear_model import LogisticRegression\n",
    "from sklearn.neighbors import KNeighborsClassifier\n",
    "from sklearn import svm"
   ]
  },
  {
   "cell_type": "code",
   "execution_count": null,
   "metadata": {
    "colab": {
     "base_uri": "https://localhost:8080/",
     "height": 141
    },
    "colab_type": "code",
    "executionInfo": {
     "elapsed": 5454,
     "status": "ok",
     "timestamp": 1598087590086,
     "user": {
      "displayName": "Anshuman Singh",
      "photoUrl": "https://lh3.googleusercontent.com/a-/AOh14Gg5KGs2dfcnZCMe13webWRLHyD7D9R2Um3DTkd8Ug=s64",
      "userId": "00439360438599152891"
     },
     "user_tz": -330
    },
    "id": "SoWrFtHVBX9m",
    "outputId": "5ac784de-c878-4052-bd76-7d8c2a7e69b3"
   },
   "outputs": [
    {
     "name": "stderr",
     "output_type": "stream",
     "text": [
      "/usr/local/lib/python3.6/dist-packages/sklearn/svm/_base.py:947: ConvergenceWarning: Liblinear failed to converge, increase the number of iterations.\n",
      "  \"the number of iterations.\", ConvergenceWarning)\n"
     ]
    },
    {
     "data": {
      "text/plain": [
       "{'KNN': 0.68,\n",
       " 'LinearSVC': 0.7714285714285715,\n",
       " 'LogisticRegression': 0.7771428571428571,\n",
       " 'RandomForestClassifier': 0.7885714285714286,\n",
       " 'SVC': 0.6742857142857143}"
      ]
     },
     "execution_count": 124,
     "metadata": {
      "tags": []
     },
     "output_type": "execute_result"
    }
   ],
   "source": [
    "scores = {}\n",
    "models = {\"RandomForestClassifier\": RandomForestClassifier(),\n",
    "         \"LogisticRegression\": LogisticRegression(max_iter = 10000),\n",
    "         \"KNN\": KNeighborsClassifier(),\n",
    "         \"SVC\": svm.SVC(),\n",
    "         \"LinearSVC\": svm.LinearSVC(max_iter = 100000)}\n",
    "for name, model in models.items():\n",
    "    model.fit(X_train, y_train)\n",
    "    scores[name] = model.score(X_val, y_val)\n",
    "scores"
   ]
  },
  {
   "cell_type": "markdown",
   "metadata": {
    "colab_type": "text",
    "id": "C6MXZDXWq5-o"
   },
   "source": [
    "We can see that Random Forest Classifier has performed the best. So, Let's first try building a model using Random Forest!"
   ]
  },
  {
   "cell_type": "markdown",
   "metadata": {
    "colab_type": "text",
    "id": "mlxunXEsrCrt"
   },
   "source": [
    "## Random Forest Classifier"
   ]
  },
  {
   "cell_type": "markdown",
   "metadata": {
    "colab_type": "text",
    "id": "G0SyHJ1HbFBs"
   },
   "source": [
    "### Feature Importance\n",
    "\n",
    "Let's see the Feature  Importance for the Random Forest Classifier Model"
   ]
  },
  {
   "cell_type": "code",
   "execution_count": 171,
   "metadata": {
    "colab": {},
    "colab_type": "code",
    "executionInfo": {
     "elapsed": 1450,
     "status": "ok",
     "timestamp": 1598194063878,
     "user": {
      "displayName": "Anshuman Singh",
      "photoUrl": "https://lh3.googleusercontent.com/a-/AOh14Gg5KGs2dfcnZCMe13webWRLHyD7D9R2Um3DTkd8Ug=s64",
      "userId": "00439360438599152891"
     },
     "user_tz": -330
    },
    "id": "qTp4P2zVBX9r"
   },
   "outputs": [],
   "source": [
    "# Creating a function for plotting Feature Importance\n",
    "def plot_feat_imp(columns, importance):\n",
    "    \"\"\"\n",
    "    Plot the feature importance for an ensemble estimator\n",
    "    \"\"\"\n",
    "    df = pd.DataFrame(data = {\"Feature_importance\": importance}, index = columns)\n",
    "    df.sort_values(\"Feature_importance\", inplace = True)\n",
    "    df.plot.barh()\n",
    "#     plt.xticks(rotation = 'verticle')"
   ]
  },
  {
   "cell_type": "code",
   "execution_count": 172,
   "metadata": {
    "colab": {
     "base_uri": "https://localhost:8080/",
     "height": 265
    },
    "colab_type": "code",
    "executionInfo": {
     "elapsed": 2064,
     "status": "ok",
     "timestamp": 1598194064863,
     "user": {
      "displayName": "Anshuman Singh",
      "photoUrl": "https://lh3.googleusercontent.com/a-/AOh14Gg5KGs2dfcnZCMe13webWRLHyD7D9R2Um3DTkd8Ug=s64",
      "userId": "00439360438599152891"
     },
     "user_tz": -330
    },
    "id": "UktJPZ3TBX9s",
    "outputId": "c043f431-99b7-4453-8f2f-7fddcecd2d26"
   },
   "outputs": [
    {
     "data": {
      "image/png": "[encoded data removed]",
      "text/plain": [
       "<Figure size 432x288 with 1 Axes>"
      ]
     },
     "metadata": {
      "needs_background": "light",
      "tags": []
     },
     "output_type": "display_data"
    }
   ],
   "source": [
    "# Checking Feature  Importance\n",
    "rfc = RandomForestClassifier()\n",
    "rfc.fit(X_train, y_train)\n",
    "plot_feat_imp(X_train.columns, rfc.feature_importances_)"
   ]
  },
  {
   "cell_type": "markdown",
   "metadata": {
    "colab_type": "text",
    "id": "XeKfC4Iocl_U"
   },
   "source": [
    "Therefore, the most important features are Sex, Age and Fare. That looks promising..."
   ]
  },
  {
   "cell_type": "markdown",
   "metadata": {
    "colab_type": "text",
    "id": "_mbxwpysdAuo"
   },
   "source": [
    "### Hyper-parameter Tuning"
   ]
  },
  {
   "cell_type": "markdown",
   "metadata": {
    "colab_type": "text",
    "id": "gnJNPh2GdJRp"
   },
   "source": [
    "#### Randomized Search"
   ]
  },
  {
   "cell_type": "markdown",
   "metadata": {
    "colab_type": "text",
    "id": "4PeWvOKrBX9v"
   },
   "source": [
    "Let's use Randomized Search for finding a suitable range of hyper parameters which we can fine tune later using Grid Search. "
   ]
  },
  {
   "cell_type": "code",
   "execution_count": null,
   "metadata": {
    "colab": {},
    "colab_type": "code",
    "id": "IqgjrQSuBX9y"
   },
   "outputs": [],
   "source": [
    "# Building a grid of parameters for Randomized Search\n",
    "rfc_randgrid = {'bootstrap': [True, False],\n",
    " 'max_depth': [10, 20, 30, 40, 50, 60, 70, 80, 90, 100, None],\n",
    " 'max_features': ['auto', 'sqrt'],\n",
    " 'min_samples_leaf': [1, 2, 4],\n",
    " 'min_samples_split': [2, 5, 10],\n",
    " 'n_estimators': [200, 400, 600, 800, 1000, 1200, 1400, 1600, 1800, 2000]}"
   ]
  },
  {
   "cell_type": "code",
   "execution_count": null,
   "metadata": {
    "colab": {
     "base_uri": "https://localhost:8080/",
     "height": 603
    },
    "colab_type": "code",
    "executionInfo": {
     "elapsed": 409682,
     "status": "ok",
     "timestamp": 1598088636161,
     "user": {
      "displayName": "Anshuman Singh",
      "photoUrl": "https://lh3.googleusercontent.com/a-/AOh14Gg5KGs2dfcnZCMe13webWRLHyD7D9R2Um3DTkd8Ug=s64",
      "userId": "00439360438599152891"
     },
     "user_tz": -330
    },
    "id": "QR5tzInmBX92",
    "outputId": "d204d07e-51d1-4bbb-e7a4-c2760e28ee3d"
   },
   "outputs": [
    {
     "name": "stdout",
     "output_type": "stream",
     "text": [
      "Fitting 3 folds for each of 100 candidates, totalling 300 fits\n"
     ]
    },
    {
     "name": "stderr",
     "output_type": "stream",
     "text": [
      "[Parallel(n_jobs=-1)]: Using backend LokyBackend with 2 concurrent workers.\n",
      "[Parallel(n_jobs=-1)]: Done  46 tasks      | elapsed:  1.1min\n",
      "[Parallel(n_jobs=-1)]: Done 196 tasks      | elapsed:  4.9min\n",
      "[Parallel(n_jobs=-1)]: Done 300 out of 300 | elapsed:  6.8min finished\n"
     ]
    },
    {
     "data": {
      "text/plain": [
       "RandomizedSearchCV(cv=3, error_score=nan,\n",
       "                   estimator=RandomForestClassifier(bootstrap=True,\n",
       "                                                    ccp_alpha=0.0,\n",
       "                                                    class_weight=None,\n",
       "                                                    criterion='gini',\n",
       "                                                    max_depth=None,\n",
       "                                                    max_features='auto',\n",
       "                                                    max_leaf_nodes=None,\n",
       "                                                    max_samples=None,\n",
       "                                                    min_impurity_decrease=0.0,\n",
       "                                                    min_impurity_split=None,\n",
       "                                                    min_samples_leaf=1,\n",
       "                                                    min_samples_split=2,\n",
       "                                                    min_weight_fraction_leaf=0.0,\n",
       "                                                    n_estimators=100,\n",
       "                                                    n_jobs...\n",
       "                   iid='deprecated', n_iter=100, n_jobs=-1,\n",
       "                   param_distributions={'bootstrap': [True, False],\n",
       "                                        'max_depth': [10, 20, 30, 40, 50, 60,\n",
       "                                                      70, 80, 90, 100, None],\n",
       "                                        'max_features': ['auto', 'sqrt'],\n",
       "                                        'min_samples_leaf': [1, 2, 4],\n",
       "                                        'min_samples_split': [2, 5, 10],\n",
       "                                        'n_estimators': [200, 400, 600, 800,\n",
       "                                                         1000, 1200, 1400, 1600,\n",
       "                                                         1800, 2000]},\n",
       "                   pre_dispatch='2*n_jobs', random_state=23, refit=True,\n",
       "                   return_train_score=False, scoring=None, verbose=1)"
      ]
     },
     "execution_count": 129,
     "metadata": {
      "tags": []
     },
     "output_type": "execute_result"
    }
   ],
   "source": [
    "# Running Randomized Search\n",
    "from sklearn.model_selection import  RandomizedSearchCV\n",
    "rfc_rand = RandomizedSearchCV(RandomForestClassifier(), param_distributions = rfc_randgrid, n_iter = 100, n_jobs = -1, cv = 3, verbose = 1, random_state = 23)\n",
    "rfc_rand.fit(X_train, y_train)"
   ]
  },
  {
   "cell_type": "code",
   "execution_count": null,
   "metadata": {
    "colab": {
     "base_uri": "https://localhost:8080/",
     "height": 34
    },
    "colab_type": "code",
    "executionInfo": {
     "elapsed": 1554,
     "status": "ok",
     "timestamp": 1598088637754,
     "user": {
      "displayName": "Anshuman Singh",
      "photoUrl": "https://lh3.googleusercontent.com/a-/AOh14Gg5KGs2dfcnZCMe13webWRLHyD7D9R2Um3DTkd8Ug=s64",
      "userId": "00439360438599152891"
     },
     "user_tz": -330
    },
    "id": "9Gdy3F5ZBX94",
    "outputId": "28182f18-1b95-45c6-8a90-2b74cde27268"
   },
   "outputs": [
    {
     "data": {
      "text/plain": [
       "0.7885714285714286"
      ]
     },
     "execution_count": 130,
     "metadata": {
      "tags": []
     },
     "output_type": "execute_result"
    }
   ],
   "source": [
    "# Scoring the best model from Randomized Search on Validation set\n",
    "rfc_rand.score(X_val, y_val)"
   ]
  },
  {
   "cell_type": "code",
   "execution_count": null,
   "metadata": {
    "colab": {
     "base_uri": "https://localhost:8080/",
     "height": 123
    },
    "colab_type": "code",
    "executionInfo": {
     "elapsed": 1531,
     "status": "ok",
     "timestamp": 1598088637759,
     "user": {
      "displayName": "Anshuman Singh",
      "photoUrl": "https://lh3.googleusercontent.com/a-/AOh14Gg5KGs2dfcnZCMe13webWRLHyD7D9R2Um3DTkd8Ug=s64",
      "userId": "00439360438599152891"
     },
     "user_tz": -330
    },
    "id": "NZREq8zSBX96",
    "outputId": "030f359f-8826-4a61-d599-bd036148be3e"
   },
   "outputs": [
    {
     "data": {
      "text/plain": [
       "{'bootstrap': False,\n",
       " 'max_depth': 10,\n",
       " 'max_features': 'sqrt',\n",
       " 'min_samples_leaf': 1,\n",
       " 'min_samples_split': 10,\n",
       " 'n_estimators': 1000}"
      ]
     },
     "execution_count": 131,
     "metadata": {
      "tags": []
     },
     "output_type": "execute_result"
    }
   ],
   "source": [
    "# Obtaining the best set of parameters from Randomized Search for fine tuning using Grid Search\n",
    "rfc_rand.best_params_"
   ]
  },
  {
   "cell_type": "markdown",
   "metadata": {
    "colab_type": "text",
    "id": "ukRqRFu2eFFI"
   },
   "source": [
    "#### Grid Search"
   ]
  },
  {
   "cell_type": "code",
   "execution_count": null,
   "metadata": {
    "colab": {},
    "colab_type": "code",
    "id": "XRAFMWuOgxda"
   },
   "outputs": [],
   "source": [
    "# # Building a grid of parameters for Randomized Search\n",
    "# rfc_randgrid = {'bootstrap': [True, False],\n",
    "#  'max_depth': [10, 20, 30, 40, 50, 60, 70, 80, 90, 100, None],\n",
    "#  'max_features': ['auto', 'sqrt'],\n",
    "#  'min_samples_leaf': [1, 2, 4],\n",
    "#  'min_samples_split': [2, 5, 10],\n",
    "#  'n_estimators': [200, 400, 600, 800, 1000, 1200, 1400, 1600, 1800, 2000]}"
   ]
  },
  {
   "cell_type": "code",
   "execution_count": null,
   "metadata": {
    "colab": {},
    "colab_type": "code",
    "id": "EkWREdUGBX98"
   },
   "outputs": [],
   "source": [
    "# Grid of hyper parameters for Grid Search\n",
    "rfc_grid = {'bootstrap': [False],\n",
    " 'max_depth': [5, 10, 15, 20],\n",
    " 'max_features': ['sqrt'],\n",
    " 'min_samples_leaf': [1, 2],\n",
    " 'min_samples_split': [8, 10, 12],\n",
    " 'n_estimators': [900, 1000, 1100, 1200]}"
   ]
  },
  {
   "cell_type": "code",
   "execution_count": null,
   "metadata": {
    "colab": {
     "base_uri": "https://localhost:8080/",
     "height": 514
    },
    "colab_type": "code",
    "executionInfo": {
     "elapsed": 330589,
     "status": "ok",
     "timestamp": 1598089213729,
     "user": {
      "displayName": "Anshuman Singh",
      "photoUrl": "https://lh3.googleusercontent.com/a-/AOh14Gg5KGs2dfcnZCMe13webWRLHyD7D9R2Um3DTkd8Ug=s64",
      "userId": "00439360438599152891"
     },
     "user_tz": -330
    },
    "id": "PlX1RGghBX-A",
    "outputId": "1b9cc525-e06c-4140-cd3b-9641bccdbeaf"
   },
   "outputs": [
    {
     "name": "stdout",
     "output_type": "stream",
     "text": [
      "Fitting 3 folds for each of 96 candidates, totalling 288 fits\n"
     ]
    },
    {
     "name": "stderr",
     "output_type": "stream",
     "text": [
      "[Parallel(n_jobs=-1)]: Using backend LokyBackend with 2 concurrent workers.\n",
      "[Parallel(n_jobs=-1)]: Done  46 tasks      | elapsed:   48.2s\n",
      "[Parallel(n_jobs=-1)]: Done 196 tasks      | elapsed:  3.6min\n",
      "[Parallel(n_jobs=-1)]: Done 288 out of 288 | elapsed:  5.4min finished\n"
     ]
    },
    {
     "data": {
      "text/plain": [
       "GridSearchCV(cv=3, error_score=nan,\n",
       "             estimator=RandomForestClassifier(bootstrap=True, ccp_alpha=0.0,\n",
       "                                              class_weight=None,\n",
       "                                              criterion='gini', max_depth=None,\n",
       "                                              max_features='auto',\n",
       "                                              max_leaf_nodes=None,\n",
       "                                              max_samples=None,\n",
       "                                              min_impurity_decrease=0.0,\n",
       "                                              min_impurity_split=None,\n",
       "                                              min_samples_leaf=1,\n",
       "                                              min_samples_split=2,\n",
       "                                              min_weight_fraction_leaf=0.0,\n",
       "                                              n_estimators=100, n_jobs=None,\n",
       "                                              oob_score=False,\n",
       "                                              random_state=None, verbose=0,\n",
       "                                              warm_start=False),\n",
       "             iid='deprecated', n_jobs=-1,\n",
       "             param_grid={'bootstrap': [False], 'max_depth': [5, 10, 15, 20],\n",
       "                         'max_features': ['sqrt'], 'min_samples_leaf': [1, 2],\n",
       "                         'min_samples_split': [8, 10, 12],\n",
       "                         'n_estimators': [900, 1000, 1100, 1200]},\n",
       "             pre_dispatch='2*n_jobs', refit=True, return_train_score=False,\n",
       "             scoring=None, verbose=1)"
      ]
     },
     "execution_count": 135,
     "metadata": {
      "tags": []
     },
     "output_type": "execute_result"
    }
   ],
   "source": [
    "# Running Grid Search\n",
    "from sklearn.model_selection import GridSearchCV\n",
    "rfc_gridsearch = GridSearchCV(estimator = RandomForestClassifier(), param_grid = rfc_grid, cv = 3, n_jobs = -1, verbose = 1)\n",
    "rfc_gridsearch.fit(X_train, y_train)"
   ]
  },
  {
   "cell_type": "code",
   "execution_count": null,
   "metadata": {
    "colab": {
     "base_uri": "https://localhost:8080/",
     "height": 34
    },
    "colab_type": "code",
    "executionInfo": {
     "elapsed": 330099,
     "status": "ok",
     "timestamp": 1598089213737,
     "user": {
      "displayName": "Anshuman Singh",
      "photoUrl": "https://lh3.googleusercontent.com/a-/AOh14Gg5KGs2dfcnZCMe13webWRLHyD7D9R2Um3DTkd8Ug=s64",
      "userId": "00439360438599152891"
     },
     "user_tz": -330
    },
    "id": "rN8fCNdeBX-D",
    "outputId": "e8f52c9f-3ff4-47a6-b37d-25cd08bde644"
   },
   "outputs": [
    {
     "data": {
      "text/plain": [
       "0.7885714285714286"
      ]
     },
     "execution_count": 136,
     "metadata": {
      "tags": []
     },
     "output_type": "execute_result"
    }
   ],
   "source": [
    "# The score of the best set of hyperparameters on the validation model\n",
    "rfc_gridsearch.score(X_val, y_val)"
   ]
  },
  {
   "cell_type": "code",
   "execution_count": null,
   "metadata": {
    "colab": {
     "base_uri": "https://localhost:8080/",
     "height": 123
    },
    "colab_type": "code",
    "executionInfo": {
     "elapsed": 329394,
     "status": "ok",
     "timestamp": 1598089213739,
     "user": {
      "displayName": "Anshuman Singh",
      "photoUrl": "https://lh3.googleusercontent.com/a-/AOh14Gg5KGs2dfcnZCMe13webWRLHyD7D9R2Um3DTkd8Ug=s64",
      "userId": "00439360438599152891"
     },
     "user_tz": -330
    },
    "id": "VCCbIQUcBX-G",
    "outputId": "72706bde-fb65-44c4-bd1c-75feb2fa9723"
   },
   "outputs": [
    {
     "data": {
      "text/plain": [
       "{'bootstrap': False,\n",
       " 'max_depth': 10,\n",
       " 'max_features': 'sqrt',\n",
       " 'min_samples_leaf': 1,\n",
       " 'min_samples_split': 10,\n",
       " 'n_estimators': 1000}"
      ]
     },
     "execution_count": 137,
     "metadata": {
      "tags": []
     },
     "output_type": "execute_result"
    }
   ],
   "source": [
    "# Obtaining the best set of hyperparameters from Grid Search\n",
    "rfc_gridsearch.best_params_"
   ]
  },
  {
   "cell_type": "markdown",
   "metadata": {
    "colab_type": "text",
    "id": "ItQPvRDbBX-H"
   },
   "source": [
    "Now, lets use the above hyperparameters and fit the Random Forest Classifier on the whole training dataset"
   ]
  },
  {
   "cell_type": "code",
   "execution_count": null,
   "metadata": {
    "colab": {
     "base_uri": "https://localhost:8080/",
     "height": 34
    },
    "colab_type": "code",
    "executionInfo": {
     "elapsed": 1905,
     "status": "ok",
     "timestamp": 1598090031246,
     "user": {
      "displayName": "Anshuman Singh",
      "photoUrl": "https://lh3.googleusercontent.com/a-/AOh14Gg5KGs2dfcnZCMe13webWRLHyD7D9R2Um3DTkd8Ug=s64",
      "userId": "00439360438599152891"
     },
     "user_tz": -330
    },
    "id": "DehzYJ-XfdGE",
    "outputId": "6a8c3f61-ddef-4ced-bd82-dddb2f5c0e54"
   },
   "outputs": [
    {
     "data": {
      "text/plain": [
       "((873, 14), (873,))"
      ]
     },
     "execution_count": 141,
     "metadata": {
      "tags": []
     },
     "output_type": "execute_result"
    }
   ],
   "source": [
    "# Combining the train and validation datasets\n",
    "X_train_combined = pd.concat([X_train, X_val], axis = 0)\n",
    "y_train_combined = pd.concat([y_train, y_test], axis = 0)\n",
    "X_train_combined.shape, y_train_combined.shape"
   ]
  },
  {
   "cell_type": "code",
   "execution_count": 173,
   "metadata": {
    "colab": {},
    "colab_type": "code",
    "executionInfo": {
     "elapsed": 1328,
     "status": "ok",
     "timestamp": 1598194084906,
     "user": {
      "displayName": "Anshuman Singh",
      "photoUrl": "https://lh3.googleusercontent.com/a-/AOh14Gg5KGs2dfcnZCMe13webWRLHyD7D9R2Um3DTkd8Ug=s64",
      "userId": "00439360438599152891"
     },
     "user_tz": -330
    },
    "id": "WPfbKkg1BX-J"
   },
   "outputs": [],
   "source": [
    "# Fitting RandomForestClassifier estimator with the best hyperparameters obtained from GridSearchCV\n",
    "rfc = RandomForestClassifier(bootstrap = False,\n",
    "                             max_depth = 10,\n",
    "                             max_features = 'sqrt',\n",
    "                             min_samples_leaf = 1,\n",
    "                             min_samples_split = 10,\n",
    "                             n_estimators = 1000)\n",
    "rfc.fit(X_train_combined, y_train_combined)\n",
    "rfc.score(X_train_combined, y_train_combined)"
   ]
  },
  {
   "cell_type": "markdown",
   "metadata": {
    "colab_type": "text",
    "id": "muFZsO5FrTMy"
   },
   "source": [
    "### Preparing the test DataSet"
   ]
  },
  {
   "cell_type": "code",
   "execution_count": null,
   "metadata": {
    "colab": {
     "base_uri": "https://localhost:8080/",
     "height": 214
    },
    "colab_type": "code",
    "executionInfo": {
     "elapsed": 1310,
     "status": "ok",
     "timestamp": 1598090930067,
     "user": {
      "displayName": "Anshuman Singh",
      "photoUrl": "https://lh3.googleusercontent.com/a-/AOh14Gg5KGs2dfcnZCMe13webWRLHyD7D9R2Um3DTkd8Ug=s64",
      "userId": "00439360438599152891"
     },
     "user_tz": -330
    },
    "id": "7LMu_builxmy",
    "outputId": "c875f2f5-64e6-4672-a58f-a846366f4481"
   },
   "outputs": [
    {
     "name": "stdout",
     "output_type": "stream",
     "text": [
      "Creating test database...\n",
      "Age column is of numeric dtype and contains NaN values. Creating 'Age_is_missing' and imputing NaN values with median\n",
      "Fare column is of numeric dtype and contains NaN values. Creating 'Fare_is_missing' and imputing NaN values with median\n",
      "Cabin column is of object dtype and contains NaN values. Creating 'Cabin_is_missing' column\n",
      "Deck column is of object dtype and contains NaN values. Creating 'Deck_is_missing' column\n",
      "FarePerPerson column is of numeric dtype and contains NaN values. Creating 'FarePerPerson_is_missing' and imputing NaN values with median\n",
      "TicketPrefix column is of object dtype and contains NaN values. Creating 'TicketPrefix_is_missing' column\n",
      "Cabin_count column is of numeric dtype and contains NaN values. Creating 'Cabin_count_is_missing' and imputing NaN values with median\n",
      "The following columns have been converted from object to numeric dtype: ['Sex', 'Ticket', 'Cabin', 'Embarked', 'Title', 'Deck', 'TicketPrefix']\n",
      "Final SHAPE >>> X_test: (418, 23)\n"
     ]
    }
   ],
   "source": [
    "# Preparing the test dataset for prediction\n",
    "df_test = pd.read_csv(\"/content/drive/My Drive/Google_Colab/titanic_kaggle/original_files/test.csv\")\n",
    "df_test = process_master(df_test, test_database=True)\n",
    "df_test_PassengerId = df_test.PassengerId #Saving the PassengerId column for later use\n",
    "df_test = df_test.drop(labels = [\"PassengerId\", \"Ticket\", \"FamilySize\", \"FarePerPerson\", \"Cabin_is_missing\", \"Deck_is_missing\", \"TicketPrefix_is_missing\", \"Cabin_count_is_missing\"],\n",
    "                       axis = 1)"
   ]
  },
  {
   "cell_type": "code",
   "execution_count": null,
   "metadata": {
    "colab": {
     "base_uri": "https://localhost:8080/",
     "height": 34
    },
    "colab_type": "code",
    "executionInfo": {
     "elapsed": 839,
     "status": "ok",
     "timestamp": 1598090931707,
     "user": {
      "displayName": "Anshuman Singh",
      "photoUrl": "https://lh3.googleusercontent.com/a-/AOh14Gg5KGs2dfcnZCMe13webWRLHyD7D9R2Um3DTkd8Ug=s64",
      "userId": "00439360438599152891"
     },
     "user_tz": -330
    },
    "id": "8Hjdq_aLBX-K",
    "outputId": "7ace7666-fec8-4fb6-bfc7-454024dcf90f"
   },
   "outputs": [
    {
     "data": {
      "text/plain": [
       "{'FarePerPerson_is_missing', 'Fare_is_missing'}"
      ]
     },
     "execution_count": 165,
     "metadata": {
      "tags": []
     },
     "output_type": "execute_result"
    }
   ],
   "source": [
    "# Checking columns consistency between training and test dataset\n",
    "set(df_test.columns) - set(X_train_combined.columns)"
   ]
  },
  {
   "cell_type": "code",
   "execution_count": null,
   "metadata": {
    "colab": {
     "base_uri": "https://localhost:8080/",
     "height": 34
    },
    "colab_type": "code",
    "executionInfo": {
     "elapsed": 1669,
     "status": "ok",
     "timestamp": 1598090933140,
     "user": {
      "displayName": "Anshuman Singh",
      "photoUrl": "https://lh3.googleusercontent.com/a-/AOh14Gg5KGs2dfcnZCMe13webWRLHyD7D9R2Um3DTkd8Ug=s64",
      "userId": "00439360438599152891"
     },
     "user_tz": -330
    },
    "id": "JI7BjtUWnWjb",
    "outputId": "86e9553e-0a60-490f-94ad-d4abaea23c81"
   },
   "outputs": [
    {
     "data": {
      "text/plain": [
       "set()"
      ]
     },
     "execution_count": 166,
     "metadata": {
      "tags": []
     },
     "output_type": "execute_result"
    }
   ],
   "source": [
    "# Solving column consistency\n",
    "df_test = df_test.drop([\"FarePerPerson_is_missing\", \"Fare_is_missing\"], axis = 1)\n",
    "set(df_test.columns) - set(X_train_combined.columns)"
   ]
  },
  {
   "cell_type": "code",
   "execution_count": null,
   "metadata": {
    "colab": {
     "base_uri": "https://localhost:8080/",
     "height": 34
    },
    "colab_type": "code",
    "executionInfo": {
     "elapsed": 2452,
     "status": "ok",
     "timestamp": 1598090934387,
     "user": {
      "displayName": "Anshuman Singh",
      "photoUrl": "https://lh3.googleusercontent.com/a-/AOh14Gg5KGs2dfcnZCMe13webWRLHyD7D9R2Um3DTkd8Ug=s64",
      "userId": "00439360438599152891"
     },
     "user_tz": -330
    },
    "id": "VOwfchiOnrvQ",
    "outputId": "d41cbf02-f9d0-4cc3-c7ba-627bdbd88895"
   },
   "outputs": [
    {
     "data": {
      "text/plain": [
       "{'Embarked_is_missing'}"
      ]
     },
     "execution_count": 167,
     "metadata": {
      "tags": []
     },
     "output_type": "execute_result"
    }
   ],
   "source": [
    "# Checking Reverse Column Consistency\n",
    "set(X_train_combined.columns) - set(df_test.columns)"
   ]
  },
  {
   "cell_type": "code",
   "execution_count": null,
   "metadata": {
    "colab": {
     "base_uri": "https://localhost:8080/",
     "height": 34
    },
    "colab_type": "code",
    "executionInfo": {
     "elapsed": 1049,
     "status": "ok",
     "timestamp": 1598090936172,
     "user": {
      "displayName": "Anshuman Singh",
      "photoUrl": "https://lh3.googleusercontent.com/a-/AOh14Gg5KGs2dfcnZCMe13webWRLHyD7D9R2Um3DTkd8Ug=s64",
      "userId": "00439360438599152891"
     },
     "user_tz": -330
    },
    "id": "nKe4Vqtwn0hb",
    "outputId": "587b3024-07b0-472b-c259-efd610819991"
   },
   "outputs": [
    {
     "data": {
      "text/plain": [
       "set()"
      ]
     },
     "execution_count": 168,
     "metadata": {
      "tags": []
     },
     "output_type": "execute_result"
    }
   ],
   "source": [
    "#Solving the above  inconsistency\n",
    "df_test[\"Embarked_is_missing\"] = False\n",
    "set(X_train_combined.columns) - set(df_test.columns)"
   ]
  },
  {
   "cell_type": "code",
   "execution_count": null,
   "metadata": {
    "colab": {
     "base_uri": "https://localhost:8080/",
     "height": 390
    },
    "colab_type": "code",
    "executionInfo": {
     "elapsed": 1939,
     "status": "ok",
     "timestamp": 1598090938371,
     "user": {
      "displayName": "Anshuman Singh",
      "photoUrl": "https://lh3.googleusercontent.com/a-/AOh14Gg5KGs2dfcnZCMe13webWRLHyD7D9R2Um3DTkd8Ug=s64",
      "userId": "00439360438599152891"
     },
     "user_tz": -330
    },
    "id": "qKyIUIMgoAcj",
    "outputId": "7cd3bcb4-8e19-4ecd-e96d-67a11911215a"
   },
   "outputs": [
    {
     "name": "stdout",
     "output_type": "stream",
     "text": [
      "<class 'pandas.core.frame.DataFrame'>\n",
      "RangeIndex: 418 entries, 0 to 417\n",
      "Data columns (total 14 columns):\n",
      " #   Column               Non-Null Count  Dtype  \n",
      "---  ------               --------------  -----  \n",
      " 0   Pclass               418 non-null    int64  \n",
      " 1   Sex                  418 non-null    int8   \n",
      " 2   Age                  418 non-null    float64\n",
      " 3   SibSp                418 non-null    int64  \n",
      " 4   Parch                418 non-null    int64  \n",
      " 5   Fare                 418 non-null    float64\n",
      " 6   Cabin                418 non-null    int8   \n",
      " 7   Embarked             418 non-null    int8   \n",
      " 8   Title                418 non-null    int8   \n",
      " 9   Deck                 418 non-null    int8   \n",
      " 10  TicketPrefix         418 non-null    int8   \n",
      " 11  Cabin_count          418 non-null    float64\n",
      " 12  Age_is_missing       418 non-null    bool   \n",
      " 13  Embarked_is_missing  418 non-null    bool   \n",
      "dtypes: bool(2), float64(3), int64(3), int8(6)\n",
      "memory usage: 23.0 KB\n"
     ]
    }
   ],
   "source": [
    "#One final check on the test dataset\n",
    "df_test.info()"
   ]
  },
  {
   "cell_type": "markdown",
   "metadata": {
    "colab_type": "text",
    "id": "zrKqF3BqoLk_"
   },
   "source": [
    "Now, let's make predicitions and create the submission file"
   ]
  },
  {
   "cell_type": "markdown",
   "metadata": {
    "colab_type": "text",
    "id": "egIVUyHrrY_M"
   },
   "source": [
    "### Making Predictions and Creating Submissions File"
   ]
  },
  {
   "cell_type": "code",
   "execution_count": null,
   "metadata": {
    "colab": {},
    "colab_type": "code",
    "id": "nyjN1OWVBX-O"
   },
   "outputs": [],
   "source": [
    "# Making prediction from the model\n",
    "preds = rfc.predict(df_test)"
   ]
  },
  {
   "cell_type": "code",
   "execution_count": null,
   "metadata": {
    "colab": {},
    "colab_type": "code",
    "id": "qtc9GNMvBX-R"
   },
   "outputs": [],
   "source": [
    "#Creating the submission file\n",
    "submission = pd.DataFrame(data = {\"PassengerId\": df_test_PassengerId, \"Survived\": preds})\n",
    "submission.to_csv(\"/content/drive/My Drive/Google_Colab/titanic_kaggle/submission.csv\", index = False)"
   ]
  },
  {
   "cell_type": "markdown",
   "metadata": {
    "colab_type": "text",
    "id": "FJbJ8jFOBX-U"
   },
   "source": [
    "Current Best Accuracy 0.7703 !"
   ]
  },
  {
   "cell_type": "markdown",
   "metadata": {
    "colab_type": "text",
    "id": "nr5lvjg7ryk1"
   },
   "source": [
    "## Logistic Regression Classifier\n",
    "\n",
    "Now, let's try Logistic Regression"
   ]
  },
  {
   "cell_type": "code",
   "execution_count": null,
   "metadata": {
    "colab": {},
    "colab_type": "code",
    "id": "imCspJWNcakq"
   },
   "outputs": [],
   "source": []
  },
  {
   "cell_type": "markdown",
   "metadata": {
    "colab_type": "text",
    "id": "Ryq5eREHryk3"
   },
   "source": [
    "### Feature Importance\n",
    "\n",
    "Let's see the Feature  Importance for the Random Forest Classifier Model"
   ]
  },
  {
   "cell_type": "code",
   "execution_count": null,
   "metadata": {
    "colab": {
     "base_uri": "https://localhost:8080/",
     "height": 82
    },
    "colab_type": "code",
    "executionInfo": {
     "elapsed": 1132,
     "status": "ok",
     "timestamp": 1598183824647,
     "user": {
      "displayName": "Anshuman Singh",
      "photoUrl": "https://lh3.googleusercontent.com/a-/AOh14Gg5KGs2dfcnZCMe13webWRLHyD7D9R2Um3DTkd8Ug=s64",
      "userId": "00439360438599152891"
     },
     "user_tz": -330
    },
    "id": "k4KVFlHtLZcT",
    "outputId": "dd92ea89-5939-4b6d-f5fd-84c699cdac75"
   },
   "outputs": [
    {
     "data": {
      "text/plain": [
       "Index(['Pclass', 'Sex', 'Age', 'SibSp', 'Parch', 'Fare', 'Cabin', 'Embarked',\n",
       "       'Title', 'Deck', 'TicketPrefix', 'Cabin_count', 'Age_is_missing',\n",
       "       'Embarked_is_missing'],\n",
       "      dtype='object')"
      ]
     },
     "execution_count": 45,
     "metadata": {
      "tags": []
     },
     "output_type": "execute_result"
    }
   ],
   "source": [
    "# Checking the columns of X_train\n",
    "X_train.columns"
   ]
  },
  {
   "cell_type": "code",
   "execution_count": null,
   "metadata": {
    "colab": {},
    "colab_type": "code",
    "id": "jz5Do7odM_b0"
   },
   "outputs": [],
   "source": [
    "# Function for plotting feature importance:\n",
    "# def plot_feat_imp(columns, importance):\n",
    "#     \"\"\"\n",
    "#     Plot the feature importance for an ensemble estimator\n",
    "#     \"\"\"\n",
    "#     df = pd.DataFrame(data = {\"Feature_importance\": importance}, index = columns)\n",
    "#     df.sort_values(\"Feature_importance\", inplace = True)\n",
    "#     df.plot.barh()\n",
    "# #     plt.xticks(rotation = 'verticle')"
   ]
  },
  {
   "cell_type": "code",
   "execution_count": null,
   "metadata": {
    "colab": {
     "base_uri": "https://localhost:8080/",
     "height": 281
    },
    "colab_type": "code",
    "executionInfo": {
     "elapsed": 1551,
     "status": "ok",
     "timestamp": 1598185835681,
     "user": {
      "displayName": "Anshuman Singh",
      "photoUrl": "https://lh3.googleusercontent.com/a-/AOh14Gg5KGs2dfcnZCMe13webWRLHyD7D9R2Um3DTkd8Ug=s64",
      "userId": "00439360438599152891"
     },
     "user_tz": -330
    },
    "id": "fOML2QvYryk8",
    "outputId": "2c40f404-e05b-4fe3-c843-c19d223358d4"
   },
   "outputs": [
    {
     "name": "stdout",
     "output_type": "stream",
     "text": [
      "0.8114285714285714\n"
     ]
    },
    {
     "data": {
      "image/png": "[encoded data removed]",
      "text/plain": [
       "<Figure size 432x288 with 1 Axes>"
      ]
     },
     "metadata": {
      "needs_background": "light",
      "tags": []
     },
     "output_type": "display_data"
    }
   ],
   "source": [
    "# Checking Feature  Importance\n",
    "from sklearn.linear_model import LogisticRegression\n",
    "log_reg = LogisticRegression(max_iter=10000)\n",
    "log_reg.fit(X_train, y_train)\n",
    "print(log_reg.score(X_val, y_val))\n",
    "plot_feat_imp(X_train.columns, np.abs(log_reg.coef_[0]))"
   ]
  },
  {
   "cell_type": "markdown",
   "metadata": {
    "colab_type": "text",
    "id": "yxNB3Qk_rylA"
   },
   "source": [
    "Here, we can see that Sex, Pclass and cabin count are the most important features."
   ]
  },
  {
   "cell_type": "markdown",
   "metadata": {
    "colab_type": "text",
    "id": "x2v2Hkd4rylB"
   },
   "source": [
    "### Hyper-parameter Tuning"
   ]
  },
  {
   "cell_type": "markdown",
   "metadata": {
    "colab_type": "text",
    "id": "4iWEZemvrylB"
   },
   "source": [
    "#### Randomized Search"
   ]
  },
  {
   "cell_type": "markdown",
   "metadata": {
    "colab_type": "text",
    "id": "RAIKIsy9rylC"
   },
   "source": [
    "Let's use Randomized Search for finding a suitable range of hyper parameters which we can fine tune later using Grid Search. "
   ]
  },
  {
   "cell_type": "code",
   "execution_count": null,
   "metadata": {
    "colab": {},
    "colab_type": "code",
    "id": "iNnmq4QrrylC"
   },
   "outputs": [],
   "source": [
    "# Building a grid of parameters for Randomized Search\n",
    "log_reg_randgrid = {'penalty': ['l1', 'l2', 'elasticnet', 'none'],\n",
    " 'C': list(np.logspace(-4,4,9)),\n",
    " 'solver': ['newton-cg', 'lbfgs', 'liblinear', 'sag', 'saga'],\n",
    " 'max_iter': [10000]}"
   ]
  },
  {
   "cell_type": "code",
   "execution_count": null,
   "metadata": {
    "colab": {
     "base_uri": "https://localhost:8080/",
     "height": 423
    },
    "colab_type": "code",
    "executionInfo": {
     "elapsed": 28868,
     "status": "ok",
     "timestamp": 1598185347929,
     "user": {
      "displayName": "Anshuman Singh",
      "photoUrl": "https://lh3.googleusercontent.com/a-/AOh14Gg5KGs2dfcnZCMe13webWRLHyD7D9R2Um3DTkd8Ug=s64",
      "userId": "00439360438599152891"
     },
     "user_tz": -330
    },
    "id": "Arslv2iqrylF",
    "outputId": "54dee482-f5ff-407d-809e-15dceeb44ddc"
   },
   "outputs": [
    {
     "name": "stdout",
     "output_type": "stream",
     "text": [
      "Fitting 3 folds for each of 100 candidates, totalling 300 fits\n"
     ]
    },
    {
     "name": "stderr",
     "output_type": "stream",
     "text": [
      "[Parallel(n_jobs=-1)]: Using backend LokyBackend with 2 concurrent workers.\n",
      "[Parallel(n_jobs=-1)]: Done  54 tasks      | elapsed:    8.2s\n",
      "[Parallel(n_jobs=-1)]: Done 297 out of 300 | elapsed:   26.4s remaining:    0.3s\n",
      "[Parallel(n_jobs=-1)]: Done 300 out of 300 | elapsed:   26.6s finished\n"
     ]
    },
    {
     "data": {
      "text/plain": [
       "RandomizedSearchCV(cv=3, error_score=nan,\n",
       "                   estimator=LogisticRegression(C=1.0, class_weight=None,\n",
       "                                                dual=False, fit_intercept=True,\n",
       "                                                intercept_scaling=1,\n",
       "                                                l1_ratio=None, max_iter=100,\n",
       "                                                multi_class='auto', n_jobs=None,\n",
       "                                                penalty='l2', random_state=None,\n",
       "                                                solver='lbfgs', tol=0.0001,\n",
       "                                                verbose=0, warm_start=False),\n",
       "                   iid='deprecated', n_iter=100, n_jobs=-1,\n",
       "                   param_distributions={'C': [0.0001, 0.001, 0.01, 0.1, 1.0,\n",
       "                                              10.0, 100.0, 1000.0, 10000.0],\n",
       "                                        'max_iter': [10000],\n",
       "                                        'penalty': ['l1', 'l2', 'elasticnet',\n",
       "                                                    'none'],\n",
       "                                        'solver': ['newton-cg', 'lbfgs',\n",
       "                                                   'liblinear', 'sag',\n",
       "                                                   'saga']},\n",
       "                   pre_dispatch='2*n_jobs', random_state=23, refit=True,\n",
       "                   return_train_score=False, scoring=None, verbose=1)"
      ]
     },
     "execution_count": 64,
     "metadata": {
      "tags": []
     },
     "output_type": "execute_result"
    }
   ],
   "source": [
    "# Running Randomized Search\n",
    "from sklearn.model_selection import  RandomizedSearchCV\n",
    "log_reg_rand = RandomizedSearchCV(LogisticRegression(), param_distributions = log_reg_randgrid, n_iter = 100, n_jobs = -1, cv = 3, verbose = 1, random_state = 23)\n",
    "log_reg_rand.fit(X_train, y_train)"
   ]
  },
  {
   "cell_type": "code",
   "execution_count": null,
   "metadata": {
    "colab": {
     "base_uri": "https://localhost:8080/",
     "height": 33
    },
    "colab_type": "code",
    "executionInfo": {
     "elapsed": 2064,
     "status": "ok",
     "timestamp": 1598185375154,
     "user": {
      "displayName": "Anshuman Singh",
      "photoUrl": "https://lh3.googleusercontent.com/a-/AOh14Gg5KGs2dfcnZCMe13webWRLHyD7D9R2Um3DTkd8Ug=s64",
      "userId": "00439360438599152891"
     },
     "user_tz": -330
    },
    "id": "bgNwLGf9rylI",
    "outputId": "cc0763c0-3123-46eb-92cb-e958d4893e95"
   },
   "outputs": [
    {
     "data": {
      "text/plain": [
       "0.7942857142857143"
      ]
     },
     "execution_count": 65,
     "metadata": {
      "tags": []
     },
     "output_type": "execute_result"
    }
   ],
   "source": [
    "# Scoring the best model from Randomized Search on Validation set\n",
    "log_reg_rand.score(X_val, y_val)"
   ]
  },
  {
   "cell_type": "code",
   "execution_count": null,
   "metadata": {
    "colab": {
     "base_uri": "https://localhost:8080/",
     "height": 33
    },
    "colab_type": "code",
    "executionInfo": {
     "elapsed": 2067,
     "status": "ok",
     "timestamp": 1598185382172,
     "user": {
      "displayName": "Anshuman Singh",
      "photoUrl": "https://lh3.googleusercontent.com/a-/AOh14Gg5KGs2dfcnZCMe13webWRLHyD7D9R2Um3DTkd8Ug=s64",
      "userId": "00439360438599152891"
     },
     "user_tz": -330
    },
    "id": "BfJlu0slrylK",
    "outputId": "1acd775a-b16a-4cf6-895e-2a2e5ff349e8"
   },
   "outputs": [
    {
     "data": {
      "text/plain": [
       "{'C': 1.0, 'max_iter': 10000, 'penalty': 'l1', 'solver': 'liblinear'}"
      ]
     },
     "execution_count": 66,
     "metadata": {
      "tags": []
     },
     "output_type": "execute_result"
    }
   ],
   "source": [
    "# Obtaining the best set of parameters from Randomized Search for fine tuning using Grid Search\n",
    "log_reg_rand.best_params_"
   ]
  },
  {
   "cell_type": "markdown",
   "metadata": {
    "colab_type": "text",
    "id": "atbcwCxlrylM"
   },
   "source": [
    "#### Grid Search"
   ]
  },
  {
   "cell_type": "code",
   "execution_count": null,
   "metadata": {
    "colab": {},
    "colab_type": "code",
    "id": "Ohnp0VJerylO"
   },
   "outputs": [],
   "source": [
    "# # Building a grid of parameters for Randomized Search\n",
    "# log_reg_randgrid = {'penalty': ['l1', 'l2', 'elasticnet', 'none'],\n",
    "#  'C': list(np.logspace(-4,4,9)),\n",
    "#  'solver': ['newton-cg', 'lbfgs', 'liblinear', 'sag', 'saga'],\n",
    "#  'max_iter': [10000]}"
   ]
  },
  {
   "cell_type": "code",
   "execution_count": null,
   "metadata": {
    "colab": {},
    "colab_type": "code",
    "id": "DpQPn5OVrylS"
   },
   "outputs": [],
   "source": [
    "# Grid of hyper parameters for Grid Search\n",
    "log_reg_grid = {'penalty': ['l1'],\n",
    " 'C': list(np.logspace(-5,5,9)),\n",
    " 'solver': ['liblinear'],\n",
    " 'max_iter': [10000]}"
   ]
  },
  {
   "cell_type": "code",
   "execution_count": null,
   "metadata": {
    "colab": {
     "base_uri": "https://localhost:8080/",
     "height": 358
    },
    "colab_type": "code",
    "executionInfo": {
     "elapsed": 1061,
     "status": "ok",
     "timestamp": 1598185526353,
     "user": {
      "displayName": "Anshuman Singh",
      "photoUrl": "https://lh3.googleusercontent.com/a-/AOh14Gg5KGs2dfcnZCMe13webWRLHyD7D9R2Um3DTkd8Ug=s64",
      "userId": "00439360438599152891"
     },
     "user_tz": -330
    },
    "id": "W2EwVM4OrylU",
    "outputId": "54437319-2b47-4162-8fec-9ffa3a847955"
   },
   "outputs": [
    {
     "name": "stdout",
     "output_type": "stream",
     "text": [
      "Fitting 3 folds for each of 9 candidates, totalling 27 fits\n"
     ]
    },
    {
     "name": "stderr",
     "output_type": "stream",
     "text": [
      "[Parallel(n_jobs=-1)]: Using backend LokyBackend with 2 concurrent workers.\n",
      "[Parallel(n_jobs=-1)]: Done  27 out of  27 | elapsed:    0.3s finished\n"
     ]
    },
    {
     "data": {
      "text/plain": [
       "GridSearchCV(cv=3, error_score=nan,\n",
       "             estimator=LogisticRegression(C=1.0, class_weight=None, dual=False,\n",
       "                                          fit_intercept=True,\n",
       "                                          intercept_scaling=1, l1_ratio=None,\n",
       "                                          max_iter=100, multi_class='auto',\n",
       "                                          n_jobs=None, penalty='l2',\n",
       "                                          random_state=None, solver='lbfgs',\n",
       "                                          tol=0.0001, verbose=0,\n",
       "                                          warm_start=False),\n",
       "             iid='deprecated', n_jobs=-1,\n",
       "             param_grid={'C': [1e-05, 0.00017782794100389227,\n",
       "                               0.0031622776601683794, 0.05623413251903491, 1.0,\n",
       "                               17.78279410038923, 316.22776601683796,\n",
       "                               5623.413251903491, 100000.0],\n",
       "                         'max_iter': [10000], 'penalty': ['l1'],\n",
       "                         'solver': ['liblinear']},\n",
       "             pre_dispatch='2*n_jobs', refit=True, return_train_score=False,\n",
       "             scoring=None, verbose=1)"
      ]
     },
     "execution_count": 68,
     "metadata": {
      "tags": []
     },
     "output_type": "execute_result"
    }
   ],
   "source": [
    "# Running Grid Search\n",
    "from sklearn.model_selection import GridSearchCV\n",
    "log_reg_gridsearch = GridSearchCV(estimator = LogisticRegression(), param_grid = log_reg_grid, cv = 3, n_jobs = -1, verbose = 1)\n",
    "log_reg_gridsearch.fit(X_train, y_train)"
   ]
  },
  {
   "cell_type": "code",
   "execution_count": null,
   "metadata": {
    "colab": {
     "base_uri": "https://localhost:8080/",
     "height": 33
    },
    "colab_type": "code",
    "executionInfo": {
     "elapsed": 1089,
     "status": "ok",
     "timestamp": 1598185538915,
     "user": {
      "displayName": "Anshuman Singh",
      "photoUrl": "https://lh3.googleusercontent.com/a-/AOh14Gg5KGs2dfcnZCMe13webWRLHyD7D9R2Um3DTkd8Ug=s64",
      "userId": "00439360438599152891"
     },
     "user_tz": -330
    },
    "id": "6Im77Pc4rylX",
    "outputId": "ff108a3a-9e32-4cdf-9d77-0468d6bf5137"
   },
   "outputs": [
    {
     "data": {
      "text/plain": [
       "0.7942857142857143"
      ]
     },
     "execution_count": 69,
     "metadata": {
      "tags": []
     },
     "output_type": "execute_result"
    }
   ],
   "source": [
    "# The score of the best set of hyperparameters on the validation model\n",
    "log_reg_gridsearch.score(X_val, y_val)"
   ]
  },
  {
   "cell_type": "code",
   "execution_count": null,
   "metadata": {
    "colab": {
     "base_uri": "https://localhost:8080/",
     "height": 33
    },
    "colab_type": "code",
    "executionInfo": {
     "elapsed": 1012,
     "status": "ok",
     "timestamp": 1598185547915,
     "user": {
      "displayName": "Anshuman Singh",
      "photoUrl": "https://lh3.googleusercontent.com/a-/AOh14Gg5KGs2dfcnZCMe13webWRLHyD7D9R2Um3DTkd8Ug=s64",
      "userId": "00439360438599152891"
     },
     "user_tz": -330
    },
    "id": "UYtEmDMGrylZ",
    "outputId": "6b4aeb7d-3a34-4586-e9ce-a6463c9c6f43"
   },
   "outputs": [
    {
     "data": {
      "text/plain": [
       "{'C': 1.0, 'max_iter': 10000, 'penalty': 'l1', 'solver': 'liblinear'}"
      ]
     },
     "execution_count": 70,
     "metadata": {
      "tags": []
     },
     "output_type": "execute_result"
    }
   ],
   "source": [
    "# Obtaining the best set of hyperparameters from Grid Search\n",
    "log_reg_gridsearch.best_params_"
   ]
  },
  {
   "cell_type": "markdown",
   "metadata": {
    "colab_type": "text",
    "id": "lcx_tOSbrylc"
   },
   "source": [
    "Now, lets use the above hyperparameters and fit the Logistic Regression model on the whole training dataset"
   ]
  },
  {
   "cell_type": "code",
   "execution_count": null,
   "metadata": {
    "colab": {
     "base_uri": "https://localhost:8080/",
     "height": 33
    },
    "colab_type": "code",
    "executionInfo": {
     "elapsed": 1386,
     "status": "ok",
     "timestamp": 1598185849856,
     "user": {
      "displayName": "Anshuman Singh",
      "photoUrl": "https://lh3.googleusercontent.com/a-/AOh14Gg5KGs2dfcnZCMe13webWRLHyD7D9R2Um3DTkd8Ug=s64",
      "userId": "00439360438599152891"
     },
     "user_tz": -330
    },
    "id": "fdaa-a_bryld",
    "outputId": "d5704443-8390-4694-c474-35c6a7634994"
   },
   "outputs": [
    {
     "data": {
      "text/plain": [
       "((873, 14), (873,))"
      ]
     },
     "execution_count": 83,
     "metadata": {
      "tags": []
     },
     "output_type": "execute_result"
    }
   ],
   "source": [
    "# Combining the train and validation datasets\n",
    "X_train_combined = pd.concat([X_train, X_val], axis = 0)\n",
    "y_train_combined = pd.concat([y_train, y_test], axis = 0)\n",
    "X_train_combined.shape, y_train_combined.shape"
   ]
  },
  {
   "cell_type": "code",
   "execution_count": 174,
   "metadata": {
    "colab": {},
    "colab_type": "code",
    "executionInfo": {
     "elapsed": 1133,
     "status": "ok",
     "timestamp": 1598194116401,
     "user": {
      "displayName": "Anshuman Singh",
      "photoUrl": "https://lh3.googleusercontent.com/a-/AOh14Gg5KGs2dfcnZCMe13webWRLHyD7D9R2Um3DTkd8Ug=s64",
      "userId": "00439360438599152891"
     },
     "user_tz": -330
    },
    "id": "gDPnlPfBryli"
   },
   "outputs": [],
   "source": [
    "# Fitting RandomForestClassifier estimator with the best hyperparameters obtained from GridSearchCV\n",
    "log_reg = LogisticRegression(C = 1, max_iter = 10000, penalty = 'l1', solver = 'liblinear')\n",
    "log_reg.fit(X_train_combined, y_train_combined)\n",
    "log_reg.score(X_train_combined, y_train_combined)"
   ]
  },
  {
   "cell_type": "markdown",
   "metadata": {
    "colab_type": "text",
    "id": "CnHei3iWrylk"
   },
   "source": [
    "### Preparing the test DataSet"
   ]
  },
  {
   "cell_type": "code",
   "execution_count": null,
   "metadata": {
    "colab": {
     "base_uri": "https://localhost:8080/",
     "height": 180
    },
    "colab_type": "code",
    "executionInfo": {
     "elapsed": 1017,
     "status": "ok",
     "timestamp": 1598185889280,
     "user": {
      "displayName": "Anshuman Singh",
      "photoUrl": "https://lh3.googleusercontent.com/a-/AOh14Gg5KGs2dfcnZCMe13webWRLHyD7D9R2Um3DTkd8Ug=s64",
      "userId": "00439360438599152891"
     },
     "user_tz": -330
    },
    "id": "7FuaOW7sryll",
    "outputId": "e9f18cab-bfa3-4498-8a14-17787aef9795"
   },
   "outputs": [
    {
     "name": "stdout",
     "output_type": "stream",
     "text": [
      "Creating test database...\n",
      "Age column is of numeric dtype and contains NaN values. Creating 'Age_is_missing' and imputing NaN values with median\n",
      "Fare column is of numeric dtype and contains NaN values. Creating 'Fare_is_missing' and imputing NaN values with median\n",
      "Cabin column is of object dtype and contains NaN values. Creating 'Cabin_is_missing' column\n",
      "Deck column is of object dtype and contains NaN values. Creating 'Deck_is_missing' column\n",
      "FarePerPerson column is of numeric dtype and contains NaN values. Creating 'FarePerPerson_is_missing' and imputing NaN values with median\n",
      "TicketPrefix column is of object dtype and contains NaN values. Creating 'TicketPrefix_is_missing' column\n",
      "Cabin_count column is of numeric dtype and contains NaN values. Creating 'Cabin_count_is_missing' and imputing NaN values with median\n",
      "The following columns have been converted from object to numeric dtype: ['Sex', 'Ticket', 'Cabin', 'Embarked', 'Title', 'Deck', 'TicketPrefix']\n",
      "Final SHAPE >>> X_test: (418, 23)\n"
     ]
    }
   ],
   "source": [
    "# Preparing the test dataset for prediction\n",
    "df_test = pd.read_csv(\"/content/drive/My Drive/Google_Colab/titanic_kaggle/original_files/test.csv\")\n",
    "df_test = process_master(df_test, test_database=True)\n",
    "df_test_PassengerId = df_test.PassengerId #Saving the PassengerId column for later use\n",
    "df_test = df_test.drop(labels = [\"PassengerId\", \"Ticket\", \"FamilySize\", \"FarePerPerson\", \"Cabin_is_missing\", \"Deck_is_missing\", \"TicketPrefix_is_missing\", \"Cabin_count_is_missing\"],\n",
    "                       axis = 1)"
   ]
  },
  {
   "cell_type": "code",
   "execution_count": null,
   "metadata": {
    "colab": {
     "base_uri": "https://localhost:8080/",
     "height": 33
    },
    "colab_type": "code",
    "executionInfo": {
     "elapsed": 988,
     "status": "ok",
     "timestamp": 1598185900438,
     "user": {
      "displayName": "Anshuman Singh",
      "photoUrl": "https://lh3.googleusercontent.com/a-/AOh14Gg5KGs2dfcnZCMe13webWRLHyD7D9R2Um3DTkd8Ug=s64",
      "userId": "00439360438599152891"
     },
     "user_tz": -330
    },
    "id": "2fvvws4Oryln",
    "outputId": "88012205-1ad1-4825-9056-94a93260782d"
   },
   "outputs": [
    {
     "data": {
      "text/plain": [
       "{'FarePerPerson_is_missing', 'Fare_is_missing'}"
      ]
     },
     "execution_count": 86,
     "metadata": {
      "tags": []
     },
     "output_type": "execute_result"
    }
   ],
   "source": [
    "# Checking columns consistency between training and test dataset\n",
    "set(df_test.columns) - set(X_train_combined.columns)"
   ]
  },
  {
   "cell_type": "code",
   "execution_count": null,
   "metadata": {
    "colab": {
     "base_uri": "https://localhost:8080/",
     "height": 33
    },
    "colab_type": "code",
    "executionInfo": {
     "elapsed": 967,
     "status": "ok",
     "timestamp": 1598185908088,
     "user": {
      "displayName": "Anshuman Singh",
      "photoUrl": "https://lh3.googleusercontent.com/a-/AOh14Gg5KGs2dfcnZCMe13webWRLHyD7D9R2Um3DTkd8Ug=s64",
      "userId": "00439360438599152891"
     },
     "user_tz": -330
    },
    "id": "VjyW3ro_rylq",
    "outputId": "1176463c-295f-4e94-f8d0-d455359a5470"
   },
   "outputs": [
    {
     "data": {
      "text/plain": [
       "set()"
      ]
     },
     "execution_count": 87,
     "metadata": {
      "tags": []
     },
     "output_type": "execute_result"
    }
   ],
   "source": [
    "# Solving column consistency\n",
    "df_test = df_test.drop([\"FarePerPerson_is_missing\", \"Fare_is_missing\"], axis = 1)\n",
    "set(df_test.columns) - set(X_train_combined.columns)"
   ]
  },
  {
   "cell_type": "code",
   "execution_count": null,
   "metadata": {
    "colab": {
     "base_uri": "https://localhost:8080/",
     "height": 33
    },
    "colab_type": "code",
    "executionInfo": {
     "elapsed": 1080,
     "status": "ok",
     "timestamp": 1598185910647,
     "user": {
      "displayName": "Anshuman Singh",
      "photoUrl": "https://lh3.googleusercontent.com/a-/AOh14Gg5KGs2dfcnZCMe13webWRLHyD7D9R2Um3DTkd8Ug=s64",
      "userId": "00439360438599152891"
     },
     "user_tz": -330
    },
    "id": "xp6SWrNDryls",
    "outputId": "48725f2a-0d12-407a-e67a-0708d1bba1a8"
   },
   "outputs": [
    {
     "data": {
      "text/plain": [
       "{'Embarked_is_missing'}"
      ]
     },
     "execution_count": 88,
     "metadata": {
      "tags": []
     },
     "output_type": "execute_result"
    }
   ],
   "source": [
    "# Checking Reverse Column Consistency\n",
    "set(X_train_combined.columns) - set(df_test.columns)"
   ]
  },
  {
   "cell_type": "code",
   "execution_count": null,
   "metadata": {
    "colab": {
     "base_uri": "https://localhost:8080/",
     "height": 33
    },
    "colab_type": "code",
    "executionInfo": {
     "elapsed": 1044,
     "status": "ok",
     "timestamp": 1598185914841,
     "user": {
      "displayName": "Anshuman Singh",
      "photoUrl": "https://lh3.googleusercontent.com/a-/AOh14Gg5KGs2dfcnZCMe13webWRLHyD7D9R2Um3DTkd8Ug=s64",
      "userId": "00439360438599152891"
     },
     "user_tz": -330
    },
    "id": "7UfNS5JRrylu",
    "outputId": "335c1678-e02c-461f-dca3-9fa4d628ac61"
   },
   "outputs": [
    {
     "data": {
      "text/plain": [
       "set()"
      ]
     },
     "execution_count": 89,
     "metadata": {
      "tags": []
     },
     "output_type": "execute_result"
    }
   ],
   "source": [
    "#Solving the above  inconsistency\n",
    "df_test[\"Embarked_is_missing\"] = False\n",
    "set(X_train_combined.columns) - set(df_test.columns)"
   ]
  },
  {
   "cell_type": "code",
   "execution_count": null,
   "metadata": {
    "colab": {
     "base_uri": "https://localhost:8080/",
     "height": 358
    },
    "colab_type": "code",
    "executionInfo": {
     "elapsed": 990,
     "status": "ok",
     "timestamp": 1598185923297,
     "user": {
      "displayName": "Anshuman Singh",
      "photoUrl": "https://lh3.googleusercontent.com/a-/AOh14Gg5KGs2dfcnZCMe13webWRLHyD7D9R2Um3DTkd8Ug=s64",
      "userId": "00439360438599152891"
     },
     "user_tz": -330
    },
    "id": "y2mZCkdLrylx",
    "outputId": "3059c01c-ecf5-4418-c57a-86f9c8607738"
   },
   "outputs": [
    {
     "name": "stdout",
     "output_type": "stream",
     "text": [
      "<class 'pandas.core.frame.DataFrame'>\n",
      "RangeIndex: 418 entries, 0 to 417\n",
      "Data columns (total 14 columns):\n",
      " #   Column               Non-Null Count  Dtype  \n",
      "---  ------               --------------  -----  \n",
      " 0   Pclass               418 non-null    int64  \n",
      " 1   Sex                  418 non-null    int8   \n",
      " 2   Age                  418 non-null    float64\n",
      " 3   SibSp                418 non-null    int64  \n",
      " 4   Parch                418 non-null    int64  \n",
      " 5   Fare                 418 non-null    float64\n",
      " 6   Cabin                418 non-null    int8   \n",
      " 7   Embarked             418 non-null    int8   \n",
      " 8   Title                418 non-null    int8   \n",
      " 9   Deck                 418 non-null    int8   \n",
      " 10  TicketPrefix         418 non-null    int8   \n",
      " 11  Cabin_count          418 non-null    float64\n",
      " 12  Age_is_missing       418 non-null    bool   \n",
      " 13  Embarked_is_missing  418 non-null    bool   \n",
      "dtypes: bool(2), float64(3), int64(3), int8(6)\n",
      "memory usage: 23.0 KB\n"
     ]
    }
   ],
   "source": [
    "#One final check on the test dataset\n",
    "df_test.info()"
   ]
  },
  {
   "cell_type": "markdown",
   "metadata": {
    "colab_type": "text",
    "id": "QWj3eOSBryl2"
   },
   "source": [
    "Now, let's make predicitions and create the submission file"
   ]
  },
  {
   "cell_type": "markdown",
   "metadata": {
    "colab_type": "text",
    "id": "ItOad70qryl3"
   },
   "source": [
    "### Making Predictions and Creating Submissions File"
   ]
  },
  {
   "cell_type": "code",
   "execution_count": null,
   "metadata": {
    "colab": {},
    "colab_type": "code",
    "id": "oI5H2nnyryl3"
   },
   "outputs": [],
   "source": [
    "# Making prediction from the model\n",
    "preds = log_reg.predict(df_test)"
   ]
  },
  {
   "cell_type": "code",
   "execution_count": null,
   "metadata": {
    "colab": {},
    "colab_type": "code",
    "id": "WO5DdUqvryl5"
   },
   "outputs": [],
   "source": [
    "#Creating the submission file\n",
    "submission = pd.DataFrame(data = {\"PassengerId\": df_test_PassengerId, \"Survived\": preds})\n",
    "submission.to_csv(\"/content/drive/My Drive/Google_Colab/titanic_kaggle/submission_log_reg.csv\", index = False)"
   ]
  },
  {
   "cell_type": "markdown",
   "metadata": {
    "colab_type": "text",
    "id": "FqBrhGi3ryl7"
   },
   "source": [
    "Current Best Accuracy 0.7799 !"
   ]
  },
  {
   "cell_type": "markdown",
   "metadata": {
    "colab_type": "text",
    "id": "Y1vJDeP5c4TO"
   },
   "source": [
    "# Experimentation"
   ]
  },
  {
   "cell_type": "code",
   "execution_count": null,
   "metadata": {
    "colab": {},
    "colab_type": "code",
    "id": "kAJ7UOa3dJWp"
   },
   "outputs": [],
   "source": [
    "X_train_combined = pd.concat([X_train, X_val], ignore_index=True)"
   ]
  },
  {
   "cell_type": "code",
   "execution_count": null,
   "metadata": {
    "colab": {},
    "colab_type": "code",
    "id": "rwxlvazndnyo"
   },
   "outputs": [],
   "source": [
    "y_train_combined = pd.concat([y_train, y_val], ignore_index=True)"
   ]
  },
  {
   "cell_type": "code",
   "execution_count": null,
   "metadata": {
    "colab": {
     "base_uri": "https://localhost:8080/",
     "height": 211
    },
    "colab_type": "code",
    "executionInfo": {
     "elapsed": 1606,
     "status": "ok",
     "timestamp": 1598188748632,
     "user": {
      "displayName": "Anshuman Singh",
      "photoUrl": "https://lh3.googleusercontent.com/a-/AOh14Gg5KGs2dfcnZCMe13webWRLHyD7D9R2Um3DTkd8Ug=s64",
      "userId": "00439360438599152891"
     },
     "user_tz": -330
    },
    "id": "RbfZYxiXdpYx",
    "outputId": "f7534f49-c47f-4d98-b4a4-a81fa6480ead"
   },
   "outputs": [
    {
     "data": {
      "text/html": [
       "<div>\n",
       "<style scoped>\n",
       "    .dataframe tbody tr th:only-of-type {\n",
       "        vertical-align: middle;\n",
       "    }\n",
       "\n",
       "    .dataframe tbody tr th {\n",
       "        vertical-align: top;\n",
       "    }\n",
       "\n",
       "    .dataframe thead th {\n",
       "        text-align: right;\n",
       "    }\n",
       "</style>\n",
       "<table border=\"1\" class=\"dataframe\">\n",
       "  <thead>\n",
       "    <tr style=\"text-align: right;\">\n",
       "      <th></th>\n",
       "      <th>PassengerId</th>\n",
       "      <th>Pclass</th>\n",
       "      <th>Sex</th>\n",
       "      <th>Age</th>\n",
       "      <th>SibSp</th>\n",
       "      <th>Parch</th>\n",
       "      <th>Ticket</th>\n",
       "      <th>Fare</th>\n",
       "      <th>Cabin</th>\n",
       "      <th>Embarked</th>\n",
       "      <th>Title</th>\n",
       "      <th>Deck</th>\n",
       "      <th>FamilySize</th>\n",
       "      <th>FarePerPerson</th>\n",
       "      <th>TicketPrefix</th>\n",
       "      <th>Cabin_count</th>\n",
       "      <th>Age_is_missing</th>\n",
       "      <th>Cabin_is_missing</th>\n",
       "      <th>Embarked_is_missing</th>\n",
       "      <th>Deck_is_missing</th>\n",
       "      <th>TicketPrefix_is_missing</th>\n",
       "      <th>Cabin_count_is_missing</th>\n",
       "      <th>Survived</th>\n",
       "    </tr>\n",
       "  </thead>\n",
       "  <tbody>\n",
       "    <tr>\n",
       "      <th>0</th>\n",
       "      <td>316</td>\n",
       "      <td>3</td>\n",
       "      <td>1</td>\n",
       "      <td>26.0</td>\n",
       "      <td>0</td>\n",
       "      <td>0</td>\n",
       "      <td>272</td>\n",
       "      <td>7.8542</td>\n",
       "      <td>0</td>\n",
       "      <td>3</td>\n",
       "      <td>3</td>\n",
       "      <td>0</td>\n",
       "      <td>0</td>\n",
       "      <td>7.854200</td>\n",
       "      <td>0</td>\n",
       "      <td>1.0</td>\n",
       "      <td>False</td>\n",
       "      <td>True</td>\n",
       "      <td>False</td>\n",
       "      <td>True</td>\n",
       "      <td>True</td>\n",
       "      <td>True</td>\n",
       "      <td>1</td>\n",
       "    </tr>\n",
       "    <tr>\n",
       "      <th>1</th>\n",
       "      <td>722</td>\n",
       "      <td>3</td>\n",
       "      <td>2</td>\n",
       "      <td>17.0</td>\n",
       "      <td>1</td>\n",
       "      <td>0</td>\n",
       "      <td>329</td>\n",
       "      <td>7.0542</td>\n",
       "      <td>0</td>\n",
       "      <td>3</td>\n",
       "      <td>4</td>\n",
       "      <td>0</td>\n",
       "      <td>1</td>\n",
       "      <td>3.527100</td>\n",
       "      <td>0</td>\n",
       "      <td>1.0</td>\n",
       "      <td>False</td>\n",
       "      <td>True</td>\n",
       "      <td>False</td>\n",
       "      <td>True</td>\n",
       "      <td>True</td>\n",
       "      <td>True</td>\n",
       "      <td>0</td>\n",
       "    </tr>\n",
       "    <tr>\n",
       "      <th>2</th>\n",
       "      <td>851</td>\n",
       "      <td>3</td>\n",
       "      <td>2</td>\n",
       "      <td>4.0</td>\n",
       "      <td>4</td>\n",
       "      <td>2</td>\n",
       "      <td>264</td>\n",
       "      <td>31.2750</td>\n",
       "      <td>0</td>\n",
       "      <td>3</td>\n",
       "      <td>3</td>\n",
       "      <td>0</td>\n",
       "      <td>6</td>\n",
       "      <td>4.467857</td>\n",
       "      <td>0</td>\n",
       "      <td>1.0</td>\n",
       "      <td>False</td>\n",
       "      <td>True</td>\n",
       "      <td>False</td>\n",
       "      <td>True</td>\n",
       "      <td>True</td>\n",
       "      <td>True</td>\n",
       "      <td>0</td>\n",
       "    </tr>\n",
       "    <tr>\n",
       "      <th>3</th>\n",
       "      <td>695</td>\n",
       "      <td>1</td>\n",
       "      <td>2</td>\n",
       "      <td>60.0</td>\n",
       "      <td>0</td>\n",
       "      <td>0</td>\n",
       "      <td>39</td>\n",
       "      <td>26.5500</td>\n",
       "      <td>0</td>\n",
       "      <td>3</td>\n",
       "      <td>1</td>\n",
       "      <td>0</td>\n",
       "      <td>0</td>\n",
       "      <td>26.550000</td>\n",
       "      <td>0</td>\n",
       "      <td>1.0</td>\n",
       "      <td>False</td>\n",
       "      <td>True</td>\n",
       "      <td>False</td>\n",
       "      <td>True</td>\n",
       "      <td>True</td>\n",
       "      <td>True</td>\n",
       "      <td>0</td>\n",
       "    </tr>\n",
       "    <tr>\n",
       "      <th>4</th>\n",
       "      <td>788</td>\n",
       "      <td>3</td>\n",
       "      <td>2</td>\n",
       "      <td>8.0</td>\n",
       "      <td>4</td>\n",
       "      <td>1</td>\n",
       "      <td>389</td>\n",
       "      <td>29.1250</td>\n",
       "      <td>0</td>\n",
       "      <td>2</td>\n",
       "      <td>3</td>\n",
       "      <td>0</td>\n",
       "      <td>5</td>\n",
       "      <td>4.854167</td>\n",
       "      <td>0</td>\n",
       "      <td>1.0</td>\n",
       "      <td>False</td>\n",
       "      <td>True</td>\n",
       "      <td>False</td>\n",
       "      <td>True</td>\n",
       "      <td>True</td>\n",
       "      <td>True</td>\n",
       "      <td>0</td>\n",
       "    </tr>\n",
       "  </tbody>\n",
       "</table>\n",
       "</div>"
      ],
      "text/plain": [
       "   PassengerId  Pclass  ...  Cabin_count_is_missing  Survived\n",
       "0          316       3  ...                    True         1\n",
       "1          722       3  ...                    True         0\n",
       "2          851       3  ...                    True         0\n",
       "3          695       1  ...                    True         0\n",
       "4          788       3  ...                    True         0\n",
       "\n",
       "[5 rows x 23 columns]"
      ]
     },
     "execution_count": 107,
     "metadata": {
      "tags": []
     },
     "output_type": "execute_result"
    }
   ],
   "source": [
    "train_combined = X_train_combined.copy()\n",
    "train_combined[\"Survived\"] = y_train_combined\n",
    "train_combined.head()"
   ]
  },
  {
   "cell_type": "code",
   "execution_count": null,
   "metadata": {
    "colab": {
     "base_uri": "https://localhost:8080/",
     "height": 53
    },
    "colab_type": "code",
    "executionInfo": {
     "elapsed": 1122,
     "status": "ok",
     "timestamp": 1598190922434,
     "user": {
      "displayName": "Anshuman Singh",
      "photoUrl": "https://lh3.googleusercontent.com/a-/AOh14Gg5KGs2dfcnZCMe13webWRLHyD7D9R2Um3DTkd8Ug=s64",
      "userId": "00439360438599152891"
     },
     "user_tz": -330
    },
    "id": "B3mgVhDelUOQ",
    "outputId": "62b50f72-9792-4136-e75a-de6a2190383a"
   },
   "outputs": [
    {
     "name": "stdout",
     "output_type": "stream",
     "text": [
      "['PassengerId', 'Pclass', 'Age', 'SibSp', 'Parch', 'Ticket', 'Fare', 'Cabin', 'Embarked', 'Title', 'Deck', 'FamilySize', 'FarePerPerson', 'TicketPrefix', 'Cabin_count', 'Age_is_missing', 'Cabin_is_missing', 'Embarked_is_missing', 'Deck_is_missing', 'TicketPrefix_is_missing', 'Cabin_count_is_missing', 'Survived']\n"
     ]
    }
   ],
   "source": [
    "a = list(train_combined.columns)\n",
    "a.remove(\"Sex\")\n",
    "print(a)"
   ]
  },
  {
   "cell_type": "code",
   "execution_count": null,
   "metadata": {
    "colab": {},
    "colab_type": "code",
    "id": "eAeOqlLQePaL"
   },
   "outputs": [],
   "source": [
    "# plt.figure(figsize = (20,20))\n",
    "# sns.heatmap(train_combined.corr(), annot = True);"
   ]
  },
  {
   "cell_type": "markdown",
   "metadata": {
    "colab_type": "text",
    "id": "3QValrLeeYCE"
   },
   "source": [
    "## Function for Automatic Feature Selection"
   ]
  },
  {
   "cell_type": "code",
   "execution_count": 178,
   "metadata": {
    "colab": {},
    "colab_type": "code",
    "executionInfo": {
     "elapsed": 1096,
     "status": "ok",
     "timestamp": 1598194906662,
     "user": {
      "displayName": "Anshuman Singh",
      "photoUrl": "https://lh3.googleusercontent.com/a-/AOh14Gg5KGs2dfcnZCMe13webWRLHyD7D9R2Um3DTkd8Ug=s64",
      "userId": "00439360438599152891"
     },
     "user_tz": -330
    },
    "id": "bz5tl6Upfk0o"
   },
   "outputs": [],
   "source": [
    "# Creating a function for automatic feature selection\n",
    "def feature_selector(train_full, model):\n",
    "  \"\"\"\n",
    "  Takes the processed training dataset and an estimator (preferably tuned) and returns \n",
    "  a list of features that increase the performance of the estimator. Sex column is always considered.\n",
    "  Returns X_train without target column and with features which increased the performance of the \n",
    "  estimator.\n",
    "  \"\"\"\n",
    "  np.random.seed(23)\n",
    "  from sklearn.model_selection import cross_val_score\n",
    "  X = train_full.drop(\"Survived\", axis = 1)\n",
    "  y = train_full.Survived\n",
    "  col_list = list(X.columns)\n",
    "  col_list.remove(\"Sex\")\n",
    "  X_feature = pd.DataFrame(data = {\"Sex\": X.Sex})\n",
    "  count = 0\n",
    "  for i in col_list:\n",
    "    base_score = 0\n",
    "    updated_score = 0\n",
    "    # BASE RUN\n",
    "    for j in range(5):\n",
    "      base_score = base_score + np.mean(cross_val_score(model, X_feature, y, cv = 5,))\n",
    "    X_feature[i] = X[i]\n",
    "    # UPDATED RUN\n",
    "    for j in range(5):\n",
    "      updated_score = updated_score + np.mean(cross_val_score(model, X_feature, y, cv = 5))\n",
    "    if (updated_score/5) >= (base_score/5):\n",
    "      pass\n",
    "    else:\n",
    "      X_feature = X_feature.drop(i, axis = 1)\n",
    "    count += 1\n",
    "    print(f\"{count} runs completed\")\n",
    "  print(f\"Removed columns are {set(col_list) - set(X_feature.columns)}\")\n",
    "  print(f\"Number of columns removed are {len(set(col_list) - set(X_feature.columns))}\")\n",
    "  return X_feature"
   ]
  },
  {
   "cell_type": "code",
   "execution_count": 179,
   "metadata": {
    "colab": {
     "base_uri": "https://localhost:8080/",
     "height": 460
    },
    "colab_type": "code",
    "executionInfo": {
     "elapsed": 1185840,
     "status": "ok",
     "timestamp": 1598196092248,
     "user": {
      "displayName": "Anshuman Singh",
      "photoUrl": "https://lh3.googleusercontent.com/a-/AOh14Gg5KGs2dfcnZCMe13webWRLHyD7D9R2Um3DTkd8Ug=s64",
      "userId": "00439360438599152891"
     },
     "user_tz": -330
    },
    "id": "4sMWDlF4pgEv",
    "outputId": "638974fb-091a-43f5-837e-81fd083bbff7"
   },
   "outputs": [
    {
     "name": "stdout",
     "output_type": "stream",
     "text": [
      "1 runs completed\n",
      "2 runs completed\n",
      "3 runs completed\n",
      "4 runs completed\n",
      "5 runs completed\n",
      "6 runs completed\n",
      "7 runs completed\n",
      "8 runs completed\n",
      "9 runs completed\n",
      "10 runs completed\n",
      "11 runs completed\n",
      "12 runs completed\n",
      "13 runs completed\n",
      "14 runs completed\n",
      "15 runs completed\n",
      "16 runs completed\n",
      "17 runs completed\n",
      "18 runs completed\n",
      "19 runs completed\n",
      "20 runs completed\n",
      "21 runs completed\n",
      "Removed columns are {'Parch', 'Embarked', 'Cabin_is_missing', 'Cabin_count_is_missing', 'PassengerId', 'FarePerPerson', 'Cabin', 'Age', 'Pclass', 'FamilySize', 'Cabin_count', 'Fare', 'Embarked_is_missing', 'Deck_is_missing', 'Ticket', 'Title'}\n",
      "Number of columns are 16\n"
     ]
    },
    {
     "data": {
      "text/plain": [
       "Index(['Sex', 'SibSp', 'Deck', 'TicketPrefix', 'Age_is_missing',\n",
       "       'TicketPrefix_is_missing'],\n",
       "      dtype='object')"
      ]
     },
     "execution_count": 179,
     "metadata": {
      "tags": []
     },
     "output_type": "execute_result"
    }
   ],
   "source": [
    "X_best_features = feature_selector(train_combined, rfc)\n",
    "X_best_features.columns"
   ]
  },
  {
   "cell_type": "code",
   "execution_count": 180,
   "metadata": {
    "colab": {
     "base_uri": "https://localhost:8080/",
     "height": 33
    },
    "colab_type": "code",
    "executionInfo": {
     "elapsed": 1030,
     "status": "ok",
     "timestamp": 1598196093345,
     "user": {
      "displayName": "Anshuman Singh",
      "photoUrl": "https://lh3.googleusercontent.com/a-/AOh14Gg5KGs2dfcnZCMe13webWRLHyD7D9R2Um3DTkd8Ug=s64",
      "userId": "00439360438599152891"
     },
     "user_tz": -330
    },
    "id": "8PG5skLMp0gL",
    "outputId": "51088092-1916-4c78-98bc-b7552c4c1782"
   },
   "outputs": [
    {
     "data": {
      "text/plain": [
       "17"
      ]
     },
     "execution_count": 180,
     "metadata": {
      "tags": []
     },
     "output_type": "execute_result"
    }
   ],
   "source": [
    "set(train_combined.columns) - set(X_best_features.columns)\n",
    "len(set(train_combined.columns) - set(X_best_features.columns))"
   ]
  },
  {
   "cell_type": "code",
   "execution_count": 181,
   "metadata": {
    "colab": {},
    "colab_type": "code",
    "executionInfo": {
     "elapsed": 1175,
     "status": "ok",
     "timestamp": 1598196316064,
     "user": {
      "displayName": "Anshuman Singh",
      "photoUrl": "https://lh3.googleusercontent.com/a-/AOh14Gg5KGs2dfcnZCMe13webWRLHyD7D9R2Um3DTkd8Ug=s64",
      "userId": "00439360438599152891"
     },
     "user_tz": -330
    },
    "id": "0O_yaf4yp5se"
   },
   "outputs": [],
   "source": [
    "X_train_combined = train_combined.drop(\"Survived\", axis = 1)\n",
    "y_train_combined = train_combined.Survived\n",
    "X_train_combined.drop(['Parch', 'Embarked', 'Cabin_is_missing', 'Cabin_count_is_missing', 'PassengerId', 'FarePerPerson', 'Cabin', 'Age', 'Pclass', 'FamilySize', 'Cabin_count', 'Fare', 'Embarked_is_missing', 'Deck_is_missing', 'Ticket', 'Title'], axis = 1, inplace = True)"
   ]
  },
  {
   "cell_type": "code",
   "execution_count": 182,
   "metadata": {
    "colab": {
     "base_uri": "https://localhost:8080/",
     "height": 33
    },
    "colab_type": "code",
    "executionInfo": {
     "elapsed": 2732,
     "status": "ok",
     "timestamp": 1598196329786,
     "user": {
      "displayName": "Anshuman Singh",
      "photoUrl": "https://lh3.googleusercontent.com/a-/AOh14Gg5KGs2dfcnZCMe13webWRLHyD7D9R2Um3DTkd8Ug=s64",
      "userId": "00439360438599152891"
     },
     "user_tz": -330
    },
    "id": "em5JlrlxuoWA",
    "outputId": "cecdb4a1-adb2-461c-fb9f-9584cb1a9c58"
   },
   "outputs": [
    {
     "data": {
      "text/plain": [
       "0.8339060710194731"
      ]
     },
     "execution_count": 182,
     "metadata": {
      "tags": []
     },
     "output_type": "execute_result"
    }
   ],
   "source": [
    "rfc.fit(X_train_combined, y_train_combined)\n",
    "rfc.score(X_train_combined, y_train_combined)"
   ]
  },
  {
   "cell_type": "markdown",
   "metadata": {
    "colab_type": "text",
    "id": "0_7TknAovCAV"
   },
   "source": [
    "### Preparing the test DataSet"
   ]
  },
  {
   "cell_type": "code",
   "execution_count": 184,
   "metadata": {
    "colab": {
     "base_uri": "https://localhost:8080/",
     "height": 180
    },
    "colab_type": "code",
    "executionInfo": {
     "elapsed": 1234,
     "status": "ok",
     "timestamp": 1598196368496,
     "user": {
      "displayName": "Anshuman Singh",
      "photoUrl": "https://lh3.googleusercontent.com/a-/AOh14Gg5KGs2dfcnZCMe13webWRLHyD7D9R2Um3DTkd8Ug=s64",
      "userId": "00439360438599152891"
     },
     "user_tz": -330
    },
    "id": "rgIAHV-DvCAW",
    "outputId": "56b3b175-80f3-4255-d657-cbf533e182cd"
   },
   "outputs": [
    {
     "name": "stdout",
     "output_type": "stream",
     "text": [
      "Creating test database...\n",
      "Age column is of numeric dtype and contains NaN values. Creating 'Age_is_missing' and imputing NaN values with median\n",
      "Fare column is of numeric dtype and contains NaN values. Creating 'Fare_is_missing' and imputing NaN values with median\n",
      "Cabin column is of object dtype and contains NaN values. Creating 'Cabin_is_missing' column\n",
      "Deck column is of object dtype and contains NaN values. Creating 'Deck_is_missing' column\n",
      "FarePerPerson column is of numeric dtype and contains NaN values. Creating 'FarePerPerson_is_missing' and imputing NaN values with median\n",
      "TicketPrefix column is of object dtype and contains NaN values. Creating 'TicketPrefix_is_missing' column\n",
      "Cabin_count column is of numeric dtype and contains NaN values. Creating 'Cabin_count_is_missing' and imputing NaN values with median\n",
      "The following columns have been converted from object to numeric dtype: ['Sex', 'Ticket', 'Cabin', 'Embarked', 'Title', 'Deck', 'TicketPrefix']\n",
      "Final SHAPE >>> X_test: (418, 23)\n"
     ]
    }
   ],
   "source": [
    "# Preparing the test dataset for prediction\n",
    "df_test = pd.read_csv(\"/content/drive/My Drive/Google_Colab/titanic_kaggle/original_files/test.csv\")\n",
    "df_test = process_master(df_test, test_database=True)\n",
    "df_test_PassengerId = df_test.PassengerId #Saving the PassengerId column for later use\n",
    "df_test = df_test.drop(labels = ['Parch', 'Embarked', 'Cabin_is_missing', 'Cabin_count_is_missing', 'PassengerId', 'FarePerPerson', 'Cabin', 'Age', 'Pclass', 'FamilySize', 'Cabin_count', 'Fare', 'Deck_is_missing', 'Ticket', 'Title'],\n",
    "                       axis = 1)"
   ]
  },
  {
   "cell_type": "code",
   "execution_count": 185,
   "metadata": {
    "colab": {
     "base_uri": "https://localhost:8080/",
     "height": 33
    },
    "colab_type": "code",
    "executionInfo": {
     "elapsed": 1072,
     "status": "ok",
     "timestamp": 1598196373048,
     "user": {
      "displayName": "Anshuman Singh",
      "photoUrl": "https://lh3.googleusercontent.com/a-/AOh14Gg5KGs2dfcnZCMe13webWRLHyD7D9R2Um3DTkd8Ug=s64",
      "userId": "00439360438599152891"
     },
     "user_tz": -330
    },
    "id": "qBG25g5jvCAc",
    "outputId": "464b4e1a-6ced-4baa-a0eb-29070c292eef"
   },
   "outputs": [
    {
     "data": {
      "text/plain": [
       "{'FarePerPerson_is_missing', 'Fare_is_missing'}"
      ]
     },
     "execution_count": 185,
     "metadata": {
      "tags": []
     },
     "output_type": "execute_result"
    }
   ],
   "source": [
    "# Checking columns consistency between training and test dataset\n",
    "set(df_test.columns) - set(X_train_combined.columns)"
   ]
  },
  {
   "cell_type": "code",
   "execution_count": 186,
   "metadata": {
    "colab": {
     "base_uri": "https://localhost:8080/",
     "height": 33
    },
    "colab_type": "code",
    "executionInfo": {
     "elapsed": 967,
     "status": "ok",
     "timestamp": 1598196375497,
     "user": {
      "displayName": "Anshuman Singh",
      "photoUrl": "https://lh3.googleusercontent.com/a-/AOh14Gg5KGs2dfcnZCMe13webWRLHyD7D9R2Um3DTkd8Ug=s64",
      "userId": "00439360438599152891"
     },
     "user_tz": -330
    },
    "id": "G4CoJm5jvCAe",
    "outputId": "fad3d1e4-8a77-41b4-c6e7-2bcaa093d0a9"
   },
   "outputs": [
    {
     "data": {
      "text/plain": [
       "set()"
      ]
     },
     "execution_count": 186,
     "metadata": {
      "tags": []
     },
     "output_type": "execute_result"
    }
   ],
   "source": [
    "# Solving column consistency\n",
    "df_test = df_test.drop([\"FarePerPerson_is_missing\", \"Fare_is_missing\"], axis = 1)\n",
    "set(df_test.columns) - set(X_train_combined.columns)"
   ]
  },
  {
   "cell_type": "code",
   "execution_count": 187,
   "metadata": {
    "colab": {
     "base_uri": "https://localhost:8080/",
     "height": 33
    },
    "colab_type": "code",
    "executionInfo": {
     "elapsed": 1127,
     "status": "ok",
     "timestamp": 1598196378266,
     "user": {
      "displayName": "Anshuman Singh",
      "photoUrl": "https://lh3.googleusercontent.com/a-/AOh14Gg5KGs2dfcnZCMe13webWRLHyD7D9R2Um3DTkd8Ug=s64",
      "userId": "00439360438599152891"
     },
     "user_tz": -330
    },
    "id": "LgeaYVBgvCAh",
    "outputId": "27a90ab5-af2e-48c8-9895-c6519cc3b66d"
   },
   "outputs": [
    {
     "data": {
      "text/plain": [
       "set()"
      ]
     },
     "execution_count": 187,
     "metadata": {
      "tags": []
     },
     "output_type": "execute_result"
    }
   ],
   "source": [
    "# Checking Reverse Column Consistency\n",
    "set(X_train_combined.columns) - set(df_test.columns)"
   ]
  },
  {
   "cell_type": "code",
   "execution_count": 188,
   "metadata": {
    "colab": {
     "base_uri": "https://localhost:8080/",
     "height": 228
    },
    "colab_type": "code",
    "executionInfo": {
     "elapsed": 1070,
     "status": "ok",
     "timestamp": 1598196381940,
     "user": {
      "displayName": "Anshuman Singh",
      "photoUrl": "https://lh3.googleusercontent.com/a-/AOh14Gg5KGs2dfcnZCMe13webWRLHyD7D9R2Um3DTkd8Ug=s64",
      "userId": "00439360438599152891"
     },
     "user_tz": -330
    },
    "id": "86CoFLnEvCAm",
    "outputId": "bfd84e9b-44bc-4105-8e87-e620708172a1"
   },
   "outputs": [
    {
     "name": "stdout",
     "output_type": "stream",
     "text": [
      "<class 'pandas.core.frame.DataFrame'>\n",
      "RangeIndex: 418 entries, 0 to 417\n",
      "Data columns (total 6 columns):\n",
      " #   Column                   Non-Null Count  Dtype\n",
      "---  ------                   --------------  -----\n",
      " 0   Sex                      418 non-null    int8 \n",
      " 1   SibSp                    418 non-null    int64\n",
      " 2   Deck                     418 non-null    int8 \n",
      " 3   TicketPrefix             418 non-null    int8 \n",
      " 4   Age_is_missing           418 non-null    bool \n",
      " 5   TicketPrefix_is_missing  418 non-null    bool \n",
      "dtypes: bool(2), int64(1), int8(3)\n",
      "memory usage: 5.4 KB\n"
     ]
    }
   ],
   "source": [
    "#One final check on the test dataset\n",
    "df_test.info()"
   ]
  },
  {
   "cell_type": "markdown",
   "metadata": {
    "colab_type": "text",
    "id": "CzwUIR97vCAo"
   },
   "source": [
    "Now, let's make predicitions and create the submission file"
   ]
  },
  {
   "cell_type": "markdown",
   "metadata": {
    "colab_type": "text",
    "id": "fDWiEXWOvCAo"
   },
   "source": [
    "### Making Predictions and Creating Submissions File"
   ]
  },
  {
   "cell_type": "code",
   "execution_count": 190,
   "metadata": {
    "colab": {},
    "colab_type": "code",
    "executionInfo": {
     "elapsed": 1381,
     "status": "ok",
     "timestamp": 1598196392151,
     "user": {
      "displayName": "Anshuman Singh",
      "photoUrl": "https://lh3.googleusercontent.com/a-/AOh14Gg5KGs2dfcnZCMe13webWRLHyD7D9R2Um3DTkd8Ug=s64",
      "userId": "00439360438599152891"
     },
     "user_tz": -330
    },
    "id": "3U9oXmZbvCAp"
   },
   "outputs": [],
   "source": [
    "# Making prediction from the model\n",
    "preds = rfc.predict(df_test)"
   ]
  },
  {
   "cell_type": "code",
   "execution_count": 191,
   "metadata": {
    "colab": {},
    "colab_type": "code",
    "executionInfo": {
     "elapsed": 1281,
     "status": "ok",
     "timestamp": 1598196409132,
     "user": {
      "displayName": "Anshuman Singh",
      "photoUrl": "https://lh3.googleusercontent.com/a-/AOh14Gg5KGs2dfcnZCMe13webWRLHyD7D9R2Um3DTkd8Ug=s64",
      "userId": "00439360438599152891"
     },
     "user_tz": -330
    },
    "id": "31-jbY-YvCAs"
   },
   "outputs": [],
   "source": [
    "#Creating the submission file\n",
    "submission = pd.DataFrame(data = {\"PassengerId\": df_test_PassengerId, \"Survived\": preds})\n",
    "submission.to_csv(\"/content/drive/My Drive/Google_Colab/titanic_kaggle/submission_RFC_feature_selector_6cols.csv\", index = False)"
   ]
  },
  {
   "cell_type": "code",
   "execution_count": null,
   "metadata": {
    "colab": {},
    "colab_type": "code",
    "id": "G-Exucpgvd_F"
   },
   "outputs": [],
   "source": []
  }
 ],
 "metadata": {
  "colab": {
   "collapsed_sections": [],
   "name": "titanic-notebook.ipynb",
   "provenance": []
  },
  "kernelspec": {
   "display_name": "Python 3",
   "language": "python",
   "name": "python3"
  },
  "language_info": {
   "codemirror_mode": {
    "name": "ipython",
    "version": 3
   },
   "file_extension": ".py",
   "mimetype": "text/x-python",
   "name": "python",
   "nbconvert_exporter": "python",
   "pygments_lexer": "ipython3",
   "version": "3.8.5"
  }
 },
 "nbformat": 4,
 "nbformat_minor": 1
}
