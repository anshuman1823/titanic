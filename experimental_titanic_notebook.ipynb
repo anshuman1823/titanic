{
  "nbformat": 4,
  "nbformat_minor": 0,
  "metadata": {
    "colab": {
      "name": "titanic-notebook.ipynb",
      "provenance": [],
      "collapsed_sections": []
    },
    "kernelspec": {
      "display_name": "Python 3",
      "language": "python",
      "name": "python3"
    },
    "language_info": {
      "codemirror_mode": {
        "name": "ipython",
        "version": 3
      },
      "file_extension": ".py",
      "mimetype": "text/x-python",
      "name": "python",
      "nbconvert_exporter": "python",
      "pygments_lexer": "ipython3",
      "version": "3.8.5"
    }
  },
  "cells": [
    {
      "cell_type": "markdown",
      "metadata": {
        "id": "YU5xnOQROuKq",
        "colab_type": "text"
      },
      "source": [
        "Kaggle Competition link: \"https://www.kaggle.com/c/titanic/overview\""
      ]
    },
    {
      "cell_type": "markdown",
      "metadata": {
        "id": "CoLnBeomOuKs",
        "colab_type": "text"
      },
      "source": [
        "The necessary libraries to be installed have been exported in requirements.txt file. Use `pip install -r requirements.txt` to install the dependencies from the file."
      ]
    },
    {
      "cell_type": "code",
      "metadata": {
        "colab_type": "code",
        "id": "G-Exucpgvd_F",
        "colab": {},
        "outputId": "83453e59-610e-4830-a54b-67aad6771d47"
      },
      "source": [
        "# pip freeze > requirements.txt"
      ],
      "execution_count": null,
      "outputs": [
        {
          "output_type": "stream",
          "text": [
            "Note: you may need to restart the kernel to use updated packages.\n"
          ],
          "name": "stdout"
        }
      ]
    },
    {
      "cell_type": "code",
      "metadata": {
        "id": "HfMrZMWfOuKx",
        "colab_type": "code",
        "colab": {},
        "outputId": "7af5b33d-d9cd-4805-f6a6-b904b1f8b732"
      },
      "source": [
        "pip install -r requirements.txt"
      ],
      "execution_count": null,
      "outputs": [
        {
          "output_type": "stream",
          "text": [
            "Requirement already satisfied: argon2-cffi@ file:///C:/ci/argon2-cffi_1596828585465/work from file:///C:/ci/argon2-cffi_1596828585465/work in d:\\python_self\\kaggle_projects\\titanic\\env\\lib\\site-packages (from -r requirements.txt (line 1)) (20.1.0)\n",
            "Requirement already satisfied: attrs@ file:///tmp/build/80754af9/attrs_1598374659300/work from file:///tmp/build/80754af9/attrs_1598374659300/work in d:\\python_self\\kaggle_projects\\titanic\\env\\lib\\site-packages (from -r requirements.txt (line 2)) (20.1.0)\n",
            "Requirement already satisfied: backcall==0.2.0 in d:\\python_self\\kaggle_projects\\titanic\\env\\lib\\site-packages (from -r requirements.txt (line 3)) (0.2.0)\n",
            "Requirement already satisfied: bleach==3.1.5 in d:\\python_self\\kaggle_projects\\titanic\\env\\lib\\site-packages (from -r requirements.txt (line 4)) (3.1.5)\n",
            "Requirement already satisfied: certifi==2020.6.20 in d:\\python_self\\kaggle_projects\\titanic\\env\\lib\\site-packages (from -r requirements.txt (line 5)) (2020.6.20)\n",
            "Requirement already satisfied: cffi@ file:///C:/ci/cffi_1598352710791/work from file:///C:/ci/cffi_1598352710791/work in d:\\python_self\\kaggle_projects\\titanic\\env\\lib\\site-packages (from -r requirements.txt (line 6)) (1.14.2)\n",
            "Requirement already satisfied: chardet==3.0.4 in d:\\python_self\\kaggle_projects\\titanic\\env\\lib\\site-packages (from -r requirements.txt (line 7)) (3.0.4)\n",
            "Requirement already satisfied: colorama==0.4.3 in d:\\python_self\\kaggle_projects\\titanic\\env\\lib\\site-packages (from -r requirements.txt (line 8)) (0.4.3)\n",
            "Requirement already satisfied: cycler==0.10.0 in d:\\python_self\\kaggle_projects\\titanic\\env\\lib\\site-packages (from -r requirements.txt (line 9)) (0.10.0)\n",
            "Requirement already satisfied: decorator==4.4.2 in d:\\python_self\\kaggle_projects\\titanic\\env\\lib\\site-packages (from -r requirements.txt (line 10)) (4.4.2)\n",
            "Requirement already satisfied: defusedxml==0.6.0 in d:\\python_self\\kaggle_projects\\titanic\\env\\lib\\site-packages (from -r requirements.txt (line 11)) (0.6.0)\n",
            "Requirement already satisfied: entrypoints==0.3 in d:\\python_self\\kaggle_projects\\titanic\\env\\lib\\site-packages (from -r requirements.txt (line 12)) (0.3)\n",
            "Requirement already satisfied: idna==2.10 in d:\\python_self\\kaggle_projects\\titanic\\env\\lib\\site-packages (from -r requirements.txt (line 13)) (2.10)\n",
            "Requirement already satisfied: importlib-metadata@ file:///C:/ci/importlib-metadata_1593446511143/work from file:///C:/ci/importlib-metadata_1593446511143/work in d:\\python_self\\kaggle_projects\\titanic\\env\\lib\\site-packages (from -r requirements.txt (line 14)) (1.7.0)\n",
            "Requirement already satisfied: ipykernel@ file:///C:/ci/ipykernel_1596190155316/work/dist/ipykernel-5.3.4-py3-none-any.whl from file:///C:/ci/ipykernel_1596190155316/work/dist/ipykernel-5.3.4-py3-none-any.whl in d:\\python_self\\kaggle_projects\\titanic\\env\\lib\\site-packages (from -r requirements.txt (line 15)) (5.3.4)\n",
            "Requirement already satisfied: ipython@ file:///C:/ci/ipython_1598371613893/work from file:///C:/ci/ipython_1598371613893/work in d:\\python_self\\kaggle_projects\\titanic\\env\\lib\\site-packages (from -r requirements.txt (line 16)) (7.17.0)\n",
            "Requirement already satisfied: ipython-genutils==0.2.0 in d:\\python_self\\kaggle_projects\\titanic\\env\\lib\\site-packages (from -r requirements.txt (line 17)) (0.2.0)\n",
            "Requirement already satisfied: ipywidgets==7.5.1 in d:\\python_self\\kaggle_projects\\titanic\\env\\lib\\site-packages (from -r requirements.txt (line 18)) (7.5.1)\n",
            "Requirement already satisfied: jedi@ file:///C:/ci/jedi_1598353661586/work from file:///C:/ci/jedi_1598353661586/work in d:\\python_self\\kaggle_projects\\titanic\\env\\lib\\site-packages (from -r requirements.txt (line 19)) (0.17.2)\n",
            "Requirement already satisfied: Jinja2==2.11.2 in d:\\python_self\\kaggle_projects\\titanic\\env\\lib\\site-packages (from -r requirements.txt (line 20)) (2.11.2)\n",
            "Requirement already satisfied: joblib@ file:///tmp/build/80754af9/joblib_1594236160679/work from file:///tmp/build/80754af9/joblib_1594236160679/work in d:\\python_self\\kaggle_projects\\titanic\\env\\lib\\site-packages (from -r requirements.txt (line 21)) (0.16.0)\n",
            "Requirement already satisfied: jsonschema==3.2.0 in d:\\python_self\\kaggle_projects\\titanic\\env\\lib\\site-packages (from -r requirements.txt (line 22)) (3.2.0)\n",
            "Requirement already satisfied: jupyter==1.0.0 in d:\\python_self\\kaggle_projects\\titanic\\env\\lib\\site-packages (from -r requirements.txt (line 23)) (1.0.0)\n",
            "Requirement already satisfied: jupyter-client@ file:///tmp/build/80754af9/jupyter_client_1594826976318/work from file:///tmp/build/80754af9/jupyter_client_1594826976318/work in d:\\python_self\\kaggle_projects\\titanic\\env\\lib\\site-packages (from -r requirements.txt (line 24)) (6.1.6)\n",
            "Requirement already satisfied: jupyter-console==6.1.0 in d:\\python_self\\kaggle_projects\\titanic\\env\\lib\\site-packages (from -r requirements.txt (line 25)) (6.1.0)\n",
            "Requirement already satisfied: jupyter-core==4.6.3 in d:\\python_self\\kaggle_projects\\titanic\\env\\lib\\site-packages (from -r requirements.txt (line 26)) (4.6.3)\n",
            "Requirement already satisfied: kaggle==1.5.8 in d:\\python_self\\kaggle_projects\\titanic\\env\\lib\\site-packages (from -r requirements.txt (line 27)) (1.5.8)\n",
            "Requirement already satisfied: kiwisolver==1.2.0 in d:\\python_self\\kaggle_projects\\titanic\\env\\lib\\site-packages (from -r requirements.txt (line 28)) (1.2.0)\n",
            "Requirement already satisfied: MarkupSafe==1.1.1 in d:\\python_self\\kaggle_projects\\titanic\\env\\lib\\site-packages (from -r requirements.txt (line 29)) (1.1.1)\n",
            "Requirement already satisfied: matplotlib@ file:///C:/ci/matplotlib-base_1592837548929/work from file:///C:/ci/matplotlib-base_1592837548929/work in d:\\python_self\\kaggle_projects\\titanic\\env\\lib\\site-packages (from -r requirements.txt (line 30)) (3.2.2)\n",
            "Requirement already satisfied: mistune==0.8.4 in d:\\python_self\\kaggle_projects\\titanic\\env\\lib\\site-packages (from -r requirements.txt (line 31)) (0.8.4)\n",
            "Requirement already satisfied: mkl-fft==1.1.0 in d:\\python_self\\kaggle_projects\\titanic\\env\\lib\\site-packages (from -r requirements.txt (line 32)) (1.1.0)\n",
            "Requirement already satisfied: mkl-random==1.1.1 in d:\\python_self\\kaggle_projects\\titanic\\env\\lib\\site-packages (from -r requirements.txt (line 33)) (1.1.1)\n",
            "Requirement already satisfied: mkl-service==2.3.0 in d:\\python_self\\kaggle_projects\\titanic\\env\\lib\\site-packages (from -r requirements.txt (line 34)) (2.3.0)\n",
            "Requirement already satisfied: nbconvert==5.6.1 in d:\\python_self\\kaggle_projects\\titanic\\env\\lib\\site-packages (from -r requirements.txt (line 35)) (5.6.1)\n",
            "Requirement already satisfied: nbformat==5.0.7 in d:\\python_self\\kaggle_projects\\titanic\\env\\lib\\site-packages (from -r requirements.txt (line 36)) (5.0.7)\n",
            "Requirement already satisfied: notebook@ file:///C:/ci/notebook_1596840175976/work from file:///C:/ci/notebook_1596840175976/work in d:\\python_self\\kaggle_projects\\titanic\\env\\lib\\site-packages (from -r requirements.txt (line 37)) (6.1.1)\n",
            "Requirement already satisfied: numpy@ file:///C:/ci/numpy_and_numpy_base_1596215850360/work from file:///C:/ci/numpy_and_numpy_base_1596215850360/work in d:\\python_self\\kaggle_projects\\titanic\\env\\lib\\site-packages (from -r requirements.txt (line 38)) (1.19.1)\n",
            "Requirement already satisfied: packaging==20.4 in d:\\python_self\\kaggle_projects\\titanic\\env\\lib\\site-packages (from -r requirements.txt (line 39)) (20.4)\n",
            "Requirement already satisfied: pandas@ file:///C:/ci/pandas_1592833613419/work from file:///C:/ci/pandas_1592833613419/work in d:\\python_self\\kaggle_projects\\titanic\\env\\lib\\site-packages (from -r requirements.txt (line 40)) (1.0.5)\n",
            "Requirement already satisfied: pandocfilters==1.4.2 in d:\\python_self\\kaggle_projects\\titanic\\env\\lib\\site-packages (from -r requirements.txt (line 41)) (1.4.2)\n",
            "Requirement already satisfied: parso==0.7.0 in d:\\python_self\\kaggle_projects\\titanic\\env\\lib\\site-packages (from -r requirements.txt (line 42)) (0.7.0)\n",
            "Requirement already satisfied: pickleshare==0.7.5 in d:\\python_self\\kaggle_projects\\titanic\\env\\lib\\site-packages (from -r requirements.txt (line 43)) (0.7.5)\n",
            "Requirement already satisfied: prometheus-client==0.8.0 in d:\\python_self\\kaggle_projects\\titanic\\env\\lib\\site-packages (from -r requirements.txt (line 44)) (0.8.0)\n",
            "Requirement already satisfied: prompt-toolkit==3.0.5 in d:\\python_self\\kaggle_projects\\titanic\\env\\lib\\site-packages (from -r requirements.txt (line 45)) (3.0.5)\n",
            "Requirement already satisfied: pycparser@ file:///tmp/build/80754af9/pycparser_1594388511720/work from file:///tmp/build/80754af9/pycparser_1594388511720/work in d:\\python_self\\kaggle_projects\\titanic\\env\\lib\\site-packages (from -r requirements.txt (line 46)) (2.20)\n",
            "Requirement already satisfied: Pygments==2.6.1 in d:\\python_self\\kaggle_projects\\titanic\\env\\lib\\site-packages (from -r requirements.txt (line 47)) (2.6.1)\n",
            "Requirement already satisfied: pyparsing==2.4.7 in d:\\python_self\\kaggle_projects\\titanic\\env\\lib\\site-packages (from -r requirements.txt (line 48)) (2.4.7)\n",
            "Requirement already satisfied: pyrsistent==0.16.0 in d:\\python_self\\kaggle_projects\\titanic\\env\\lib\\site-packages (from -r requirements.txt (line 49)) (0.16.0)\n",
            "Requirement already satisfied: python-dateutil==2.8.1 in d:\\python_self\\kaggle_projects\\titanic\\env\\lib\\site-packages (from -r requirements.txt (line 50)) (2.8.1)\n",
            "Requirement already satisfied: python-slugify==4.0.1 in d:\\python_self\\kaggle_projects\\titanic\\env\\lib\\site-packages (from -r requirements.txt (line 51)) (4.0.1)\n",
            "Requirement already satisfied: pytz==2020.1 in d:\\python_self\\kaggle_projects\\titanic\\env\\lib\\site-packages (from -r requirements.txt (line 52)) (2020.1)\n",
            "Requirement already satisfied: pywin32==227 in d:\\python_self\\kaggle_projects\\titanic\\env\\lib\\site-packages (from -r requirements.txt (line 53)) (227)\n",
            "Requirement already satisfied: pywinpty==0.5.7 in d:\\python_self\\kaggle_projects\\titanic\\env\\lib\\site-packages (from -r requirements.txt (line 54)) (0.5.7)\n",
            "Requirement already satisfied: pyzmq==19.0.1 in d:\\python_self\\kaggle_projects\\titanic\\env\\lib\\site-packages (from -r requirements.txt (line 55)) (19.0.1)\n",
            "Requirement already satisfied: qtconsole@ file:///tmp/build/80754af9/qtconsole_1598374667791/work from file:///tmp/build/80754af9/qtconsole_1598374667791/work in d:\\python_self\\kaggle_projects\\titanic\\env\\lib\\site-packages (from -r requirements.txt (line 56)) (4.7.6)\n",
            "Requirement already satisfied: QtPy==1.9.0 in d:\\python_self\\kaggle_projects\\titanic\\env\\lib\\site-packages (from -r requirements.txt (line 57)) (1.9.0)\n",
            "Requirement already satisfied: requests==2.24.0 in d:\\python_self\\kaggle_projects\\titanic\\env\\lib\\site-packages (from -r requirements.txt (line 58)) (2.24.0)\n",
            "Requirement already satisfied: scikit-learn@ file:///C:/ci/scikit-learn_1592853510272/work from file:///C:/ci/scikit-learn_1592853510272/work in d:\\python_self\\kaggle_projects\\titanic\\env\\lib\\site-packages (from -r requirements.txt (line 59)) (0.23.1)\n",
            "Requirement already satisfied: scipy@ file:///C:/ci/scipy_1592916963468/work from file:///C:/ci/scipy_1592916963468/work in d:\\python_self\\kaggle_projects\\titanic\\env\\lib\\site-packages (from -r requirements.txt (line 60)) (1.5.0)\n",
            "Requirement already satisfied: seaborn==0.10.1 in d:\\python_self\\kaggle_projects\\titanic\\env\\lib\\site-packages (from -r requirements.txt (line 61)) (0.10.1)\n",
            "Requirement already satisfied: Send2Trash==1.5.0 in d:\\python_self\\kaggle_projects\\titanic\\env\\lib\\site-packages (from -r requirements.txt (line 62)) (1.5.0)\n",
            "Requirement already satisfied: sip==4.19.13 in d:\\python_self\\kaggle_projects\\titanic\\env\\lib\\site-packages (from -r requirements.txt (line 63)) (4.19.13)\n",
            "Requirement already satisfied: six==1.15.0 in d:\\python_self\\kaggle_projects\\titanic\\env\\lib\\site-packages (from -r requirements.txt (line 64)) (1.15.0)\n",
            "Requirement already satisfied: slugify==0.0.1 in d:\\python_self\\kaggle_projects\\titanic\\env\\lib\\site-packages (from -r requirements.txt (line 65)) (0.0.1)\n",
            "Requirement already satisfied: terminado==0.8.3 in d:\\python_self\\kaggle_projects\\titanic\\env\\lib\\site-packages (from -r requirements.txt (line 66)) (0.8.3)\n",
            "Requirement already satisfied: testpath==0.4.4 in d:\\python_self\\kaggle_projects\\titanic\\env\\lib\\site-packages (from -r requirements.txt (line 67)) (0.4.4)\n",
            "Requirement already satisfied: text-unidecode==1.3 in d:\\python_self\\kaggle_projects\\titanic\\env\\lib\\site-packages (from -r requirements.txt (line 68)) (1.3)\n",
            "Requirement already satisfied: threadpoolctl@ file:///tmp/tmp9twdgx9k/threadpoolctl-2.1.0-py3-none-any.whl from file:///tmp/tmp9twdgx9k/threadpoolctl-2.1.0-py3-none-any.whl in d:\\python_self\\kaggle_projects\\titanic\\env\\lib\\site-packages (from -r requirements.txt (line 69)) (2.1.0)\n",
            "Requirement already satisfied: tornado==6.0.4 in d:\\python_self\\kaggle_projects\\titanic\\env\\lib\\site-packages (from -r requirements.txt (line 70)) (6.0.4)\n",
            "Requirement already satisfied: tqdm==4.48.2 in d:\\python_self\\kaggle_projects\\titanic\\env\\lib\\site-packages (from -r requirements.txt (line 71)) (4.48.2)\n",
            "Requirement already satisfied: traitlets==4.3.3 in d:\\python_self\\kaggle_projects\\titanic\\env\\lib\\site-packages (from -r requirements.txt (line 72)) (4.3.3)\n",
            "Requirement already satisfied: urllib3==1.24.3 in d:\\python_self\\kaggle_projects\\titanic\\env\\lib\\site-packages (from -r requirements.txt (line 73)) (1.24.3)\n",
            "Requirement already satisfied: wcwidth@ file:///tmp/build/80754af9/wcwidth_1593447189090/work from file:///tmp/build/80754af9/wcwidth_1593447189090/work in d:\\python_self\\kaggle_projects\\titanic\\env\\lib\\site-packages (from -r requirements.txt (line 74)) (0.2.5)\n",
            "Requirement already satisfied: webencodings==0.5.1 in d:\\python_self\\kaggle_projects\\titanic\\env\\lib\\site-packages (from -r requirements.txt (line 75)) (0.5.1)\n",
            "Requirement already satisfied: widgetsnbextension==3.5.1 in d:\\python_self\\kaggle_projects\\titanic\\env\\lib\\site-packages (from -r requirements.txt (line 76)) (3.5.1)\n",
            "Requirement already satisfied: wincertstore==0.2 in d:\\python_self\\kaggle_projects\\titanic\\env\\lib\\site-packages (from -r requirements.txt (line 77)) (0.2)\n",
            "Requirement already satisfied: zipp==3.1.0 in d:\\python_self\\kaggle_projects\\titanic\\env\\lib\\site-packages (from -r requirements.txt (line 78)) (3.1.0)\n",
            "Requirement already satisfied: setuptools>=18.5 in d:\\python_self\\kaggle_projects\\titanic\\env\\lib\\site-packages (from ipython@ file:///C:/ci/ipython_1598371613893/work->-r requirements.txt (line 16)) (49.2.0.post20200714)\n",
            "Note: you may need to restart the kernel to use updated packages.\n"
          ],
          "name": "stdout"
        }
      ]
    },
    {
      "cell_type": "code",
      "metadata": {
        "_cell_guid": "79c7e3d0-c299-4dcb-8224-4455121ee9b0",
        "_uuid": "d629ff2d2480ee46fbb7e2d37f6b5fab8052498a",
        "colab_type": "code",
        "id": "gWhgzsS6BX3Y",
        "colab": {
          "base_uri": "https://localhost:8080/",
          "height": 72
        },
        "outputId": "30ff337f-e665-4a27-904c-6b1a7262d45b"
      },
      "source": [
        "#Importing frequently used libraries\n",
        "\n",
        "import pandas as pd\n",
        "import numpy as np\n",
        "import matplotlib.pyplot as plt\n",
        "%matplotlib inline\n",
        "import seaborn as sns\n",
        "import os"
      ],
      "execution_count": 29,
      "outputs": [
        {
          "output_type": "stream",
          "text": [
            "/usr/local/lib/python3.6/dist-packages/statsmodels/tools/_testing.py:19: FutureWarning: pandas.util.testing is deprecated. Use the functions in the public API at pandas.testing instead.\n",
            "  import pandas.util.testing as tm\n"
          ],
          "name": "stderr"
        }
      ]
    },
    {
      "cell_type": "markdown",
      "metadata": {
        "id": "j663ljm6OuK4",
        "colab_type": "text"
      },
      "source": [
        "Importing the training dataset from GitHub and saving the dataset in the \"Data\" folder in the current directory."
      ]
    },
    {
      "cell_type": "code",
      "metadata": {
        "id": "tsBbE4frOuK4",
        "colab_type": "code",
        "colab": {}
      },
      "source": [
        "# Creating Data folder in the current directory to save datasets\n",
        "\n",
        "file_path = os.path.join(\"Data\")\n",
        "os.makedirs(file_path, exist_ok = True)\n",
        "\n",
        "# Importing urllib and using it to download the train dataset from GitHub into \"Data\" folder\n",
        "import urllib\n",
        "\n",
        "train_url = \"https://raw.githubusercontent.com/anshuman1823/titanic/master/Data/train.csv\"\n",
        "urllib.request.urlretrieve(train_url, filename = os.path.join(file_path, \"train.csv\"));"
      ],
      "execution_count": 30,
      "outputs": []
    },
    {
      "cell_type": "code",
      "metadata": {
        "colab_type": "code",
        "id": "kHUfqu2DBX3e",
        "colab": {
          "base_uri": "https://localhost:8080/",
          "height": 231
        },
        "outputId": "ca054b0d-ef2c-409d-819d-868028e08630"
      },
      "source": [
        "# Viewing the train dataset\n",
        "df_train = pd.read_csv(\"Data/train.csv\")\n",
        "df_train.head()"
      ],
      "execution_count": 31,
      "outputs": [
        {
          "output_type": "execute_result",
          "data": {
            "text/html": [
              "<div>\n",
              "<style scoped>\n",
              "    .dataframe tbody tr th:only-of-type {\n",
              "        vertical-align: middle;\n",
              "    }\n",
              "\n",
              "    .dataframe tbody tr th {\n",
              "        vertical-align: top;\n",
              "    }\n",
              "\n",
              "    .dataframe thead th {\n",
              "        text-align: right;\n",
              "    }\n",
              "</style>\n",
              "<table border=\"1\" class=\"dataframe\">\n",
              "  <thead>\n",
              "    <tr style=\"text-align: right;\">\n",
              "      <th></th>\n",
              "      <th>PassengerId</th>\n",
              "      <th>Survived</th>\n",
              "      <th>Pclass</th>\n",
              "      <th>Name</th>\n",
              "      <th>Sex</th>\n",
              "      <th>Age</th>\n",
              "      <th>SibSp</th>\n",
              "      <th>Parch</th>\n",
              "      <th>Ticket</th>\n",
              "      <th>Fare</th>\n",
              "      <th>Cabin</th>\n",
              "      <th>Embarked</th>\n",
              "    </tr>\n",
              "  </thead>\n",
              "  <tbody>\n",
              "    <tr>\n",
              "      <th>0</th>\n",
              "      <td>1</td>\n",
              "      <td>0</td>\n",
              "      <td>3</td>\n",
              "      <td>Braund, Mr. Owen Harris</td>\n",
              "      <td>male</td>\n",
              "      <td>22.0</td>\n",
              "      <td>1</td>\n",
              "      <td>0</td>\n",
              "      <td>A/5 21171</td>\n",
              "      <td>7.2500</td>\n",
              "      <td>NaN</td>\n",
              "      <td>S</td>\n",
              "    </tr>\n",
              "    <tr>\n",
              "      <th>1</th>\n",
              "      <td>2</td>\n",
              "      <td>1</td>\n",
              "      <td>1</td>\n",
              "      <td>Cumings, Mrs. John Bradley (Florence Briggs Th...</td>\n",
              "      <td>female</td>\n",
              "      <td>38.0</td>\n",
              "      <td>1</td>\n",
              "      <td>0</td>\n",
              "      <td>PC 17599</td>\n",
              "      <td>71.2833</td>\n",
              "      <td>C85</td>\n",
              "      <td>C</td>\n",
              "    </tr>\n",
              "    <tr>\n",
              "      <th>2</th>\n",
              "      <td>3</td>\n",
              "      <td>1</td>\n",
              "      <td>3</td>\n",
              "      <td>Heikkinen, Miss. Laina</td>\n",
              "      <td>female</td>\n",
              "      <td>26.0</td>\n",
              "      <td>0</td>\n",
              "      <td>0</td>\n",
              "      <td>STON/O2. 3101282</td>\n",
              "      <td>7.9250</td>\n",
              "      <td>NaN</td>\n",
              "      <td>S</td>\n",
              "    </tr>\n",
              "    <tr>\n",
              "      <th>3</th>\n",
              "      <td>4</td>\n",
              "      <td>1</td>\n",
              "      <td>1</td>\n",
              "      <td>Futrelle, Mrs. Jacques Heath (Lily May Peel)</td>\n",
              "      <td>female</td>\n",
              "      <td>35.0</td>\n",
              "      <td>1</td>\n",
              "      <td>0</td>\n",
              "      <td>113803</td>\n",
              "      <td>53.1000</td>\n",
              "      <td>C123</td>\n",
              "      <td>S</td>\n",
              "    </tr>\n",
              "    <tr>\n",
              "      <th>4</th>\n",
              "      <td>5</td>\n",
              "      <td>0</td>\n",
              "      <td>3</td>\n",
              "      <td>Allen, Mr. William Henry</td>\n",
              "      <td>male</td>\n",
              "      <td>35.0</td>\n",
              "      <td>0</td>\n",
              "      <td>0</td>\n",
              "      <td>373450</td>\n",
              "      <td>8.0500</td>\n",
              "      <td>NaN</td>\n",
              "      <td>S</td>\n",
              "    </tr>\n",
              "  </tbody>\n",
              "</table>\n",
              "</div>"
            ],
            "text/plain": [
              "   PassengerId  Survived  Pclass  ...     Fare Cabin  Embarked\n",
              "0            1         0       3  ...   7.2500   NaN         S\n",
              "1            2         1       1  ...  71.2833   C85         C\n",
              "2            3         1       3  ...   7.9250   NaN         S\n",
              "3            4         1       1  ...  53.1000  C123         S\n",
              "4            5         0       3  ...   8.0500   NaN         S\n",
              "\n",
              "[5 rows x 12 columns]"
            ]
          },
          "metadata": {
            "tags": []
          },
          "execution_count": 31
        }
      ]
    },
    {
      "cell_type": "markdown",
      "metadata": {
        "colab_type": "text",
        "id": "pBcS1_weBX3j"
      },
      "source": [
        "# Pre-Processing Data"
      ]
    },
    {
      "cell_type": "code",
      "metadata": {
        "colab_type": "code",
        "id": "MmSP20DIBX3j",
        "colab": {
          "base_uri": "https://localhost:8080/",
          "height": 354
        },
        "outputId": "af7984a5-f563-40f5-f28d-2410d6c53dda"
      },
      "source": [
        "df_train.info()"
      ],
      "execution_count": 32,
      "outputs": [
        {
          "output_type": "stream",
          "text": [
            "<class 'pandas.core.frame.DataFrame'>\n",
            "RangeIndex: 891 entries, 0 to 890\n",
            "Data columns (total 12 columns):\n",
            " #   Column       Non-Null Count  Dtype  \n",
            "---  ------       --------------  -----  \n",
            " 0   PassengerId  891 non-null    int64  \n",
            " 1   Survived     891 non-null    int64  \n",
            " 2   Pclass       891 non-null    int64  \n",
            " 3   Name         891 non-null    object \n",
            " 4   Sex          891 non-null    object \n",
            " 5   Age          714 non-null    float64\n",
            " 6   SibSp        891 non-null    int64  \n",
            " 7   Parch        891 non-null    int64  \n",
            " 8   Ticket       891 non-null    object \n",
            " 9   Fare         891 non-null    float64\n",
            " 10  Cabin        204 non-null    object \n",
            " 11  Embarked     889 non-null    object \n",
            "dtypes: float64(2), int64(5), object(5)\n",
            "memory usage: 83.7+ KB\n"
          ],
          "name": "stdout"
        }
      ]
    },
    {
      "cell_type": "markdown",
      "metadata": {
        "colab_type": "text",
        "id": "-n5clsNeBX3o"
      },
      "source": [
        "The following insights can be made from the above:\n",
        "* NaN values in Age column will need to be treated.\n",
        "* NaN values in Cabin mean No Cabin allotted."
      ]
    },
    {
      "cell_type": "markdown",
      "metadata": {
        "colab_type": "text",
        "id": "SlYk7K7dBX3o"
      },
      "source": [
        "Before going on to pre-process the data, we will do basic Feature Engineering to create new features to better capture the trends of the data. We will:\n",
        "1. Create a function to extract Title from the Name column and discard the Name column.\n",
        "2. Extract Deck information from the Cabin column (first alphabet indicated Deck) and store it in a separate column called \"Deck\".\n",
        "3. Create a column \"FamilySize\" which equals the sum of Parch and SibSp columns.\n",
        "4. Create a column \"FarePerPerson\" which equals total fare divided by FamilySize + 1.\n",
        "5. Create a function to extract Ticket Prefix and store it in a separate column \"TicketPrefix\".\n",
        "6. Create a column with no. of cabins (if Cabin allotted)."
      ]
    },
    {
      "cell_type": "code",
      "metadata": {
        "colab_type": "code",
        "id": "9F3dZacLBX3p",
        "colab": {
          "base_uri": "https://localhost:8080/",
          "height": 231
        },
        "outputId": "38abca71-8454-431a-8d69-316dc2bf0aaf"
      },
      "source": [
        "# Creating a dummy database to check the working of the custom functions\n",
        "df_tmp = df_train.copy()\n",
        "df_tmp.head(5)"
      ],
      "execution_count": 33,
      "outputs": [
        {
          "output_type": "execute_result",
          "data": {
            "text/html": [
              "<div>\n",
              "<style scoped>\n",
              "    .dataframe tbody tr th:only-of-type {\n",
              "        vertical-align: middle;\n",
              "    }\n",
              "\n",
              "    .dataframe tbody tr th {\n",
              "        vertical-align: top;\n",
              "    }\n",
              "\n",
              "    .dataframe thead th {\n",
              "        text-align: right;\n",
              "    }\n",
              "</style>\n",
              "<table border=\"1\" class=\"dataframe\">\n",
              "  <thead>\n",
              "    <tr style=\"text-align: right;\">\n",
              "      <th></th>\n",
              "      <th>PassengerId</th>\n",
              "      <th>Survived</th>\n",
              "      <th>Pclass</th>\n",
              "      <th>Name</th>\n",
              "      <th>Sex</th>\n",
              "      <th>Age</th>\n",
              "      <th>SibSp</th>\n",
              "      <th>Parch</th>\n",
              "      <th>Ticket</th>\n",
              "      <th>Fare</th>\n",
              "      <th>Cabin</th>\n",
              "      <th>Embarked</th>\n",
              "    </tr>\n",
              "  </thead>\n",
              "  <tbody>\n",
              "    <tr>\n",
              "      <th>0</th>\n",
              "      <td>1</td>\n",
              "      <td>0</td>\n",
              "      <td>3</td>\n",
              "      <td>Braund, Mr. Owen Harris</td>\n",
              "      <td>male</td>\n",
              "      <td>22.0</td>\n",
              "      <td>1</td>\n",
              "      <td>0</td>\n",
              "      <td>A/5 21171</td>\n",
              "      <td>7.2500</td>\n",
              "      <td>NaN</td>\n",
              "      <td>S</td>\n",
              "    </tr>\n",
              "    <tr>\n",
              "      <th>1</th>\n",
              "      <td>2</td>\n",
              "      <td>1</td>\n",
              "      <td>1</td>\n",
              "      <td>Cumings, Mrs. John Bradley (Florence Briggs Th...</td>\n",
              "      <td>female</td>\n",
              "      <td>38.0</td>\n",
              "      <td>1</td>\n",
              "      <td>0</td>\n",
              "      <td>PC 17599</td>\n",
              "      <td>71.2833</td>\n",
              "      <td>C85</td>\n",
              "      <td>C</td>\n",
              "    </tr>\n",
              "    <tr>\n",
              "      <th>2</th>\n",
              "      <td>3</td>\n",
              "      <td>1</td>\n",
              "      <td>3</td>\n",
              "      <td>Heikkinen, Miss. Laina</td>\n",
              "      <td>female</td>\n",
              "      <td>26.0</td>\n",
              "      <td>0</td>\n",
              "      <td>0</td>\n",
              "      <td>STON/O2. 3101282</td>\n",
              "      <td>7.9250</td>\n",
              "      <td>NaN</td>\n",
              "      <td>S</td>\n",
              "    </tr>\n",
              "    <tr>\n",
              "      <th>3</th>\n",
              "      <td>4</td>\n",
              "      <td>1</td>\n",
              "      <td>1</td>\n",
              "      <td>Futrelle, Mrs. Jacques Heath (Lily May Peel)</td>\n",
              "      <td>female</td>\n",
              "      <td>35.0</td>\n",
              "      <td>1</td>\n",
              "      <td>0</td>\n",
              "      <td>113803</td>\n",
              "      <td>53.1000</td>\n",
              "      <td>C123</td>\n",
              "      <td>S</td>\n",
              "    </tr>\n",
              "    <tr>\n",
              "      <th>4</th>\n",
              "      <td>5</td>\n",
              "      <td>0</td>\n",
              "      <td>3</td>\n",
              "      <td>Allen, Mr. William Henry</td>\n",
              "      <td>male</td>\n",
              "      <td>35.0</td>\n",
              "      <td>0</td>\n",
              "      <td>0</td>\n",
              "      <td>373450</td>\n",
              "      <td>8.0500</td>\n",
              "      <td>NaN</td>\n",
              "      <td>S</td>\n",
              "    </tr>\n",
              "  </tbody>\n",
              "</table>\n",
              "</div>"
            ],
            "text/plain": [
              "   PassengerId  Survived  Pclass  ...     Fare Cabin  Embarked\n",
              "0            1         0       3  ...   7.2500   NaN         S\n",
              "1            2         1       1  ...  71.2833   C85         C\n",
              "2            3         1       3  ...   7.9250   NaN         S\n",
              "3            4         1       1  ...  53.1000  C123         S\n",
              "4            5         0       3  ...   8.0500   NaN         S\n",
              "\n",
              "[5 rows x 12 columns]"
            ]
          },
          "metadata": {
            "tags": []
          },
          "execution_count": 33
        }
      ]
    },
    {
      "cell_type": "markdown",
      "metadata": {
        "colab_type": "text",
        "id": "Uwi_k55WBX3t"
      },
      "source": [
        "We will classify the following titles for males [\"Mr.\", \"Master\", \"Col.\", \"Major\", \"Rev.\", \"Dr.\"] and the following for females [\"Miss.\", \"Ms.\", \"Mrs.\", \"Dr.\"]. People with any other title will be given Mr./Miss. according to their Sex."
      ]
    },
    {
      "cell_type": "code",
      "metadata": {
        "colab_type": "code",
        "id": "o58w0AxnBX3u",
        "colab": {}
      },
      "source": [
        "# Creating a sub function for classifying titles\n",
        "def return_title(df):\n",
        "    x = df.Title\n",
        "    if x in [\"Mr.\", \"Master\", \"Col.\", \"Major\", \"Rev.\"]:\n",
        "        return x\n",
        "    elif x in [\"Miss.\", \"Ms.\"]:\n",
        "        return \"Miss.\"\n",
        "    elif x in [\"Mrs.\"]:\n",
        "        return \"Mrs.\"\n",
        "    elif x in [\"Dr.\"]:\n",
        "        return \"Dr.\"\n",
        "    elif df['Sex'] is \"male\":\n",
        "        return \"Mr.\"\n",
        "    else:\n",
        "        return \"Miss.\""
      ],
      "execution_count": 34,
      "outputs": []
    },
    {
      "cell_type": "code",
      "metadata": {
        "colab_type": "code",
        "id": "AkPjPVFWBX3x",
        "colab": {}
      },
      "source": [
        "# Creating a function to extract Title information from the Name column and store it in \"Title\" column\n",
        "# using return_title function. Then finally discarding the Name Columns.\n",
        "def Title_extract(df):\n",
        "    df[\"Title\"] = df.Name.str.split(\" \").str[1]\n",
        "    df[\"Title\"] = df.apply(return_title, axis = 1)\n",
        "    df = df.drop([\"Name\"], axis = 1)\n",
        "    return df"
      ],
      "execution_count": 35,
      "outputs": []
    },
    {
      "cell_type": "code",
      "metadata": {
        "colab_type": "code",
        "id": "0G7rbYEXBX31",
        "colab": {
          "base_uri": "https://localhost:8080/",
          "height": 283
        },
        "outputId": "4291b009-c892-4859-982e-41bc463671f4"
      },
      "source": [
        "# Checking the working of the above function\n",
        "df_tmp = Title_extract(df_tmp)\n",
        "df_tmp.Title.value_counts(), df_tmp.head()"
      ],
      "execution_count": 36,
      "outputs": [
        {
          "output_type": "execute_result",
          "data": {
            "text/plain": [
              "(Mr.      502\n",
              " Miss.    253\n",
              " Mrs.     121\n",
              " Dr.        7\n",
              " Rev.       6\n",
              " Col.       2\n",
              " Name: Title, dtype: int64,\n",
              "    PassengerId  Survived  Pclass     Sex  ...     Fare  Cabin  Embarked  Title\n",
              " 0            1         0       3    male  ...   7.2500    NaN         S    Mr.\n",
              " 1            2         1       1  female  ...  71.2833    C85         C   Mrs.\n",
              " 2            3         1       3  female  ...   7.9250    NaN         S  Miss.\n",
              " 3            4         1       1  female  ...  53.1000   C123         S   Mrs.\n",
              " 4            5         0       3    male  ...   8.0500    NaN         S    Mr.\n",
              " \n",
              " [5 rows x 12 columns])"
            ]
          },
          "metadata": {
            "tags": []
          },
          "execution_count": 36
        }
      ]
    },
    {
      "cell_type": "code",
      "metadata": {
        "colab_type": "code",
        "id": "T9vy8N3QBX38",
        "colab": {}
      },
      "source": [
        "# Creating a column to extract the deck info (first alphabet from the cabin column) and\n",
        "# store it in a separate \"Deck\" column\n",
        "def Deck(df):\n",
        "    df[\"Deck\"] = df.Cabin.apply(lambda x: np.nan if pd.isna(x) else x[0])\n",
        "    return df"
      ],
      "execution_count": 37,
      "outputs": []
    },
    {
      "cell_type": "code",
      "metadata": {
        "colab_type": "code",
        "id": "bdJQX6EUBX4B",
        "colab": {
          "base_uri": "https://localhost:8080/",
          "height": 197
        },
        "outputId": "81ee629f-ea4b-4829-fb80-9c95c9ce10bc"
      },
      "source": [
        "# Checking the working of Deck function\n",
        "df_tmp = Deck(df_tmp)\n",
        "df_tmp.head()"
      ],
      "execution_count": 38,
      "outputs": [
        {
          "output_type": "execute_result",
          "data": {
            "text/html": [
              "<div>\n",
              "<style scoped>\n",
              "    .dataframe tbody tr th:only-of-type {\n",
              "        vertical-align: middle;\n",
              "    }\n",
              "\n",
              "    .dataframe tbody tr th {\n",
              "        vertical-align: top;\n",
              "    }\n",
              "\n",
              "    .dataframe thead th {\n",
              "        text-align: right;\n",
              "    }\n",
              "</style>\n",
              "<table border=\"1\" class=\"dataframe\">\n",
              "  <thead>\n",
              "    <tr style=\"text-align: right;\">\n",
              "      <th></th>\n",
              "      <th>PassengerId</th>\n",
              "      <th>Survived</th>\n",
              "      <th>Pclass</th>\n",
              "      <th>Sex</th>\n",
              "      <th>Age</th>\n",
              "      <th>SibSp</th>\n",
              "      <th>Parch</th>\n",
              "      <th>Ticket</th>\n",
              "      <th>Fare</th>\n",
              "      <th>Cabin</th>\n",
              "      <th>Embarked</th>\n",
              "      <th>Title</th>\n",
              "      <th>Deck</th>\n",
              "    </tr>\n",
              "  </thead>\n",
              "  <tbody>\n",
              "    <tr>\n",
              "      <th>0</th>\n",
              "      <td>1</td>\n",
              "      <td>0</td>\n",
              "      <td>3</td>\n",
              "      <td>male</td>\n",
              "      <td>22.0</td>\n",
              "      <td>1</td>\n",
              "      <td>0</td>\n",
              "      <td>A/5 21171</td>\n",
              "      <td>7.2500</td>\n",
              "      <td>NaN</td>\n",
              "      <td>S</td>\n",
              "      <td>Mr.</td>\n",
              "      <td>NaN</td>\n",
              "    </tr>\n",
              "    <tr>\n",
              "      <th>1</th>\n",
              "      <td>2</td>\n",
              "      <td>1</td>\n",
              "      <td>1</td>\n",
              "      <td>female</td>\n",
              "      <td>38.0</td>\n",
              "      <td>1</td>\n",
              "      <td>0</td>\n",
              "      <td>PC 17599</td>\n",
              "      <td>71.2833</td>\n",
              "      <td>C85</td>\n",
              "      <td>C</td>\n",
              "      <td>Mrs.</td>\n",
              "      <td>C</td>\n",
              "    </tr>\n",
              "    <tr>\n",
              "      <th>2</th>\n",
              "      <td>3</td>\n",
              "      <td>1</td>\n",
              "      <td>3</td>\n",
              "      <td>female</td>\n",
              "      <td>26.0</td>\n",
              "      <td>0</td>\n",
              "      <td>0</td>\n",
              "      <td>STON/O2. 3101282</td>\n",
              "      <td>7.9250</td>\n",
              "      <td>NaN</td>\n",
              "      <td>S</td>\n",
              "      <td>Miss.</td>\n",
              "      <td>NaN</td>\n",
              "    </tr>\n",
              "    <tr>\n",
              "      <th>3</th>\n",
              "      <td>4</td>\n",
              "      <td>1</td>\n",
              "      <td>1</td>\n",
              "      <td>female</td>\n",
              "      <td>35.0</td>\n",
              "      <td>1</td>\n",
              "      <td>0</td>\n",
              "      <td>113803</td>\n",
              "      <td>53.1000</td>\n",
              "      <td>C123</td>\n",
              "      <td>S</td>\n",
              "      <td>Mrs.</td>\n",
              "      <td>C</td>\n",
              "    </tr>\n",
              "    <tr>\n",
              "      <th>4</th>\n",
              "      <td>5</td>\n",
              "      <td>0</td>\n",
              "      <td>3</td>\n",
              "      <td>male</td>\n",
              "      <td>35.0</td>\n",
              "      <td>0</td>\n",
              "      <td>0</td>\n",
              "      <td>373450</td>\n",
              "      <td>8.0500</td>\n",
              "      <td>NaN</td>\n",
              "      <td>S</td>\n",
              "      <td>Mr.</td>\n",
              "      <td>NaN</td>\n",
              "    </tr>\n",
              "  </tbody>\n",
              "</table>\n",
              "</div>"
            ],
            "text/plain": [
              "   PassengerId  Survived  Pclass     Sex  ...  Cabin  Embarked  Title Deck\n",
              "0            1         0       3    male  ...    NaN         S    Mr.  NaN\n",
              "1            2         1       1  female  ...    C85         C   Mrs.    C\n",
              "2            3         1       3  female  ...    NaN         S  Miss.  NaN\n",
              "3            4         1       1  female  ...   C123         S   Mrs.    C\n",
              "4            5         0       3    male  ...    NaN         S    Mr.  NaN\n",
              "\n",
              "[5 rows x 13 columns]"
            ]
          },
          "metadata": {
            "tags": []
          },
          "execution_count": 38
        }
      ]
    },
    {
      "cell_type": "code",
      "metadata": {
        "colab_type": "code",
        "id": "f5LIZZtqBX4F",
        "colab": {}
      },
      "source": [
        "# Creating a function to create columns \"FamilySize\" and \"FarePerPerson\"\n",
        "def FamilySize_FarePerPerson(df):\n",
        "    df[\"FamilySize\"] = df.SibSp + df.Parch\n",
        "    df[\"FarePerPerson\"] = df.apply(lambda x: x.Fare/(x.FamilySize+1) if x.FamilySize else x.Fare, axis = 1)\n",
        "    return df"
      ],
      "execution_count": 39,
      "outputs": []
    },
    {
      "cell_type": "code",
      "metadata": {
        "colab_type": "code",
        "id": "GOgLpFnCBX4M",
        "colab": {
          "base_uri": "https://localhost:8080/",
          "height": 214
        },
        "outputId": "8154aa91-0b52-4aaa-ae8e-75447a8672a0"
      },
      "source": [
        "# Checking the working of the above function\n",
        "df_tmp = FamilySize_FarePerPerson(df_tmp)\n",
        "df_tmp.head()"
      ],
      "execution_count": 40,
      "outputs": [
        {
          "output_type": "execute_result",
          "data": {
            "text/html": [
              "<div>\n",
              "<style scoped>\n",
              "    .dataframe tbody tr th:only-of-type {\n",
              "        vertical-align: middle;\n",
              "    }\n",
              "\n",
              "    .dataframe tbody tr th {\n",
              "        vertical-align: top;\n",
              "    }\n",
              "\n",
              "    .dataframe thead th {\n",
              "        text-align: right;\n",
              "    }\n",
              "</style>\n",
              "<table border=\"1\" class=\"dataframe\">\n",
              "  <thead>\n",
              "    <tr style=\"text-align: right;\">\n",
              "      <th></th>\n",
              "      <th>PassengerId</th>\n",
              "      <th>Survived</th>\n",
              "      <th>Pclass</th>\n",
              "      <th>Sex</th>\n",
              "      <th>Age</th>\n",
              "      <th>SibSp</th>\n",
              "      <th>Parch</th>\n",
              "      <th>Ticket</th>\n",
              "      <th>Fare</th>\n",
              "      <th>Cabin</th>\n",
              "      <th>Embarked</th>\n",
              "      <th>Title</th>\n",
              "      <th>Deck</th>\n",
              "      <th>FamilySize</th>\n",
              "      <th>FarePerPerson</th>\n",
              "    </tr>\n",
              "  </thead>\n",
              "  <tbody>\n",
              "    <tr>\n",
              "      <th>0</th>\n",
              "      <td>1</td>\n",
              "      <td>0</td>\n",
              "      <td>3</td>\n",
              "      <td>male</td>\n",
              "      <td>22.0</td>\n",
              "      <td>1</td>\n",
              "      <td>0</td>\n",
              "      <td>A/5 21171</td>\n",
              "      <td>7.2500</td>\n",
              "      <td>NaN</td>\n",
              "      <td>S</td>\n",
              "      <td>Mr.</td>\n",
              "      <td>NaN</td>\n",
              "      <td>1</td>\n",
              "      <td>3.62500</td>\n",
              "    </tr>\n",
              "    <tr>\n",
              "      <th>1</th>\n",
              "      <td>2</td>\n",
              "      <td>1</td>\n",
              "      <td>1</td>\n",
              "      <td>female</td>\n",
              "      <td>38.0</td>\n",
              "      <td>1</td>\n",
              "      <td>0</td>\n",
              "      <td>PC 17599</td>\n",
              "      <td>71.2833</td>\n",
              "      <td>C85</td>\n",
              "      <td>C</td>\n",
              "      <td>Mrs.</td>\n",
              "      <td>C</td>\n",
              "      <td>1</td>\n",
              "      <td>35.64165</td>\n",
              "    </tr>\n",
              "    <tr>\n",
              "      <th>2</th>\n",
              "      <td>3</td>\n",
              "      <td>1</td>\n",
              "      <td>3</td>\n",
              "      <td>female</td>\n",
              "      <td>26.0</td>\n",
              "      <td>0</td>\n",
              "      <td>0</td>\n",
              "      <td>STON/O2. 3101282</td>\n",
              "      <td>7.9250</td>\n",
              "      <td>NaN</td>\n",
              "      <td>S</td>\n",
              "      <td>Miss.</td>\n",
              "      <td>NaN</td>\n",
              "      <td>0</td>\n",
              "      <td>7.92500</td>\n",
              "    </tr>\n",
              "    <tr>\n",
              "      <th>3</th>\n",
              "      <td>4</td>\n",
              "      <td>1</td>\n",
              "      <td>1</td>\n",
              "      <td>female</td>\n",
              "      <td>35.0</td>\n",
              "      <td>1</td>\n",
              "      <td>0</td>\n",
              "      <td>113803</td>\n",
              "      <td>53.1000</td>\n",
              "      <td>C123</td>\n",
              "      <td>S</td>\n",
              "      <td>Mrs.</td>\n",
              "      <td>C</td>\n",
              "      <td>1</td>\n",
              "      <td>26.55000</td>\n",
              "    </tr>\n",
              "    <tr>\n",
              "      <th>4</th>\n",
              "      <td>5</td>\n",
              "      <td>0</td>\n",
              "      <td>3</td>\n",
              "      <td>male</td>\n",
              "      <td>35.0</td>\n",
              "      <td>0</td>\n",
              "      <td>0</td>\n",
              "      <td>373450</td>\n",
              "      <td>8.0500</td>\n",
              "      <td>NaN</td>\n",
              "      <td>S</td>\n",
              "      <td>Mr.</td>\n",
              "      <td>NaN</td>\n",
              "      <td>0</td>\n",
              "      <td>8.05000</td>\n",
              "    </tr>\n",
              "  </tbody>\n",
              "</table>\n",
              "</div>"
            ],
            "text/plain": [
              "   PassengerId  Survived  Pclass     Sex  ...  Title  Deck  FamilySize FarePerPerson\n",
              "0            1         0       3    male  ...    Mr.   NaN           1       3.62500\n",
              "1            2         1       1  female  ...   Mrs.     C           1      35.64165\n",
              "2            3         1       3  female  ...  Miss.   NaN           0       7.92500\n",
              "3            4         1       1  female  ...   Mrs.     C           1      26.55000\n",
              "4            5         0       3    male  ...    Mr.   NaN           0       8.05000\n",
              "\n",
              "[5 rows x 15 columns]"
            ]
          },
          "metadata": {
            "tags": []
          },
          "execution_count": 40
        }
      ]
    },
    {
      "cell_type": "code",
      "metadata": {
        "colab_type": "code",
        "id": "-4D6fe1uBX4T",
        "colab": {
          "base_uri": "https://localhost:8080/",
          "height": 781
        },
        "outputId": "6ae395ca-004e-4808-b55b-9db84af00596"
      },
      "source": [
        "# Viewing the frequently occuring Ticket Prefixes\n",
        "df_tmp[\"TicketPrefix\"] = df_tmp.Ticket.str.split(\" \").apply(lambda x: x[0] if len(x) > 1 else np.nan)\n",
        "df_tmp.TicketPrefix.value_counts()"
      ],
      "execution_count": 41,
      "outputs": [
        {
          "output_type": "execute_result",
          "data": {
            "text/plain": [
              "PC            60\n",
              "C.A.          27\n",
              "STON/O        12\n",
              "A/5           10\n",
              "W./C.          9\n",
              "SOTON/O.Q.     8\n",
              "CA.            8\n",
              "SOTON/OQ       7\n",
              "A/5.           7\n",
              "CA             6\n",
              "STON/O2.       6\n",
              "C              5\n",
              "S.O.C.         5\n",
              "SC/PARIS       5\n",
              "F.C.C.         5\n",
              "SC/Paris       4\n",
              "SC/AH          3\n",
              "S.O./P.P.      3\n",
              "A/4            3\n",
              "A/4.           3\n",
              "PP             3\n",
              "S.C./PARIS     2\n",
              "WE/P           2\n",
              "SOTON/O2       2\n",
              "P/PP           2\n",
              "A.5.           2\n",
              "A./5.          2\n",
              "C.A./SOTON     1\n",
              "SW/PP          1\n",
              "A/S            1\n",
              "W.E.P.         1\n",
              "S.C./A.4.      1\n",
              "Fa             1\n",
              "SC             1\n",
              "S.P.           1\n",
              "A4.            1\n",
              "SCO/W          1\n",
              "F.C.           1\n",
              "S.W./PP        1\n",
              "W/C            1\n",
              "SO/C           1\n",
              "S.O.P.         1\n",
              "Name: TicketPrefix, dtype: int64"
            ]
          },
          "metadata": {
            "tags": []
          },
          "execution_count": 41
        }
      ]
    },
    {
      "cell_type": "code",
      "metadata": {
        "colab_type": "code",
        "id": "nPBsjbnPBX4W",
        "colab": {}
      },
      "source": [
        "# Creating a function to extract frequently occuring prefixes of Tickets from the Ticket Column\n",
        "\n",
        "# Sub-function\n",
        "def ticket_pre(x):\n",
        "    if x is \"NaN\":\n",
        "        return np.nan\n",
        "    elif np.any(np.isin(x, [\"PC\"])):\n",
        "        return \"PC\"\n",
        "    elif np.any(np.isin(x, [\"C.A.\", \"CA\", \"CA.\", \"C\" ])):\n",
        "        return \"CA\"\n",
        "    elif np.any(np.isin(x.split(\"/\"), [\"STON\", \"SOTON\"])):\n",
        "        return \"SOTON\"\n",
        "    elif np.any(np.isin(x, [\"A/5\", \"A.5.\", \"A/5.\"])):\n",
        "        return \"A/5\"\n",
        "    elif np.any(np.isin(x, [\"A/4.\", \"A.4.\", \"A4.\", \"A/4\"])):\n",
        "        return \"A/4\"\n",
        "    elif np.any(np.isin(x, [\"W./C.\"])):\n",
        "        return \"W./C.\"\n",
        "    else:\n",
        "        return \"Other\"\n",
        "\n",
        "def TicketPrefix(df):\n",
        "    df[\"TicketPrefix\"] = df.Ticket.str.split(\" \").apply(lambda x: ticket_pre(x[0]) if len(x)>1 else np.nan)\n",
        "    return df"
      ],
      "execution_count": 42,
      "outputs": []
    },
    {
      "cell_type": "code",
      "metadata": {
        "colab_type": "code",
        "id": "dIjrr1DPBX4Z",
        "colab": {
          "base_uri": "https://localhost:8080/",
          "height": 301
        },
        "outputId": "9bcbbe94-73f9-468f-f322-b9794f27ee12"
      },
      "source": [
        "# Checking the working of the above function\n",
        "df_tmp = TicketPrefix(df_tmp)\n",
        "df_tmp.TicketPrefix.value_counts(), df_tmp.head()"
      ],
      "execution_count": 43,
      "outputs": [
        {
          "output_type": "execute_result",
          "data": {
            "text/plain": [
              "(PC       60\n",
              " Other    49\n",
              " CA       46\n",
              " SOTON    36\n",
              " A/5      19\n",
              " W./C.     9\n",
              " A/4       7\n",
              " Name: TicketPrefix, dtype: int64,\n",
              "    PassengerId  Survived  Pclass  ... FamilySize  FarePerPerson  TicketPrefix\n",
              " 0            1         0       3  ...          1        3.62500           A/5\n",
              " 1            2         1       1  ...          1       35.64165            PC\n",
              " 2            3         1       3  ...          0        7.92500         SOTON\n",
              " 3            4         1       1  ...          1       26.55000           NaN\n",
              " 4            5         0       3  ...          0        8.05000           NaN\n",
              " \n",
              " [5 rows x 16 columns])"
            ]
          },
          "metadata": {
            "tags": []
          },
          "execution_count": 43
        }
      ]
    },
    {
      "cell_type": "code",
      "metadata": {
        "colab_type": "code",
        "id": "fl_qsYDxPS1F",
        "colab": {}
      },
      "source": [
        "# Creating a function to add Cabin_count column\n",
        "def Cabin_count(df):\n",
        "  df[\"Cabin_count\"] = df.apply(lambda x: len(x.Cabin.split(\" \")) if not pd.isna(x.Cabin) else np.nan, axis = 1)\n",
        "  return df"
      ],
      "execution_count": 44,
      "outputs": []
    },
    {
      "cell_type": "code",
      "metadata": {
        "colab_type": "code",
        "id": "wcb-CoThNNo9",
        "colab": {
          "base_uri": "https://localhost:8080/",
          "height": 105
        },
        "outputId": "34e97b8a-047b-41e0-bf1d-1e192460e49d"
      },
      "source": [
        "# Checking the above function to view the variation in the number of Cabins\n",
        "df_tmp = Cabin_count(df_tmp)\n",
        "df_tmp.Cabin_count.value_counts()"
      ],
      "execution_count": 45,
      "outputs": [
        {
          "output_type": "execute_result",
          "data": {
            "text/plain": [
              "1.0    180\n",
              "2.0     16\n",
              "3.0      6\n",
              "4.0      2\n",
              "Name: Cabin_count, dtype: int64"
            ]
          },
          "metadata": {
            "tags": []
          },
          "execution_count": 45
        }
      ]
    },
    {
      "cell_type": "markdown",
      "metadata": {
        "colab_type": "text",
        "id": "NC47Kxs2BX4g"
      },
      "source": [
        "Now that we have done Basic Feature Engineering, let's do some basic EDA\n",
        "\n",
        "# EDA"
      ]
    },
    {
      "cell_type": "code",
      "metadata": {
        "colab_type": "code",
        "id": "KDf2hefTBX4g",
        "colab": {
          "base_uri": "https://localhost:8080/",
          "height": 443
        },
        "outputId": "fdb656d8-7d82-4595-c08f-43676dbe9290"
      },
      "source": [
        "df_tmp.info()"
      ],
      "execution_count": 46,
      "outputs": [
        {
          "output_type": "stream",
          "text": [
            "<class 'pandas.core.frame.DataFrame'>\n",
            "RangeIndex: 891 entries, 0 to 890\n",
            "Data columns (total 17 columns):\n",
            " #   Column         Non-Null Count  Dtype  \n",
            "---  ------         --------------  -----  \n",
            " 0   PassengerId    891 non-null    int64  \n",
            " 1   Survived       891 non-null    int64  \n",
            " 2   Pclass         891 non-null    int64  \n",
            " 3   Sex            891 non-null    object \n",
            " 4   Age            714 non-null    float64\n",
            " 5   SibSp          891 non-null    int64  \n",
            " 6   Parch          891 non-null    int64  \n",
            " 7   Ticket         891 non-null    object \n",
            " 8   Fare           891 non-null    float64\n",
            " 9   Cabin          204 non-null    object \n",
            " 10  Embarked       889 non-null    object \n",
            " 11  Title          891 non-null    object \n",
            " 12  Deck           204 non-null    object \n",
            " 13  FamilySize     891 non-null    int64  \n",
            " 14  FarePerPerson  891 non-null    float64\n",
            " 15  TicketPrefix   226 non-null    object \n",
            " 16  Cabin_count    204 non-null    float64\n",
            "dtypes: float64(4), int64(6), object(7)\n",
            "memory usage: 118.5+ KB\n"
          ],
          "name": "stdout"
        }
      ]
    },
    {
      "cell_type": "code",
      "metadata": {
        "id": "Rep7F1LgOuL0",
        "colab_type": "code",
        "colab": {
          "base_uri": "https://localhost:8080/",
          "height": 878
        },
        "outputId": "d2a41aaf-25dd-4954-f732-5d3c16040812"
      },
      "source": [
        "# Viewing the distribution of data\n",
        "df_tmp.hist(figsize = (15,15));"
      ],
      "execution_count": 47,
      "outputs": [
        {
          "output_type": "display_data",
          "data": {
            "image/png": "[encoded data removed]",
            "text/plain": [
              "<Figure size 1080x1080 with 12 Axes>"
            ]
          },
          "metadata": {
            "tags": [],
            "needs_background": "light"
          }
        }
      ]
    },
    {
      "cell_type": "code",
      "metadata": {
        "colab_type": "code",
        "id": "9sIWt9HJBX4j",
        "colab": {
          "base_uri": "https://localhost:8080/",
          "height": 655
        },
        "outputId": "1204f92e-bf52-4448-dc6a-b17dddea1fc5"
      },
      "source": [
        "# Plotting correlation matrix for the numerical columns\n",
        "plt.figure(figsize = (10, 10))\n",
        "sns.heatmap(df_tmp.corr(), annot = True);"
      ],
      "execution_count": 48,
      "outputs": [
        {
          "output_type": "display_data",
          "data": {
            "image/png": "[encoded data removed]",
            "text/plain": [
              "<Figure size 720x720 with 2 Axes>"
            ]
          },
          "metadata": {
            "tags": [],
            "needs_background": "light"
          }
        }
      ]
    },
    {
      "cell_type": "markdown",
      "metadata": {
        "colab_type": "text",
        "id": "SLTyBLw1BX4m"
      },
      "source": [
        "* We can see that Fare and FarePerPerson are highly correlated, which was somewhat expected. \n",
        "* PClass is highly correlated with Fare and FarePerPerson.\n",
        "* PClass, Fare and FarePerPerson are all somewhat highly correlated with Survived (target column)"
      ]
    },
    {
      "cell_type": "code",
      "metadata": {
        "colab_type": "code",
        "id": "lXWKENhKE6dZ",
        "colab": {
          "base_uri": "https://localhost:8080/",
          "height": 483
        },
        "outputId": "2f0649b7-1031-4974-dc24-59b5abc309a7"
      },
      "source": [
        "# Fare column boxplot\n",
        "plt.figure(figsize = (8, 8))\n",
        "plt.boxplot(df_tmp.Fare);"
      ],
      "execution_count": 49,
      "outputs": [
        {
          "output_type": "display_data",
          "data": {
            "image/png": "[encoded data removed]",
            "text/plain": [
              "<Figure size 576x576 with 1 Axes>"
            ]
          },
          "metadata": {
            "tags": [],
            "needs_background": "light"
          }
        }
      ]
    },
    {
      "cell_type": "markdown",
      "metadata": {
        "colab_type": "text",
        "id": "wCzs5W74FJ7u"
      },
      "source": [
        "We can see that Fare has a lot of outliers...Entries with Fare > 300:"
      ]
    },
    {
      "cell_type": "code",
      "metadata": {
        "colab_type": "code",
        "id": "QhgeGXfZLGIk",
        "colab": {
          "base_uri": "https://localhost:8080/",
          "height": 224
        },
        "outputId": "3694dd51-65be-4d12-8f7a-669e212854b4"
      },
      "source": [
        "df_tmp[df_tmp.Fare > 300]"
      ],
      "execution_count": 50,
      "outputs": [
        {
          "output_type": "execute_result",
          "data": {
            "text/html": [
              "<div>\n",
              "<style scoped>\n",
              "    .dataframe tbody tr th:only-of-type {\n",
              "        vertical-align: middle;\n",
              "    }\n",
              "\n",
              "    .dataframe tbody tr th {\n",
              "        vertical-align: top;\n",
              "    }\n",
              "\n",
              "    .dataframe thead th {\n",
              "        text-align: right;\n",
              "    }\n",
              "</style>\n",
              "<table border=\"1\" class=\"dataframe\">\n",
              "  <thead>\n",
              "    <tr style=\"text-align: right;\">\n",
              "      <th></th>\n",
              "      <th>PassengerId</th>\n",
              "      <th>Survived</th>\n",
              "      <th>Pclass</th>\n",
              "      <th>Sex</th>\n",
              "      <th>Age</th>\n",
              "      <th>SibSp</th>\n",
              "      <th>Parch</th>\n",
              "      <th>Ticket</th>\n",
              "      <th>Fare</th>\n",
              "      <th>Cabin</th>\n",
              "      <th>Embarked</th>\n",
              "      <th>Title</th>\n",
              "      <th>Deck</th>\n",
              "      <th>FamilySize</th>\n",
              "      <th>FarePerPerson</th>\n",
              "      <th>TicketPrefix</th>\n",
              "      <th>Cabin_count</th>\n",
              "    </tr>\n",
              "  </thead>\n",
              "  <tbody>\n",
              "    <tr>\n",
              "      <th>258</th>\n",
              "      <td>259</td>\n",
              "      <td>1</td>\n",
              "      <td>1</td>\n",
              "      <td>female</td>\n",
              "      <td>35.0</td>\n",
              "      <td>0</td>\n",
              "      <td>0</td>\n",
              "      <td>PC 17755</td>\n",
              "      <td>512.3292</td>\n",
              "      <td>NaN</td>\n",
              "      <td>C</td>\n",
              "      <td>Miss.</td>\n",
              "      <td>NaN</td>\n",
              "      <td>0</td>\n",
              "      <td>512.3292</td>\n",
              "      <td>PC</td>\n",
              "      <td>NaN</td>\n",
              "    </tr>\n",
              "    <tr>\n",
              "      <th>679</th>\n",
              "      <td>680</td>\n",
              "      <td>1</td>\n",
              "      <td>1</td>\n",
              "      <td>male</td>\n",
              "      <td>36.0</td>\n",
              "      <td>0</td>\n",
              "      <td>1</td>\n",
              "      <td>PC 17755</td>\n",
              "      <td>512.3292</td>\n",
              "      <td>B51 B53 B55</td>\n",
              "      <td>C</td>\n",
              "      <td>Mr.</td>\n",
              "      <td>B</td>\n",
              "      <td>1</td>\n",
              "      <td>256.1646</td>\n",
              "      <td>PC</td>\n",
              "      <td>3.0</td>\n",
              "    </tr>\n",
              "    <tr>\n",
              "      <th>737</th>\n",
              "      <td>738</td>\n",
              "      <td>1</td>\n",
              "      <td>1</td>\n",
              "      <td>male</td>\n",
              "      <td>35.0</td>\n",
              "      <td>0</td>\n",
              "      <td>0</td>\n",
              "      <td>PC 17755</td>\n",
              "      <td>512.3292</td>\n",
              "      <td>B101</td>\n",
              "      <td>C</td>\n",
              "      <td>Mr.</td>\n",
              "      <td>B</td>\n",
              "      <td>0</td>\n",
              "      <td>512.3292</td>\n",
              "      <td>PC</td>\n",
              "      <td>1.0</td>\n",
              "    </tr>\n",
              "  </tbody>\n",
              "</table>\n",
              "</div>"
            ],
            "text/plain": [
              "     PassengerId  Survived  Pclass  ... FarePerPerson  TicketPrefix  Cabin_count\n",
              "258          259         1       1  ...      512.3292            PC          NaN\n",
              "679          680         1       1  ...      256.1646            PC          3.0\n",
              "737          738         1       1  ...      512.3292            PC          1.0\n",
              "\n",
              "[3 rows x 17 columns]"
            ]
          },
          "metadata": {
            "tags": []
          },
          "execution_count": 50
        }
      ]
    },
    {
      "cell_type": "markdown",
      "metadata": {
        "colab_type": "text",
        "id": "uLQfXv6nLEAt"
      },
      "source": [
        "**Let's make a note to remove these outliers when the data is processed further later on.** \n",
        "\n",
        "Furthermore, there are some values with zero value. Let's see their count:"
      ]
    },
    {
      "cell_type": "code",
      "metadata": {
        "colab_type": "code",
        "id": "aIgLIyJZGQ7x",
        "colab": {
          "base_uri": "https://localhost:8080/",
          "height": 517
        },
        "outputId": "9bdd2f02-8abc-49b7-9250-6df870f3672f"
      },
      "source": [
        "df_tmp[df_tmp.Fare == 0]"
      ],
      "execution_count": 51,
      "outputs": [
        {
          "output_type": "execute_result",
          "data": {
            "text/html": [
              "<div>\n",
              "<style scoped>\n",
              "    .dataframe tbody tr th:only-of-type {\n",
              "        vertical-align: middle;\n",
              "    }\n",
              "\n",
              "    .dataframe tbody tr th {\n",
              "        vertical-align: top;\n",
              "    }\n",
              "\n",
              "    .dataframe thead th {\n",
              "        text-align: right;\n",
              "    }\n",
              "</style>\n",
              "<table border=\"1\" class=\"dataframe\">\n",
              "  <thead>\n",
              "    <tr style=\"text-align: right;\">\n",
              "      <th></th>\n",
              "      <th>PassengerId</th>\n",
              "      <th>Survived</th>\n",
              "      <th>Pclass</th>\n",
              "      <th>Sex</th>\n",
              "      <th>Age</th>\n",
              "      <th>SibSp</th>\n",
              "      <th>Parch</th>\n",
              "      <th>Ticket</th>\n",
              "      <th>Fare</th>\n",
              "      <th>Cabin</th>\n",
              "      <th>Embarked</th>\n",
              "      <th>Title</th>\n",
              "      <th>Deck</th>\n",
              "      <th>FamilySize</th>\n",
              "      <th>FarePerPerson</th>\n",
              "      <th>TicketPrefix</th>\n",
              "      <th>Cabin_count</th>\n",
              "    </tr>\n",
              "  </thead>\n",
              "  <tbody>\n",
              "    <tr>\n",
              "      <th>179</th>\n",
              "      <td>180</td>\n",
              "      <td>0</td>\n",
              "      <td>3</td>\n",
              "      <td>male</td>\n",
              "      <td>36.0</td>\n",
              "      <td>0</td>\n",
              "      <td>0</td>\n",
              "      <td>LINE</td>\n",
              "      <td>0.0</td>\n",
              "      <td>NaN</td>\n",
              "      <td>S</td>\n",
              "      <td>Mr.</td>\n",
              "      <td>NaN</td>\n",
              "      <td>0</td>\n",
              "      <td>0.0</td>\n",
              "      <td>NaN</td>\n",
              "      <td>NaN</td>\n",
              "    </tr>\n",
              "    <tr>\n",
              "      <th>263</th>\n",
              "      <td>264</td>\n",
              "      <td>0</td>\n",
              "      <td>1</td>\n",
              "      <td>male</td>\n",
              "      <td>40.0</td>\n",
              "      <td>0</td>\n",
              "      <td>0</td>\n",
              "      <td>112059</td>\n",
              "      <td>0.0</td>\n",
              "      <td>B94</td>\n",
              "      <td>S</td>\n",
              "      <td>Mr.</td>\n",
              "      <td>B</td>\n",
              "      <td>0</td>\n",
              "      <td>0.0</td>\n",
              "      <td>NaN</td>\n",
              "      <td>1.0</td>\n",
              "    </tr>\n",
              "    <tr>\n",
              "      <th>271</th>\n",
              "      <td>272</td>\n",
              "      <td>1</td>\n",
              "      <td>3</td>\n",
              "      <td>male</td>\n",
              "      <td>25.0</td>\n",
              "      <td>0</td>\n",
              "      <td>0</td>\n",
              "      <td>LINE</td>\n",
              "      <td>0.0</td>\n",
              "      <td>NaN</td>\n",
              "      <td>S</td>\n",
              "      <td>Mr.</td>\n",
              "      <td>NaN</td>\n",
              "      <td>0</td>\n",
              "      <td>0.0</td>\n",
              "      <td>NaN</td>\n",
              "      <td>NaN</td>\n",
              "    </tr>\n",
              "    <tr>\n",
              "      <th>277</th>\n",
              "      <td>278</td>\n",
              "      <td>0</td>\n",
              "      <td>2</td>\n",
              "      <td>male</td>\n",
              "      <td>NaN</td>\n",
              "      <td>0</td>\n",
              "      <td>0</td>\n",
              "      <td>239853</td>\n",
              "      <td>0.0</td>\n",
              "      <td>NaN</td>\n",
              "      <td>S</td>\n",
              "      <td>Mr.</td>\n",
              "      <td>NaN</td>\n",
              "      <td>0</td>\n",
              "      <td>0.0</td>\n",
              "      <td>NaN</td>\n",
              "      <td>NaN</td>\n",
              "    </tr>\n",
              "    <tr>\n",
              "      <th>302</th>\n",
              "      <td>303</td>\n",
              "      <td>0</td>\n",
              "      <td>3</td>\n",
              "      <td>male</td>\n",
              "      <td>19.0</td>\n",
              "      <td>0</td>\n",
              "      <td>0</td>\n",
              "      <td>LINE</td>\n",
              "      <td>0.0</td>\n",
              "      <td>NaN</td>\n",
              "      <td>S</td>\n",
              "      <td>Mr.</td>\n",
              "      <td>NaN</td>\n",
              "      <td>0</td>\n",
              "      <td>0.0</td>\n",
              "      <td>NaN</td>\n",
              "      <td>NaN</td>\n",
              "    </tr>\n",
              "    <tr>\n",
              "      <th>413</th>\n",
              "      <td>414</td>\n",
              "      <td>0</td>\n",
              "      <td>2</td>\n",
              "      <td>male</td>\n",
              "      <td>NaN</td>\n",
              "      <td>0</td>\n",
              "      <td>0</td>\n",
              "      <td>239853</td>\n",
              "      <td>0.0</td>\n",
              "      <td>NaN</td>\n",
              "      <td>S</td>\n",
              "      <td>Mr.</td>\n",
              "      <td>NaN</td>\n",
              "      <td>0</td>\n",
              "      <td>0.0</td>\n",
              "      <td>NaN</td>\n",
              "      <td>NaN</td>\n",
              "    </tr>\n",
              "    <tr>\n",
              "      <th>466</th>\n",
              "      <td>467</td>\n",
              "      <td>0</td>\n",
              "      <td>2</td>\n",
              "      <td>male</td>\n",
              "      <td>NaN</td>\n",
              "      <td>0</td>\n",
              "      <td>0</td>\n",
              "      <td>239853</td>\n",
              "      <td>0.0</td>\n",
              "      <td>NaN</td>\n",
              "      <td>S</td>\n",
              "      <td>Mr.</td>\n",
              "      <td>NaN</td>\n",
              "      <td>0</td>\n",
              "      <td>0.0</td>\n",
              "      <td>NaN</td>\n",
              "      <td>NaN</td>\n",
              "    </tr>\n",
              "    <tr>\n",
              "      <th>481</th>\n",
              "      <td>482</td>\n",
              "      <td>0</td>\n",
              "      <td>2</td>\n",
              "      <td>male</td>\n",
              "      <td>NaN</td>\n",
              "      <td>0</td>\n",
              "      <td>0</td>\n",
              "      <td>239854</td>\n",
              "      <td>0.0</td>\n",
              "      <td>NaN</td>\n",
              "      <td>S</td>\n",
              "      <td>Mr.</td>\n",
              "      <td>NaN</td>\n",
              "      <td>0</td>\n",
              "      <td>0.0</td>\n",
              "      <td>NaN</td>\n",
              "      <td>NaN</td>\n",
              "    </tr>\n",
              "    <tr>\n",
              "      <th>597</th>\n",
              "      <td>598</td>\n",
              "      <td>0</td>\n",
              "      <td>3</td>\n",
              "      <td>male</td>\n",
              "      <td>49.0</td>\n",
              "      <td>0</td>\n",
              "      <td>0</td>\n",
              "      <td>LINE</td>\n",
              "      <td>0.0</td>\n",
              "      <td>NaN</td>\n",
              "      <td>S</td>\n",
              "      <td>Mr.</td>\n",
              "      <td>NaN</td>\n",
              "      <td>0</td>\n",
              "      <td>0.0</td>\n",
              "      <td>NaN</td>\n",
              "      <td>NaN</td>\n",
              "    </tr>\n",
              "    <tr>\n",
              "      <th>633</th>\n",
              "      <td>634</td>\n",
              "      <td>0</td>\n",
              "      <td>1</td>\n",
              "      <td>male</td>\n",
              "      <td>NaN</td>\n",
              "      <td>0</td>\n",
              "      <td>0</td>\n",
              "      <td>112052</td>\n",
              "      <td>0.0</td>\n",
              "      <td>NaN</td>\n",
              "      <td>S</td>\n",
              "      <td>Mr.</td>\n",
              "      <td>NaN</td>\n",
              "      <td>0</td>\n",
              "      <td>0.0</td>\n",
              "      <td>NaN</td>\n",
              "      <td>NaN</td>\n",
              "    </tr>\n",
              "    <tr>\n",
              "      <th>674</th>\n",
              "      <td>675</td>\n",
              "      <td>0</td>\n",
              "      <td>2</td>\n",
              "      <td>male</td>\n",
              "      <td>NaN</td>\n",
              "      <td>0</td>\n",
              "      <td>0</td>\n",
              "      <td>239856</td>\n",
              "      <td>0.0</td>\n",
              "      <td>NaN</td>\n",
              "      <td>S</td>\n",
              "      <td>Mr.</td>\n",
              "      <td>NaN</td>\n",
              "      <td>0</td>\n",
              "      <td>0.0</td>\n",
              "      <td>NaN</td>\n",
              "      <td>NaN</td>\n",
              "    </tr>\n",
              "    <tr>\n",
              "      <th>732</th>\n",
              "      <td>733</td>\n",
              "      <td>0</td>\n",
              "      <td>2</td>\n",
              "      <td>male</td>\n",
              "      <td>NaN</td>\n",
              "      <td>0</td>\n",
              "      <td>0</td>\n",
              "      <td>239855</td>\n",
              "      <td>0.0</td>\n",
              "      <td>NaN</td>\n",
              "      <td>S</td>\n",
              "      <td>Mr.</td>\n",
              "      <td>NaN</td>\n",
              "      <td>0</td>\n",
              "      <td>0.0</td>\n",
              "      <td>NaN</td>\n",
              "      <td>NaN</td>\n",
              "    </tr>\n",
              "    <tr>\n",
              "      <th>806</th>\n",
              "      <td>807</td>\n",
              "      <td>0</td>\n",
              "      <td>1</td>\n",
              "      <td>male</td>\n",
              "      <td>39.0</td>\n",
              "      <td>0</td>\n",
              "      <td>0</td>\n",
              "      <td>112050</td>\n",
              "      <td>0.0</td>\n",
              "      <td>A36</td>\n",
              "      <td>S</td>\n",
              "      <td>Mr.</td>\n",
              "      <td>A</td>\n",
              "      <td>0</td>\n",
              "      <td>0.0</td>\n",
              "      <td>NaN</td>\n",
              "      <td>1.0</td>\n",
              "    </tr>\n",
              "    <tr>\n",
              "      <th>815</th>\n",
              "      <td>816</td>\n",
              "      <td>0</td>\n",
              "      <td>1</td>\n",
              "      <td>male</td>\n",
              "      <td>NaN</td>\n",
              "      <td>0</td>\n",
              "      <td>0</td>\n",
              "      <td>112058</td>\n",
              "      <td>0.0</td>\n",
              "      <td>B102</td>\n",
              "      <td>S</td>\n",
              "      <td>Mr.</td>\n",
              "      <td>B</td>\n",
              "      <td>0</td>\n",
              "      <td>0.0</td>\n",
              "      <td>NaN</td>\n",
              "      <td>1.0</td>\n",
              "    </tr>\n",
              "    <tr>\n",
              "      <th>822</th>\n",
              "      <td>823</td>\n",
              "      <td>0</td>\n",
              "      <td>1</td>\n",
              "      <td>male</td>\n",
              "      <td>38.0</td>\n",
              "      <td>0</td>\n",
              "      <td>0</td>\n",
              "      <td>19972</td>\n",
              "      <td>0.0</td>\n",
              "      <td>NaN</td>\n",
              "      <td>S</td>\n",
              "      <td>Miss.</td>\n",
              "      <td>NaN</td>\n",
              "      <td>0</td>\n",
              "      <td>0.0</td>\n",
              "      <td>NaN</td>\n",
              "      <td>NaN</td>\n",
              "    </tr>\n",
              "  </tbody>\n",
              "</table>\n",
              "</div>"
            ],
            "text/plain": [
              "     PassengerId  Survived  Pclass  ... FarePerPerson  TicketPrefix  Cabin_count\n",
              "179          180         0       3  ...           0.0           NaN          NaN\n",
              "263          264         0       1  ...           0.0           NaN          1.0\n",
              "271          272         1       3  ...           0.0           NaN          NaN\n",
              "277          278         0       2  ...           0.0           NaN          NaN\n",
              "302          303         0       3  ...           0.0           NaN          NaN\n",
              "413          414         0       2  ...           0.0           NaN          NaN\n",
              "466          467         0       2  ...           0.0           NaN          NaN\n",
              "481          482         0       2  ...           0.0           NaN          NaN\n",
              "597          598         0       3  ...           0.0           NaN          NaN\n",
              "633          634         0       1  ...           0.0           NaN          NaN\n",
              "674          675         0       2  ...           0.0           NaN          NaN\n",
              "732          733         0       2  ...           0.0           NaN          NaN\n",
              "806          807         0       1  ...           0.0           NaN          1.0\n",
              "815          816         0       1  ...           0.0           NaN          1.0\n",
              "822          823         0       1  ...           0.0           NaN          NaN\n",
              "\n",
              "[15 rows x 17 columns]"
            ]
          },
          "metadata": {
            "tags": []
          },
          "execution_count": 51
        }
      ]
    },
    {
      "cell_type": "markdown",
      "metadata": {
        "colab_type": "text",
        "id": "5701AKIDIZdZ"
      },
      "source": [
        "**These are 15 in number. Let's make a note to remove these entries later on!!**"
      ]
    },
    {
      "cell_type": "code",
      "metadata": {
        "colab_type": "code",
        "id": "IX5ptz6bBX4n",
        "colab": {
          "base_uri": "https://localhost:8080/",
          "height": 475
        },
        "outputId": "ccd198be-19d3-453a-b3e8-4f2e6d778148"
      },
      "source": [
        "# Visualizing the relation between Fare and Survived\n",
        "plt.figure(figsize = (8, 8))\n",
        "scatter1 = plt.scatter(np.arange(len(df_tmp.Fare)), df_tmp.Fare, c = df_tmp.Survived, alpha = 0.5, cmap='winter')\n",
        "plt.ylim((0, 100)) # Because most of the data lies in this range\n",
        "plt.ylabel(\"Fare\")\n",
        "plt.xticks([])\n",
        "plt.axhline(df_tmp.Fare.median(), linestyle = \"--\", color = 'red') #Fare Line Median\n",
        "plt.legend(*scatter1.legend_elements(), title = \"Survived\", loc = \"upper right\");"
      ],
      "execution_count": 52,
      "outputs": [
        {
          "output_type": "display_data",
          "data": {
            "image/png": "[encoded data removed]",
            "text/plain": [
              "<Figure size 576x576 with 1 Axes>"
            ]
          },
          "metadata": {
            "tags": [],
            "needs_background": "light"
          }
        }
      ]
    },
    {
      "cell_type": "markdown",
      "metadata": {
        "colab_type": "text",
        "id": "cPCeA7J3I4Dv"
      },
      "source": [
        "We can see that higher Fares have more number of people who survived, thus suggesting decent correlation between Fares and Survived Class. \n",
        "\n",
        "Let's further visualize this fact using a bargraph:"
      ]
    },
    {
      "cell_type": "code",
      "metadata": {
        "colab_type": "code",
        "id": "IXBFd1gNSEnF",
        "colab": {
          "base_uri": "https://localhost:8080/",
          "height": 264
        },
        "outputId": "d62098e3-eec0-4701-e2d2-b6d3d5304b01"
      },
      "source": [
        "high_fare = df_tmp[df_tmp.Fare >= df_tmp.Fare.median()]\n",
        "low_fare = df_tmp[df_tmp.Fare < df_tmp.Fare.median()]\n",
        "plt.bar([0.4, 2.8], [low_fare[low_fare.Survived == 0].Survived.count(), high_fare[high_fare.Survived == 0].Survived.count()], color = \"orange\", label = \"Not Survived\")\n",
        "plt.bar([1.2, 3.6], [low_fare[low_fare.Survived == 1].Survived.count(), high_fare[high_fare.Survived == 1].Survived.count()], color = \"blue\", label = \"Survived\")\n",
        "plt.xticks(ticks = [0.8, 3.2], labels = [\"Fare below Median\", \"Fare above Median\"])\n",
        "plt.ylabel(\"Count\")\n",
        "plt.legend()\n",
        "plt.show();"
      ],
      "execution_count": 53,
      "outputs": [
        {
          "output_type": "display_data",
          "data": {
            "image/png": "[encoded data removed]",
            "text/plain": [
              "<Figure size 432x288 with 1 Axes>"
            ]
          },
          "metadata": {
            "tags": [],
            "needs_background": "light"
          }
        }
      ]
    },
    {
      "cell_type": "markdown",
      "metadata": {
        "colab_type": "text",
        "id": "p8avGQzAWe5R"
      },
      "source": [
        "The above graph shows that when Fare is below Median, almost 3 out of every 4 people did not survive. But when the fare is above Medain, the chances of survival are aprrox. 50%."
      ]
    },
    {
      "cell_type": "code",
      "metadata": {
        "colab_type": "code",
        "id": "gmpq7xVsZmnH",
        "colab": {
          "base_uri": "https://localhost:8080/",
          "height": 498
        },
        "outputId": "012a3046-b5fa-4cac-e80f-ebd878f193da"
      },
      "source": [
        "# Let's analyze the relation between FamilySize and Survived\n",
        "df_cross = pd.crosstab(index = df_tmp.FamilySize, columns = df_tmp.Survived)\n",
        "df_cross.plot.bar(figsize = (8,8))\n",
        "plt.ylabel(\"Count\");"
      ],
      "execution_count": 54,
      "outputs": [
        {
          "output_type": "display_data",
          "data": {
            "image/png": "[encoded data removed]",
            "text/plain": [
              "<Figure size 576x576 with 1 Axes>"
            ]
          },
          "metadata": {
            "tags": [],
            "needs_background": "light"
          }
        }
      ]
    },
    {
      "cell_type": "markdown",
      "metadata": {
        "colab_type": "text",
        "id": "o-HzU8SfcNH2"
      },
      "source": [
        "There isn't a very clear trend visible (other than the fact that a large no. of solo travellers were there).\n",
        "\n",
        "Let's analyze any relation between the Age column and the Survived columns:"
      ]
    },
    {
      "cell_type": "code",
      "metadata": {
        "colab_type": "code",
        "id": "vRXscUOJcaE0",
        "colab": {
          "base_uri": "https://localhost:8080/",
          "height": 264
        },
        "outputId": "63b59a1e-88cd-4f97-b14b-9f87bdb48ba5"
      },
      "source": [
        "# Let's Divide People in [\"Children (Age<18)\", \"Adults (18 < Age < 50)\", \"Elderly (Age > 50)\"]\n",
        "children = df_tmp[df_tmp.Age < 18]\n",
        "adults = df_tmp[(df_tmp.Age >= 18) & (df_tmp.Age < 50)]\n",
        "elderly = df_tmp[df_tmp.Age >= 50]\n",
        "# Plotting a Bar Graph Using the above data\n",
        "plt.bar([0.4, 2.8, 5.2], [children[children.Survived == 0].Survived.count(), adults[adults.Survived == 0].Survived.count(), elderly[elderly.Survived == 0].Survived.count()],\n",
        "        color = 'orange', label = \"Not Survived\")\n",
        "plt.bar([1.2, 3.6, 6], [children[children.Survived == 1].Survived.count(), adults[adults.Survived == 1].Survived.count(), elderly[elderly.Survived == 1].Survived.count()],\n",
        "        color = 'blue', label = \"Survived\")\n",
        "plt.xticks(ticks = [0.8, 3.2, 5.6], labels = [\"Children\", \"Adults\", \"Elderly\"])\n",
        "plt.legend()\n",
        "plt.show();"
      ],
      "execution_count": 55,
      "outputs": [
        {
          "output_type": "display_data",
          "data": {
            "image/png": "[encoded data removed]",
            "text/plain": [
              "<Figure size 432x288 with 1 Axes>"
            ]
          },
          "metadata": {
            "tags": [],
            "needs_background": "light"
          }
        }
      ]
    },
    {
      "cell_type": "markdown",
      "metadata": {
        "colab_type": "text",
        "id": "-kueBtA-fgRa"
      },
      "source": [
        "Here, the proportion of people who survived is the highest in children and lowest in elderly. This may indicate some preferrential treatment that might have been given to the children and the elderly to ensure their survival."
      ]
    },
    {
      "cell_type": "markdown",
      "metadata": {
        "colab_type": "text",
        "id": "pm3NiEMPgDVf"
      },
      "source": [
        "Let's see the variation in Survived column vs Sex column:"
      ]
    },
    {
      "cell_type": "code",
      "metadata": {
        "colab_type": "code",
        "id": "NAQDINeLgKyi",
        "colab": {
          "base_uri": "https://localhost:8080/",
          "height": 304
        },
        "outputId": "67b576e9-72f9-4aca-a323-57fce7472bbf"
      },
      "source": [
        "sex_cross = pd.crosstab(index = df_tmp.Sex, columns= df_tmp.Survived)\n",
        "sex_cross.plot.bar();"
      ],
      "execution_count": 56,
      "outputs": [
        {
          "output_type": "display_data",
          "data": {
            "image/png": "[encoded data removed]",
            "text/plain": [
              "<Figure size 432x288 with 1 Axes>"
            ]
          },
          "metadata": {
            "tags": [],
            "needs_background": "light"
          }
        }
      ]
    },
    {
      "cell_type": "markdown",
      "metadata": {
        "colab_type": "text",
        "id": "9zkgiHOagom_"
      },
      "source": [
        "This shows that Female survival ratio is much higher than men. Therefore, Sex is highly correlated with Survived."
      ]
    },
    {
      "cell_type": "markdown",
      "metadata": {
        "colab_type": "text",
        "id": "cRN9ZXPLg6mt"
      },
      "source": [
        "# Making the data ready for modeling\n",
        "\n",
        "We will need to peform the following tasks before we can use the data in our ML model:\n",
        "1. Remove the entries which have invalid/in-sufficient data.\n",
        "2. Create a function which uses sklearn transformer to perform feature scaling. \n",
        "3. Split the dataset into train and test dataset.\n",
        "4. Impute NaN values in the numeric columns with median, and create another column which will specify which rows had the NaN values before imputation\n",
        "5. Convert all object dtype columns into categorical columns, and create a separate column specifying the entries where NaN values were present.Therefore, after all these operations, all columns will have numerical dtype. "
      ]
    },
    {
      "cell_type": "code",
      "metadata": {
        "colab_type": "code",
        "id": "Gq31gr8PF6qn",
        "colab": {}
      },
      "source": [
        "# Creating a function to remove entries with (1) Fare == 0, (2) Fare > 300\n",
        "def clean_Fare(df):\n",
        "  df = df[(df.Fare > 0) & (df.Fare <= 300)]\n",
        "  return df"
      ],
      "execution_count": 57,
      "outputs": []
    },
    {
      "cell_type": "code",
      "metadata": {
        "colab_type": "code",
        "id": "vOL3joBNGhya",
        "colab": {
          "base_uri": "https://localhost:8080/",
          "height": 287
        },
        "outputId": "7e5c9102-80fa-4e51-8009-530c98dc577e"
      },
      "source": [
        "# Checking the working of the above function\n",
        "df_tmp = clean_Fare(df_tmp)\n",
        "df_tmp.describe()"
      ],
      "execution_count": 58,
      "outputs": [
        {
          "output_type": "execute_result",
          "data": {
            "text/html": [
              "<div>\n",
              "<style scoped>\n",
              "    .dataframe tbody tr th:only-of-type {\n",
              "        vertical-align: middle;\n",
              "    }\n",
              "\n",
              "    .dataframe tbody tr th {\n",
              "        vertical-align: top;\n",
              "    }\n",
              "\n",
              "    .dataframe thead th {\n",
              "        text-align: right;\n",
              "    }\n",
              "</style>\n",
              "<table border=\"1\" class=\"dataframe\">\n",
              "  <thead>\n",
              "    <tr style=\"text-align: right;\">\n",
              "      <th></th>\n",
              "      <th>PassengerId</th>\n",
              "      <th>Survived</th>\n",
              "      <th>Pclass</th>\n",
              "      <th>Age</th>\n",
              "      <th>SibSp</th>\n",
              "      <th>Parch</th>\n",
              "      <th>Fare</th>\n",
              "      <th>FamilySize</th>\n",
              "      <th>FarePerPerson</th>\n",
              "      <th>Cabin_count</th>\n",
              "    </tr>\n",
              "  </thead>\n",
              "  <tbody>\n",
              "    <tr>\n",
              "      <th>count</th>\n",
              "      <td>873.000000</td>\n",
              "      <td>873.000000</td>\n",
              "      <td>873.000000</td>\n",
              "      <td>704.000000</td>\n",
              "      <td>873.000000</td>\n",
              "      <td>873.000000</td>\n",
              "      <td>873.000000</td>\n",
              "      <td>873.000000</td>\n",
              "      <td>873.000000</td>\n",
              "      <td>199.000000</td>\n",
              "    </tr>\n",
              "    <tr>\n",
              "      <th>mean</th>\n",
              "      <td>444.402062</td>\n",
              "      <td>0.387171</td>\n",
              "      <td>2.319588</td>\n",
              "      <td>29.620980</td>\n",
              "      <td>0.533792</td>\n",
              "      <td>0.388316</td>\n",
              "      <td>31.107631</td>\n",
              "      <td>0.922108</td>\n",
              "      <td>18.859871</td>\n",
              "      <td>1.160804</td>\n",
              "    </tr>\n",
              "    <tr>\n",
              "      <th>std</th>\n",
              "      <td>257.858537</td>\n",
              "      <td>0.487382</td>\n",
              "      <td>0.833526</td>\n",
              "      <td>14.585118</td>\n",
              "      <td>1.111477</td>\n",
              "      <td>0.812291</td>\n",
              "      <td>41.331513</td>\n",
              "      <td>1.625028</td>\n",
              "      <td>26.135055</td>\n",
              "      <td>0.496728</td>\n",
              "    </tr>\n",
              "    <tr>\n",
              "      <th>min</th>\n",
              "      <td>1.000000</td>\n",
              "      <td>0.000000</td>\n",
              "      <td>1.000000</td>\n",
              "      <td>0.420000</td>\n",
              "      <td>0.000000</td>\n",
              "      <td>0.000000</td>\n",
              "      <td>4.012500</td>\n",
              "      <td>0.000000</td>\n",
              "      <td>1.132143</td>\n",
              "      <td>1.000000</td>\n",
              "    </tr>\n",
              "    <tr>\n",
              "      <th>25%</th>\n",
              "      <td>220.000000</td>\n",
              "      <td>0.000000</td>\n",
              "      <td>2.000000</td>\n",
              "      <td>20.000000</td>\n",
              "      <td>0.000000</td>\n",
              "      <td>0.000000</td>\n",
              "      <td>7.925000</td>\n",
              "      <td>0.000000</td>\n",
              "      <td>7.520800</td>\n",
              "      <td>1.000000</td>\n",
              "    </tr>\n",
              "    <tr>\n",
              "      <th>50%</th>\n",
              "      <td>444.000000</td>\n",
              "      <td>0.000000</td>\n",
              "      <td>3.000000</td>\n",
              "      <td>28.000000</td>\n",
              "      <td>0.000000</td>\n",
              "      <td>0.000000</td>\n",
              "      <td>14.500000</td>\n",
              "      <td>0.000000</td>\n",
              "      <td>8.662500</td>\n",
              "      <td>1.000000</td>\n",
              "    </tr>\n",
              "    <tr>\n",
              "      <th>75%</th>\n",
              "      <td>666.000000</td>\n",
              "      <td>1.000000</td>\n",
              "      <td>3.000000</td>\n",
              "      <td>38.000000</td>\n",
              "      <td>1.000000</td>\n",
              "      <td>0.000000</td>\n",
              "      <td>31.275000</td>\n",
              "      <td>1.000000</td>\n",
              "      <td>24.150000</td>\n",
              "      <td>1.000000</td>\n",
              "    </tr>\n",
              "    <tr>\n",
              "      <th>max</th>\n",
              "      <td>891.000000</td>\n",
              "      <td>1.000000</td>\n",
              "      <td>3.000000</td>\n",
              "      <td>80.000000</td>\n",
              "      <td>8.000000</td>\n",
              "      <td>6.000000</td>\n",
              "      <td>263.000000</td>\n",
              "      <td>10.000000</td>\n",
              "      <td>227.525000</td>\n",
              "      <td>4.000000</td>\n",
              "    </tr>\n",
              "  </tbody>\n",
              "</table>\n",
              "</div>"
            ],
            "text/plain": [
              "       PassengerId    Survived  ...  FarePerPerson  Cabin_count\n",
              "count   873.000000  873.000000  ...     873.000000   199.000000\n",
              "mean    444.402062    0.387171  ...      18.859871     1.160804\n",
              "std     257.858537    0.487382  ...      26.135055     0.496728\n",
              "min       1.000000    0.000000  ...       1.132143     1.000000\n",
              "25%     220.000000    0.000000  ...       7.520800     1.000000\n",
              "50%     444.000000    0.000000  ...       8.662500     1.000000\n",
              "75%     666.000000    1.000000  ...      24.150000     1.000000\n",
              "max     891.000000    1.000000  ...     227.525000     4.000000\n",
              "\n",
              "[8 rows x 10 columns]"
            ]
          },
          "metadata": {
            "tags": []
          },
          "execution_count": 58
        }
      ]
    },
    {
      "cell_type": "code",
      "metadata": {
        "id": "Gp2aGDwLRH7W",
        "colab_type": "code",
        "colab": {
          "base_uri": "https://localhost:8080/",
          "height": 443
        },
        "outputId": "d98dd9a5-35a4-4fe9-f665-5fe73812c2a8"
      },
      "source": [
        "df_tmp.info()"
      ],
      "execution_count": 59,
      "outputs": [
        {
          "output_type": "stream",
          "text": [
            "<class 'pandas.core.frame.DataFrame'>\n",
            "Int64Index: 873 entries, 0 to 890\n",
            "Data columns (total 17 columns):\n",
            " #   Column         Non-Null Count  Dtype  \n",
            "---  ------         --------------  -----  \n",
            " 0   PassengerId    873 non-null    int64  \n",
            " 1   Survived       873 non-null    int64  \n",
            " 2   Pclass         873 non-null    int64  \n",
            " 3   Sex            873 non-null    object \n",
            " 4   Age            704 non-null    float64\n",
            " 5   SibSp          873 non-null    int64  \n",
            " 6   Parch          873 non-null    int64  \n",
            " 7   Ticket         873 non-null    object \n",
            " 8   Fare           873 non-null    float64\n",
            " 9   Cabin          199 non-null    object \n",
            " 10  Embarked       871 non-null    object \n",
            " 11  Title          873 non-null    object \n",
            " 12  Deck           199 non-null    object \n",
            " 13  FamilySize     873 non-null    int64  \n",
            " 14  FarePerPerson  873 non-null    float64\n",
            " 15  TicketPrefix   223 non-null    object \n",
            " 16  Cabin_count    199 non-null    float64\n",
            "dtypes: float64(4), int64(6), object(7)\n",
            "memory usage: 122.8+ KB\n"
          ],
          "name": "stdout"
        }
      ]
    },
    {
      "cell_type": "code",
      "metadata": {
        "id": "KtQHuhZ_S2dN",
        "colab_type": "code",
        "colab": {}
      },
      "source": [
        "# Creating a function to perform feature scaling\n",
        "from sklearn.compose import ColumnTransformer\n",
        "from sklearn.preprocessing import StandardScaler\n",
        "\n",
        "def scaler(df_tmp):\n",
        "  num_cols = ['Age', 'SibSp',  'Parch',  'Fare', 'FamilySize',  'FarePerPerson',  'Cabin_count']\n",
        "  df_scaled = df_tmp[num_cols]\n",
        "  scaler = StandardScaler()\n",
        "  transformer = ColumnTransformer([(\"scaler\", scaler, num_cols)])\n",
        "  df_scaled = transformer.fit_transform(df_scaled)\n",
        "  df_tmp[num_cols] = df_scaled\n",
        "  return df_tmp"
      ],
      "execution_count": 60,
      "outputs": []
    },
    {
      "cell_type": "code",
      "metadata": {
        "colab_type": "code",
        "id": "YKkbcaySBX4u",
        "colab": {}
      },
      "source": [
        "# Creating a function to split the data into train and test dataset (by default test = 0.2 * train)\n",
        "def train_test(df, test_size = 0.2):\n",
        "  \"\"\"\n",
        "  Returns X_train, X_test, y_train, y_test\n",
        "  \"\"\"\n",
        "  from sklearn.model_selection import train_test_split\n",
        "  X = df.drop([\"Survived\"], axis = 1)\n",
        "  y = df.Survived\n",
        "  X_train, X_test, y_train, y_test = train_test_split(X, y, test_size = test_size)\n",
        "  print(f\"SHAPES >>> X_train: {X_train.shape}, X_val: {X_test.shape}, y_train: {y_train.shape}, y_val: {y_test.shape}\")\n",
        "  return X_train, X_test, y_train, y_test"
      ],
      "execution_count": 61,
      "outputs": []
    },
    {
      "cell_type": "code",
      "metadata": {
        "colab_type": "code",
        "id": "bPJSssxYIm6g",
        "colab": {
          "base_uri": "https://localhost:8080/",
          "height": 34
        },
        "outputId": "e561c0f2-15c3-4871-dd19-43cf2357b6f9"
      },
      "source": [
        "# Checking the working of the above function\n",
        "X_train, X_test, y_train, y_test = train_test(df_tmp, 0.2)"
      ],
      "execution_count": 62,
      "outputs": [
        {
          "output_type": "stream",
          "text": [
            "SHAPES >>> X_train: (698, 16), X_val: (175, 16), y_train: (698,), y_val: (175,)\n"
          ],
          "name": "stdout"
        }
      ]
    },
    {
      "cell_type": "code",
      "metadata": {
        "colab_type": "code",
        "id": "wZQJxCKsJ_w9",
        "colab": {}
      },
      "source": [
        "# Creating function to (1) Impute Numerical Columns with NaN values with median \n",
        "# (2) Create separate columns (for columns with NaN values) indicating the rows where NaN values are present\n",
        "# (3) Convert object dtype columns to categorical columns\n",
        "# (4) Convert Categorical dtype Columns into Numerical Columns\n",
        "\n",
        "def convert_to_numeric(df):\n",
        "  to_categorical = []\n",
        "  for label, content in df.items():\n",
        "    if pd.api.types.is_numeric_dtype(content):\n",
        "      if df[label].isna().sum():\n",
        "        print(f\"{label} column is of numeric dtype and contains NaN values. Creating '{label}_is_missing' and imputing NaN values with median\")\n",
        "        df[label + \"_is_missing\"] = df[label].isna()\n",
        "        df[label].fillna(df[label].median(), inplace = True)\n",
        "      else:\n",
        "        pass\n",
        "    elif pd.api.types.is_string_dtype(content):\n",
        "      if df[label].isna().sum():\n",
        "        print(f\"{label} column is of object dtype and contains NaN values. Creating '{label}_is_missing' column\")\n",
        "        df[label + \"_is_missing\"] = df[label].isna()\n",
        "        df[label] = df[label].astype(\"category\").cat.as_ordered()\n",
        "        df[label] = pd.Categorical(df[label]).codes + 1\n",
        "        to_categorical.append(label)\n",
        "      else:\n",
        "        df[label] = df[label].astype(\"category\").cat.as_ordered()\n",
        "        df[label] = pd.Categorical(df[label]).codes + 1\n",
        "        to_categorical.append(label)\n",
        "    else:\n",
        "      pass\n",
        "  print(f\"The following columns have been converted from object to numeric dtype: {to_categorical}\")\n",
        "  return df"
      ],
      "execution_count": 63,
      "outputs": []
    },
    {
      "cell_type": "code",
      "metadata": {
        "colab_type": "code",
        "id": "CQX4aIfeJ_kn",
        "colab": {
          "base_uri": "https://localhost:8080/",
          "height": 676
        },
        "outputId": "60a32f45-713f-4e7b-d7a8-de41de35dc90"
      },
      "source": [
        "# Checking the working of the above function\n",
        "X_train = convert_to_numeric(X_train)\n",
        "X_train.info()"
      ],
      "execution_count": 64,
      "outputs": [
        {
          "output_type": "stream",
          "text": [
            "Age column is of numeric dtype and contains NaN values. Creating 'Age_is_missing' and imputing NaN values with median\n",
            "Cabin column is of object dtype and contains NaN values. Creating 'Cabin_is_missing' column\n",
            "Embarked column is of object dtype and contains NaN values. Creating 'Embarked_is_missing' column\n",
            "Deck column is of object dtype and contains NaN values. Creating 'Deck_is_missing' column\n",
            "TicketPrefix column is of object dtype and contains NaN values. Creating 'TicketPrefix_is_missing' column\n",
            "Cabin_count column is of numeric dtype and contains NaN values. Creating 'Cabin_count_is_missing' and imputing NaN values with median\n",
            "The following columns have been converted from object to numeric dtype: ['Sex', 'Ticket', 'Cabin', 'Embarked', 'Title', 'Deck', 'TicketPrefix']\n",
            "<class 'pandas.core.frame.DataFrame'>\n",
            "Int64Index: 698 entries, 334 to 766\n",
            "Data columns (total 22 columns):\n",
            " #   Column                   Non-Null Count  Dtype  \n",
            "---  ------                   --------------  -----  \n",
            " 0   PassengerId              698 non-null    int64  \n",
            " 1   Pclass                   698 non-null    int64  \n",
            " 2   Sex                      698 non-null    int8   \n",
            " 3   Age                      698 non-null    float64\n",
            " 4   SibSp                    698 non-null    int64  \n",
            " 5   Parch                    698 non-null    int64  \n",
            " 6   Ticket                   698 non-null    int16  \n",
            " 7   Fare                     698 non-null    float64\n",
            " 8   Cabin                    698 non-null    int8   \n",
            " 9   Embarked                 698 non-null    int8   \n",
            " 10  Title                    698 non-null    int8   \n",
            " 11  Deck                     698 non-null    int8   \n",
            " 12  FamilySize               698 non-null    int64  \n",
            " 13  FarePerPerson            698 non-null    float64\n",
            " 14  TicketPrefix             698 non-null    int8   \n",
            " 15  Cabin_count              698 non-null    float64\n",
            " 16  Age_is_missing           698 non-null    bool   \n",
            " 17  Cabin_is_missing         698 non-null    bool   \n",
            " 18  Embarked_is_missing      698 non-null    bool   \n",
            " 19  Deck_is_missing          698 non-null    bool   \n",
            " 20  TicketPrefix_is_missing  698 non-null    bool   \n",
            " 21  Cabin_count_is_missing   698 non-null    bool   \n",
            "dtypes: bool(6), float64(4), int16(1), int64(5), int8(6)\n",
            "memory usage: 64.1 KB\n"
          ],
          "name": "stdout"
        }
      ]
    },
    {
      "cell_type": "markdown",
      "metadata": {
        "colab_type": "text",
        "id": "Dtd9dyJYR1SR"
      },
      "source": [
        "The above function works as intended!!!\n",
        "Using the above function on X_test as well:"
      ]
    },
    {
      "cell_type": "code",
      "metadata": {
        "colab_type": "code",
        "id": "7Q3EtU-ISIWm",
        "colab": {
          "base_uri": "https://localhost:8080/",
          "height": 143
        },
        "outputId": "3e8ee4bc-f417-48c0-defd-dd7ff9c353e8"
      },
      "source": [
        "X_test = convert_to_numeric(X_test)"
      ],
      "execution_count": 65,
      "outputs": [
        {
          "output_type": "stream",
          "text": [
            "Age column is of numeric dtype and contains NaN values. Creating 'Age_is_missing' and imputing NaN values with median\n",
            "Cabin column is of object dtype and contains NaN values. Creating 'Cabin_is_missing' column\n",
            "Deck column is of object dtype and contains NaN values. Creating 'Deck_is_missing' column\n",
            "TicketPrefix column is of object dtype and contains NaN values. Creating 'TicketPrefix_is_missing' column\n",
            "Cabin_count column is of numeric dtype and contains NaN values. Creating 'Cabin_count_is_missing' and imputing NaN values with median\n",
            "The following columns have been converted from object to numeric dtype: ['Sex', 'Ticket', 'Cabin', 'Embarked', 'Title', 'Deck', 'TicketPrefix']\n"
          ],
          "name": "stdout"
        }
      ]
    },
    {
      "cell_type": "code",
      "metadata": {
        "colab_type": "code",
        "id": "PTwR1Z5ASjMV",
        "colab": {
          "base_uri": "https://localhost:8080/",
          "height": 367
        },
        "outputId": "1f678566-a48f-42cf-81cd-b18dca278d5c"
      },
      "source": [
        "# Viewing X_train\n",
        "X_train.head(10)"
      ],
      "execution_count": 66,
      "outputs": [
        {
          "output_type": "execute_result",
          "data": {
            "text/html": [
              "<div>\n",
              "<style scoped>\n",
              "    .dataframe tbody tr th:only-of-type {\n",
              "        vertical-align: middle;\n",
              "    }\n",
              "\n",
              "    .dataframe tbody tr th {\n",
              "        vertical-align: top;\n",
              "    }\n",
              "\n",
              "    .dataframe thead th {\n",
              "        text-align: right;\n",
              "    }\n",
              "</style>\n",
              "<table border=\"1\" class=\"dataframe\">\n",
              "  <thead>\n",
              "    <tr style=\"text-align: right;\">\n",
              "      <th></th>\n",
              "      <th>PassengerId</th>\n",
              "      <th>Pclass</th>\n",
              "      <th>Sex</th>\n",
              "      <th>Age</th>\n",
              "      <th>SibSp</th>\n",
              "      <th>Parch</th>\n",
              "      <th>Ticket</th>\n",
              "      <th>Fare</th>\n",
              "      <th>Cabin</th>\n",
              "      <th>Embarked</th>\n",
              "      <th>Title</th>\n",
              "      <th>Deck</th>\n",
              "      <th>FamilySize</th>\n",
              "      <th>FarePerPerson</th>\n",
              "      <th>TicketPrefix</th>\n",
              "      <th>Cabin_count</th>\n",
              "      <th>Age_is_missing</th>\n",
              "      <th>Cabin_is_missing</th>\n",
              "      <th>Embarked_is_missing</th>\n",
              "      <th>Deck_is_missing</th>\n",
              "      <th>TicketPrefix_is_missing</th>\n",
              "      <th>Cabin_count_is_missing</th>\n",
              "    </tr>\n",
              "  </thead>\n",
              "  <tbody>\n",
              "    <tr>\n",
              "      <th>334</th>\n",
              "      <td>335</td>\n",
              "      <td>1</td>\n",
              "      <td>1</td>\n",
              "      <td>28.5</td>\n",
              "      <td>1</td>\n",
              "      <td>0</td>\n",
              "      <td>496</td>\n",
              "      <td>133.6500</td>\n",
              "      <td>0</td>\n",
              "      <td>3</td>\n",
              "      <td>5</td>\n",
              "      <td>0</td>\n",
              "      <td>1</td>\n",
              "      <td>66.825000</td>\n",
              "      <td>5</td>\n",
              "      <td>1.0</td>\n",
              "      <td>True</td>\n",
              "      <td>True</td>\n",
              "      <td>False</td>\n",
              "      <td>True</td>\n",
              "      <td>False</td>\n",
              "      <td>True</td>\n",
              "    </tr>\n",
              "    <tr>\n",
              "      <th>29</th>\n",
              "      <td>30</td>\n",
              "      <td>3</td>\n",
              "      <td>2</td>\n",
              "      <td>28.5</td>\n",
              "      <td>0</td>\n",
              "      <td>0</td>\n",
              "      <td>296</td>\n",
              "      <td>7.8958</td>\n",
              "      <td>0</td>\n",
              "      <td>3</td>\n",
              "      <td>4</td>\n",
              "      <td>0</td>\n",
              "      <td>0</td>\n",
              "      <td>7.895800</td>\n",
              "      <td>0</td>\n",
              "      <td>1.0</td>\n",
              "      <td>True</td>\n",
              "      <td>True</td>\n",
              "      <td>False</td>\n",
              "      <td>True</td>\n",
              "      <td>True</td>\n",
              "      <td>True</td>\n",
              "    </tr>\n",
              "    <tr>\n",
              "      <th>431</th>\n",
              "      <td>432</td>\n",
              "      <td>3</td>\n",
              "      <td>1</td>\n",
              "      <td>28.5</td>\n",
              "      <td>1</td>\n",
              "      <td>0</td>\n",
              "      <td>386</td>\n",
              "      <td>16.1000</td>\n",
              "      <td>0</td>\n",
              "      <td>3</td>\n",
              "      <td>5</td>\n",
              "      <td>0</td>\n",
              "      <td>1</td>\n",
              "      <td>8.050000</td>\n",
              "      <td>0</td>\n",
              "      <td>1.0</td>\n",
              "      <td>True</td>\n",
              "      <td>True</td>\n",
              "      <td>False</td>\n",
              "      <td>True</td>\n",
              "      <td>True</td>\n",
              "      <td>True</td>\n",
              "    </tr>\n",
              "    <tr>\n",
              "      <th>403</th>\n",
              "      <td>404</td>\n",
              "      <td>3</td>\n",
              "      <td>2</td>\n",
              "      <td>28.0</td>\n",
              "      <td>1</td>\n",
              "      <td>0</td>\n",
              "      <td>550</td>\n",
              "      <td>15.8500</td>\n",
              "      <td>0</td>\n",
              "      <td>3</td>\n",
              "      <td>4</td>\n",
              "      <td>0</td>\n",
              "      <td>1</td>\n",
              "      <td>7.925000</td>\n",
              "      <td>6</td>\n",
              "      <td>1.0</td>\n",
              "      <td>False</td>\n",
              "      <td>True</td>\n",
              "      <td>False</td>\n",
              "      <td>True</td>\n",
              "      <td>False</td>\n",
              "      <td>True</td>\n",
              "    </tr>\n",
              "    <tr>\n",
              "      <th>799</th>\n",
              "      <td>800</td>\n",
              "      <td>3</td>\n",
              "      <td>1</td>\n",
              "      <td>30.0</td>\n",
              "      <td>1</td>\n",
              "      <td>1</td>\n",
              "      <td>246</td>\n",
              "      <td>24.1500</td>\n",
              "      <td>0</td>\n",
              "      <td>3</td>\n",
              "      <td>3</td>\n",
              "      <td>0</td>\n",
              "      <td>2</td>\n",
              "      <td>8.050000</td>\n",
              "      <td>0</td>\n",
              "      <td>1.0</td>\n",
              "      <td>False</td>\n",
              "      <td>True</td>\n",
              "      <td>False</td>\n",
              "      <td>True</td>\n",
              "      <td>True</td>\n",
              "      <td>True</td>\n",
              "    </tr>\n",
              "    <tr>\n",
              "      <th>825</th>\n",
              "      <td>826</td>\n",
              "      <td>3</td>\n",
              "      <td>2</td>\n",
              "      <td>28.5</td>\n",
              "      <td>0</td>\n",
              "      <td>0</td>\n",
              "      <td>365</td>\n",
              "      <td>6.9500</td>\n",
              "      <td>0</td>\n",
              "      <td>2</td>\n",
              "      <td>4</td>\n",
              "      <td>0</td>\n",
              "      <td>0</td>\n",
              "      <td>6.950000</td>\n",
              "      <td>0</td>\n",
              "      <td>1.0</td>\n",
              "      <td>True</td>\n",
              "      <td>True</td>\n",
              "      <td>False</td>\n",
              "      <td>True</td>\n",
              "      <td>True</td>\n",
              "      <td>True</td>\n",
              "    </tr>\n",
              "    <tr>\n",
              "      <th>774</th>\n",
              "      <td>775</td>\n",
              "      <td>2</td>\n",
              "      <td>1</td>\n",
              "      <td>54.0</td>\n",
              "      <td>1</td>\n",
              "      <td>3</td>\n",
              "      <td>190</td>\n",
              "      <td>23.0000</td>\n",
              "      <td>0</td>\n",
              "      <td>3</td>\n",
              "      <td>5</td>\n",
              "      <td>0</td>\n",
              "      <td>4</td>\n",
              "      <td>4.600000</td>\n",
              "      <td>0</td>\n",
              "      <td>1.0</td>\n",
              "      <td>False</td>\n",
              "      <td>True</td>\n",
              "      <td>False</td>\n",
              "      <td>True</td>\n",
              "      <td>True</td>\n",
              "      <td>True</td>\n",
              "    </tr>\n",
              "    <tr>\n",
              "      <th>594</th>\n",
              "      <td>595</td>\n",
              "      <td>2</td>\n",
              "      <td>2</td>\n",
              "      <td>37.0</td>\n",
              "      <td>1</td>\n",
              "      <td>0</td>\n",
              "      <td>514</td>\n",
              "      <td>26.0000</td>\n",
              "      <td>0</td>\n",
              "      <td>3</td>\n",
              "      <td>4</td>\n",
              "      <td>0</td>\n",
              "      <td>1</td>\n",
              "      <td>13.000000</td>\n",
              "      <td>4</td>\n",
              "      <td>1.0</td>\n",
              "      <td>False</td>\n",
              "      <td>True</td>\n",
              "      <td>False</td>\n",
              "      <td>True</td>\n",
              "      <td>False</td>\n",
              "      <td>True</td>\n",
              "    </tr>\n",
              "    <tr>\n",
              "      <th>659</th>\n",
              "      <td>660</td>\n",
              "      <td>1</td>\n",
              "      <td>2</td>\n",
              "      <td>58.0</td>\n",
              "      <td>0</td>\n",
              "      <td>2</td>\n",
              "      <td>339</td>\n",
              "      <td>113.2750</td>\n",
              "      <td>92</td>\n",
              "      <td>1</td>\n",
              "      <td>4</td>\n",
              "      <td>4</td>\n",
              "      <td>2</td>\n",
              "      <td>37.758333</td>\n",
              "      <td>0</td>\n",
              "      <td>1.0</td>\n",
              "      <td>False</td>\n",
              "      <td>False</td>\n",
              "      <td>False</td>\n",
              "      <td>False</td>\n",
              "      <td>True</td>\n",
              "      <td>False</td>\n",
              "    </tr>\n",
              "    <tr>\n",
              "      <th>236</th>\n",
              "      <td>237</td>\n",
              "      <td>2</td>\n",
              "      <td>2</td>\n",
              "      <td>44.0</td>\n",
              "      <td>1</td>\n",
              "      <td>0</td>\n",
              "      <td>157</td>\n",
              "      <td>26.0000</td>\n",
              "      <td>0</td>\n",
              "      <td>3</td>\n",
              "      <td>4</td>\n",
              "      <td>0</td>\n",
              "      <td>1</td>\n",
              "      <td>13.000000</td>\n",
              "      <td>0</td>\n",
              "      <td>1.0</td>\n",
              "      <td>False</td>\n",
              "      <td>True</td>\n",
              "      <td>False</td>\n",
              "      <td>True</td>\n",
              "      <td>True</td>\n",
              "      <td>True</td>\n",
              "    </tr>\n",
              "  </tbody>\n",
              "</table>\n",
              "</div>"
            ],
            "text/plain": [
              "     PassengerId  Pclass  ...  TicketPrefix_is_missing  Cabin_count_is_missing\n",
              "334          335       1  ...                    False                    True\n",
              "29            30       3  ...                     True                    True\n",
              "431          432       3  ...                     True                    True\n",
              "403          404       3  ...                    False                    True\n",
              "799          800       3  ...                     True                    True\n",
              "825          826       3  ...                     True                    True\n",
              "774          775       2  ...                     True                    True\n",
              "594          595       2  ...                    False                    True\n",
              "659          660       1  ...                     True                   False\n",
              "236          237       2  ...                     True                    True\n",
              "\n",
              "[10 rows x 22 columns]"
            ]
          },
          "metadata": {
            "tags": []
          },
          "execution_count": 66
        }
      ]
    },
    {
      "cell_type": "code",
      "metadata": {
        "colab_type": "code",
        "id": "U-eDjLvkUYMk",
        "colab": {}
      },
      "source": [
        "# Let's combine all the above functions into a single function to process the training data\n",
        "def process_master(df, test_size = 0.2, test_database = False):\n",
        "  \"\"\"\n",
        "  This function takes a training/testing database, fully processes it and\n",
        "  reutrns a train + valid database (X_train, X_val, y_train, y_val) if training \n",
        "  database is input, otherwise returns test database if test database is input.\n",
        "\n",
        "  Check the columns of the train/test database for ensuring consistent number of columns!!\n",
        "  \"\"\"\n",
        "  if not test_database:\n",
        "    print(\"Creating training and validation databases...\")\n",
        "    df = Title_extract(df)\n",
        "    df = Deck(df)\n",
        "    df = FamilySize_FarePerPerson(df)\n",
        "    df = TicketPrefix(df)\n",
        "    df = Cabin_count(df)\n",
        "    df = clean_Fare(df)\n",
        "    df = scaler(df)\n",
        "    X_train, X_val, y_train, y_val = train_test(df, test_size = test_size)\n",
        "    X_train = convert_to_numeric(X_train)\n",
        "    X_val = convert_to_numeric(X_val)\n",
        "    print(f\"Final SHAPES >>> X_train: {X_train.shape}, X_val: {X_val.shape}, y_train: {y_train.shape}, y_val: {y_val.shape}\")\n",
        "    return X_train, X_val, y_train, y_val\n",
        "  else:\n",
        "    print(\"Creating test database...\")\n",
        "    df = Title_extract(df)\n",
        "    df = Deck(df)\n",
        "    df = FamilySize_FarePerPerson(df)\n",
        "    df = TicketPrefix(df)\n",
        "    df = Cabin_count(df)\n",
        "    df = convert_to_numeric(df)\n",
        "    print(f\"Final SHAPE >>> X_test: {df.shape}\")\n",
        "    return df"
      ],
      "execution_count": 67,
      "outputs": []
    },
    {
      "cell_type": "code",
      "metadata": {
        "colab_type": "code",
        "id": "P8tl6brYaKz8",
        "colab": {
          "base_uri": "https://localhost:8080/",
          "height": 338
        },
        "outputId": "22a85ddf-c9d8-4e87-f245-ccd13f530a36"
      },
      "source": [
        "#Checking the working of the above function for training database case\n",
        "X_train, X_val, y_train, y_val = process_master(df_train)"
      ],
      "execution_count": 80,
      "outputs": [
        {
          "output_type": "stream",
          "text": [
            "Creating training and validation databases...\n",
            "SHAPES >>> X_train: (698, 16), X_val: (175, 16), y_train: (698,), y_val: (175,)\n",
            "Age column is of numeric dtype and contains NaN values. Creating 'Age_is_missing' and imputing NaN values with median\n",
            "Cabin column is of object dtype and contains NaN values. Creating 'Cabin_is_missing' column\n",
            "Embarked column is of object dtype and contains NaN values. Creating 'Embarked_is_missing' column\n",
            "Deck column is of object dtype and contains NaN values. Creating 'Deck_is_missing' column\n",
            "TicketPrefix column is of object dtype and contains NaN values. Creating 'TicketPrefix_is_missing' column\n",
            "Cabin_count column is of numeric dtype and contains NaN values. Creating 'Cabin_count_is_missing' and imputing NaN values with median\n",
            "The following columns have been converted from object to numeric dtype: ['Sex', 'Ticket', 'Cabin', 'Embarked', 'Title', 'Deck', 'TicketPrefix']\n",
            "Age column is of numeric dtype and contains NaN values. Creating 'Age_is_missing' and imputing NaN values with median\n",
            "Cabin column is of object dtype and contains NaN values. Creating 'Cabin_is_missing' column\n",
            "Embarked column is of object dtype and contains NaN values. Creating 'Embarked_is_missing' column\n",
            "Deck column is of object dtype and contains NaN values. Creating 'Deck_is_missing' column\n",
            "TicketPrefix column is of object dtype and contains NaN values. Creating 'TicketPrefix_is_missing' column\n",
            "Cabin_count column is of numeric dtype and contains NaN values. Creating 'Cabin_count_is_missing' and imputing NaN values with median\n",
            "The following columns have been converted from object to numeric dtype: ['Sex', 'Ticket', 'Cabin', 'Embarked', 'Title', 'Deck', 'TicketPrefix']\n",
            "Final SHAPES >>> X_train: (698, 22), X_val: (175, 22), y_train: (698,), y_val: (175,)\n"
          ],
          "name": "stdout"
        }
      ]
    },
    {
      "cell_type": "code",
      "metadata": {
        "colab_type": "code",
        "id": "H1SDrauEa9jD",
        "colab": {
          "base_uri": "https://localhost:8080/",
          "height": 214
        },
        "outputId": "2ac88d70-dddc-47bc-f732-afc735af044a"
      },
      "source": [
        "# Checking the working of the above function for test database case\n",
        "df_test = process_master(df_train.drop([\"Survived\"], axis = 1), test_database=True)\n",
        "df_test.shape"
      ],
      "execution_count": 81,
      "outputs": [
        {
          "output_type": "stream",
          "text": [
            "Creating test database...\n",
            "Age column is of numeric dtype and contains NaN values. Creating 'Age_is_missing' and imputing NaN values with median\n",
            "Cabin column is of object dtype and contains NaN values. Creating 'Cabin_is_missing' column\n",
            "Embarked column is of object dtype and contains NaN values. Creating 'Embarked_is_missing' column\n",
            "Deck column is of object dtype and contains NaN values. Creating 'Deck_is_missing' column\n",
            "TicketPrefix column is of object dtype and contains NaN values. Creating 'TicketPrefix_is_missing' column\n",
            "Cabin_count column is of numeric dtype and contains NaN values. Creating 'Cabin_count_is_missing' and imputing NaN values with median\n",
            "The following columns have been converted from object to numeric dtype: ['Sex', 'Ticket', 'Cabin', 'Embarked', 'Title', 'Deck', 'TicketPrefix']\n",
            "Final SHAPE >>> X_test: (891, 22)\n"
          ],
          "name": "stdout"
        },
        {
          "output_type": "execute_result",
          "data": {
            "text/plain": [
              "(891, 22)"
            ]
          },
          "metadata": {
            "tags": []
          },
          "execution_count": 81
        }
      ]
    },
    {
      "cell_type": "markdown",
      "metadata": {
        "colab_type": "text",
        "id": "92MseEMPbYVF"
      },
      "source": [
        "So far, the function is working perfectly !!! "
      ]
    },
    {
      "cell_type": "markdown",
      "metadata": {
        "colab_type": "text",
        "id": "D9yL9FGqcwI8"
      },
      "source": [
        "# Feature Selection"
      ]
    },
    {
      "cell_type": "code",
      "metadata": {
        "colab_type": "code",
        "id": "MufPN5H9cz5K",
        "colab": {
          "base_uri": "https://localhost:8080/",
          "height": 1000
        },
        "outputId": "ced86737-3b23-41a3-d93a-7b6ca12ceef4"
      },
      "source": [
        "# Let's check the correlation of the features\n",
        "plt.figure(figsize = (20,20))\n",
        "sns.heatmap(X_train.corr(),annot = True);"
      ],
      "execution_count": 82,
      "outputs": [
        {
          "output_type": "display_data",
          "data": {
            "image/png": "[encoded data removed]",
            "text/plain": [
              "<Figure size 1440x1440 with 2 Axes>"
            ]
          },
          "metadata": {
            "tags": [],
            "needs_background": "light"
          }
        }
      ]
    },
    {
      "cell_type": "markdown",
      "metadata": {
        "colab_type": "text",
        "id": "Ab56zpptS5Eb"
      },
      "source": [
        "We can see that there are a lot of features that are highly correlated with each other, (especially the missing columns related to cabin, deck and cabin_count and Fare). \n",
        "\n",
        "We should remove highly correlated features before using the data to build our model.\n",
        "\n",
        "We should also remove redundant columns, like the Ticket column, which don't provide any additional information."
      ]
    },
    {
      "cell_type": "code",
      "metadata": {
        "colab_type": "code",
        "id": "dwCSDxGkVgH5",
        "colab": {}
      },
      "source": [
        "# Removing [\"PassengerId\", \"Ticket\", \"FamilySize\", \"FarePerPerson\", \"Cabin_is_missing\", \"Deck_is_missing\", \"TicketPrefix_is_missing\", \"Cabin_count_is_missing\"] columns\n",
        "X_train = X_train.drop(labels = [\"PassengerId\", \"Ticket\", \"FamilySize\", \"FarePerPerson\", \"Cabin_is_missing\", \"Deck_is_missing\", \"TicketPrefix_is_missing\", \"Cabin_count_is_missing\"],\n",
        "                       axis = 1)\n",
        "X_val = X_val.drop(labels = [\"PassengerId\", \"Ticket\", \"FamilySize\", \"FarePerPerson\", \"Cabin_is_missing\", \"Deck_is_missing\", \"TicketPrefix_is_missing\", \"Cabin_count_is_missing\"],\n",
        "                       axis = 1)"
      ],
      "execution_count": 83,
      "outputs": []
    },
    {
      "cell_type": "code",
      "metadata": {
        "colab_type": "code",
        "id": "MK3OpRtYZmX8",
        "colab": {
          "base_uri": "https://localhost:8080/",
          "height": 982
        },
        "outputId": "74e6d5b4-e14e-4bfc-a382-7a05c3df8053"
      },
      "source": [
        "#Let's see the correlation matrix once again\n",
        "plt.figure(figsize = (15,15))\n",
        "sns.heatmap(X_train.corr(), annot = True)"
      ],
      "execution_count": 84,
      "outputs": [
        {
          "output_type": "execute_result",
          "data": {
            "text/plain": [
              "<matplotlib.axes._subplots.AxesSubplot at 0x7f8a14379da0>"
            ]
          },
          "metadata": {
            "tags": []
          },
          "execution_count": 84
        },
        {
          "output_type": "display_data",
          "data": {
            "image/png": "[encoded data removed]",
            "text/plain": [
              "<Figure size 1080x1080 with 2 Axes>"
            ]
          },
          "metadata": {
            "tags": [],
            "needs_background": "light"
          }
        }
      ]
    },
    {
      "cell_type": "markdown",
      "metadata": {
        "colab_type": "text",
        "id": "fNsgcgSTciD6"
      },
      "source": [
        "# Building a Machine Learning Model"
      ]
    },
    {
      "cell_type": "markdown",
      "metadata": {
        "colab_type": "text",
        "id": "7yJoyHBoYDvE"
      },
      "source": [
        "Now that wee have our data ready, let's select a machine learning algorithm for our model."
      ]
    },
    {
      "cell_type": "markdown",
      "metadata": {
        "colab_type": "text",
        "id": "ZnjbWHlcY1w6"
      },
      "source": [
        "Let's see the performance of Random Forest Classifier, Logistic Regression, K Neighbors Classifier and SVM and Linear SVM. Then we'll select one which performs the best."
      ]
    },
    {
      "cell_type": "code",
      "metadata": {
        "colab_type": "code",
        "id": "EsxGug7aBX9k",
        "colab": {}
      },
      "source": [
        "from sklearn.ensemble import RandomForestClassifier\n",
        "from sklearn.linear_model import LogisticRegression\n",
        "from sklearn.neighbors import KNeighborsClassifier\n",
        "from sklearn import svm"
      ],
      "execution_count": 85,
      "outputs": []
    },
    {
      "cell_type": "code",
      "metadata": {
        "colab_type": "code",
        "id": "SoWrFtHVBX9m",
        "colab": {
          "base_uri": "https://localhost:8080/",
          "height": 141
        },
        "outputId": "2498f766-ea17-4cff-ede8-1231513ae142"
      },
      "source": [
        "scores = {}\n",
        "models = {\"RandomForestClassifier\": RandomForestClassifier(),\n",
        "         \"LogisticRegression\": LogisticRegression(max_iter = 10000),\n",
        "         \"KNN\": KNeighborsClassifier(),\n",
        "         \"SVC\": svm.SVC(),\n",
        "         \"LinearSVC\": svm.LinearSVC(max_iter = 100000)}\n",
        "for name, model in models.items():\n",
        "    model.fit(X_train, y_train)\n",
        "    scores[name] = model.score(X_val, y_val)\n",
        "scores"
      ],
      "execution_count": 87,
      "outputs": [
        {
          "output_type": "stream",
          "text": [
            "/usr/local/lib/python3.6/dist-packages/sklearn/svm/_base.py:947: ConvergenceWarning: Liblinear failed to converge, increase the number of iterations.\n",
            "  \"the number of iterations.\", ConvergenceWarning)\n"
          ],
          "name": "stderr"
        },
        {
          "output_type": "execute_result",
          "data": {
            "text/plain": [
              "{'KNN': 0.6914285714285714,\n",
              " 'LinearSVC': 0.8057142857142857,\n",
              " 'LogisticRegression': 0.7942857142857143,\n",
              " 'RandomForestClassifier': 0.7942857142857143,\n",
              " 'SVC': 0.6571428571428571}"
            ]
          },
          "metadata": {
            "tags": []
          },
          "execution_count": 87
        }
      ]
    },
    {
      "cell_type": "markdown",
      "metadata": {
        "colab_type": "text",
        "id": "C6MXZDXWq5-o"
      },
      "source": [
        "We can see that Random Forest Classifier has performed the best. So, Let's first try building a model using Random Forest!"
      ]
    },
    {
      "cell_type": "markdown",
      "metadata": {
        "colab_type": "text",
        "id": "mlxunXEsrCrt"
      },
      "source": [
        "## Random Forest Classifier"
      ]
    },
    {
      "cell_type": "markdown",
      "metadata": {
        "colab_type": "text",
        "id": "G0SyHJ1HbFBs"
      },
      "source": [
        "### Feature Importance\n",
        "\n",
        "Let's see the Feature  Importance for the Random Forest Classifier Model"
      ]
    },
    {
      "cell_type": "code",
      "metadata": {
        "colab_type": "code",
        "id": "qTp4P2zVBX9r",
        "colab": {}
      },
      "source": [
        "# Creating a function for plotting Feature Importance\n",
        "def plot_feat_imp(columns, importance):\n",
        "    \"\"\"\n",
        "    Plot the feature importance for an ensemble estimator\n",
        "    \"\"\"\n",
        "    df = pd.DataFrame(data = {\"Feature_importance\": importance}, index = columns)\n",
        "    df.sort_values(\"Feature_importance\", inplace = True)\n",
        "    df.plot.barh()\n",
        "#     plt.xticks(rotation = 'verticle')"
      ],
      "execution_count": null,
      "outputs": []
    },
    {
      "cell_type": "code",
      "metadata": {
        "colab_type": "code",
        "id": "UktJPZ3TBX9s",
        "colab": {
          "base_uri": "https://localhost:8080/",
          "height": 264
        },
        "outputId": "cea2dc1f-e21e-4497-b09c-b0050f7bda75"
      },
      "source": [
        "# Checking Feature  Importance\n",
        "rfc = RandomForestClassifier()\n",
        "rfc.fit(X_train, y_train)\n",
        "plot_feat_imp(X_train.columns, rfc.feature_importances_)"
      ],
      "execution_count": null,
      "outputs": [
        {
          "output_type": "display_data",
          "data": {
            "image/png": "[encoded data removed]",
            "text/plain": [
              "<Figure size 432x288 with 1 Axes>"
            ]
          },
          "metadata": {
            "tags": [],
            "needs_background": "light"
          }
        }
      ]
    },
    {
      "cell_type": "markdown",
      "metadata": {
        "colab_type": "text",
        "id": "XeKfC4Iocl_U"
      },
      "source": [
        "Therefore, the most important features are Sex, Age and Fare. That looks promising..."
      ]
    },
    {
      "cell_type": "markdown",
      "metadata": {
        "colab_type": "text",
        "id": "_mbxwpysdAuo"
      },
      "source": [
        "### Hyper-parameter Tuning"
      ]
    },
    {
      "cell_type": "markdown",
      "metadata": {
        "colab_type": "text",
        "id": "gnJNPh2GdJRp"
      },
      "source": [
        "#### Randomized Search"
      ]
    },
    {
      "cell_type": "markdown",
      "metadata": {
        "colab_type": "text",
        "id": "4PeWvOKrBX9v"
      },
      "source": [
        "Let's use Randomized Search for finding a suitable range of hyper parameters which we can fine tune later using Grid Search. "
      ]
    },
    {
      "cell_type": "code",
      "metadata": {
        "colab_type": "code",
        "id": "IqgjrQSuBX9y",
        "colab": {}
      },
      "source": [
        "# Building a grid of parameters for Randomized Search\n",
        "rfc_randgrid = {'bootstrap': [True, False],\n",
        " 'max_depth': [10, 20, 30, 40, 50, 60, 70, 80, 90, 100, None],\n",
        " 'max_features': ['auto', 'sqrt'],\n",
        " 'min_samples_leaf': [1, 2, 4],\n",
        " 'min_samples_split': [2, 5, 10],\n",
        " 'n_estimators': [200, 400, 600, 800, 1000, 1200, 1400, 1600, 1800, 2000]}"
      ],
      "execution_count": null,
      "outputs": []
    },
    {
      "cell_type": "code",
      "metadata": {
        "colab_type": "code",
        "id": "QR5tzInmBX92",
        "colab": {
          "base_uri": "https://localhost:8080/",
          "height": 603
        },
        "outputId": "1d564972-fa3d-48fc-e354-d51532bd544d"
      },
      "source": [
        "# Running Randomized Search\n",
        "from sklearn.model_selection import  RandomizedSearchCV\n",
        "rfc_rand = RandomizedSearchCV(RandomForestClassifier(), param_distributions = rfc_randgrid, n_iter = 100, n_jobs = -1, cv = 3, verbose = 1, random_state = 23)\n",
        "rfc_rand.fit(X_train, y_train)"
      ],
      "execution_count": null,
      "outputs": [
        {
          "output_type": "stream",
          "text": [
            "Fitting 3 folds for each of 100 candidates, totalling 300 fits\n"
          ],
          "name": "stdout"
        },
        {
          "output_type": "stream",
          "text": [
            "[Parallel(n_jobs=-1)]: Using backend LokyBackend with 2 concurrent workers.\n",
            "[Parallel(n_jobs=-1)]: Done  46 tasks      | elapsed:  1.1min\n",
            "[Parallel(n_jobs=-1)]: Done 196 tasks      | elapsed:  5.1min\n",
            "[Parallel(n_jobs=-1)]: Done 300 out of 300 | elapsed:  7.1min finished\n"
          ],
          "name": "stderr"
        },
        {
          "output_type": "execute_result",
          "data": {
            "text/plain": [
              "RandomizedSearchCV(cv=3, error_score=nan,\n",
              "                   estimator=RandomForestClassifier(bootstrap=True,\n",
              "                                                    ccp_alpha=0.0,\n",
              "                                                    class_weight=None,\n",
              "                                                    criterion='gini',\n",
              "                                                    max_depth=None,\n",
              "                                                    max_features='auto',\n",
              "                                                    max_leaf_nodes=None,\n",
              "                                                    max_samples=None,\n",
              "                                                    min_impurity_decrease=0.0,\n",
              "                                                    min_impurity_split=None,\n",
              "                                                    min_samples_leaf=1,\n",
              "                                                    min_samples_split=2,\n",
              "                                                    min_weight_fraction_leaf=0.0,\n",
              "                                                    n_estimators=100,\n",
              "                                                    n_jobs...\n",
              "                   iid='deprecated', n_iter=100, n_jobs=-1,\n",
              "                   param_distributions={'bootstrap': [True, False],\n",
              "                                        'max_depth': [10, 20, 30, 40, 50, 60,\n",
              "                                                      70, 80, 90, 100, None],\n",
              "                                        'max_features': ['auto', 'sqrt'],\n",
              "                                        'min_samples_leaf': [1, 2, 4],\n",
              "                                        'min_samples_split': [2, 5, 10],\n",
              "                                        'n_estimators': [200, 400, 600, 800,\n",
              "                                                         1000, 1200, 1400, 1600,\n",
              "                                                         1800, 2000]},\n",
              "                   pre_dispatch='2*n_jobs', random_state=23, refit=True,\n",
              "                   return_train_score=False, scoring=None, verbose=1)"
            ]
          },
          "metadata": {
            "tags": []
          },
          "execution_count": 171
        }
      ]
    },
    {
      "cell_type": "code",
      "metadata": {
        "colab_type": "code",
        "id": "9Gdy3F5ZBX94",
        "colab": {
          "base_uri": "https://localhost:8080/",
          "height": 34
        },
        "outputId": "614f073d-1d9f-477a-fcab-34f11685f430"
      },
      "source": [
        "# Scoring the best model from Randomized Search on Validation set\n",
        "rfc_rand.score(X_val, y_val)"
      ],
      "execution_count": null,
      "outputs": [
        {
          "output_type": "execute_result",
          "data": {
            "text/plain": [
              "0.84"
            ]
          },
          "metadata": {
            "tags": []
          },
          "execution_count": 172
        }
      ]
    },
    {
      "cell_type": "code",
      "metadata": {
        "colab_type": "code",
        "id": "NZREq8zSBX96",
        "colab": {
          "base_uri": "https://localhost:8080/",
          "height": 123
        },
        "outputId": "7e6ce6c8-a92a-4306-d2b5-a8f8d2872663"
      },
      "source": [
        "# Obtaining the best set of parameters from Randomized Search for fine tuning using Grid Search\n",
        "rfc_rand.best_params_"
      ],
      "execution_count": null,
      "outputs": [
        {
          "output_type": "execute_result",
          "data": {
            "text/plain": [
              "{'bootstrap': False,\n",
              " 'max_depth': None,\n",
              " 'max_features': 'auto',\n",
              " 'min_samples_leaf': 2,\n",
              " 'min_samples_split': 2,\n",
              " 'n_estimators': 800}"
            ]
          },
          "metadata": {
            "tags": []
          },
          "execution_count": 173
        }
      ]
    },
    {
      "cell_type": "markdown",
      "metadata": {
        "colab_type": "text",
        "id": "ukRqRFu2eFFI"
      },
      "source": [
        "#### Grid Search"
      ]
    },
    {
      "cell_type": "code",
      "metadata": {
        "colab_type": "code",
        "id": "XRAFMWuOgxda",
        "colab": {}
      },
      "source": [
        "# # Building a grid of parameters for Randomized Search\n",
        "# rfc_randgrid = {'bootstrap': [True, False],\n",
        "#  'max_depth': [10, 20, 30, 40, 50, 60, 70, 80, 90, 100, None],\n",
        "#  'max_features': ['auto', 'sqrt'],\n",
        "#  'min_samples_leaf': [1, 2, 4],\n",
        "#  'min_samples_split': [2, 5, 10],\n",
        "#  'n_estimators': [200, 400, 600, 800, 1000, 1200, 1400, 1600, 1800, 2000]}"
      ],
      "execution_count": null,
      "outputs": []
    },
    {
      "cell_type": "code",
      "metadata": {
        "colab_type": "code",
        "id": "EkWREdUGBX98",
        "colab": {}
      },
      "source": [
        "# Grid of hyper parameters for Grid Search\n",
        "rfc_grid = {'bootstrap': [False],\n",
        " 'max_depth': [None, 5, 10],\n",
        " 'max_features': ['auto'],\n",
        " 'min_samples_leaf': [1, 2, 3],\n",
        " 'min_samples_split': [2,3,4],\n",
        " 'n_estimators': [600, 700, 800, 900, 1000]}"
      ],
      "execution_count": null,
      "outputs": []
    },
    {
      "cell_type": "code",
      "metadata": {
        "colab_type": "code",
        "id": "PlX1RGghBX-A",
        "colab": {
          "base_uri": "https://localhost:8080/",
          "height": 105
        },
        "outputId": "749528f8-8c20-404e-b0f9-58eaefa38d83"
      },
      "source": [
        "# Running Grid Search\n",
        "from sklearn.model_selection import GridSearchCV\n",
        "rfc_gridsearch = GridSearchCV(estimator = RandomForestClassifier(), param_grid = rfc_grid, cv = 5, n_jobs = -1, verbose = 1)\n",
        "rfc_gridsearch.fit(X_train, y_train)"
      ],
      "execution_count": null,
      "outputs": [
        {
          "output_type": "stream",
          "text": [
            "Fitting 5 folds for each of 135 candidates, totalling 675 fits\n"
          ],
          "name": "stdout"
        },
        {
          "output_type": "stream",
          "text": [
            "[Parallel(n_jobs=-1)]: Using backend LokyBackend with 2 concurrent workers.\n",
            "[Parallel(n_jobs=-1)]: Done  46 tasks      | elapsed:   50.8s\n",
            "[Parallel(n_jobs=-1)]: Done 196 tasks      | elapsed:  3.4min\n",
            "[Parallel(n_jobs=-1)]: Done 446 tasks      | elapsed:  7.1min\n"
          ],
          "name": "stderr"
        }
      ]
    },
    {
      "cell_type": "code",
      "metadata": {
        "colab_type": "code",
        "id": "rN8fCNdeBX-D",
        "colab": {
          "base_uri": "https://localhost:8080/",
          "height": 34
        },
        "outputId": "e8f52c9f-3ff4-47a6-b37d-25cd08bde644"
      },
      "source": [
        "# The score of the best set of hyperparameters on the validation model\n",
        "rfc_gridsearch.score(X_val, y_val)"
      ],
      "execution_count": null,
      "outputs": [
        {
          "output_type": "execute_result",
          "data": {
            "text/plain": [
              "0.7885714285714286"
            ]
          },
          "metadata": {
            "tags": []
          },
          "execution_count": 136
        }
      ]
    },
    {
      "cell_type": "code",
      "metadata": {
        "colab_type": "code",
        "id": "VCCbIQUcBX-G",
        "colab": {
          "base_uri": "https://localhost:8080/",
          "height": 123
        },
        "outputId": "72706bde-fb65-44c4-bd1c-75feb2fa9723"
      },
      "source": [
        "# Obtaining the best set of hyperparameters from Grid Search\n",
        "rfc_gridsearch.best_params_"
      ],
      "execution_count": null,
      "outputs": [
        {
          "output_type": "execute_result",
          "data": {
            "text/plain": [
              "{'bootstrap': False,\n",
              " 'max_depth': 10,\n",
              " 'max_features': 'sqrt',\n",
              " 'min_samples_leaf': 1,\n",
              " 'min_samples_split': 10,\n",
              " 'n_estimators': 1000}"
            ]
          },
          "metadata": {
            "tags": []
          },
          "execution_count": 137
        }
      ]
    },
    {
      "cell_type": "markdown",
      "metadata": {
        "colab_type": "text",
        "id": "ItQPvRDbBX-H"
      },
      "source": [
        "Now, lets use the above hyperparameters and fit the Random Forest Classifier on the whole training dataset"
      ]
    },
    {
      "cell_type": "code",
      "metadata": {
        "colab_type": "code",
        "id": "DehzYJ-XfdGE",
        "colab": {
          "base_uri": "https://localhost:8080/",
          "height": 34
        },
        "outputId": "6a8c3f61-ddef-4ced-bd82-dddb2f5c0e54"
      },
      "source": [
        "# Combining the train and validation datasets\n",
        "X_train_combined = pd.concat([X_train, X_val], axis = 0)\n",
        "y_train_combined = pd.concat([y_train, y_test], axis = 0)\n",
        "X_train_combined.shape, y_train_combined.shape"
      ],
      "execution_count": null,
      "outputs": [
        {
          "output_type": "execute_result",
          "data": {
            "text/plain": [
              "((873, 14), (873,))"
            ]
          },
          "metadata": {
            "tags": []
          },
          "execution_count": 51
        }
      ]
    },
    {
      "cell_type": "code",
      "metadata": {
        "colab_type": "code",
        "id": "WPfbKkg1BX-J",
        "colab": {},
        "outputId": "3e92955f-6698-417b-eab6-383399683610"
      },
      "source": [
        "# Fitting RandomForestClassifier estimator with the best hyperparameters obtained from GridSearchCV\n",
        "rfc = RandomForestClassifier(bootstrap = False,\n",
        "                             max_depth = 10,\n",
        "                             max_features = 'sqrt',\n",
        "                             min_samples_leaf = 1,\n",
        "                             min_samples_split = 10,\n",
        "                             n_estimators = 1000)\n",
        "rfc.fit(X_train_combined, y_train_combined)\n",
        "rfc.score(X_train_combined, y_train_combined)"
      ],
      "execution_count": null,
      "outputs": [
        {
          "output_type": "execute_result",
          "data": {
            "text/plain": [
              "0.9083619702176403"
            ]
          },
          "metadata": {
            "tags": []
          },
          "execution_count": 52
        }
      ]
    },
    {
      "cell_type": "markdown",
      "metadata": {
        "colab_type": "text",
        "id": "muFZsO5FrTMy"
      },
      "source": [
        "### Preparing the test DataSet"
      ]
    },
    {
      "cell_type": "code",
      "metadata": {
        "colab_type": "code",
        "id": "7LMu_builxmy",
        "colab": {
          "base_uri": "https://localhost:8080/",
          "height": 214
        },
        "outputId": "c875f2f5-64e6-4672-a58f-a846366f4481"
      },
      "source": [
        "# Preparing the test dataset for prediction\n",
        "df_test = pd.read_csv(\"https://raw.githubusercontent.com/anshuman1823/titanic/master/Data/test.csv\")\n",
        "df_test = process_master(df_test, test_database=True)\n",
        "df_test_PassengerId = df_test.PassengerId #Saving the PassengerId column for later use\n",
        "df_test = df_test.drop(labels = [\"PassengerId\", \"Ticket\", \"FamilySize\", \"FarePerPerson\", \"Cabin_is_missing\", \"Deck_is_missing\", \"TicketPrefix_is_missing\", \"Cabin_count_is_missing\"],\n",
        "                       axis = 1)"
      ],
      "execution_count": null,
      "outputs": [
        {
          "output_type": "stream",
          "text": [
            "Creating test database...\n",
            "Age column is of numeric dtype and contains NaN values. Creating 'Age_is_missing' and imputing NaN values with median\n",
            "Fare column is of numeric dtype and contains NaN values. Creating 'Fare_is_missing' and imputing NaN values with median\n",
            "Cabin column is of object dtype and contains NaN values. Creating 'Cabin_is_missing' column\n",
            "Deck column is of object dtype and contains NaN values. Creating 'Deck_is_missing' column\n",
            "FarePerPerson column is of numeric dtype and contains NaN values. Creating 'FarePerPerson_is_missing' and imputing NaN values with median\n",
            "TicketPrefix column is of object dtype and contains NaN values. Creating 'TicketPrefix_is_missing' column\n",
            "Cabin_count column is of numeric dtype and contains NaN values. Creating 'Cabin_count_is_missing' and imputing NaN values with median\n",
            "The following columns have been converted from object to numeric dtype: ['Sex', 'Ticket', 'Cabin', 'Embarked', 'Title', 'Deck', 'TicketPrefix']\n",
            "Final SHAPE >>> X_test: (418, 23)\n"
          ],
          "name": "stdout"
        }
      ]
    },
    {
      "cell_type": "code",
      "metadata": {
        "colab_type": "code",
        "id": "8Hjdq_aLBX-K",
        "colab": {
          "base_uri": "https://localhost:8080/",
          "height": 34
        },
        "outputId": "7ace7666-fec8-4fb6-bfc7-454024dcf90f"
      },
      "source": [
        "# Checking columns consistency between training and test dataset\n",
        "set(df_test.columns) - set(X_train_combined.columns)"
      ],
      "execution_count": null,
      "outputs": [
        {
          "output_type": "execute_result",
          "data": {
            "text/plain": [
              "{'FarePerPerson_is_missing', 'Fare_is_missing'}"
            ]
          },
          "metadata": {
            "tags": []
          },
          "execution_count": 55
        }
      ]
    },
    {
      "cell_type": "code",
      "metadata": {
        "colab_type": "code",
        "id": "JI7BjtUWnWjb",
        "colab": {
          "base_uri": "https://localhost:8080/",
          "height": 34
        },
        "outputId": "86e9553e-0a60-490f-94ad-d4abaea23c81"
      },
      "source": [
        "# Solving column consistency\n",
        "df_test = df_test.drop([\"FarePerPerson_is_missing\", \"Fare_is_missing\"], axis = 1)\n",
        "set(df_test.columns) - set(X_train_combined.columns)"
      ],
      "execution_count": null,
      "outputs": [
        {
          "output_type": "execute_result",
          "data": {
            "text/plain": [
              "set()"
            ]
          },
          "metadata": {
            "tags": []
          },
          "execution_count": 56
        }
      ]
    },
    {
      "cell_type": "code",
      "metadata": {
        "colab_type": "code",
        "id": "VOwfchiOnrvQ",
        "colab": {
          "base_uri": "https://localhost:8080/",
          "height": 34
        },
        "outputId": "d41cbf02-f9d0-4cc3-c7ba-627bdbd88895"
      },
      "source": [
        "# Checking Reverse Column Consistency\n",
        "set(X_train_combined.columns) - set(df_test.columns)"
      ],
      "execution_count": null,
      "outputs": [
        {
          "output_type": "execute_result",
          "data": {
            "text/plain": [
              "{'Embarked_is_missing'}"
            ]
          },
          "metadata": {
            "tags": []
          },
          "execution_count": 57
        }
      ]
    },
    {
      "cell_type": "code",
      "metadata": {
        "colab_type": "code",
        "id": "nKe4Vqtwn0hb",
        "colab": {
          "base_uri": "https://localhost:8080/",
          "height": 34
        },
        "outputId": "587b3024-07b0-472b-c259-efd610819991"
      },
      "source": [
        "#Solving the above  inconsistency\n",
        "df_test[\"Embarked_is_missing\"] = False\n",
        "set(X_train_combined.columns) - set(df_test.columns)"
      ],
      "execution_count": null,
      "outputs": [
        {
          "output_type": "execute_result",
          "data": {
            "text/plain": [
              "set()"
            ]
          },
          "metadata": {
            "tags": []
          },
          "execution_count": 58
        }
      ]
    },
    {
      "cell_type": "code",
      "metadata": {
        "colab_type": "code",
        "id": "qKyIUIMgoAcj",
        "colab": {
          "base_uri": "https://localhost:8080/",
          "height": 390
        },
        "outputId": "7cd3bcb4-8e19-4ecd-e96d-67a11911215a"
      },
      "source": [
        "#One final check on the test dataset\n",
        "df_test.info()"
      ],
      "execution_count": null,
      "outputs": [
        {
          "output_type": "stream",
          "text": [
            "<class 'pandas.core.frame.DataFrame'>\n",
            "RangeIndex: 418 entries, 0 to 417\n",
            "Data columns (total 14 columns):\n",
            " #   Column               Non-Null Count  Dtype  \n",
            "---  ------               --------------  -----  \n",
            " 0   Pclass               418 non-null    int64  \n",
            " 1   Sex                  418 non-null    int8   \n",
            " 2   Age                  418 non-null    float64\n",
            " 3   SibSp                418 non-null    int64  \n",
            " 4   Parch                418 non-null    int64  \n",
            " 5   Fare                 418 non-null    float64\n",
            " 6   Cabin                418 non-null    int8   \n",
            " 7   Embarked             418 non-null    int8   \n",
            " 8   Title                418 non-null    int8   \n",
            " 9   Deck                 418 non-null    int8   \n",
            " 10  TicketPrefix         418 non-null    int8   \n",
            " 11  Cabin_count          418 non-null    float64\n",
            " 12  Age_is_missing       418 non-null    bool   \n",
            " 13  Embarked_is_missing  418 non-null    bool   \n",
            "dtypes: bool(2), float64(3), int64(3), int8(6)\n",
            "memory usage: 23.0 KB\n"
          ],
          "name": "stdout"
        }
      ]
    },
    {
      "cell_type": "markdown",
      "metadata": {
        "colab_type": "text",
        "id": "zrKqF3BqoLk_"
      },
      "source": [
        "Now, let's make predicitions and create the submission file"
      ]
    },
    {
      "cell_type": "markdown",
      "metadata": {
        "colab_type": "text",
        "id": "egIVUyHrrY_M"
      },
      "source": [
        "### Making Predictions and Creating Submissions File"
      ]
    },
    {
      "cell_type": "code",
      "metadata": {
        "colab_type": "code",
        "id": "nyjN1OWVBX-O",
        "colab": {}
      },
      "source": [
        "# Making prediction from the model\n",
        "preds = rfc.predict(df_test)"
      ],
      "execution_count": null,
      "outputs": []
    },
    {
      "cell_type": "code",
      "metadata": {
        "colab_type": "code",
        "id": "qtc9GNMvBX-R",
        "colab": {}
      },
      "source": [
        "#Creating the submission file\n",
        "submission = pd.DataFrame(data = {\"PassengerId\": df_test_PassengerId, \"Survived\": preds})\n",
        "submission.to_csv(\"D:/Python_Self/Kaggle_Projects/Titanic/titanic/Data/submission_files/submission.csv\", index = False)"
      ],
      "execution_count": null,
      "outputs": []
    },
    {
      "cell_type": "markdown",
      "metadata": {
        "colab_type": "text",
        "id": "FJbJ8jFOBX-U"
      },
      "source": [
        "Current Best Accuracy 0.7703 !"
      ]
    },
    {
      "cell_type": "markdown",
      "metadata": {
        "colab_type": "text",
        "id": "nr5lvjg7ryk1"
      },
      "source": [
        "## Logistic Regression Classifier\n",
        "\n",
        "Now, let's try Logistic Regression"
      ]
    },
    {
      "cell_type": "markdown",
      "metadata": {
        "colab_type": "text",
        "id": "Ryq5eREHryk3"
      },
      "source": [
        "### Feature Importance\n",
        "\n",
        "Let's see the Feature  Importance for the Random Forest Classifier Model"
      ]
    },
    {
      "cell_type": "code",
      "metadata": {
        "colab_type": "code",
        "id": "k4KVFlHtLZcT",
        "colab": {
          "base_uri": "https://localhost:8080/",
          "height": 87
        },
        "outputId": "d1377258-6484-4395-8d03-4b756cfdbb4b"
      },
      "source": [
        "# Checking the columns of X_train\n",
        "X_train.columns"
      ],
      "execution_count": 88,
      "outputs": [
        {
          "output_type": "execute_result",
          "data": {
            "text/plain": [
              "Index(['Pclass', 'Sex', 'Age', 'SibSp', 'Parch', 'Fare', 'Cabin', 'Embarked',\n",
              "       'Title', 'Deck', 'TicketPrefix', 'Cabin_count', 'Age_is_missing',\n",
              "       'Embarked_is_missing'],\n",
              "      dtype='object')"
            ]
          },
          "metadata": {
            "tags": []
          },
          "execution_count": 88
        }
      ]
    },
    {
      "cell_type": "code",
      "metadata": {
        "colab_type": "code",
        "id": "jz5Do7odM_b0",
        "colab": {}
      },
      "source": [
        "# Function for plotting feature importance:\n",
        "def plot_feat_imp(columns, importance):\n",
        "    \"\"\"\n",
        "    Plot the feature importance for an ensemble estimator\n",
        "    \"\"\"\n",
        "    df = pd.DataFrame(data = {\"Feature_importance\": importance}, index = columns)\n",
        "    df.sort_values(\"Feature_importance\", inplace = True)\n",
        "    df.plot.barh()\n",
        "#     plt.xticks(rotation = 'verticle')"
      ],
      "execution_count": 89,
      "outputs": []
    },
    {
      "cell_type": "code",
      "metadata": {
        "colab_type": "code",
        "id": "fOML2QvYryk8",
        "colab": {
          "base_uri": "https://localhost:8080/",
          "height": 282
        },
        "outputId": "1dab2420-171f-464b-8ab4-1fbf354795b0"
      },
      "source": [
        "# Checking Feature  Importance\n",
        "from sklearn.linear_model import LogisticRegression\n",
        "log_reg = LogisticRegression(max_iter=10000)\n",
        "log_reg.fit(X_train, y_train)\n",
        "print(log_reg.score(X_val, y_val))\n",
        "plot_feat_imp(X_train.columns, np.abs(log_reg.coef_[0]))"
      ],
      "execution_count": 90,
      "outputs": [
        {
          "output_type": "stream",
          "text": [
            "0.7942857142857143\n"
          ],
          "name": "stdout"
        },
        {
          "output_type": "display_data",
          "data": {
            "image/png": "[encoded data removed]",
            "text/plain": [
              "<Figure size 432x288 with 1 Axes>"
            ]
          },
          "metadata": {
            "tags": [],
            "needs_background": "light"
          }
        }
      ]
    },
    {
      "cell_type": "markdown",
      "metadata": {
        "colab_type": "text",
        "id": "yxNB3Qk_rylA"
      },
      "source": [
        "Here, we can see that Sex, Pclass and cabin count are the most important features."
      ]
    },
    {
      "cell_type": "markdown",
      "metadata": {
        "colab_type": "text",
        "id": "x2v2Hkd4rylB"
      },
      "source": [
        "### Hyper-parameter Tuning"
      ]
    },
    {
      "cell_type": "markdown",
      "metadata": {
        "colab_type": "text",
        "id": "4iWEZemvrylB"
      },
      "source": [
        "#### Randomized Search"
      ]
    },
    {
      "cell_type": "markdown",
      "metadata": {
        "colab_type": "text",
        "id": "RAIKIsy9rylC"
      },
      "source": [
        "Let's use Randomized Search for finding a suitable range of hyper parameters which we can fine tune later using Grid Search. "
      ]
    },
    {
      "cell_type": "code",
      "metadata": {
        "colab_type": "code",
        "id": "iNnmq4QrrylC",
        "colab": {}
      },
      "source": [
        "# Building a grid of parameters for Randomized Search\n",
        "log_reg_randgrid = {'penalty': ['l1', 'l2', 'elasticnet', 'none'],\n",
        " 'C': list(np.logspace(-4,4,9)),\n",
        " 'solver': ['newton-cg', 'lbfgs', 'liblinear', 'sag', 'saga'],\n",
        " 'max_iter': [10000]}"
      ],
      "execution_count": 91,
      "outputs": []
    },
    {
      "cell_type": "code",
      "metadata": {
        "colab_type": "code",
        "id": "Arslv2iqrylF",
        "colab": {
          "base_uri": "https://localhost:8080/",
          "height": 443
        },
        "outputId": "c3a0de6a-3b44-4a22-dd1b-477ae479a2e3"
      },
      "source": [
        "# Running Randomized Search\n",
        "from sklearn.model_selection import  RandomizedSearchCV\n",
        "log_reg_rand = RandomizedSearchCV(LogisticRegression(), param_distributions = log_reg_randgrid, n_iter = 100, n_jobs = -1, cv = 3, verbose = 1, random_state = 23)\n",
        "log_reg_rand.fit(X_train, y_train)"
      ],
      "execution_count": 92,
      "outputs": [
        {
          "output_type": "stream",
          "text": [
            "Fitting 3 folds for each of 100 candidates, totalling 300 fits\n"
          ],
          "name": "stdout"
        },
        {
          "output_type": "stream",
          "text": [
            "[Parallel(n_jobs=-1)]: Using backend LokyBackend with 2 concurrent workers.\n",
            "[Parallel(n_jobs=-1)]: Done  74 tasks      | elapsed:    5.9s\n",
            "[Parallel(n_jobs=-1)]: Done 300 out of 300 | elapsed:   13.5s finished\n"
          ],
          "name": "stderr"
        },
        {
          "output_type": "execute_result",
          "data": {
            "text/plain": [
              "RandomizedSearchCV(cv=3, error_score=nan,\n",
              "                   estimator=LogisticRegression(C=1.0, class_weight=None,\n",
              "                                                dual=False, fit_intercept=True,\n",
              "                                                intercept_scaling=1,\n",
              "                                                l1_ratio=None, max_iter=100,\n",
              "                                                multi_class='auto', n_jobs=None,\n",
              "                                                penalty='l2', random_state=None,\n",
              "                                                solver='lbfgs', tol=0.0001,\n",
              "                                                verbose=0, warm_start=False),\n",
              "                   iid='deprecated', n_iter=100, n_jobs=-1,\n",
              "                   param_distributions={'C': [0.0001, 0.001, 0.01, 0.1, 1.0,\n",
              "                                              10.0, 100.0, 1000.0, 10000.0],\n",
              "                                        'max_iter': [10000],\n",
              "                                        'penalty': ['l1', 'l2', 'elasticnet',\n",
              "                                                    'none'],\n",
              "                                        'solver': ['newton-cg', 'lbfgs',\n",
              "                                                   'liblinear', 'sag',\n",
              "                                                   'saga']},\n",
              "                   pre_dispatch='2*n_jobs', random_state=23, refit=True,\n",
              "                   return_train_score=False, scoring=None, verbose=1)"
            ]
          },
          "metadata": {
            "tags": []
          },
          "execution_count": 92
        }
      ]
    },
    {
      "cell_type": "code",
      "metadata": {
        "colab_type": "code",
        "id": "bgNwLGf9rylI",
        "colab": {
          "base_uri": "https://localhost:8080/",
          "height": 34
        },
        "outputId": "0a2d5077-9c80-4596-b2a1-1631443f9903"
      },
      "source": [
        "# Scoring the best model from Randomized Search on Validation set\n",
        "log_reg_rand.score(X_val, y_val)"
      ],
      "execution_count": 93,
      "outputs": [
        {
          "output_type": "execute_result",
          "data": {
            "text/plain": [
              "0.8171428571428572"
            ]
          },
          "metadata": {
            "tags": []
          },
          "execution_count": 93
        }
      ]
    },
    {
      "cell_type": "code",
      "metadata": {
        "colab_type": "code",
        "id": "BfJlu0slrylK",
        "colab": {
          "base_uri": "https://localhost:8080/",
          "height": 34
        },
        "outputId": "489a6f4d-fd1b-4a77-e187-4b4e204f6e44"
      },
      "source": [
        "# Obtaining the best set of parameters from Randomized Search for fine tuning using Grid Search\n",
        "log_reg_rand.best_params_"
      ],
      "execution_count": 95,
      "outputs": [
        {
          "output_type": "execute_result",
          "data": {
            "text/plain": [
              "{'C': 1.0, 'max_iter': 10000, 'penalty': 'l1', 'solver': 'liblinear'}"
            ]
          },
          "metadata": {
            "tags": []
          },
          "execution_count": 95
        }
      ]
    },
    {
      "cell_type": "markdown",
      "metadata": {
        "colab_type": "text",
        "id": "atbcwCxlrylM"
      },
      "source": [
        "#### Grid Search"
      ]
    },
    {
      "cell_type": "code",
      "metadata": {
        "colab_type": "code",
        "id": "Ohnp0VJerylO",
        "colab": {}
      },
      "source": [
        "# # Building a grid of parameters for Randomized Search\n",
        "# log_reg_randgrid = {'penalty': ['l1', 'l2', 'elasticnet', 'none'],\n",
        "#  'C': list(np.logspace(-4,4,9)),\n",
        "#  'solver': ['newton-cg', 'lbfgs', 'liblinear', 'sag', 'saga'],\n",
        "#  'max_iter': [10000]}"
      ],
      "execution_count": null,
      "outputs": []
    },
    {
      "cell_type": "code",
      "metadata": {
        "colab_type": "code",
        "id": "DpQPn5OVrylS",
        "colab": {}
      },
      "source": [
        "# Grid of hyper parameters for Grid Search\n",
        "log_reg_grid = {'penalty': ['l1'],\n",
        " 'C': [0.1, 0.3, 1, 3, 10],\n",
        " 'solver': ['liblinear'],\n",
        " 'max_iter': [10000, 100000]}"
      ],
      "execution_count": 96,
      "outputs": []
    },
    {
      "cell_type": "code",
      "metadata": {
        "colab_type": "code",
        "id": "W2EwVM4OrylU",
        "colab": {
          "base_uri": "https://localhost:8080/",
          "height": 318
        },
        "outputId": "0bc828b1-573a-4df2-a226-363ddf16aa3a"
      },
      "source": [
        "# Running Grid Search\n",
        "from sklearn.model_selection import GridSearchCV\n",
        "log_reg_gridsearch = GridSearchCV(estimator = LogisticRegression(), param_grid = log_reg_grid, cv = 3, n_jobs = -1, verbose = 1)\n",
        "log_reg_gridsearch.fit(X_train, y_train)"
      ],
      "execution_count": 97,
      "outputs": [
        {
          "output_type": "stream",
          "text": [
            "Fitting 3 folds for each of 10 candidates, totalling 30 fits\n"
          ],
          "name": "stdout"
        },
        {
          "output_type": "stream",
          "text": [
            "[Parallel(n_jobs=-1)]: Using backend LokyBackend with 2 concurrent workers.\n",
            "[Parallel(n_jobs=-1)]: Done  30 out of  30 | elapsed:    0.3s finished\n"
          ],
          "name": "stderr"
        },
        {
          "output_type": "execute_result",
          "data": {
            "text/plain": [
              "GridSearchCV(cv=3, error_score=nan,\n",
              "             estimator=LogisticRegression(C=1.0, class_weight=None, dual=False,\n",
              "                                          fit_intercept=True,\n",
              "                                          intercept_scaling=1, l1_ratio=None,\n",
              "                                          max_iter=100, multi_class='auto',\n",
              "                                          n_jobs=None, penalty='l2',\n",
              "                                          random_state=None, solver='lbfgs',\n",
              "                                          tol=0.0001, verbose=0,\n",
              "                                          warm_start=False),\n",
              "             iid='deprecated', n_jobs=-1,\n",
              "             param_grid={'C': [0.1, 0.3, 1, 3, 10], 'max_iter': [10000, 100000],\n",
              "                         'penalty': ['l1'], 'solver': ['liblinear']},\n",
              "             pre_dispatch='2*n_jobs', refit=True, return_train_score=False,\n",
              "             scoring=None, verbose=1)"
            ]
          },
          "metadata": {
            "tags": []
          },
          "execution_count": 97
        }
      ]
    },
    {
      "cell_type": "code",
      "metadata": {
        "id": "rzL8BI8OvpF6",
        "colab_type": "code",
        "colab": {
          "base_uri": "https://localhost:8080/",
          "height": 336
        },
        "outputId": "c63598b6-6eb7-49a9-ad15-853d14cdce55"
      },
      "source": [
        "from sklearn.model_selection import cross_val_score\n",
        "cross_val_score(log_reg_gridsearch, X_train, y_train, cv = 5, verbose = 1)"
      ],
      "execution_count": 113,
      "outputs": [
        {
          "output_type": "stream",
          "text": [
            "[Parallel(n_jobs=1)]: Using backend SequentialBackend with 1 concurrent workers.\n",
            "[Parallel(n_jobs=-1)]: Using backend LokyBackend with 2 concurrent workers.\n"
          ],
          "name": "stderr"
        },
        {
          "output_type": "stream",
          "text": [
            "Fitting 3 folds for each of 10 candidates, totalling 30 fits\n"
          ],
          "name": "stdout"
        },
        {
          "output_type": "stream",
          "text": [
            "[Parallel(n_jobs=-1)]: Done  30 out of  30 | elapsed:    0.3s finished\n",
            "[Parallel(n_jobs=-1)]: Using backend LokyBackend with 2 concurrent workers.\n"
          ],
          "name": "stderr"
        },
        {
          "output_type": "stream",
          "text": [
            "Fitting 3 folds for each of 10 candidates, totalling 30 fits\n"
          ],
          "name": "stdout"
        },
        {
          "output_type": "stream",
          "text": [
            "[Parallel(n_jobs=-1)]: Done  30 out of  30 | elapsed:    0.3s finished\n",
            "[Parallel(n_jobs=-1)]: Using backend LokyBackend with 2 concurrent workers.\n"
          ],
          "name": "stderr"
        },
        {
          "output_type": "stream",
          "text": [
            "Fitting 3 folds for each of 10 candidates, totalling 30 fits\n"
          ],
          "name": "stdout"
        },
        {
          "output_type": "stream",
          "text": [
            "[Parallel(n_jobs=-1)]: Done  30 out of  30 | elapsed:    0.3s finished\n",
            "[Parallel(n_jobs=-1)]: Using backend LokyBackend with 2 concurrent workers.\n"
          ],
          "name": "stderr"
        },
        {
          "output_type": "stream",
          "text": [
            "Fitting 3 folds for each of 10 candidates, totalling 30 fits\n"
          ],
          "name": "stdout"
        },
        {
          "output_type": "stream",
          "text": [
            "[Parallel(n_jobs=-1)]: Done  30 out of  30 | elapsed:    0.2s finished\n",
            "[Parallel(n_jobs=-1)]: Using backend LokyBackend with 2 concurrent workers.\n"
          ],
          "name": "stderr"
        },
        {
          "output_type": "stream",
          "text": [
            "Fitting 3 folds for each of 10 candidates, totalling 30 fits\n"
          ],
          "name": "stdout"
        },
        {
          "output_type": "stream",
          "text": [
            "[Parallel(n_jobs=-1)]: Done  30 out of  30 | elapsed:    0.3s finished\n",
            "[Parallel(n_jobs=1)]: Done   5 out of   5 | elapsed:    1.5s finished\n"
          ],
          "name": "stderr"
        },
        {
          "output_type": "execute_result",
          "data": {
            "text/plain": [
              "array([0.78571429, 0.77857143, 0.77142857, 0.8057554 , 0.81294964])"
            ]
          },
          "metadata": {
            "tags": []
          },
          "execution_count": 113
        }
      ]
    },
    {
      "cell_type": "code",
      "metadata": {
        "colab_type": "code",
        "id": "6Im77Pc4rylX",
        "colab": {
          "base_uri": "https://localhost:8080/",
          "height": 34
        },
        "outputId": "5baf0a4d-f277-4edc-9273-92e1105d929a"
      },
      "source": [
        "# The score of the best set of hyperparameters on the validation model\n",
        "log_reg_gridsearch.score(X_val, y_val)"
      ],
      "execution_count": 98,
      "outputs": [
        {
          "output_type": "execute_result",
          "data": {
            "text/plain": [
              "0.8171428571428572"
            ]
          },
          "metadata": {
            "tags": []
          },
          "execution_count": 98
        }
      ]
    },
    {
      "cell_type": "code",
      "metadata": {
        "colab_type": "code",
        "id": "UYtEmDMGrylZ",
        "colab": {
          "base_uri": "https://localhost:8080/",
          "height": 34
        },
        "outputId": "f5b95bba-d679-4dba-927f-5e1698ac2ead"
      },
      "source": [
        "# Obtaining the best set of hyperparameters from Grid Search\n",
        "log_reg_gridsearch.best_params_"
      ],
      "execution_count": 99,
      "outputs": [
        {
          "output_type": "execute_result",
          "data": {
            "text/plain": [
              "{'C': 1, 'max_iter': 10000, 'penalty': 'l1', 'solver': 'liblinear'}"
            ]
          },
          "metadata": {
            "tags": []
          },
          "execution_count": 99
        }
      ]
    },
    {
      "cell_type": "markdown",
      "metadata": {
        "colab_type": "text",
        "id": "lcx_tOSbrylc"
      },
      "source": [
        "Now, lets use the above hyperparameters and fit the Logistic Regression model on the whole training dataset"
      ]
    },
    {
      "cell_type": "code",
      "metadata": {
        "colab_type": "code",
        "id": "fdaa-a_bryld",
        "colab": {
          "base_uri": "https://localhost:8080/",
          "height": 34
        },
        "outputId": "00db26e4-c5b4-4c24-b3e8-a6c891b330a9"
      },
      "source": [
        "# Combining the train and validation datasets\n",
        "X_train_combined = pd.concat([X_train, X_val], axis = 0)\n",
        "y_train_combined = pd.concat([y_train, y_val], axis = 0)\n",
        "X_train_combined.shape, y_train_combined.shape"
      ],
      "execution_count": 100,
      "outputs": [
        {
          "output_type": "execute_result",
          "data": {
            "text/plain": [
              "((873, 14), (873,))"
            ]
          },
          "metadata": {
            "tags": []
          },
          "execution_count": 100
        }
      ]
    },
    {
      "cell_type": "code",
      "metadata": {
        "colab_type": "code",
        "id": "gDPnlPfBryli",
        "colab": {
          "base_uri": "https://localhost:8080/",
          "height": 34
        },
        "outputId": "c63603dc-ec6b-4612-9df7-21673fe55653"
      },
      "source": [
        "# Fitting RandomForestClassifier estimator with the best hyperparameters obtained from GridSearchCV\n",
        "log_reg = LogisticRegression(C = 1, max_iter = 10000, penalty = 'l1', solver = 'liblinear')\n",
        "log_reg.fit(X_train_combined, y_train_combined)\n",
        "log_reg.score(X_train_combined, y_train_combined)"
      ],
      "execution_count": 101,
      "outputs": [
        {
          "output_type": "execute_result",
          "data": {
            "text/plain": [
              "0.8041237113402062"
            ]
          },
          "metadata": {
            "tags": []
          },
          "execution_count": 101
        }
      ]
    },
    {
      "cell_type": "markdown",
      "metadata": {
        "colab_type": "text",
        "id": "CnHei3iWrylk"
      },
      "source": [
        "### Preparing the test DataSet"
      ]
    },
    {
      "cell_type": "code",
      "metadata": {
        "colab_type": "code",
        "id": "7FuaOW7sryll",
        "colab": {
          "base_uri": "https://localhost:8080/",
          "height": 214
        },
        "outputId": "1f226cdb-eb29-4100-d534-06d5d8fb8b65"
      },
      "source": [
        "# Preparing the test dataset for prediction\n",
        "df_test = pd.read_csv(\"https://raw.githubusercontent.com/anshuman1823/titanic/master/Data/test.csv\")\n",
        "df_test = process_master(df_test, test_database=True)\n",
        "df_test_PassengerId = df_test.PassengerId #Saving the PassengerId column for later use\n",
        "df_test = df_test.drop(labels = [\"PassengerId\", \"Ticket\", \"FamilySize\", \"FarePerPerson\", \"Cabin_is_missing\", \"Deck_is_missing\", \"TicketPrefix_is_missing\", \"Cabin_count_is_missing\"],\n",
        "                       axis = 1)"
      ],
      "execution_count": 102,
      "outputs": [
        {
          "output_type": "stream",
          "text": [
            "Creating test database...\n",
            "Age column is of numeric dtype and contains NaN values. Creating 'Age_is_missing' and imputing NaN values with median\n",
            "Fare column is of numeric dtype and contains NaN values. Creating 'Fare_is_missing' and imputing NaN values with median\n",
            "Cabin column is of object dtype and contains NaN values. Creating 'Cabin_is_missing' column\n",
            "Deck column is of object dtype and contains NaN values. Creating 'Deck_is_missing' column\n",
            "FarePerPerson column is of numeric dtype and contains NaN values. Creating 'FarePerPerson_is_missing' and imputing NaN values with median\n",
            "TicketPrefix column is of object dtype and contains NaN values. Creating 'TicketPrefix_is_missing' column\n",
            "Cabin_count column is of numeric dtype and contains NaN values. Creating 'Cabin_count_is_missing' and imputing NaN values with median\n",
            "The following columns have been converted from object to numeric dtype: ['Sex', 'Ticket', 'Cabin', 'Embarked', 'Title', 'Deck', 'TicketPrefix']\n",
            "Final SHAPE >>> X_test: (418, 23)\n"
          ],
          "name": "stdout"
        }
      ]
    },
    {
      "cell_type": "code",
      "metadata": {
        "colab_type": "code",
        "id": "2fvvws4Oryln",
        "colab": {
          "base_uri": "https://localhost:8080/",
          "height": 34
        },
        "outputId": "a66e805a-7fbd-45c5-cc73-7b69e74f0203"
      },
      "source": [
        "# Checking columns consistency between training and test dataset\n",
        "set(df_test.columns) - set(X_train_combined.columns)"
      ],
      "execution_count": 103,
      "outputs": [
        {
          "output_type": "execute_result",
          "data": {
            "text/plain": [
              "{'FarePerPerson_is_missing', 'Fare_is_missing'}"
            ]
          },
          "metadata": {
            "tags": []
          },
          "execution_count": 103
        }
      ]
    },
    {
      "cell_type": "code",
      "metadata": {
        "colab_type": "code",
        "id": "VjyW3ro_rylq",
        "colab": {
          "base_uri": "https://localhost:8080/",
          "height": 34
        },
        "outputId": "044900e2-c02f-49b8-9739-15ec620f5228"
      },
      "source": [
        "# Solving column consistency\n",
        "df_test = df_test.drop([\"FarePerPerson_is_missing\", \"Fare_is_missing\"], axis = 1)\n",
        "set(df_test.columns) - set(X_train_combined.columns)"
      ],
      "execution_count": 104,
      "outputs": [
        {
          "output_type": "execute_result",
          "data": {
            "text/plain": [
              "set()"
            ]
          },
          "metadata": {
            "tags": []
          },
          "execution_count": 104
        }
      ]
    },
    {
      "cell_type": "code",
      "metadata": {
        "colab_type": "code",
        "id": "xp6SWrNDryls",
        "colab": {
          "base_uri": "https://localhost:8080/",
          "height": 34
        },
        "outputId": "9d80a134-9636-4ae7-dd9b-62cd947c4e27"
      },
      "source": [
        "# Checking Reverse Column Consistency\n",
        "set(X_train_combined.columns) - set(df_test.columns)"
      ],
      "execution_count": 105,
      "outputs": [
        {
          "output_type": "execute_result",
          "data": {
            "text/plain": [
              "{'Embarked_is_missing'}"
            ]
          },
          "metadata": {
            "tags": []
          },
          "execution_count": 105
        }
      ]
    },
    {
      "cell_type": "code",
      "metadata": {
        "colab_type": "code",
        "id": "7UfNS5JRrylu",
        "colab": {
          "base_uri": "https://localhost:8080/",
          "height": 34
        },
        "outputId": "79b92864-ba7f-4ea3-d611-d9b37194ee31"
      },
      "source": [
        "#Solving the above  inconsistency\n",
        "df_test[\"Embarked_is_missing\"] = False\n",
        "set(X_train_combined.columns) - set(df_test.columns)"
      ],
      "execution_count": 106,
      "outputs": [
        {
          "output_type": "execute_result",
          "data": {
            "text/plain": [
              "set()"
            ]
          },
          "metadata": {
            "tags": []
          },
          "execution_count": 106
        }
      ]
    },
    {
      "cell_type": "code",
      "metadata": {
        "colab_type": "code",
        "id": "y2mZCkdLrylx",
        "colab": {
          "base_uri": "https://localhost:8080/",
          "height": 390
        },
        "outputId": "9635a709-7035-4744-b677-4337ecd344cf"
      },
      "source": [
        "#One final check on the test dataset\n",
        "df_test.info()"
      ],
      "execution_count": 107,
      "outputs": [
        {
          "output_type": "stream",
          "text": [
            "<class 'pandas.core.frame.DataFrame'>\n",
            "RangeIndex: 418 entries, 0 to 417\n",
            "Data columns (total 14 columns):\n",
            " #   Column               Non-Null Count  Dtype  \n",
            "---  ------               --------------  -----  \n",
            " 0   Pclass               418 non-null    int64  \n",
            " 1   Sex                  418 non-null    int8   \n",
            " 2   Age                  418 non-null    float64\n",
            " 3   SibSp                418 non-null    int64  \n",
            " 4   Parch                418 non-null    int64  \n",
            " 5   Fare                 418 non-null    float64\n",
            " 6   Cabin                418 non-null    int8   \n",
            " 7   Embarked             418 non-null    int8   \n",
            " 8   Title                418 non-null    int8   \n",
            " 9   Deck                 418 non-null    int8   \n",
            " 10  TicketPrefix         418 non-null    int8   \n",
            " 11  Cabin_count          418 non-null    float64\n",
            " 12  Age_is_missing       418 non-null    bool   \n",
            " 13  Embarked_is_missing  418 non-null    bool   \n",
            "dtypes: bool(2), float64(3), int64(3), int8(6)\n",
            "memory usage: 23.0 KB\n"
          ],
          "name": "stdout"
        }
      ]
    },
    {
      "cell_type": "markdown",
      "metadata": {
        "colab_type": "text",
        "id": "QWj3eOSBryl2"
      },
      "source": [
        "Now, let's make predicitions and create the submission file"
      ]
    },
    {
      "cell_type": "markdown",
      "metadata": {
        "colab_type": "text",
        "id": "ItOad70qryl3"
      },
      "source": [
        "### Making Predictions and Creating Submissions File"
      ]
    },
    {
      "cell_type": "code",
      "metadata": {
        "colab_type": "code",
        "id": "oI5H2nnyryl3",
        "colab": {}
      },
      "source": [
        "# Making prediction from the model\n",
        "preds = log_reg.predict(df_test)"
      ],
      "execution_count": 109,
      "outputs": []
    },
    {
      "cell_type": "code",
      "metadata": {
        "colab_type": "code",
        "id": "WO5DdUqvryl5",
        "colab": {}
      },
      "source": [
        "#Creating the submission file\n",
        "submission = pd.DataFrame(data = {\"PassengerId\": df_test_PassengerId, \"Survived\": preds})\n",
        "submission.to_csv(\"/content/drive/My Drive/Google_Colab/titanic_kaggle/submission_log_reg_scaled.csv\", index = False)"
      ],
      "execution_count": 110,
      "outputs": []
    },
    {
      "cell_type": "markdown",
      "metadata": {
        "colab_type": "text",
        "id": "FqBrhGi3ryl7"
      },
      "source": [
        "Current Best Accuracy 0.7799 !"
      ]
    },
    {
      "cell_type": "code",
      "metadata": {
        "id": "yZeL-dGClP1o",
        "colab_type": "code",
        "colab": {
          "base_uri": "https://localhost:8080/",
          "height": 125
        },
        "outputId": "80f7961d-2286-4d3d-8b85-91f69cc60cda"
      },
      "source": [
        "from google.colab import drive\n",
        "drive.mount('/content/drive')"
      ],
      "execution_count": 1,
      "outputs": [
        {
          "output_type": "stream",
          "text": [
            "Go to this URL in a browser: https://accounts.google.com/o/oauth2/auth?client_id=947318989803-6bn6qk8qdgf4n4g3pfee6491hc0brc4i.apps.googleusercontent.com&redirect_uri=urn%3aietf%3awg%3aoauth%3a2.0%3aoob&scope=email%20https%3a%2f%2fwww.googleapis.com%2fauth%2fdocs.test%20https%3a%2f%2fwww.googleapis.com%2fauth%2fdrive%20https%3a%2f%2fwww.googleapis.com%2fauth%2fdrive.photos.readonly%20https%3a%2f%2fwww.googleapis.com%2fauth%2fpeopleapi.readonly&response_type=code\n",
            "\n",
            "Enter your authorization code:\n",
            "4/4AFew6uem1xTDXjaWAcMXnabkskEXBEfDJebamOWEgOym4fd7aHTWKA\n",
            "Mounted at /content/drive\n"
          ],
          "name": "stdout"
        }
      ]
    },
    {
      "cell_type": "markdown",
      "metadata": {
        "colab_type": "text",
        "id": "Y1vJDeP5c4TO"
      },
      "source": [
        "# Experimentation"
      ]
    },
    {
      "cell_type": "code",
      "metadata": {
        "colab_type": "code",
        "id": "kAJ7UOa3dJWp",
        "colab": {}
      },
      "source": [
        "X_train_combined = pd.concat([X_train, X_val], ignore_index=True)"
      ],
      "execution_count": null,
      "outputs": []
    },
    {
      "cell_type": "code",
      "metadata": {
        "colab_type": "code",
        "id": "rwxlvazndnyo",
        "colab": {}
      },
      "source": [
        "y_train_combined = pd.concat([y_train, y_val], ignore_index=True)"
      ],
      "execution_count": null,
      "outputs": []
    },
    {
      "cell_type": "code",
      "metadata": {
        "colab_type": "code",
        "id": "RbfZYxiXdpYx",
        "colab": {
          "base_uri": "https://localhost:8080/",
          "height": 211
        },
        "outputId": "f7534f49-c47f-4d98-b4a4-a81fa6480ead"
      },
      "source": [
        "train_combined = X_train_combined.copy()\n",
        "train_combined[\"Survived\"] = y_train_combined\n",
        "train_combined.head()"
      ],
      "execution_count": null,
      "outputs": [
        {
          "output_type": "execute_result",
          "data": {
            "text/html": [
              "<div>\n",
              "<style scoped>\n",
              "    .dataframe tbody tr th:only-of-type {\n",
              "        vertical-align: middle;\n",
              "    }\n",
              "\n",
              "    .dataframe tbody tr th {\n",
              "        vertical-align: top;\n",
              "    }\n",
              "\n",
              "    .dataframe thead th {\n",
              "        text-align: right;\n",
              "    }\n",
              "</style>\n",
              "<table border=\"1\" class=\"dataframe\">\n",
              "  <thead>\n",
              "    <tr style=\"text-align: right;\">\n",
              "      <th></th>\n",
              "      <th>PassengerId</th>\n",
              "      <th>Pclass</th>\n",
              "      <th>Sex</th>\n",
              "      <th>Age</th>\n",
              "      <th>SibSp</th>\n",
              "      <th>Parch</th>\n",
              "      <th>Ticket</th>\n",
              "      <th>Fare</th>\n",
              "      <th>Cabin</th>\n",
              "      <th>Embarked</th>\n",
              "      <th>Title</th>\n",
              "      <th>Deck</th>\n",
              "      <th>FamilySize</th>\n",
              "      <th>FarePerPerson</th>\n",
              "      <th>TicketPrefix</th>\n",
              "      <th>Cabin_count</th>\n",
              "      <th>Age_is_missing</th>\n",
              "      <th>Cabin_is_missing</th>\n",
              "      <th>Embarked_is_missing</th>\n",
              "      <th>Deck_is_missing</th>\n",
              "      <th>TicketPrefix_is_missing</th>\n",
              "      <th>Cabin_count_is_missing</th>\n",
              "      <th>Survived</th>\n",
              "    </tr>\n",
              "  </thead>\n",
              "  <tbody>\n",
              "    <tr>\n",
              "      <th>0</th>\n",
              "      <td>316</td>\n",
              "      <td>3</td>\n",
              "      <td>1</td>\n",
              "      <td>26.0</td>\n",
              "      <td>0</td>\n",
              "      <td>0</td>\n",
              "      <td>272</td>\n",
              "      <td>7.8542</td>\n",
              "      <td>0</td>\n",
              "      <td>3</td>\n",
              "      <td>3</td>\n",
              "      <td>0</td>\n",
              "      <td>0</td>\n",
              "      <td>7.854200</td>\n",
              "      <td>0</td>\n",
              "      <td>1.0</td>\n",
              "      <td>False</td>\n",
              "      <td>True</td>\n",
              "      <td>False</td>\n",
              "      <td>True</td>\n",
              "      <td>True</td>\n",
              "      <td>True</td>\n",
              "      <td>1</td>\n",
              "    </tr>\n",
              "    <tr>\n",
              "      <th>1</th>\n",
              "      <td>722</td>\n",
              "      <td>3</td>\n",
              "      <td>2</td>\n",
              "      <td>17.0</td>\n",
              "      <td>1</td>\n",
              "      <td>0</td>\n",
              "      <td>329</td>\n",
              "      <td>7.0542</td>\n",
              "      <td>0</td>\n",
              "      <td>3</td>\n",
              "      <td>4</td>\n",
              "      <td>0</td>\n",
              "      <td>1</td>\n",
              "      <td>3.527100</td>\n",
              "      <td>0</td>\n",
              "      <td>1.0</td>\n",
              "      <td>False</td>\n",
              "      <td>True</td>\n",
              "      <td>False</td>\n",
              "      <td>True</td>\n",
              "      <td>True</td>\n",
              "      <td>True</td>\n",
              "      <td>0</td>\n",
              "    </tr>\n",
              "    <tr>\n",
              "      <th>2</th>\n",
              "      <td>851</td>\n",
              "      <td>3</td>\n",
              "      <td>2</td>\n",
              "      <td>4.0</td>\n",
              "      <td>4</td>\n",
              "      <td>2</td>\n",
              "      <td>264</td>\n",
              "      <td>31.2750</td>\n",
              "      <td>0</td>\n",
              "      <td>3</td>\n",
              "      <td>3</td>\n",
              "      <td>0</td>\n",
              "      <td>6</td>\n",
              "      <td>4.467857</td>\n",
              "      <td>0</td>\n",
              "      <td>1.0</td>\n",
              "      <td>False</td>\n",
              "      <td>True</td>\n",
              "      <td>False</td>\n",
              "      <td>True</td>\n",
              "      <td>True</td>\n",
              "      <td>True</td>\n",
              "      <td>0</td>\n",
              "    </tr>\n",
              "    <tr>\n",
              "      <th>3</th>\n",
              "      <td>695</td>\n",
              "      <td>1</td>\n",
              "      <td>2</td>\n",
              "      <td>60.0</td>\n",
              "      <td>0</td>\n",
              "      <td>0</td>\n",
              "      <td>39</td>\n",
              "      <td>26.5500</td>\n",
              "      <td>0</td>\n",
              "      <td>3</td>\n",
              "      <td>1</td>\n",
              "      <td>0</td>\n",
              "      <td>0</td>\n",
              "      <td>26.550000</td>\n",
              "      <td>0</td>\n",
              "      <td>1.0</td>\n",
              "      <td>False</td>\n",
              "      <td>True</td>\n",
              "      <td>False</td>\n",
              "      <td>True</td>\n",
              "      <td>True</td>\n",
              "      <td>True</td>\n",
              "      <td>0</td>\n",
              "    </tr>\n",
              "    <tr>\n",
              "      <th>4</th>\n",
              "      <td>788</td>\n",
              "      <td>3</td>\n",
              "      <td>2</td>\n",
              "      <td>8.0</td>\n",
              "      <td>4</td>\n",
              "      <td>1</td>\n",
              "      <td>389</td>\n",
              "      <td>29.1250</td>\n",
              "      <td>0</td>\n",
              "      <td>2</td>\n",
              "      <td>3</td>\n",
              "      <td>0</td>\n",
              "      <td>5</td>\n",
              "      <td>4.854167</td>\n",
              "      <td>0</td>\n",
              "      <td>1.0</td>\n",
              "      <td>False</td>\n",
              "      <td>True</td>\n",
              "      <td>False</td>\n",
              "      <td>True</td>\n",
              "      <td>True</td>\n",
              "      <td>True</td>\n",
              "      <td>0</td>\n",
              "    </tr>\n",
              "  </tbody>\n",
              "</table>\n",
              "</div>"
            ],
            "text/plain": [
              "   PassengerId  Pclass  ...  Cabin_count_is_missing  Survived\n",
              "0          316       3  ...                    True         1\n",
              "1          722       3  ...                    True         0\n",
              "2          851       3  ...                    True         0\n",
              "3          695       1  ...                    True         0\n",
              "4          788       3  ...                    True         0\n",
              "\n",
              "[5 rows x 23 columns]"
            ]
          },
          "metadata": {
            "tags": []
          },
          "execution_count": 107
        }
      ]
    },
    {
      "cell_type": "code",
      "metadata": {
        "colab_type": "code",
        "id": "B3mgVhDelUOQ",
        "colab": {
          "base_uri": "https://localhost:8080/",
          "height": 53
        },
        "outputId": "62b50f72-9792-4136-e75a-de6a2190383a"
      },
      "source": [
        "a = list(train_combined.columns)\n",
        "a.remove(\"Sex\")\n",
        "print(a)"
      ],
      "execution_count": null,
      "outputs": [
        {
          "output_type": "stream",
          "text": [
            "['PassengerId', 'Pclass', 'Age', 'SibSp', 'Parch', 'Ticket', 'Fare', 'Cabin', 'Embarked', 'Title', 'Deck', 'FamilySize', 'FarePerPerson', 'TicketPrefix', 'Cabin_count', 'Age_is_missing', 'Cabin_is_missing', 'Embarked_is_missing', 'Deck_is_missing', 'TicketPrefix_is_missing', 'Cabin_count_is_missing', 'Survived']\n"
          ],
          "name": "stdout"
        }
      ]
    },
    {
      "cell_type": "code",
      "metadata": {
        "colab_type": "code",
        "id": "eAeOqlLQePaL",
        "colab": {}
      },
      "source": [
        "# plt.figure(figsize = (20,20))\n",
        "# sns.heatmap(train_combined.corr(), annot = True);"
      ],
      "execution_count": null,
      "outputs": []
    },
    {
      "cell_type": "markdown",
      "metadata": {
        "colab_type": "text",
        "id": "3QValrLeeYCE"
      },
      "source": [
        "## Function for Automatic Feature Selection"
      ]
    },
    {
      "cell_type": "code",
      "metadata": {
        "colab_type": "code",
        "id": "bz5tl6Upfk0o",
        "colab": {}
      },
      "source": [
        "# Creating a function for automatic feature selection\n",
        "def feature_selector(train_full, model):\n",
        "  \"\"\"\n",
        "  Takes the processed training dataset and an estimator (preferably tuned) and returns \n",
        "  a list of features that increase the performance of the estimator. Sex column is always considered.\n",
        "  Returns X_train without target column and with features which increased the performance of the \n",
        "  estimator.\n",
        "  \"\"\"\n",
        "  np.random.seed(23)\n",
        "  from sklearn.model_selection import cross_val_score\n",
        "  X = train_full.drop(\"Survived\", axis = 1)\n",
        "  y = train_full.Survived\n",
        "  col_list = list(X.columns)\n",
        "  col_list.remove(\"Sex\")\n",
        "  X_feature = pd.DataFrame(data = {\"Sex\": X.Sex})\n",
        "  count = 0\n",
        "  for i in col_list:\n",
        "    base_score = 0\n",
        "    updated_score = 0\n",
        "    # BASE RUN\n",
        "    for j in range(5):\n",
        "      base_score = base_score + np.mean(cross_val_score(model, X_feature, y, cv = 5,))\n",
        "    X_feature[i] = X[i]\n",
        "    # UPDATED RUN\n",
        "    for j in range(5):\n",
        "      updated_score = updated_score + np.mean(cross_val_score(model, X_feature, y, cv = 5))\n",
        "    if (updated_score/5) >= (base_score/5):\n",
        "      pass\n",
        "    else:\n",
        "      X_feature = X_feature.drop(i, axis = 1)\n",
        "    count += 1\n",
        "    print(f\"{count} runs completed\")\n",
        "  print(f\"Removed columns are {set(col_list) - set(X_feature.columns)}\")\n",
        "  print(f\"Number of columns removed are {len(set(col_list) - set(X_feature.columns))}\")\n",
        "  return X_feature"
      ],
      "execution_count": null,
      "outputs": []
    },
    {
      "cell_type": "code",
      "metadata": {
        "colab_type": "code",
        "id": "4sMWDlF4pgEv",
        "colab": {
          "base_uri": "https://localhost:8080/",
          "height": 460
        },
        "outputId": "638974fb-091a-43f5-837e-81fd083bbff7"
      },
      "source": [
        "X_best_features = feature_selector(train_combined, rfc)\n",
        "X_best_features.columns"
      ],
      "execution_count": null,
      "outputs": [
        {
          "output_type": "stream",
          "text": [
            "1 runs completed\n",
            "2 runs completed\n",
            "3 runs completed\n",
            "4 runs completed\n",
            "5 runs completed\n",
            "6 runs completed\n",
            "7 runs completed\n",
            "8 runs completed\n",
            "9 runs completed\n",
            "10 runs completed\n",
            "11 runs completed\n",
            "12 runs completed\n",
            "13 runs completed\n",
            "14 runs completed\n",
            "15 runs completed\n",
            "16 runs completed\n",
            "17 runs completed\n",
            "18 runs completed\n",
            "19 runs completed\n",
            "20 runs completed\n",
            "21 runs completed\n",
            "Removed columns are {'Parch', 'Embarked', 'Cabin_is_missing', 'Cabin_count_is_missing', 'PassengerId', 'FarePerPerson', 'Cabin', 'Age', 'Pclass', 'FamilySize', 'Cabin_count', 'Fare', 'Embarked_is_missing', 'Deck_is_missing', 'Ticket', 'Title'}\n",
            "Number of columns are 16\n"
          ],
          "name": "stdout"
        },
        {
          "output_type": "execute_result",
          "data": {
            "text/plain": [
              "Index(['Sex', 'SibSp', 'Deck', 'TicketPrefix', 'Age_is_missing',\n",
              "       'TicketPrefix_is_missing'],\n",
              "      dtype='object')"
            ]
          },
          "metadata": {
            "tags": []
          },
          "execution_count": 179
        }
      ]
    },
    {
      "cell_type": "code",
      "metadata": {
        "colab_type": "code",
        "id": "8PG5skLMp0gL",
        "colab": {
          "base_uri": "https://localhost:8080/",
          "height": 33
        },
        "outputId": "51088092-1916-4c78-98bc-b7552c4c1782"
      },
      "source": [
        "set(train_combined.columns) - set(X_best_features.columns)\n",
        "len(set(train_combined.columns) - set(X_best_features.columns))"
      ],
      "execution_count": null,
      "outputs": [
        {
          "output_type": "execute_result",
          "data": {
            "text/plain": [
              "17"
            ]
          },
          "metadata": {
            "tags": []
          },
          "execution_count": 180
        }
      ]
    },
    {
      "cell_type": "code",
      "metadata": {
        "colab_type": "code",
        "id": "0O_yaf4yp5se",
        "colab": {}
      },
      "source": [
        "X_train_combined = train_combined.drop(\"Survived\", axis = 1)\n",
        "y_train_combined = train_combined.Survived\n",
        "X_train_combined.drop(['Parch', 'Embarked', 'Cabin_is_missing', 'Cabin_count_is_missing', 'PassengerId', 'FarePerPerson', 'Cabin', 'Age', 'Pclass', 'FamilySize', 'Cabin_count', 'Fare', 'Embarked_is_missing', 'Deck_is_missing', 'Ticket', 'Title'], axis = 1, inplace = True)"
      ],
      "execution_count": null,
      "outputs": []
    },
    {
      "cell_type": "code",
      "metadata": {
        "colab_type": "code",
        "id": "em5JlrlxuoWA",
        "colab": {
          "base_uri": "https://localhost:8080/",
          "height": 33
        },
        "outputId": "cecdb4a1-adb2-461c-fb9f-9584cb1a9c58"
      },
      "source": [
        "rfc.fit(X_train_combined, y_train_combined)\n",
        "rfc.score(X_train_combined, y_train_combined)"
      ],
      "execution_count": null,
      "outputs": [
        {
          "output_type": "execute_result",
          "data": {
            "text/plain": [
              "0.8339060710194731"
            ]
          },
          "metadata": {
            "tags": []
          },
          "execution_count": 182
        }
      ]
    },
    {
      "cell_type": "markdown",
      "metadata": {
        "colab_type": "text",
        "id": "0_7TknAovCAV"
      },
      "source": [
        "### Preparing the test DataSet"
      ]
    },
    {
      "cell_type": "code",
      "metadata": {
        "colab_type": "code",
        "id": "rgIAHV-DvCAW",
        "colab": {
          "base_uri": "https://localhost:8080/",
          "height": 180
        },
        "outputId": "56b3b175-80f3-4255-d657-cbf533e182cd"
      },
      "source": [
        "# Preparing the test dataset for prediction\n",
        "df_test = pd.read_csv(\"/content/drive/My Drive/Google_Colab/titanic_kaggle/original_files/test.csv\")\n",
        "df_test = process_master(df_test, test_database=True)\n",
        "df_test_PassengerId = df_test.PassengerId #Saving the PassengerId column for later use\n",
        "df_test = df_test.drop(labels = ['Parch', 'Embarked', 'Cabin_is_missing', 'Cabin_count_is_missing', 'PassengerId', 'FarePerPerson', 'Cabin', 'Age', 'Pclass', 'FamilySize', 'Cabin_count', 'Fare', 'Deck_is_missing', 'Ticket', 'Title'],\n",
        "                       axis = 1)"
      ],
      "execution_count": null,
      "outputs": [
        {
          "output_type": "stream",
          "text": [
            "Creating test database...\n",
            "Age column is of numeric dtype and contains NaN values. Creating 'Age_is_missing' and imputing NaN values with median\n",
            "Fare column is of numeric dtype and contains NaN values. Creating 'Fare_is_missing' and imputing NaN values with median\n",
            "Cabin column is of object dtype and contains NaN values. Creating 'Cabin_is_missing' column\n",
            "Deck column is of object dtype and contains NaN values. Creating 'Deck_is_missing' column\n",
            "FarePerPerson column is of numeric dtype and contains NaN values. Creating 'FarePerPerson_is_missing' and imputing NaN values with median\n",
            "TicketPrefix column is of object dtype and contains NaN values. Creating 'TicketPrefix_is_missing' column\n",
            "Cabin_count column is of numeric dtype and contains NaN values. Creating 'Cabin_count_is_missing' and imputing NaN values with median\n",
            "The following columns have been converted from object to numeric dtype: ['Sex', 'Ticket', 'Cabin', 'Embarked', 'Title', 'Deck', 'TicketPrefix']\n",
            "Final SHAPE >>> X_test: (418, 23)\n"
          ],
          "name": "stdout"
        }
      ]
    },
    {
      "cell_type": "code",
      "metadata": {
        "colab_type": "code",
        "id": "qBG25g5jvCAc",
        "colab": {
          "base_uri": "https://localhost:8080/",
          "height": 33
        },
        "outputId": "464b4e1a-6ced-4baa-a0eb-29070c292eef"
      },
      "source": [
        "# Checking columns consistency between training and test dataset\n",
        "set(df_test.columns) - set(X_train_combined.columns)"
      ],
      "execution_count": null,
      "outputs": [
        {
          "output_type": "execute_result",
          "data": {
            "text/plain": [
              "{'FarePerPerson_is_missing', 'Fare_is_missing'}"
            ]
          },
          "metadata": {
            "tags": []
          },
          "execution_count": 185
        }
      ]
    },
    {
      "cell_type": "code",
      "metadata": {
        "colab_type": "code",
        "id": "G4CoJm5jvCAe",
        "colab": {
          "base_uri": "https://localhost:8080/",
          "height": 33
        },
        "outputId": "fad3d1e4-8a77-41b4-c6e7-2bcaa093d0a9"
      },
      "source": [
        "# Solving column consistency\n",
        "df_test = df_test.drop([\"FarePerPerson_is_missing\", \"Fare_is_missing\"], axis = 1)\n",
        "set(df_test.columns) - set(X_train_combined.columns)"
      ],
      "execution_count": null,
      "outputs": [
        {
          "output_type": "execute_result",
          "data": {
            "text/plain": [
              "set()"
            ]
          },
          "metadata": {
            "tags": []
          },
          "execution_count": 186
        }
      ]
    },
    {
      "cell_type": "code",
      "metadata": {
        "colab_type": "code",
        "id": "LgeaYVBgvCAh",
        "colab": {
          "base_uri": "https://localhost:8080/",
          "height": 33
        },
        "outputId": "27a90ab5-af2e-48c8-9895-c6519cc3b66d"
      },
      "source": [
        "# Checking Reverse Column Consistency\n",
        "set(X_train_combined.columns) - set(df_test.columns)"
      ],
      "execution_count": null,
      "outputs": [
        {
          "output_type": "execute_result",
          "data": {
            "text/plain": [
              "set()"
            ]
          },
          "metadata": {
            "tags": []
          },
          "execution_count": 187
        }
      ]
    },
    {
      "cell_type": "code",
      "metadata": {
        "colab_type": "code",
        "id": "86CoFLnEvCAm",
        "colab": {
          "base_uri": "https://localhost:8080/",
          "height": 228
        },
        "outputId": "bfd84e9b-44bc-4105-8e87-e620708172a1"
      },
      "source": [
        "#One final check on the test dataset\n",
        "df_test.info()"
      ],
      "execution_count": null,
      "outputs": [
        {
          "output_type": "stream",
          "text": [
            "<class 'pandas.core.frame.DataFrame'>\n",
            "RangeIndex: 418 entries, 0 to 417\n",
            "Data columns (total 6 columns):\n",
            " #   Column                   Non-Null Count  Dtype\n",
            "---  ------                   --------------  -----\n",
            " 0   Sex                      418 non-null    int8 \n",
            " 1   SibSp                    418 non-null    int64\n",
            " 2   Deck                     418 non-null    int8 \n",
            " 3   TicketPrefix             418 non-null    int8 \n",
            " 4   Age_is_missing           418 non-null    bool \n",
            " 5   TicketPrefix_is_missing  418 non-null    bool \n",
            "dtypes: bool(2), int64(1), int8(3)\n",
            "memory usage: 5.4 KB\n"
          ],
          "name": "stdout"
        }
      ]
    },
    {
      "cell_type": "markdown",
      "metadata": {
        "colab_type": "text",
        "id": "CzwUIR97vCAo"
      },
      "source": [
        "Now, let's make predicitions and create the submission file"
      ]
    },
    {
      "cell_type": "markdown",
      "metadata": {
        "colab_type": "text",
        "id": "fDWiEXWOvCAo"
      },
      "source": [
        "### Making Predictions and Creating Submissions File"
      ]
    },
    {
      "cell_type": "code",
      "metadata": {
        "colab_type": "code",
        "id": "3U9oXmZbvCAp",
        "colab": {}
      },
      "source": [
        "# Making prediction from the model\n",
        "preds = rfc.predict(df_test)"
      ],
      "execution_count": null,
      "outputs": []
    },
    {
      "cell_type": "code",
      "metadata": {
        "colab_type": "code",
        "id": "31-jbY-YvCAs",
        "colab": {}
      },
      "source": [
        "#Creating the submission file\n",
        "submission = pd.DataFrame(data = {\"PassengerId\": df_test_PassengerId, \"Survived\": preds})\n",
        "submission.to_csv(\"/content/drive/My Drive/Google_Colab/titanic_kaggle/submission_RFC_feature_selector_6cols.csv\", index = False)"
      ],
      "execution_count": null,
      "outputs": []
    },
    {
      "cell_type": "code",
      "metadata": {
        "id": "7kLFRwa8OuP3",
        "colab_type": "code",
        "colab": {}
      },
      "source": [
        ""
      ],
      "execution_count": null,
      "outputs": []
    }
  ]
}